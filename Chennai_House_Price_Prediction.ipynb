{
  "cells": [
    {
      "cell_type": "markdown",
      "metadata": {
        "id": "view-in-github",
        "colab_type": "text"
      },
      "source": [
        "<a href=\"https://colab.research.google.com/github/tonmoy-khanal/Chennai_House_Price_Prediction_/blob/main/Chennai_House_Price_Prediction.ipynb\" target=\"_parent\"><img src=\"https://colab.research.google.com/assets/colab-badge.svg\" alt=\"Open In Colab\"/></a>"
      ]
    },
    {
      "cell_type": "markdown",
      "source": [
        "# **Chennai House Sale Price Prediction**\n",
        "\n",
        "\n",
        "\n"
      ],
      "metadata": {
        "id": "nWRu3NiMiZcn"
      }
    },
    {
      "cell_type": "markdown",
      "source": [
        "**Problem Statement**\n",
        "\n",
        "Real estate transactions are quite opaque sometimes and it\n",
        "may be difficult for a newbie to know the fair price of any given\n",
        "home. Thus, multiple real estate websites have the functionality\n",
        "to predict the prices of houses given different features\n",
        "regarding it. Such forecasting models will help buyers to identify\n",
        "a fair price for the home and also give insights to sellers as to\n",
        "how to build homes that fetch them more money. Chennai\n",
        "house sale price data is shared here and the participants are\n",
        "expected to build a sale price prediction model that will aid the\n",
        "customers to find a fair price for their homes and also help the\n",
        "sellers understand what factors are fetching more money\n",
        "for the houses?\n"
      ],
      "metadata": {
        "id": "jSFFUVn0hGrc"
      }
    },
    {
      "cell_type": "markdown",
      "source": [
        "# **Importing Required Packages**"
      ],
      "metadata": {
        "id": "bVSreGtkiiw0"
      }
    },
    {
      "cell_type": "code",
      "execution_count": 3,
      "metadata": {
        "id": "OF6FVWmBkYG-"
      },
      "outputs": [],
      "source": [
        "import pandas as pd\n",
        "import numpy as np\n",
        "import matplotlib.pyplot as plt\n",
        "import seaborn as sns\n",
        "import plotly.express as px\n",
        "import datetime"
      ]
    },
    {
      "cell_type": "markdown",
      "source": [
        "Loading Dataset and Showing starting 5 Rows in the dataset"
      ],
      "metadata": {
        "id": "0gP2mPCIix6Z"
      }
    },
    {
      "cell_type": "code",
      "execution_count": 4,
      "metadata": {
        "colab": {
          "base_uri": "https://localhost:8080/",
          "height": 386
        },
        "id": "pucOWNkxktRN",
        "outputId": "1cd86297-4401-43e8-adb0-7e9f7d0fa913"
      },
      "outputs": [
        {
          "output_type": "execute_result",
          "data": {
            "text/plain": [
              "   PRT_ID        AREA  INT_SQFT   DATE_SALE  DIST_MAINROAD  N_BEDROOM  \\\n",
              "0  P03210  Karapakkam      1004  04-05-2011            131        1.0   \n",
              "1  P09411  Anna Nagar      1986  19-12-2006             26        2.0   \n",
              "2  P01812       Adyar       909  04-02-2012             70        1.0   \n",
              "3  P05346   Velachery      1855  13-03-2010             14        3.0   \n",
              "4  P06210  Karapakkam      1226  05-10-2009             84        1.0   \n",
              "\n",
              "   N_BATHROOM  N_ROOM SALE_COND PARK_FACIL  ... UTILITY_AVAIL  STREET MZZONE  \\\n",
              "0         1.0       3  AbNormal        Yes  ...        AllPub   Paved      A   \n",
              "1         1.0       5  AbNormal         No  ...        AllPub  Gravel     RH   \n",
              "2         1.0       3  AbNormal        Yes  ...           ELO  Gravel     RL   \n",
              "3         2.0       5    Family         No  ...       NoSewr    Paved      I   \n",
              "4         1.0       3  AbNormal        Yes  ...        AllPub  Gravel      C   \n",
              "\n",
              "  QS_ROOMS QS_BATHROOM  QS_BEDROOM  QS_OVERALL  REG_FEE  COMMIS  SALES_PRICE  \n",
              "0      4.0         3.9         4.9       4.330   380000  144400      7600000  \n",
              "1      4.9         4.2         2.5       3.765   760122  304049     21717770  \n",
              "2      4.1         3.8         2.2       3.090   421094   92114     13159200  \n",
              "3      4.7         3.9         3.6       4.010   356321   77042      9630290  \n",
              "4      3.0         2.5         4.1       3.290   237000   74063      7406250  \n",
              "\n",
              "[5 rows x 22 columns]"
            ],
            "text/html": [
              "\n",
              "  <div id=\"df-b71d5de1-f511-4834-a048-82ac66b1caf3\">\n",
              "    <div class=\"colab-df-container\">\n",
              "      <div>\n",
              "<style scoped>\n",
              "    .dataframe tbody tr th:only-of-type {\n",
              "        vertical-align: middle;\n",
              "    }\n",
              "\n",
              "    .dataframe tbody tr th {\n",
              "        vertical-align: top;\n",
              "    }\n",
              "\n",
              "    .dataframe thead th {\n",
              "        text-align: right;\n",
              "    }\n",
              "</style>\n",
              "<table border=\"1\" class=\"dataframe\">\n",
              "  <thead>\n",
              "    <tr style=\"text-align: right;\">\n",
              "      <th></th>\n",
              "      <th>PRT_ID</th>\n",
              "      <th>AREA</th>\n",
              "      <th>INT_SQFT</th>\n",
              "      <th>DATE_SALE</th>\n",
              "      <th>DIST_MAINROAD</th>\n",
              "      <th>N_BEDROOM</th>\n",
              "      <th>N_BATHROOM</th>\n",
              "      <th>N_ROOM</th>\n",
              "      <th>SALE_COND</th>\n",
              "      <th>PARK_FACIL</th>\n",
              "      <th>...</th>\n",
              "      <th>UTILITY_AVAIL</th>\n",
              "      <th>STREET</th>\n",
              "      <th>MZZONE</th>\n",
              "      <th>QS_ROOMS</th>\n",
              "      <th>QS_BATHROOM</th>\n",
              "      <th>QS_BEDROOM</th>\n",
              "      <th>QS_OVERALL</th>\n",
              "      <th>REG_FEE</th>\n",
              "      <th>COMMIS</th>\n",
              "      <th>SALES_PRICE</th>\n",
              "    </tr>\n",
              "  </thead>\n",
              "  <tbody>\n",
              "    <tr>\n",
              "      <th>0</th>\n",
              "      <td>P03210</td>\n",
              "      <td>Karapakkam</td>\n",
              "      <td>1004</td>\n",
              "      <td>04-05-2011</td>\n",
              "      <td>131</td>\n",
              "      <td>1.0</td>\n",
              "      <td>1.0</td>\n",
              "      <td>3</td>\n",
              "      <td>AbNormal</td>\n",
              "      <td>Yes</td>\n",
              "      <td>...</td>\n",
              "      <td>AllPub</td>\n",
              "      <td>Paved</td>\n",
              "      <td>A</td>\n",
              "      <td>4.0</td>\n",
              "      <td>3.9</td>\n",
              "      <td>4.9</td>\n",
              "      <td>4.330</td>\n",
              "      <td>380000</td>\n",
              "      <td>144400</td>\n",
              "      <td>7600000</td>\n",
              "    </tr>\n",
              "    <tr>\n",
              "      <th>1</th>\n",
              "      <td>P09411</td>\n",
              "      <td>Anna Nagar</td>\n",
              "      <td>1986</td>\n",
              "      <td>19-12-2006</td>\n",
              "      <td>26</td>\n",
              "      <td>2.0</td>\n",
              "      <td>1.0</td>\n",
              "      <td>5</td>\n",
              "      <td>AbNormal</td>\n",
              "      <td>No</td>\n",
              "      <td>...</td>\n",
              "      <td>AllPub</td>\n",
              "      <td>Gravel</td>\n",
              "      <td>RH</td>\n",
              "      <td>4.9</td>\n",
              "      <td>4.2</td>\n",
              "      <td>2.5</td>\n",
              "      <td>3.765</td>\n",
              "      <td>760122</td>\n",
              "      <td>304049</td>\n",
              "      <td>21717770</td>\n",
              "    </tr>\n",
              "    <tr>\n",
              "      <th>2</th>\n",
              "      <td>P01812</td>\n",
              "      <td>Adyar</td>\n",
              "      <td>909</td>\n",
              "      <td>04-02-2012</td>\n",
              "      <td>70</td>\n",
              "      <td>1.0</td>\n",
              "      <td>1.0</td>\n",
              "      <td>3</td>\n",
              "      <td>AbNormal</td>\n",
              "      <td>Yes</td>\n",
              "      <td>...</td>\n",
              "      <td>ELO</td>\n",
              "      <td>Gravel</td>\n",
              "      <td>RL</td>\n",
              "      <td>4.1</td>\n",
              "      <td>3.8</td>\n",
              "      <td>2.2</td>\n",
              "      <td>3.090</td>\n",
              "      <td>421094</td>\n",
              "      <td>92114</td>\n",
              "      <td>13159200</td>\n",
              "    </tr>\n",
              "    <tr>\n",
              "      <th>3</th>\n",
              "      <td>P05346</td>\n",
              "      <td>Velachery</td>\n",
              "      <td>1855</td>\n",
              "      <td>13-03-2010</td>\n",
              "      <td>14</td>\n",
              "      <td>3.0</td>\n",
              "      <td>2.0</td>\n",
              "      <td>5</td>\n",
              "      <td>Family</td>\n",
              "      <td>No</td>\n",
              "      <td>...</td>\n",
              "      <td>NoSewr</td>\n",
              "      <td>Paved</td>\n",
              "      <td>I</td>\n",
              "      <td>4.7</td>\n",
              "      <td>3.9</td>\n",
              "      <td>3.6</td>\n",
              "      <td>4.010</td>\n",
              "      <td>356321</td>\n",
              "      <td>77042</td>\n",
              "      <td>9630290</td>\n",
              "    </tr>\n",
              "    <tr>\n",
              "      <th>4</th>\n",
              "      <td>P06210</td>\n",
              "      <td>Karapakkam</td>\n",
              "      <td>1226</td>\n",
              "      <td>05-10-2009</td>\n",
              "      <td>84</td>\n",
              "      <td>1.0</td>\n",
              "      <td>1.0</td>\n",
              "      <td>3</td>\n",
              "      <td>AbNormal</td>\n",
              "      <td>Yes</td>\n",
              "      <td>...</td>\n",
              "      <td>AllPub</td>\n",
              "      <td>Gravel</td>\n",
              "      <td>C</td>\n",
              "      <td>3.0</td>\n",
              "      <td>2.5</td>\n",
              "      <td>4.1</td>\n",
              "      <td>3.290</td>\n",
              "      <td>237000</td>\n",
              "      <td>74063</td>\n",
              "      <td>7406250</td>\n",
              "    </tr>\n",
              "  </tbody>\n",
              "</table>\n",
              "<p>5 rows × 22 columns</p>\n",
              "</div>\n",
              "      <button class=\"colab-df-convert\" onclick=\"convertToInteractive('df-b71d5de1-f511-4834-a048-82ac66b1caf3')\"\n",
              "              title=\"Convert this dataframe to an interactive table.\"\n",
              "              style=\"display:none;\">\n",
              "        \n",
              "  <svg xmlns=\"http://www.w3.org/2000/svg\" height=\"24px\"viewBox=\"0 0 24 24\"\n",
              "       width=\"24px\">\n",
              "    <path d=\"M0 0h24v24H0V0z\" fill=\"none\"/>\n",
              "    <path d=\"M18.56 5.44l.94 2.06.94-2.06 2.06-.94-2.06-.94-.94-2.06-.94 2.06-2.06.94zm-11 1L8.5 8.5l.94-2.06 2.06-.94-2.06-.94L8.5 2.5l-.94 2.06-2.06.94zm10 10l.94 2.06.94-2.06 2.06-.94-2.06-.94-.94-2.06-.94 2.06-2.06.94z\"/><path d=\"M17.41 7.96l-1.37-1.37c-.4-.4-.92-.59-1.43-.59-.52 0-1.04.2-1.43.59L10.3 9.45l-7.72 7.72c-.78.78-.78 2.05 0 2.83L4 21.41c.39.39.9.59 1.41.59.51 0 1.02-.2 1.41-.59l7.78-7.78 2.81-2.81c.8-.78.8-2.07 0-2.86zM5.41 20L4 18.59l7.72-7.72 1.47 1.35L5.41 20z\"/>\n",
              "  </svg>\n",
              "      </button>\n",
              "      \n",
              "  <style>\n",
              "    .colab-df-container {\n",
              "      display:flex;\n",
              "      flex-wrap:wrap;\n",
              "      gap: 12px;\n",
              "    }\n",
              "\n",
              "    .colab-df-convert {\n",
              "      background-color: #E8F0FE;\n",
              "      border: none;\n",
              "      border-radius: 50%;\n",
              "      cursor: pointer;\n",
              "      display: none;\n",
              "      fill: #1967D2;\n",
              "      height: 32px;\n",
              "      padding: 0 0 0 0;\n",
              "      width: 32px;\n",
              "    }\n",
              "\n",
              "    .colab-df-convert:hover {\n",
              "      background-color: #E2EBFA;\n",
              "      box-shadow: 0px 1px 2px rgba(60, 64, 67, 0.3), 0px 1px 3px 1px rgba(60, 64, 67, 0.15);\n",
              "      fill: #174EA6;\n",
              "    }\n",
              "\n",
              "    [theme=dark] .colab-df-convert {\n",
              "      background-color: #3B4455;\n",
              "      fill: #D2E3FC;\n",
              "    }\n",
              "\n",
              "    [theme=dark] .colab-df-convert:hover {\n",
              "      background-color: #434B5C;\n",
              "      box-shadow: 0px 1px 3px 1px rgba(0, 0, 0, 0.15);\n",
              "      filter: drop-shadow(0px 1px 2px rgba(0, 0, 0, 0.3));\n",
              "      fill: #FFFFFF;\n",
              "    }\n",
              "  </style>\n",
              "\n",
              "      <script>\n",
              "        const buttonEl =\n",
              "          document.querySelector('#df-b71d5de1-f511-4834-a048-82ac66b1caf3 button.colab-df-convert');\n",
              "        buttonEl.style.display =\n",
              "          google.colab.kernel.accessAllowed ? 'block' : 'none';\n",
              "\n",
              "        async function convertToInteractive(key) {\n",
              "          const element = document.querySelector('#df-b71d5de1-f511-4834-a048-82ac66b1caf3');\n",
              "          const dataTable =\n",
              "            await google.colab.kernel.invokeFunction('convertToInteractive',\n",
              "                                                     [key], {});\n",
              "          if (!dataTable) return;\n",
              "\n",
              "          const docLinkHtml = 'Like what you see? Visit the ' +\n",
              "            '<a target=\"_blank\" href=https://colab.research.google.com/notebooks/data_table.ipynb>data table notebook</a>'\n",
              "            + ' to learn more about interactive tables.';\n",
              "          element.innerHTML = '';\n",
              "          dataTable['output_type'] = 'display_data';\n",
              "          await google.colab.output.renderOutput(dataTable, element);\n",
              "          const docLink = document.createElement('div');\n",
              "          docLink.innerHTML = docLinkHtml;\n",
              "          element.appendChild(docLink);\n",
              "        }\n",
              "      </script>\n",
              "    </div>\n",
              "  </div>\n",
              "  "
            ]
          },
          "metadata": {},
          "execution_count": 4
        }
      ],
      "source": [
        "data = pd.read_csv(\"train-chennai-sale.csv\")\n",
        "data.head(5)"
      ]
    },
    {
      "cell_type": "markdown",
      "source": [
        "Finding the DataTypes of Each Column"
      ],
      "metadata": {
        "id": "1blauuZqjIt4"
      }
    },
    {
      "cell_type": "code",
      "source": [
        "data.dtypes"
      ],
      "metadata": {
        "colab": {
          "base_uri": "https://localhost:8080/"
        },
        "id": "Z1_DJAa5jAtN",
        "outputId": "e4ab11c2-d925-44bc-eaf6-fad86102bd69"
      },
      "execution_count": 5,
      "outputs": [
        {
          "output_type": "execute_result",
          "data": {
            "text/plain": [
              "PRT_ID            object\n",
              "AREA              object\n",
              "INT_SQFT           int64\n",
              "DATE_SALE         object\n",
              "DIST_MAINROAD      int64\n",
              "N_BEDROOM        float64\n",
              "N_BATHROOM       float64\n",
              "N_ROOM             int64\n",
              "SALE_COND         object\n",
              "PARK_FACIL        object\n",
              "DATE_BUILD        object\n",
              "BUILDTYPE         object\n",
              "UTILITY_AVAIL     object\n",
              "STREET            object\n",
              "MZZONE            object\n",
              "QS_ROOMS         float64\n",
              "QS_BATHROOM      float64\n",
              "QS_BEDROOM       float64\n",
              "QS_OVERALL       float64\n",
              "REG_FEE            int64\n",
              "COMMIS             int64\n",
              "SALES_PRICE        int64\n",
              "dtype: object"
            ]
          },
          "metadata": {},
          "execution_count": 5
        }
      ]
    },
    {
      "cell_type": "markdown",
      "metadata": {
        "id": "93Th7nnQVCLt"
      },
      "source": [
        "# **Data Cleaning**"
      ]
    },
    {
      "cell_type": "markdown",
      "source": [
        "Finding Null Values"
      ],
      "metadata": {
        "id": "eEloXK_ojtf4"
      }
    },
    {
      "cell_type": "code",
      "execution_count": 6,
      "metadata": {
        "colab": {
          "base_uri": "https://localhost:8080/"
        },
        "id": "PDQblPiAtGdf",
        "outputId": "5e4eb672-16f0-4552-9912-db22ba87cd17"
      },
      "outputs": [
        {
          "output_type": "execute_result",
          "data": {
            "text/plain": [
              "PRT_ID            0\n",
              "AREA              0\n",
              "INT_SQFT          0\n",
              "DATE_SALE         0\n",
              "DIST_MAINROAD     0\n",
              "N_BEDROOM         1\n",
              "N_BATHROOM        5\n",
              "N_ROOM            0\n",
              "SALE_COND         0\n",
              "PARK_FACIL        0\n",
              "DATE_BUILD        0\n",
              "BUILDTYPE         0\n",
              "UTILITY_AVAIL     0\n",
              "STREET            0\n",
              "MZZONE            0\n",
              "QS_ROOMS          0\n",
              "QS_BATHROOM       0\n",
              "QS_BEDROOM        0\n",
              "QS_OVERALL       48\n",
              "REG_FEE           0\n",
              "COMMIS            0\n",
              "SALES_PRICE       0\n",
              "dtype: int64"
            ]
          },
          "metadata": {},
          "execution_count": 6
        }
      ],
      "source": [
        "data.isnull().sum()"
      ]
    },
    {
      "cell_type": "markdown",
      "source": [
        "Filling the Null Values. Discrete values with Mode and Contionous Values with Mean"
      ],
      "metadata": {
        "id": "pb_S3W9yj_L9"
      }
    },
    {
      "cell_type": "code",
      "execution_count": 7,
      "metadata": {
        "id": "8aGybECbUxx8"
      },
      "outputs": [],
      "source": [
        "data['N_BEDROOM'].fillna(data['N_BEDROOM'].mode()[0],inplace = True)   #for discrete values need to imputate with mode\n",
        "data['N_BATHROOM'].fillna(data['N_BATHROOM'].mode()[0],inplace = True)\n",
        "data['QS_OVERALL'].fillna(data['QS_OVERALL'].mean(),inplace = True)     #for contionus values need to imputate with mdan or median"
      ]
    },
    {
      "cell_type": "markdown",
      "metadata": {
        "id": "I8o1FOyTVIhe"
      },
      "source": [
        "DataTypes Conversion"
      ]
    },
    {
      "cell_type": "code",
      "execution_count": 8,
      "metadata": {
        "colab": {
          "base_uri": "https://localhost:8080/"
        },
        "id": "in77rrA3VRbW",
        "outputId": "215b149b-9c84-4295-a232-963cb906d7f4"
      },
      "outputs": [
        {
          "output_type": "execute_result",
          "data": {
            "text/plain": [
              "0      1967-05-15\n",
              "1      1995-12-22\n",
              "2      1992-09-02\n",
              "3      1988-03-18\n",
              "4      1979-10-13\n",
              "          ...    \n",
              "7104   1962-01-15\n",
              "7105   1995-11-04\n",
              "7106   1978-01-09\n",
              "7107   1977-11-08\n",
              "7108   1961-07-24\n",
              "Name: DATE_BUILD, Length: 7109, dtype: datetime64[ns]"
            ]
          },
          "metadata": {},
          "execution_count": 8
        }
      ],
      "source": [
        "data.N_BEDROOM = data.N_BEDROOM.astype('int64')\n",
        "data.N_BATHROOM = data.N_BATHROOM.astype('int64')\n",
        "data['DATE_SALE'] = pd.to_datetime(data['DATE_SALE'])\n",
        "data['DATE_BUILD'] = pd.to_datetime(data['DATE_BUILD'])\n",
        "data['DATE_BUILD']"
      ]
    },
    {
      "cell_type": "markdown",
      "metadata": {
        "id": "sWMlXxE5Zepc"
      },
      "source": [
        "### **OUTLIERS DETECTION USING Z-SCORE and BOX POLT**"
      ]
    },
    {
      "cell_type": "code",
      "execution_count": 9,
      "metadata": {
        "colab": {
          "base_uri": "https://localhost:8080/"
        },
        "id": "h4-RWtl-ZjtS",
        "outputId": "a6797572-311f-4791-b1e7-c0f214297d9c"
      },
      "outputs": [
        {
          "output_type": "execute_result",
          "data": {
            "text/plain": [
              "0"
            ]
          },
          "metadata": {},
          "execution_count": 9
        }
      ],
      "source": [
        "sum(((data.INT_SQFT - data.INT_SQFT.mean())/data.INT_SQFT.std()) >3 )      # outliers lies between >3 or <-3 of zscore value"
      ]
    },
    {
      "cell_type": "code",
      "execution_count": 10,
      "metadata": {
        "colab": {
          "base_uri": "https://localhost:8080/",
          "height": 299
        },
        "id": "NtiUoDMNmABu",
        "outputId": "40f9edc1-8753-4d61-f292-567fc6b44591"
      },
      "outputs": [
        {
          "output_type": "execute_result",
          "data": {
            "text/plain": [
              "<matplotlib.axes._subplots.AxesSubplot at 0x7f3b4e9d6650>"
            ]
          },
          "metadata": {},
          "execution_count": 10
        },
        {
          "output_type": "display_data",
          "data": {
            "text/plain": [
              "<Figure size 432x288 with 1 Axes>"
            ],
            "image/png": "[encoded data removed]"
          },
          "metadata": {
            "needs_background": "light"
          }
        }
      ],
      "source": [
        "sns.boxplot(x = 'INT_SQFT',data = data)"
      ]
    },
    {
      "cell_type": "code",
      "execution_count": 11,
      "metadata": {
        "colab": {
          "base_uri": "https://localhost:8080/"
        },
        "id": "guq6nDFoZzi8",
        "outputId": "c83c44dc-5cb7-493e-c84b-88138127ae3e"
      },
      "outputs": [
        {
          "output_type": "execute_result",
          "data": {
            "text/plain": [
              "0"
            ]
          },
          "metadata": {},
          "execution_count": 11
        }
      ],
      "source": [
        "sum(((data.DIST_MAINROAD - data.DIST_MAINROAD.mean())/data.DIST_MAINROAD.std()) >3 )"
      ]
    },
    {
      "cell_type": "code",
      "execution_count": 12,
      "metadata": {
        "colab": {
          "base_uri": "https://localhost:8080/"
        },
        "id": "vs0ZjExzaFp-",
        "outputId": "4844e7bf-c592-4c79-e208-8cace263efa4"
      },
      "outputs": [
        {
          "output_type": "execute_result",
          "data": {
            "text/plain": [
              "0"
            ]
          },
          "metadata": {},
          "execution_count": 12
        }
      ],
      "source": [
        "sum(((data.N_BEDROOM - data.N_BEDROOM.mean())/data.N_BEDROOM.std()) >3 )"
      ]
    },
    {
      "cell_type": "code",
      "execution_count": 13,
      "metadata": {
        "colab": {
          "base_uri": "https://localhost:8080/"
        },
        "id": "Q9QGbP3yaSA6",
        "outputId": "b7e8a33e-e47d-4a8c-98e3-29d9f4908568"
      },
      "outputs": [
        {
          "output_type": "execute_result",
          "data": {
            "text/plain": [
              "0"
            ]
          },
          "metadata": {},
          "execution_count": 13
        }
      ],
      "source": [
        "sum(((data.N_BATHROOM - data.N_BATHROOM.mean())/data.N_BATHROOM.std()) >3 )"
      ]
    },
    {
      "cell_type": "code",
      "execution_count": 14,
      "metadata": {
        "colab": {
          "base_uri": "https://localhost:8080/"
        },
        "id": "_3B8LnyBaLUb",
        "outputId": "092d029d-f52b-41eb-9cdb-64d0c9567a50"
      },
      "outputs": [
        {
          "output_type": "execute_result",
          "data": {
            "text/plain": [
              "0"
            ]
          },
          "metadata": {},
          "execution_count": 14
        }
      ],
      "source": [
        "sum(((data.N_ROOM - data.N_ROOM.mean())/data.N_ROOM.std()) >3 )"
      ]
    },
    {
      "cell_type": "code",
      "execution_count": 15,
      "metadata": {
        "colab": {
          "base_uri": "https://localhost:8080/"
        },
        "id": "aModz62baZyl",
        "outputId": "2e3456e0-24d5-4a95-919f-a9cdaa4e956e"
      },
      "outputs": [
        {
          "output_type": "execute_result",
          "data": {
            "text/plain": [
              "37"
            ]
          },
          "metadata": {},
          "execution_count": 15
        }
      ],
      "source": [
        "sum(((data.SALES_PRICE - data.SALES_PRICE.mean())/data.SALES_PRICE.std()) >3 )"
      ]
    },
    {
      "cell_type": "code",
      "execution_count": 16,
      "metadata": {
        "colab": {
          "base_uri": "https://localhost:8080/",
          "height": 299
        },
        "id": "v4O9qStUmbBu",
        "outputId": "691292be-2a94-4478-81f9-9f78a1f24a2b"
      },
      "outputs": [
        {
          "output_type": "execute_result",
          "data": {
            "text/plain": [
              "<matplotlib.axes._subplots.AxesSubplot at 0x7f3b4e4922d0>"
            ]
          },
          "metadata": {},
          "execution_count": 16
        },
        {
          "output_type": "display_data",
          "data": {
            "text/plain": [
              "<Figure size 432x288 with 1 Axes>"
            ],
            "image/png": "[encoded data removed]"
          },
          "metadata": {
            "needs_background": "light"
          }
        }
      ],
      "source": [
        "sns.boxplot(x = 'SALES_PRICE',data = data)"
      ]
    },
    {
      "cell_type": "markdown",
      "metadata": {
        "id": "MhOKMMm4nlhA"
      },
      "source": [
        "as sales price Depends on several factors dont need to correct the outliers"
      ]
    },
    {
      "cell_type": "markdown",
      "metadata": {
        "id": "kMYba536Yu6R"
      },
      "source": [
        "## **Spelling Mistakes Correction**"
      ]
    },
    {
      "cell_type": "code",
      "execution_count": 17,
      "metadata": {
        "id": "VpO5aR_cYm6j"
      },
      "outputs": [],
      "source": [
        "data[\"AREA\"] = data[\"AREA\"].replace({\"Karapakam\":\"Karapakkam\",\"Ann Nagar\":\"Anna Nagar\",\"Ana Nagar\":\"Anna Nagar\",\"Adyr\":\"Adyar\",\"Velchery\":\"Velachery\",\n",
        "                                     \"Chrompt\":\"Chrompet\",\"Chrmpet\":\"Chrompet\", \"Chormpet\":\"Chrompet\",\"KKNagar\":\"KK Nagar\",\"TNagar\":\"T Nagar\"})"
      ]
    },
    {
      "cell_type": "code",
      "execution_count": 18,
      "metadata": {
        "colab": {
          "base_uri": "https://localhost:8080/"
        },
        "id": "-2s0D0KAZM9B",
        "outputId": "0c788733-6ce3-4cd1-994e-81db6b131e16"
      },
      "outputs": [
        {
          "output_type": "execute_result",
          "data": {
            "text/plain": [
              "array(['Karapakkam', 'Anna Nagar', 'Adyar', 'Velachery', 'Chrompet',\n",
              "       'KK Nagar', 'T Nagar'], dtype=object)"
            ]
          },
          "metadata": {},
          "execution_count": 18
        }
      ],
      "source": [
        "data.AREA.unique()"
      ]
    },
    {
      "cell_type": "code",
      "execution_count": 19,
      "metadata": {
        "id": "QvHlbMp8Y5Ug"
      },
      "outputs": [],
      "source": [
        "data['SALE_COND'] = data['SALE_COND'].replace({'Ab Normal' : 'AbNormal','ParatiaLl': 'Partial','Partiall':'Partial','PartiaLl':'Partial',\n",
        "                                                                                                                                'Adj Land':  'AdjLand'})"
      ]
    },
    {
      "cell_type": "code",
      "execution_count": 20,
      "metadata": {
        "colab": {
          "base_uri": "https://localhost:8080/"
        },
        "id": "cxciJaFLZRdq",
        "outputId": "3b3ab02e-1185-4b40-f5ad-950facce9109"
      },
      "outputs": [
        {
          "output_type": "execute_result",
          "data": {
            "text/plain": [
              "array(['AbNormal', 'Family', 'Partial', 'AdjLand', 'Normal Sale'],\n",
              "      dtype=object)"
            ]
          },
          "metadata": {},
          "execution_count": 20
        }
      ],
      "source": [
        "data.SALE_COND.unique()"
      ]
    },
    {
      "cell_type": "code",
      "execution_count": 21,
      "metadata": {
        "id": "4NBe3H1hZD0I"
      },
      "outputs": [],
      "source": [
        "data.BUILDTYPE = data.BUILDTYPE.replace({\"Other\":\"Others\",\"Comercial\":\"Commercial\"})"
      ]
    },
    {
      "cell_type": "code",
      "execution_count": 22,
      "metadata": {
        "id": "cK7cYVn53XfW"
      },
      "outputs": [],
      "source": [
        "data.UTILITY_AVAIL = data.UTILITY_AVAIL.replace({\"All Pub\":\"AllPub\",'NoSewr ':'NoSeWa'})"
      ]
    },
    {
      "cell_type": "code",
      "execution_count": 23,
      "metadata": {
        "colab": {
          "base_uri": "https://localhost:8080/"
        },
        "id": "Pd3txUZxZX8s",
        "outputId": "9b57f8cc-ac45-4c39-c121-685cf33ca174"
      },
      "outputs": [
        {
          "output_type": "execute_result",
          "data": {
            "text/plain": [
              "array(['Commercial', 'Others', 'House'], dtype=object)"
            ]
          },
          "metadata": {},
          "execution_count": 23
        }
      ],
      "source": [
        "data.BUILDTYPE.unique()"
      ]
    },
    {
      "cell_type": "code",
      "source": [
        "data.PARK_FACIL.unique()"
      ],
      "metadata": {
        "colab": {
          "base_uri": "https://localhost:8080/"
        },
        "id": "yvDLSUG1-J5m",
        "outputId": "cbdc4d83-eb19-48c8-fc2d-3a031180759e"
      },
      "execution_count": 24,
      "outputs": [
        {
          "output_type": "execute_result",
          "data": {
            "text/plain": [
              "array(['Yes', 'No', 'Noo'], dtype=object)"
            ]
          },
          "metadata": {},
          "execution_count": 24
        }
      ]
    },
    {
      "cell_type": "code",
      "source": [
        "data.PARK_FACIL = data.PARK_FACIL.replace({\"Noo\" : \"No\"})"
      ],
      "metadata": {
        "id": "UnwxqJrp9_T6"
      },
      "execution_count": 25,
      "outputs": []
    },
    {
      "cell_type": "code",
      "execution_count": 26,
      "metadata": {
        "id": "N6ylbPOqae2T"
      },
      "outputs": [],
      "source": [
        "data.STREET = data.STREET.replace({\"NoAccess\" : \"No Access\",'Pavd':'Paved'})"
      ]
    },
    {
      "cell_type": "code",
      "execution_count": 27,
      "metadata": {
        "colab": {
          "base_uri": "https://localhost:8080/"
        },
        "id": "K-HIE2bSaiqC",
        "outputId": "8c2d86c9-b127-47ac-d60f-147c1754c700"
      },
      "outputs": [
        {
          "output_type": "execute_result",
          "data": {
            "text/plain": [
              "array(['Commercial', 'Others', 'House'], dtype=object)"
            ]
          },
          "metadata": {},
          "execution_count": 27
        }
      ],
      "source": [
        "data.BUILDTYPE.unique()"
      ]
    },
    {
      "cell_type": "markdown",
      "metadata": {
        "id": "K8pCBiqWbaLq"
      },
      "source": [
        "Generating New Features from the Dataset"
      ]
    },
    {
      "cell_type": "code",
      "execution_count": 28,
      "metadata": {
        "id": "ip-EhmG9bZCC"
      },
      "outputs": [],
      "source": [
        "data[\"PARK_FACIL\"] = data['PARK_FACIL'].map({'Yes':1,'No':0})\n",
        "data.PARK_FACIL= data.PARK_FACIL.astype('int64')"
      ]
    },
    {
      "cell_type": "code",
      "execution_count": 29,
      "metadata": {
        "colab": {
          "base_uri": "https://localhost:8080/"
        },
        "id": "ly2aX6xyc8AP",
        "outputId": "89e16e92-f040-4e8f-d4e4-89e6be80aa6a"
      },
      "outputs": [
        {
          "output_type": "execute_result",
          "data": {
            "text/plain": [
              "0       44\n",
              "1       11\n",
              "2       20\n",
              "3       22\n",
              "4       30\n",
              "        ..\n",
              "7104    49\n",
              "7105     9\n",
              "7106    28\n",
              "7107    32\n",
              "7108    44\n",
              "Name: AGE_OF_BUILDING, Length: 7109, dtype: int64"
            ]
          },
          "metadata": {},
          "execution_count": 29
        }
      ],
      "source": [
        "data['AGE_OF_BUILDING'] = data['DATE_SALE'].dt.year - data['DATE_BUILD'].dt.year\n",
        "data['AGE_OF_BUILDING']\n"
      ]
    },
    {
      "cell_type": "code",
      "execution_count": 30,
      "metadata": {
        "id": "X_mTc7AzdbJt"
      },
      "outputs": [],
      "source": [
        "data['TOTAL_SALES_PRICE'] = data[\"REG_FEE\"] + data[\"COMMIS\"]+ data[\"SALES_PRICE\"]"
      ]
    },
    {
      "cell_type": "markdown",
      "metadata": {
        "id": "As-EyYxJpLtW"
      },
      "source": [
        "# **Exploratory Data Analysis**"
      ]
    },
    {
      "cell_type": "markdown",
      "source": [
        "### **Distribution Plots**"
      ],
      "metadata": {
        "id": "NQnma9mMAfYB"
      }
    },
    {
      "cell_type": "code",
      "source": [
        "sns.distplot(data.INT_SQFT)\n",
        "#dist,histogram"
      ],
      "metadata": {
        "colab": {
          "base_uri": "https://localhost:8080/",
          "height": 355
        },
        "id": "tx2JP6IdAjhZ",
        "outputId": "9d808c43-393f-4f6d-e058-d2bf616e2033"
      },
      "execution_count": 31,
      "outputs": [
        {
          "output_type": "stream",
          "name": "stderr",
          "text": [
            "/usr/local/lib/python3.7/dist-packages/seaborn/distributions.py:2619: FutureWarning: `distplot` is a deprecated function and will be removed in a future version. Please adapt your code to use either `displot` (a figure-level function with similar flexibility) or `histplot` (an axes-level function for histograms).\n",
            "  warnings.warn(msg, FutureWarning)\n"
          ]
        },
        {
          "output_type": "execute_result",
          "data": {
            "text/plain": [
              "<matplotlib.axes._subplots.AxesSubplot at 0x7f3b4e3c0fd0>"
            ]
          },
          "metadata": {},
          "execution_count": 31
        },
        {
          "output_type": "display_data",
          "data": {
            "text/plain": [
              "<Figure size 432x288 with 1 Axes>"
            ],
            "image/png": "[encoded data removed]"
          },
          "metadata": {
            "needs_background": "light"
          }
        }
      ]
    },
    {
      "cell_type": "code",
      "source": [
        "sns.distplot(data.DIST_MAINROAD)"
      ],
      "metadata": {
        "colab": {
          "base_uri": "https://localhost:8080/",
          "height": 356
        },
        "id": "gG2I1Z6kAu8a",
        "outputId": "d2e8cb8a-096d-4bf6-82e7-28d8a6b5a631"
      },
      "execution_count": 32,
      "outputs": [
        {
          "output_type": "stream",
          "name": "stderr",
          "text": [
            "/usr/local/lib/python3.7/dist-packages/seaborn/distributions.py:2619: FutureWarning: `distplot` is a deprecated function and will be removed in a future version. Please adapt your code to use either `displot` (a figure-level function with similar flexibility) or `histplot` (an axes-level function for histograms).\n",
            "  warnings.warn(msg, FutureWarning)\n"
          ]
        },
        {
          "output_type": "execute_result",
          "data": {
            "text/plain": [
              "<matplotlib.axes._subplots.AxesSubplot at 0x7f3b4c30ea50>"
            ]
          },
          "metadata": {},
          "execution_count": 32
        },
        {
          "output_type": "display_data",
          "data": {
            "text/plain": [
              "<Figure size 432x288 with 1 Axes>"
            ],
            "image/png": "[encoded data removed]"
          },
          "metadata": {
            "needs_background": "light"
          }
        }
      ]
    },
    {
      "cell_type": "code",
      "source": [
        "sns.countplot(data['N_ROOM'])\n",
        "#discret variable bargraph"
      ],
      "metadata": {
        "colab": {
          "base_uri": "https://localhost:8080/",
          "height": 355
        },
        "id": "HGmBw3W0BBWC",
        "outputId": "dd8e542e-1e56-4414-baf0-538bdac39660"
      },
      "execution_count": 33,
      "outputs": [
        {
          "output_type": "stream",
          "name": "stderr",
          "text": [
            "/usr/local/lib/python3.7/dist-packages/seaborn/_decorators.py:43: FutureWarning: Pass the following variable as a keyword arg: x. From version 0.12, the only valid positional argument will be `data`, and passing other arguments without an explicit keyword will result in an error or misinterpretation.\n",
            "  FutureWarning\n"
          ]
        },
        {
          "output_type": "execute_result",
          "data": {
            "text/plain": [
              "<matplotlib.axes._subplots.AxesSubplot at 0x7f3b4c2b75d0>"
            ]
          },
          "metadata": {},
          "execution_count": 33
        },
        {
          "output_type": "display_data",
          "data": {
            "text/plain": [
              "<Figure size 432x288 with 1 Axes>"
            ],
            "image/png": "[encoded data removed]"
          },
          "metadata": {
            "needs_background": "light"
          }
        }
      ]
    },
    {
      "cell_type": "code",
      "source": [
        "sns.countplot(data['N_BEDROOM'])\n",
        "#discret variable bargraph"
      ],
      "metadata": {
        "colab": {
          "base_uri": "https://localhost:8080/",
          "height": 355
        },
        "id": "jkyJVC7aBA71",
        "outputId": "2d5c1402-5b93-4edc-ce01-e279c5c08cca"
      },
      "execution_count": 34,
      "outputs": [
        {
          "output_type": "stream",
          "name": "stderr",
          "text": [
            "/usr/local/lib/python3.7/dist-packages/seaborn/_decorators.py:43: FutureWarning: Pass the following variable as a keyword arg: x. From version 0.12, the only valid positional argument will be `data`, and passing other arguments without an explicit keyword will result in an error or misinterpretation.\n",
            "  FutureWarning\n"
          ]
        },
        {
          "output_type": "execute_result",
          "data": {
            "text/plain": [
              "<matplotlib.axes._subplots.AxesSubplot at 0x7f3b4c220e50>"
            ]
          },
          "metadata": {},
          "execution_count": 34
        },
        {
          "output_type": "display_data",
          "data": {
            "text/plain": [
              "<Figure size 432x288 with 1 Axes>"
            ],
            "image/png": "[encoded data removed]"
          },
          "metadata": {
            "needs_background": "light"
          }
        }
      ]
    },
    {
      "cell_type": "code",
      "source": [
        "sns.countplot(data['N_BATHROOM'])\n",
        "#discret variable bargraph"
      ],
      "metadata": {
        "colab": {
          "base_uri": "https://localhost:8080/",
          "height": 355
        },
        "id": "lWvYW-GPBCxi",
        "outputId": "ab970a3e-deba-47b8-c641-6203a4aa0f3e"
      },
      "execution_count": 35,
      "outputs": [
        {
          "output_type": "stream",
          "name": "stderr",
          "text": [
            "/usr/local/lib/python3.7/dist-packages/seaborn/_decorators.py:43: FutureWarning: Pass the following variable as a keyword arg: x. From version 0.12, the only valid positional argument will be `data`, and passing other arguments without an explicit keyword will result in an error or misinterpretation.\n",
            "  FutureWarning\n"
          ]
        },
        {
          "output_type": "execute_result",
          "data": {
            "text/plain": [
              "<matplotlib.axes._subplots.AxesSubplot at 0x7f3b4c197d50>"
            ]
          },
          "metadata": {},
          "execution_count": 35
        },
        {
          "output_type": "display_data",
          "data": {
            "text/plain": [
              "<Figure size 432x288 with 1 Axes>"
            ],
            "image/png": "[encoded data removed]"
          },
          "metadata": {
            "needs_background": "light"
          }
        }
      ]
    },
    {
      "cell_type": "code",
      "source": [
        "value = data['SALE_COND'].value_counts()\n",
        "name = data['SALE_COND'].unique()\n",
        "\n",
        "fig1 = px.pie(data,values = value, names=name, color = value,title=\"SALE_COND\")\n",
        "fig1"
      ],
      "metadata": {
        "colab": {
          "base_uri": "https://localhost:8080/",
          "height": 542
        },
        "id": "OBK2zo98BjwT",
        "outputId": "2eace303-2acb-4c64-9221-f16278d63eba"
      },
      "execution_count": 36,
      "outputs": [
        {
          "output_type": "display_data",
          "data": {
            "text/html": [
              "<html>\n",
              "<head><meta charset=\"utf-8\" /></head>\n",
              "<body>\n",
              "    <div>            <script src=\"https://cdnjs.cloudflare.com/ajax/libs/mathjax/2.7.5/MathJax.js?config=TeX-AMS-MML_SVG\"></script><script type=\"text/javascript\">if (window.MathJax) {MathJax.Hub.Config({SVG: {font: \"STIX-Web\"}});}</script>                <script type=\"text/javascript\">window.PlotlyConfig = {MathJaxConfig: 'local'};</script>\n",
              "        <script src=\"https://cdn.plot.ly/plotly-2.8.3.min.js\"></script>                <div id=\"17bf7683-853f-4f5a-ac38-66c48f56c5d5\" class=\"plotly-graph-div\" style=\"height:525px; width:100%;\"></div>            <script type=\"text/javascript\">                                    window.PLOTLYENV=window.PLOTLYENV || {};                                    if (document.getElementById(\"17bf7683-853f-4f5a-ac38-66c48f56c5d5\")) {                    Plotly.newPlot(                        \"17bf7683-853f-4f5a-ac38-66c48f56c5d5\",                        [{\"customdata\":[[1439],[1433],[1423],[1411],[1403]],\"domain\":{\"x\":[0.0,1.0],\"y\":[0.0,1.0]},\"hovertemplate\":\"label=%{label}<br>value=%{value}<br>color=%{customdata[0]}<extra></extra>\",\"labels\":[\"AbNormal\",\"Family\",\"Partial\",\"AdjLand\",\"Normal Sale\"],\"legendgroup\":\"\",\"marker\":{\"colors\":[\"#636efa\",\"#EF553B\",\"#00cc96\",\"#ab63fa\",\"#FFA15A\"]},\"name\":\"\",\"showlegend\":true,\"values\":[1439,1433,1423,1411,1403],\"type\":\"pie\"}],                        {\"template\":{\"data\":{\"bar\":[{\"error_x\":{\"color\":\"#2a3f5f\"},\"error_y\":{\"color\":\"#2a3f5f\"},\"marker\":{\"line\":{\"color\":\"#E5ECF6\",\"width\":0.5},\"pattern\":{\"fillmode\":\"overlay\",\"size\":10,\"solidity\":0.2}},\"type\":\"bar\"}],\"barpolar\":[{\"marker\":{\"line\":{\"color\":\"#E5ECF6\",\"width\":0.5},\"pattern\":{\"fillmode\":\"overlay\",\"size\":10,\"solidity\":0.2}},\"type\":\"barpolar\"}],\"carpet\":[{\"aaxis\":{\"endlinecolor\":\"#2a3f5f\",\"gridcolor\":\"white\",\"linecolor\":\"white\",\"minorgridcolor\":\"white\",\"startlinecolor\":\"#2a3f5f\"},\"baxis\":{\"endlinecolor\":\"#2a3f5f\",\"gridcolor\":\"white\",\"linecolor\":\"white\",\"minorgridcolor\":\"white\",\"startlinecolor\":\"#2a3f5f\"},\"type\":\"carpet\"}],\"choropleth\":[{\"colorbar\":{\"outlinewidth\":0,\"ticks\":\"\"},\"type\":\"choropleth\"}],\"contour\":[{\"colorbar\":{\"outlinewidth\":0,\"ticks\":\"\"},\"colorscale\":[[0.0,\"#0d0887\"],[0.1111111111111111,\"#46039f\"],[0.2222222222222222,\"#7201a8\"],[0.3333333333333333,\"#9c179e\"],[0.4444444444444444,\"#bd3786\"],[0.5555555555555556,\"#d8576b\"],[0.6666666666666666,\"#ed7953\"],[0.7777777777777778,\"#fb9f3a\"],[0.8888888888888888,\"#fdca26\"],[1.0,\"#f0f921\"]],\"type\":\"contour\"}],\"contourcarpet\":[{\"colorbar\":{\"outlinewidth\":0,\"ticks\":\"\"},\"type\":\"contourcarpet\"}],\"heatmap\":[{\"colorbar\":{\"outlinewidth\":0,\"ticks\":\"\"},\"colorscale\":[[0.0,\"#0d0887\"],[0.1111111111111111,\"#46039f\"],[0.2222222222222222,\"#7201a8\"],[0.3333333333333333,\"#9c179e\"],[0.4444444444444444,\"#bd3786\"],[0.5555555555555556,\"#d8576b\"],[0.6666666666666666,\"#ed7953\"],[0.7777777777777778,\"#fb9f3a\"],[0.8888888888888888,\"#fdca26\"],[1.0,\"#f0f921\"]],\"type\":\"heatmap\"}],\"heatmapgl\":[{\"colorbar\":{\"outlinewidth\":0,\"ticks\":\"\"},\"colorscale\":[[0.0,\"#0d0887\"],[0.1111111111111111,\"#46039f\"],[0.2222222222222222,\"#7201a8\"],[0.3333333333333333,\"#9c179e\"],[0.4444444444444444,\"#bd3786\"],[0.5555555555555556,\"#d8576b\"],[0.6666666666666666,\"#ed7953\"],[0.7777777777777778,\"#fb9f3a\"],[0.8888888888888888,\"#fdca26\"],[1.0,\"#f0f921\"]],\"type\":\"heatmapgl\"}],\"histogram\":[{\"marker\":{\"pattern\":{\"fillmode\":\"overlay\",\"size\":10,\"solidity\":0.2}},\"type\":\"histogram\"}],\"histogram2d\":[{\"colorbar\":{\"outlinewidth\":0,\"ticks\":\"\"},\"colorscale\":[[0.0,\"#0d0887\"],[0.1111111111111111,\"#46039f\"],[0.2222222222222222,\"#7201a8\"],[0.3333333333333333,\"#9c179e\"],[0.4444444444444444,\"#bd3786\"],[0.5555555555555556,\"#d8576b\"],[0.6666666666666666,\"#ed7953\"],[0.7777777777777778,\"#fb9f3a\"],[0.8888888888888888,\"#fdca26\"],[1.0,\"#f0f921\"]],\"type\":\"histogram2d\"}],\"histogram2dcontour\":[{\"colorbar\":{\"outlinewidth\":0,\"ticks\":\"\"},\"colorscale\":[[0.0,\"#0d0887\"],[0.1111111111111111,\"#46039f\"],[0.2222222222222222,\"#7201a8\"],[0.3333333333333333,\"#9c179e\"],[0.4444444444444444,\"#bd3786\"],[0.5555555555555556,\"#d8576b\"],[0.6666666666666666,\"#ed7953\"],[0.7777777777777778,\"#fb9f3a\"],[0.8888888888888888,\"#fdca26\"],[1.0,\"#f0f921\"]],\"type\":\"histogram2dcontour\"}],\"mesh3d\":[{\"colorbar\":{\"outlinewidth\":0,\"ticks\":\"\"},\"type\":\"mesh3d\"}],\"parcoords\":[{\"line\":{\"colorbar\":{\"outlinewidth\":0,\"ticks\":\"\"}},\"type\":\"parcoords\"}],\"pie\":[{\"automargin\":true,\"type\":\"pie\"}],\"scatter\":[{\"marker\":{\"colorbar\":{\"outlinewidth\":0,\"ticks\":\"\"}},\"type\":\"scatter\"}],\"scatter3d\":[{\"line\":{\"colorbar\":{\"outlinewidth\":0,\"ticks\":\"\"}},\"marker\":{\"colorbar\":{\"outlinewidth\":0,\"ticks\":\"\"}},\"type\":\"scatter3d\"}],\"scattercarpet\":[{\"marker\":{\"colorbar\":{\"outlinewidth\":0,\"ticks\":\"\"}},\"type\":\"scattercarpet\"}],\"scattergeo\":[{\"marker\":{\"colorbar\":{\"outlinewidth\":0,\"ticks\":\"\"}},\"type\":\"scattergeo\"}],\"scattergl\":[{\"marker\":{\"colorbar\":{\"outlinewidth\":0,\"ticks\":\"\"}},\"type\":\"scattergl\"}],\"scattermapbox\":[{\"marker\":{\"colorbar\":{\"outlinewidth\":0,\"ticks\":\"\"}},\"type\":\"scattermapbox\"}],\"scatterpolar\":[{\"marker\":{\"colorbar\":{\"outlinewidth\":0,\"ticks\":\"\"}},\"type\":\"scatterpolar\"}],\"scatterpolargl\":[{\"marker\":{\"colorbar\":{\"outlinewidth\":0,\"ticks\":\"\"}},\"type\":\"scatterpolargl\"}],\"scatterternary\":[{\"marker\":{\"colorbar\":{\"outlinewidth\":0,\"ticks\":\"\"}},\"type\":\"scatterternary\"}],\"surface\":[{\"colorbar\":{\"outlinewidth\":0,\"ticks\":\"\"},\"colorscale\":[[0.0,\"#0d0887\"],[0.1111111111111111,\"#46039f\"],[0.2222222222222222,\"#7201a8\"],[0.3333333333333333,\"#9c179e\"],[0.4444444444444444,\"#bd3786\"],[0.5555555555555556,\"#d8576b\"],[0.6666666666666666,\"#ed7953\"],[0.7777777777777778,\"#fb9f3a\"],[0.8888888888888888,\"#fdca26\"],[1.0,\"#f0f921\"]],\"type\":\"surface\"}],\"table\":[{\"cells\":{\"fill\":{\"color\":\"#EBF0F8\"},\"line\":{\"color\":\"white\"}},\"header\":{\"fill\":{\"color\":\"#C8D4E3\"},\"line\":{\"color\":\"white\"}},\"type\":\"table\"}]},\"layout\":{\"annotationdefaults\":{\"arrowcolor\":\"#2a3f5f\",\"arrowhead\":0,\"arrowwidth\":1},\"autotypenumbers\":\"strict\",\"coloraxis\":{\"colorbar\":{\"outlinewidth\":0,\"ticks\":\"\"}},\"colorscale\":{\"diverging\":[[0,\"#8e0152\"],[0.1,\"#c51b7d\"],[0.2,\"#de77ae\"],[0.3,\"#f1b6da\"],[0.4,\"#fde0ef\"],[0.5,\"#f7f7f7\"],[0.6,\"#e6f5d0\"],[0.7,\"#b8e186\"],[0.8,\"#7fbc41\"],[0.9,\"#4d9221\"],[1,\"#276419\"]],\"sequential\":[[0.0,\"#0d0887\"],[0.1111111111111111,\"#46039f\"],[0.2222222222222222,\"#7201a8\"],[0.3333333333333333,\"#9c179e\"],[0.4444444444444444,\"#bd3786\"],[0.5555555555555556,\"#d8576b\"],[0.6666666666666666,\"#ed7953\"],[0.7777777777777778,\"#fb9f3a\"],[0.8888888888888888,\"#fdca26\"],[1.0,\"#f0f921\"]],\"sequentialminus\":[[0.0,\"#0d0887\"],[0.1111111111111111,\"#46039f\"],[0.2222222222222222,\"#7201a8\"],[0.3333333333333333,\"#9c179e\"],[0.4444444444444444,\"#bd3786\"],[0.5555555555555556,\"#d8576b\"],[0.6666666666666666,\"#ed7953\"],[0.7777777777777778,\"#fb9f3a\"],[0.8888888888888888,\"#fdca26\"],[1.0,\"#f0f921\"]]},\"colorway\":[\"#636efa\",\"#EF553B\",\"#00cc96\",\"#ab63fa\",\"#FFA15A\",\"#19d3f3\",\"#FF6692\",\"#B6E880\",\"#FF97FF\",\"#FECB52\"],\"font\":{\"color\":\"#2a3f5f\"},\"geo\":{\"bgcolor\":\"white\",\"lakecolor\":\"white\",\"landcolor\":\"#E5ECF6\",\"showlakes\":true,\"showland\":true,\"subunitcolor\":\"white\"},\"hoverlabel\":{\"align\":\"left\"},\"hovermode\":\"closest\",\"mapbox\":{\"style\":\"light\"},\"paper_bgcolor\":\"white\",\"plot_bgcolor\":\"#E5ECF6\",\"polar\":{\"angularaxis\":{\"gridcolor\":\"white\",\"linecolor\":\"white\",\"ticks\":\"\"},\"bgcolor\":\"#E5ECF6\",\"radialaxis\":{\"gridcolor\":\"white\",\"linecolor\":\"white\",\"ticks\":\"\"}},\"scene\":{\"xaxis\":{\"backgroundcolor\":\"#E5ECF6\",\"gridcolor\":\"white\",\"gridwidth\":2,\"linecolor\":\"white\",\"showbackground\":true,\"ticks\":\"\",\"zerolinecolor\":\"white\"},\"yaxis\":{\"backgroundcolor\":\"#E5ECF6\",\"gridcolor\":\"white\",\"gridwidth\":2,\"linecolor\":\"white\",\"showbackground\":true,\"ticks\":\"\",\"zerolinecolor\":\"white\"},\"zaxis\":{\"backgroundcolor\":\"#E5ECF6\",\"gridcolor\":\"white\",\"gridwidth\":2,\"linecolor\":\"white\",\"showbackground\":true,\"ticks\":\"\",\"zerolinecolor\":\"white\"}},\"shapedefaults\":{\"line\":{\"color\":\"#2a3f5f\"}},\"ternary\":{\"aaxis\":{\"gridcolor\":\"white\",\"linecolor\":\"white\",\"ticks\":\"\"},\"baxis\":{\"gridcolor\":\"white\",\"linecolor\":\"white\",\"ticks\":\"\"},\"bgcolor\":\"#E5ECF6\",\"caxis\":{\"gridcolor\":\"white\",\"linecolor\":\"white\",\"ticks\":\"\"}},\"title\":{\"x\":0.05},\"xaxis\":{\"automargin\":true,\"gridcolor\":\"white\",\"linecolor\":\"white\",\"ticks\":\"\",\"title\":{\"standoff\":15},\"zerolinecolor\":\"white\",\"zerolinewidth\":2},\"yaxis\":{\"automargin\":true,\"gridcolor\":\"white\",\"linecolor\":\"white\",\"ticks\":\"\",\"title\":{\"standoff\":15},\"zerolinecolor\":\"white\",\"zerolinewidth\":2}}},\"legend\":{\"tracegroupgap\":0},\"title\":{\"text\":\"SALE_COND\"}},                        {\"responsive\": true}                    ).then(function(){\n",
              "                            \n",
              "var gd = document.getElementById('17bf7683-853f-4f5a-ac38-66c48f56c5d5');\n",
              "var x = new MutationObserver(function (mutations, observer) {{\n",
              "        var display = window.getComputedStyle(gd).display;\n",
              "        if (!display || display === 'none') {{\n",
              "            console.log([gd, 'removed!']);\n",
              "            Plotly.purge(gd);\n",
              "            observer.disconnect();\n",
              "        }}\n",
              "}});\n",
              "\n",
              "// Listen for the removal of the full notebook cells\n",
              "var notebookContainer = gd.closest('#notebook-container');\n",
              "if (notebookContainer) {{\n",
              "    x.observe(notebookContainer, {childList: true});\n",
              "}}\n",
              "\n",
              "// Listen for the clearing of the current output cell\n",
              "var outputEl = gd.closest('.output');\n",
              "if (outputEl) {{\n",
              "    x.observe(outputEl, {childList: true});\n",
              "}}\n",
              "\n",
              "                        })                };                            </script>        </div>\n",
              "</body>\n",
              "</html>"
            ]
          },
          "metadata": {}
        }
      ]
    },
    {
      "cell_type": "code",
      "source": [
        "sns.countplot(data['PARK_FACIL'])"
      ],
      "metadata": {
        "colab": {
          "base_uri": "https://localhost:8080/",
          "height": 392
        },
        "id": "imbPsutZBrry",
        "outputId": "e1babf16-8540-45a1-ce27-c8220677e146"
      },
      "execution_count": 37,
      "outputs": [
        {
          "output_type": "stream",
          "name": "stderr",
          "text": [
            "/usr/local/lib/python3.7/dist-packages/seaborn/_decorators.py:43: FutureWarning:\n",
            "\n",
            "Pass the following variable as a keyword arg: x. From version 0.12, the only valid positional argument will be `data`, and passing other arguments without an explicit keyword will result in an error or misinterpretation.\n",
            "\n"
          ]
        },
        {
          "output_type": "execute_result",
          "data": {
            "text/plain": [
              "<matplotlib.axes._subplots.AxesSubplot at 0x7f3b4b4dc750>"
            ]
          },
          "metadata": {},
          "execution_count": 37
        },
        {
          "output_type": "display_data",
          "data": {
            "text/plain": [
              "<Figure size 432x288 with 1 Axes>"
            ],
            "image/png": "[encoded data removed]"
          },
          "metadata": {
            "needs_background": "light"
          }
        }
      ]
    },
    {
      "cell_type": "code",
      "source": [
        "sns.distplot(data.AGE_OF_BUILDING)"
      ],
      "metadata": {
        "colab": {
          "base_uri": "https://localhost:8080/",
          "height": 393
        },
        "id": "eE8BsPB8B5X-",
        "outputId": "86c2f3ac-0343-434f-954a-2471f63b1a7e"
      },
      "execution_count": 38,
      "outputs": [
        {
          "output_type": "stream",
          "name": "stderr",
          "text": [
            "/usr/local/lib/python3.7/dist-packages/seaborn/distributions.py:2619: FutureWarning:\n",
            "\n",
            "`distplot` is a deprecated function and will be removed in a future version. Please adapt your code to use either `displot` (a figure-level function with similar flexibility) or `histplot` (an axes-level function for histograms).\n",
            "\n"
          ]
        },
        {
          "output_type": "execute_result",
          "data": {
            "text/plain": [
              "<matplotlib.axes._subplots.AxesSubplot at 0x7f3b4b437710>"
            ]
          },
          "metadata": {},
          "execution_count": 38
        },
        {
          "output_type": "display_data",
          "data": {
            "text/plain": [
              "<Figure size 432x288 with 1 Axes>"
            ],
            "image/png": "[encoded data removed]"
          },
          "metadata": {
            "needs_background": "light"
          }
        }
      ]
    },
    {
      "cell_type": "code",
      "source": [
        "sns.distplot(data.SALES_PRICE)"
      ],
      "metadata": {
        "colab": {
          "base_uri": "https://localhost:8080/",
          "height": 402
        },
        "id": "xUP29Oe6CFEO",
        "outputId": "6b36227e-7722-46be-c99e-a079b69ef757"
      },
      "execution_count": 39,
      "outputs": [
        {
          "output_type": "stream",
          "name": "stderr",
          "text": [
            "/usr/local/lib/python3.7/dist-packages/seaborn/distributions.py:2619: FutureWarning:\n",
            "\n",
            "`distplot` is a deprecated function and will be removed in a future version. Please adapt your code to use either `displot` (a figure-level function with similar flexibility) or `histplot` (an axes-level function for histograms).\n",
            "\n"
          ]
        },
        {
          "output_type": "execute_result",
          "data": {
            "text/plain": [
              "<matplotlib.axes._subplots.AxesSubplot at 0x7f3b4b38ad90>"
            ]
          },
          "metadata": {},
          "execution_count": 39
        },
        {
          "output_type": "display_data",
          "data": {
            "text/plain": [
              "<Figure size 432x288 with 1 Axes>"
            ],
            "image/png": "[encoded data removed]"
          },
          "metadata": {
            "needs_background": "light"
          }
        }
      ]
    },
    {
      "cell_type": "markdown",
      "source": [
        "### **EDA for Feature vs Target**"
      ],
      "metadata": {
        "id": "zpULTDnJCJFh"
      }
    },
    {
      "cell_type": "code",
      "execution_count": 40,
      "metadata": {
        "colab": {
          "base_uri": "https://localhost:8080/",
          "height": 542
        },
        "id": "JMmWk6E3LbGj",
        "outputId": "78eb81ca-3746-4272-b875-9ed63b1f2908"
      },
      "outputs": [
        {
          "output_type": "display_data",
          "data": {
            "text/html": [
              "<html>\n",
              "<head><meta charset=\"utf-8\" /></head>\n",
              "<body>\n",
              "    <div>            <script src=\"https://cdnjs.cloudflare.com/ajax/libs/mathjax/2.7.5/MathJax.js?config=TeX-AMS-MML_SVG\"></script><script type=\"text/javascript\">if (window.MathJax) {MathJax.Hub.Config({SVG: {font: \"STIX-Web\"}});}</script>                <script type=\"text/javascript\">window.PlotlyConfig = {MathJaxConfig: 'local'};</script>\n",
              "        <script src=\"https://cdn.plot.ly/plotly-2.8.3.min.js\"></script>                <div id=\"01a41cf6-d8c9-4931-ad10-09a7bb92bf38\" class=\"plotly-graph-div\" style=\"height:525px; width:100%;\"></div>            <script type=\"text/javascript\">                                    window.PLOTLYENV=window.PLOTLYENV || {};                                    if (document.getElementById(\"01a41cf6-d8c9-4931-ad10-09a7bb92bf38\")) {                    Plotly.newPlot(                        \"01a41cf6-d8c9-4931-ad10-09a7bb92bf38\",                        [{\"alignmentgroup\":\"True\",\"hovertemplate\":\"AREA=%{x}<br>AVERAGE_PRICE=%{y}<extra></extra>\",\"legendgroup\":\"Karapakkam\",\"marker\":{\"color\":\"#636efa\",\"pattern\":{\"shape\":\"\"}},\"name\":\"Karapakkam\",\"offsetgroup\":\"Karapakkam\",\"orientation\":\"v\",\"showlegend\":true,\"textposition\":\"auto\",\"x\":[\"Karapakkam\"],\"xaxis\":\"x\",\"y\":[7755477.044655929],\"yaxis\":\"y\",\"type\":\"bar\"},{\"alignmentgroup\":\"True\",\"hovertemplate\":\"AREA=%{x}<br>AVERAGE_PRICE=%{y}<extra></extra>\",\"legendgroup\":\"Adyar\",\"marker\":{\"color\":\"#EF553B\",\"pattern\":{\"shape\":\"\"}},\"name\":\"Adyar\",\"offsetgroup\":\"Adyar\",\"orientation\":\"v\",\"showlegend\":true,\"textposition\":\"auto\",\"x\":[\"Adyar\"],\"xaxis\":\"x\",\"y\":[9580581.171834625],\"yaxis\":\"y\",\"type\":\"bar\"},{\"alignmentgroup\":\"True\",\"hovertemplate\":\"AREA=%{x}<br>AVERAGE_PRICE=%{y}<extra></extra>\",\"legendgroup\":\"Chrompet\",\"marker\":{\"color\":\"#00cc96\",\"pattern\":{\"shape\":\"\"}},\"name\":\"Chrompet\",\"offsetgroup\":\"Chrompet\",\"orientation\":\"v\",\"showlegend\":true,\"textposition\":\"auto\",\"x\":[\"Chrompet\"],\"xaxis\":\"x\",\"y\":[10407998.354876615],\"yaxis\":\"y\",\"type\":\"bar\"},{\"alignmentgroup\":\"True\",\"hovertemplate\":\"AREA=%{x}<br>AVERAGE_PRICE=%{y}<extra></extra>\",\"legendgroup\":\"Velachery\",\"marker\":{\"color\":\"#ab63fa\",\"pattern\":{\"shape\":\"\"}},\"name\":\"Velachery\",\"offsetgroup\":\"Velachery\",\"orientation\":\"v\",\"showlegend\":true,\"textposition\":\"auto\",\"x\":[\"Velachery\"],\"xaxis\":\"x\",\"y\":[11588414.946992865],\"yaxis\":\"y\",\"type\":\"bar\"},{\"alignmentgroup\":\"True\",\"hovertemplate\":\"AREA=%{x}<br>AVERAGE_PRICE=%{y}<extra></extra>\",\"legendgroup\":\"KK Nagar\",\"marker\":{\"color\":\"#FFA15A\",\"pattern\":{\"shape\":\"\"}},\"name\":\"KK Nagar\",\"offsetgroup\":\"KK Nagar\",\"orientation\":\"v\",\"showlegend\":true,\"textposition\":\"auto\",\"x\":[\"KK Nagar\"],\"xaxis\":\"x\",\"y\":[13419332.34202608],\"yaxis\":\"y\",\"type\":\"bar\"},{\"alignmentgroup\":\"True\",\"hovertemplate\":\"AREA=%{x}<br>AVERAGE_PRICE=%{y}<extra></extra>\",\"legendgroup\":\"Anna Nagar\",\"marker\":{\"color\":\"#19d3f3\",\"pattern\":{\"shape\":\"\"}},\"name\":\"Anna Nagar\",\"offsetgroup\":\"Anna Nagar\",\"orientation\":\"v\",\"showlegend\":true,\"textposition\":\"auto\",\"x\":[\"Anna Nagar\"],\"xaxis\":\"x\",\"y\":[15844233.097715735],\"yaxis\":\"y\",\"type\":\"bar\"},{\"alignmentgroup\":\"True\",\"hovertemplate\":\"AREA=%{x}<br>AVERAGE_PRICE=%{y}<extra></extra>\",\"legendgroup\":\"T Nagar\",\"marker\":{\"color\":\"#FF6692\",\"pattern\":{\"shape\":\"\"}},\"name\":\"T Nagar\",\"offsetgroup\":\"T Nagar\",\"orientation\":\"v\",\"showlegend\":true,\"textposition\":\"auto\",\"x\":[\"T Nagar\"],\"xaxis\":\"x\",\"y\":[16322649.03992016],\"yaxis\":\"y\",\"type\":\"bar\"}],                        {\"template\":{\"data\":{\"bar\":[{\"error_x\":{\"color\":\"#2a3f5f\"},\"error_y\":{\"color\":\"#2a3f5f\"},\"marker\":{\"line\":{\"color\":\"#E5ECF6\",\"width\":0.5},\"pattern\":{\"fillmode\":\"overlay\",\"size\":10,\"solidity\":0.2}},\"type\":\"bar\"}],\"barpolar\":[{\"marker\":{\"line\":{\"color\":\"#E5ECF6\",\"width\":0.5},\"pattern\":{\"fillmode\":\"overlay\",\"size\":10,\"solidity\":0.2}},\"type\":\"barpolar\"}],\"carpet\":[{\"aaxis\":{\"endlinecolor\":\"#2a3f5f\",\"gridcolor\":\"white\",\"linecolor\":\"white\",\"minorgridcolor\":\"white\",\"startlinecolor\":\"#2a3f5f\"},\"baxis\":{\"endlinecolor\":\"#2a3f5f\",\"gridcolor\":\"white\",\"linecolor\":\"white\",\"minorgridcolor\":\"white\",\"startlinecolor\":\"#2a3f5f\"},\"type\":\"carpet\"}],\"choropleth\":[{\"colorbar\":{\"outlinewidth\":0,\"ticks\":\"\"},\"type\":\"choropleth\"}],\"contour\":[{\"colorbar\":{\"outlinewidth\":0,\"ticks\":\"\"},\"colorscale\":[[0.0,\"#0d0887\"],[0.1111111111111111,\"#46039f\"],[0.2222222222222222,\"#7201a8\"],[0.3333333333333333,\"#9c179e\"],[0.4444444444444444,\"#bd3786\"],[0.5555555555555556,\"#d8576b\"],[0.6666666666666666,\"#ed7953\"],[0.7777777777777778,\"#fb9f3a\"],[0.8888888888888888,\"#fdca26\"],[1.0,\"#f0f921\"]],\"type\":\"contour\"}],\"contourcarpet\":[{\"colorbar\":{\"outlinewidth\":0,\"ticks\":\"\"},\"type\":\"contourcarpet\"}],\"heatmap\":[{\"colorbar\":{\"outlinewidth\":0,\"ticks\":\"\"},\"colorscale\":[[0.0,\"#0d0887\"],[0.1111111111111111,\"#46039f\"],[0.2222222222222222,\"#7201a8\"],[0.3333333333333333,\"#9c179e\"],[0.4444444444444444,\"#bd3786\"],[0.5555555555555556,\"#d8576b\"],[0.6666666666666666,\"#ed7953\"],[0.7777777777777778,\"#fb9f3a\"],[0.8888888888888888,\"#fdca26\"],[1.0,\"#f0f921\"]],\"type\":\"heatmap\"}],\"heatmapgl\":[{\"colorbar\":{\"outlinewidth\":0,\"ticks\":\"\"},\"colorscale\":[[0.0,\"#0d0887\"],[0.1111111111111111,\"#46039f\"],[0.2222222222222222,\"#7201a8\"],[0.3333333333333333,\"#9c179e\"],[0.4444444444444444,\"#bd3786\"],[0.5555555555555556,\"#d8576b\"],[0.6666666666666666,\"#ed7953\"],[0.7777777777777778,\"#fb9f3a\"],[0.8888888888888888,\"#fdca26\"],[1.0,\"#f0f921\"]],\"type\":\"heatmapgl\"}],\"histogram\":[{\"marker\":{\"pattern\":{\"fillmode\":\"overlay\",\"size\":10,\"solidity\":0.2}},\"type\":\"histogram\"}],\"histogram2d\":[{\"colorbar\":{\"outlinewidth\":0,\"ticks\":\"\"},\"colorscale\":[[0.0,\"#0d0887\"],[0.1111111111111111,\"#46039f\"],[0.2222222222222222,\"#7201a8\"],[0.3333333333333333,\"#9c179e\"],[0.4444444444444444,\"#bd3786\"],[0.5555555555555556,\"#d8576b\"],[0.6666666666666666,\"#ed7953\"],[0.7777777777777778,\"#fb9f3a\"],[0.8888888888888888,\"#fdca26\"],[1.0,\"#f0f921\"]],\"type\":\"histogram2d\"}],\"histogram2dcontour\":[{\"colorbar\":{\"outlinewidth\":0,\"ticks\":\"\"},\"colorscale\":[[0.0,\"#0d0887\"],[0.1111111111111111,\"#46039f\"],[0.2222222222222222,\"#7201a8\"],[0.3333333333333333,\"#9c179e\"],[0.4444444444444444,\"#bd3786\"],[0.5555555555555556,\"#d8576b\"],[0.6666666666666666,\"#ed7953\"],[0.7777777777777778,\"#fb9f3a\"],[0.8888888888888888,\"#fdca26\"],[1.0,\"#f0f921\"]],\"type\":\"histogram2dcontour\"}],\"mesh3d\":[{\"colorbar\":{\"outlinewidth\":0,\"ticks\":\"\"},\"type\":\"mesh3d\"}],\"parcoords\":[{\"line\":{\"colorbar\":{\"outlinewidth\":0,\"ticks\":\"\"}},\"type\":\"parcoords\"}],\"pie\":[{\"automargin\":true,\"type\":\"pie\"}],\"scatter\":[{\"marker\":{\"colorbar\":{\"outlinewidth\":0,\"ticks\":\"\"}},\"type\":\"scatter\"}],\"scatter3d\":[{\"line\":{\"colorbar\":{\"outlinewidth\":0,\"ticks\":\"\"}},\"marker\":{\"colorbar\":{\"outlinewidth\":0,\"ticks\":\"\"}},\"type\":\"scatter3d\"}],\"scattercarpet\":[{\"marker\":{\"colorbar\":{\"outlinewidth\":0,\"ticks\":\"\"}},\"type\":\"scattercarpet\"}],\"scattergeo\":[{\"marker\":{\"colorbar\":{\"outlinewidth\":0,\"ticks\":\"\"}},\"type\":\"scattergeo\"}],\"scattergl\":[{\"marker\":{\"colorbar\":{\"outlinewidth\":0,\"ticks\":\"\"}},\"type\":\"scattergl\"}],\"scattermapbox\":[{\"marker\":{\"colorbar\":{\"outlinewidth\":0,\"ticks\":\"\"}},\"type\":\"scattermapbox\"}],\"scatterpolar\":[{\"marker\":{\"colorbar\":{\"outlinewidth\":0,\"ticks\":\"\"}},\"type\":\"scatterpolar\"}],\"scatterpolargl\":[{\"marker\":{\"colorbar\":{\"outlinewidth\":0,\"ticks\":\"\"}},\"type\":\"scatterpolargl\"}],\"scatterternary\":[{\"marker\":{\"colorbar\":{\"outlinewidth\":0,\"ticks\":\"\"}},\"type\":\"scatterternary\"}],\"surface\":[{\"colorbar\":{\"outlinewidth\":0,\"ticks\":\"\"},\"colorscale\":[[0.0,\"#0d0887\"],[0.1111111111111111,\"#46039f\"],[0.2222222222222222,\"#7201a8\"],[0.3333333333333333,\"#9c179e\"],[0.4444444444444444,\"#bd3786\"],[0.5555555555555556,\"#d8576b\"],[0.6666666666666666,\"#ed7953\"],[0.7777777777777778,\"#fb9f3a\"],[0.8888888888888888,\"#fdca26\"],[1.0,\"#f0f921\"]],\"type\":\"surface\"}],\"table\":[{\"cells\":{\"fill\":{\"color\":\"#EBF0F8\"},\"line\":{\"color\":\"white\"}},\"header\":{\"fill\":{\"color\":\"#C8D4E3\"},\"line\":{\"color\":\"white\"}},\"type\":\"table\"}]},\"layout\":{\"annotationdefaults\":{\"arrowcolor\":\"#2a3f5f\",\"arrowhead\":0,\"arrowwidth\":1},\"autotypenumbers\":\"strict\",\"coloraxis\":{\"colorbar\":{\"outlinewidth\":0,\"ticks\":\"\"}},\"colorscale\":{\"diverging\":[[0,\"#8e0152\"],[0.1,\"#c51b7d\"],[0.2,\"#de77ae\"],[0.3,\"#f1b6da\"],[0.4,\"#fde0ef\"],[0.5,\"#f7f7f7\"],[0.6,\"#e6f5d0\"],[0.7,\"#b8e186\"],[0.8,\"#7fbc41\"],[0.9,\"#4d9221\"],[1,\"#276419\"]],\"sequential\":[[0.0,\"#0d0887\"],[0.1111111111111111,\"#46039f\"],[0.2222222222222222,\"#7201a8\"],[0.3333333333333333,\"#9c179e\"],[0.4444444444444444,\"#bd3786\"],[0.5555555555555556,\"#d8576b\"],[0.6666666666666666,\"#ed7953\"],[0.7777777777777778,\"#fb9f3a\"],[0.8888888888888888,\"#fdca26\"],[1.0,\"#f0f921\"]],\"sequentialminus\":[[0.0,\"#0d0887\"],[0.1111111111111111,\"#46039f\"],[0.2222222222222222,\"#7201a8\"],[0.3333333333333333,\"#9c179e\"],[0.4444444444444444,\"#bd3786\"],[0.5555555555555556,\"#d8576b\"],[0.6666666666666666,\"#ed7953\"],[0.7777777777777778,\"#fb9f3a\"],[0.8888888888888888,\"#fdca26\"],[1.0,\"#f0f921\"]]},\"colorway\":[\"#636efa\",\"#EF553B\",\"#00cc96\",\"#ab63fa\",\"#FFA15A\",\"#19d3f3\",\"#FF6692\",\"#B6E880\",\"#FF97FF\",\"#FECB52\"],\"font\":{\"color\":\"#2a3f5f\"},\"geo\":{\"bgcolor\":\"white\",\"lakecolor\":\"white\",\"landcolor\":\"#E5ECF6\",\"showlakes\":true,\"showland\":true,\"subunitcolor\":\"white\"},\"hoverlabel\":{\"align\":\"left\"},\"hovermode\":\"closest\",\"mapbox\":{\"style\":\"light\"},\"paper_bgcolor\":\"white\",\"plot_bgcolor\":\"#E5ECF6\",\"polar\":{\"angularaxis\":{\"gridcolor\":\"white\",\"linecolor\":\"white\",\"ticks\":\"\"},\"bgcolor\":\"#E5ECF6\",\"radialaxis\":{\"gridcolor\":\"white\",\"linecolor\":\"white\",\"ticks\":\"\"}},\"scene\":{\"xaxis\":{\"backgroundcolor\":\"#E5ECF6\",\"gridcolor\":\"white\",\"gridwidth\":2,\"linecolor\":\"white\",\"showbackground\":true,\"ticks\":\"\",\"zerolinecolor\":\"white\"},\"yaxis\":{\"backgroundcolor\":\"#E5ECF6\",\"gridcolor\":\"white\",\"gridwidth\":2,\"linecolor\":\"white\",\"showbackground\":true,\"ticks\":\"\",\"zerolinecolor\":\"white\"},\"zaxis\":{\"backgroundcolor\":\"#E5ECF6\",\"gridcolor\":\"white\",\"gridwidth\":2,\"linecolor\":\"white\",\"showbackground\":true,\"ticks\":\"\",\"zerolinecolor\":\"white\"}},\"shapedefaults\":{\"line\":{\"color\":\"#2a3f5f\"}},\"ternary\":{\"aaxis\":{\"gridcolor\":\"white\",\"linecolor\":\"white\",\"ticks\":\"\"},\"baxis\":{\"gridcolor\":\"white\",\"linecolor\":\"white\",\"ticks\":\"\"},\"bgcolor\":\"#E5ECF6\",\"caxis\":{\"gridcolor\":\"white\",\"linecolor\":\"white\",\"ticks\":\"\"}},\"title\":{\"x\":0.05},\"xaxis\":{\"automargin\":true,\"gridcolor\":\"white\",\"linecolor\":\"white\",\"ticks\":\"\",\"title\":{\"standoff\":15},\"zerolinecolor\":\"white\",\"zerolinewidth\":2},\"yaxis\":{\"automargin\":true,\"gridcolor\":\"white\",\"linecolor\":\"white\",\"ticks\":\"\",\"title\":{\"standoff\":15},\"zerolinecolor\":\"white\",\"zerolinewidth\":2}}},\"xaxis\":{\"anchor\":\"y\",\"domain\":[0.0,1.0],\"title\":{\"text\":\"AREA\"},\"categoryorder\":\"array\",\"categoryarray\":[\"Karapakkam\",\"Adyar\",\"Chrompet\",\"Velachery\",\"KK Nagar\",\"Anna Nagar\",\"T Nagar\"]},\"yaxis\":{\"anchor\":\"x\",\"domain\":[0.0,1.0],\"title\":{\"text\":\"AVERAGE_PRICE\"}},\"legend\":{\"title\":{\"text\":\"AREA\"},\"tracegroupgap\":0},\"title\":{\"text\":\"AREA VS AVERAGE_PRICE\"},\"barmode\":\"relative\"},                        {\"responsive\": true}                    ).then(function(){\n",
              "                            \n",
              "var gd = document.getElementById('01a41cf6-d8c9-4931-ad10-09a7bb92bf38');\n",
              "var x = new MutationObserver(function (mutations, observer) {{\n",
              "        var display = window.getComputedStyle(gd).display;\n",
              "        if (!display || display === 'none') {{\n",
              "            console.log([gd, 'removed!']);\n",
              "            Plotly.purge(gd);\n",
              "            observer.disconnect();\n",
              "        }}\n",
              "}});\n",
              "\n",
              "// Listen for the removal of the full notebook cells\n",
              "var notebookContainer = gd.closest('#notebook-container');\n",
              "if (notebookContainer) {{\n",
              "    x.observe(notebookContainer, {childList: true});\n",
              "}}\n",
              "\n",
              "// Listen for the clearing of the current output cell\n",
              "var outputEl = gd.closest('.output');\n",
              "if (outputEl) {{\n",
              "    x.observe(outputEl, {childList: true});\n",
              "}}\n",
              "\n",
              "                        })                };                            </script>        </div>\n",
              "</body>\n",
              "</html>"
            ]
          },
          "metadata": {}
        }
      ],
      "source": [
        "x = pd.DataFrame(data.groupby('AREA')[\"TOTAL_SALES_PRICE\"].mean())\n",
        "y = data['AREA'].unique()\n",
        "y = sorted(y)\n",
        "df2 = {'AREA':y,\"AVERAGE_PRICE\":x['TOTAL_SALES_PRICE']}\n",
        "temp = pd.DataFrame(df2)\n",
        "temp.sort_values('AVERAGE_PRICE',inplace = True)\n",
        "\n",
        "fig1 = px.bar(temp,x = 'AREA',y = 'AVERAGE_PRICE', color = 'AREA', title = \"AREA VS AVERAGE_PRICE\")\n",
        "fig1"
      ]
    },
    {
      "cell_type": "markdown",
      "source": [
        "-> from the **Area vs Average_Total_Price** plot we can interpret that Area T Nagar has Highest House Price.after T Nagar the Areas                  KK Nagar, Velachery,Chrompet,Adyar and Karapakkam has linearly Decreasing the price of the Houses.\n",
        "So, We can Predict the price of the House on Area wise, we will get idea What is the Demand for Houses in the Area. Future Profits if Invest by Area wise Prediction.\n"
      ],
      "metadata": {
        "id": "RYqBFxYT3G4L"
      }
    },
    {
      "cell_type": "code",
      "execution_count": 41,
      "metadata": {
        "colab": {
          "base_uri": "https://localhost:8080/",
          "height": 542
        },
        "id": "bCkCXmf-5oPI",
        "outputId": "2fa58a54-433b-4a37-eac0-b1fb36c3c30d"
      },
      "outputs": [
        {
          "output_type": "display_data",
          "data": {
            "text/html": [
              "<html>\n",
              "<head><meta charset=\"utf-8\" /></head>\n",
              "<body>\n",
              "    <div>            <script src=\"https://cdnjs.cloudflare.com/ajax/libs/mathjax/2.7.5/MathJax.js?config=TeX-AMS-MML_SVG\"></script><script type=\"text/javascript\">if (window.MathJax) {MathJax.Hub.Config({SVG: {font: \"STIX-Web\"}});}</script>                <script type=\"text/javascript\">window.PlotlyConfig = {MathJaxConfig: 'local'};</script>\n",
              "        <script src=\"https://cdn.plot.ly/plotly-2.8.3.min.js\"></script>                <div id=\"81b56068-6ee9-43fb-9ec6-7c43e5e70589\" class=\"plotly-graph-div\" style=\"height:525px; width:100%;\"></div>            <script type=\"text/javascript\">                                    window.PLOTLYENV=window.PLOTLYENV || {};                                    if (document.getElementById(\"81b56068-6ee9-43fb-9ec6-7c43e5e70589\")) {                    Plotly.newPlot(                        \"81b56068-6ee9-43fb-9ec6-7c43e5e70589\",                        [{\"hovertemplate\":\"INT_SQFT=%{marker.color}<br>TOTAL_SALES_PRICE=%{y}<extra></extra>\",\"legendgroup\":\"\",\"marker\":{\"color\":[1004,1986,909,1855,1226,1220,1167,1847,771,1635,1203,1054,1196,1056,1865,1868,1639,796,1136,1902,1069,931,2010,1074,1972,1685,1130,1301,730,1806,1981,868,1721,1755,1709,2114,1226,1648,856,904,1198,931,1290,507,2492,851,1882,1710,1412,779,1655,940,1667,1926,718,545,1249,1894,1469,916,934,1691,1236,1577,1915,1600,1579,1260,1021,2174,1589,668,1724,890,1218,1792,1378,898,1928,1233,1618,627,1563,1693,1522,1090,1085,1687,692,1518,1025,2170,969,1546,1709,1659,755,1182,735,1089,1534,1622,2198,1293,1641,1950,1245,905,1496,1892,1517,1034,1755,1622,1092,821,1694,1809,1401,1470,798,764,1135,939,1586,1973,1023,884,1640,622,1880,2413,1649,1729,1942,711,885,1688,1236,926,1686,1344,1437,1430,1081,1352,1986,1758,607,2139,1488,1645,950,928,1693,1873,721,1190,1593,786,1195,1824,1906,656,727,931,1898,1698,1926,1481,1506,1020,889,1015,1682,869,1445,1919,1243,857,1055,1778,851,1021,2203,613,738,1489,795,1909,1252,1077,1524,1049,1780,946,906,2344,929,1843,1918,1507,1499,1526,1855,1627,1846,2019,1578,1780,662,1005,839,1698,878,835,911,1796,1004,1694,1244,588,2342,1835,1977,1961,1517,2409,1864,1643,1015,1700,624,980,1003,1072,808,1027,696,1716,1878,1699,1626,1730,996,1277,906,1976,1776,1402,1160,1957,1887,1859,747,985,1024,1600,1276,1159,1024,1249,839,1286,2467,653,606,1837,1880,2189,1853,1057,723,1812,1788,1615,1755,1296,1554,1737,785,1678,2360,1464,1632,1755,1556,1170,901,1160,1570,1476,586,1059,1712,847,1192,1942,557,1728,1798,1497,1173,1640,1747,1342,2000,1987,1567,1188,737,785,2078,647,1171,2435,1805,1145,971,1657,1638,1284,1273,1185,1538,1929,1656,1287,1749,1585,1962,1425,884,1052,1756,523,1524,1949,1263,1917,1401,723,1660,895,1889,1199,782,1571,1848,1131,1062,1983,1572,1535,1818,1484,2189,1203,1610,863,985,1623,1019,1575,802,1846,759,2060,1503,1853,1739,766,857,1887,1502,1568,918,1289,1941,1730,1513,1762,1970,1702,1726,1243,1550,1830,1435,1729,1572,1145,1043,1332,608,676,1685,658,1008,1924,2112,917,1353,1694,1625,1882,1924,894,904,1279,1547,626,1673,1296,2194,1678,702,1067,980,1989,1257,1069,606,1449,1154,927,1613,1851,1511,1765,1238,934,754,1736,980,1299,849,1450,1634,1320,769,1150,908,1668,1990,1857,2061,1668,1444,1121,1514,1256,672,908,1631,1001,1618,2340,1159,1775,1008,1563,1723,1543,1231,1995,2113,1849,1095,1057,841,693,1666,1517,1854,789,760,1137,1687,984,1662,1065,1621,703,1221,1577,989,1368,2365,1525,1180,1122,1775,1877,760,2297,787,2317,749,1616,1284,756,1238,1236,1664,1537,1731,929,786,1370,1685,1549,1539,1898,918,774,1072,1239,1362,1785,2181,2033,952,1066,1153,1849,1095,1100,1300,1806,1897,1121,985,1782,1582,1225,1727,1712,1089,1532,1301,812,863,1686,1332,969,1300,593,809,1105,542,1608,2271,1915,2152,1068,1810,1939,1905,1057,1920,1577,787,1916,1527,1248,1555,2323,961,849,1938,1147,1976,973,1472,1689,1208,1268,1640,635,1996,2404,1675,797,1256,1938,757,520,878,927,1751,764,1674,1681,1976,1505,888,1680,631,1227,1124,1962,1261,1164,1313,1723,1144,1740,1163,708,1855,563,1768,943,931,1127,1629,1656,1676,856,1663,1905,861,1183,1352,1510,987,1245,1144,790,1736,1950,2186,843,1022,2397,1083,923,1958,631,1829,2228,1969,1128,922,1141,1537,720,2175,1152,2278,2460,1940,693,966,898,918,1918,2333,768,783,1661,958,1276,1877,1845,1533,1257,1353,1672,1097,1986,1083,1218,1903,860,1003,1078,1133,1494,626,719,921,1867,1010,1404,1305,1647,1433,925,964,571,1828,1595,615,919,1018,1578,1660,796,2416,760,1767,817,630,833,740,1520,769,1638,1857,924,600,1964,1914,1678,758,1110,1782,1282,913,1545,971,605,1014,982,1651,1288,1661,1578,1937,1403,968,1628,1287,1438,1351,956,1177,774,1207,1561,1156,1852,1190,1823,1527,581,519,1290,1274,1041,908,1525,1984,1537,1806,1152,1288,730,1730,845,1776,913,1124,766,665,762,1833,944,1754,875,1392,1853,1576,1022,1640,779,1729,715,1562,1203,1825,1707,998,1675,1792,1574,1070,1125,1971,1361,1786,612,1596,1644,1041,810,837,1884,1063,1298,1867,1575,1463,1164,1805,733,1197,2069,956,736,1050,2047,632,871,811,1087,1170,1843,1783,847,1258,979,1607,775,1830,961,1925,1301,1041,1593,779,725,1717,1248,1223,1925,907,1089,1574,1335,1876,2455,1280,2169,1897,975,1876,1931,1793,1618,1582,1050,1938,1894,1780,1636,1864,2478,725,1627,1652,1996,1463,1302,1294,1685,1790,1036,1688,1707,919,1528,1746,1885,1135,871,831,1216,1728,1677,1463,1739,668,1878,1780,1513,917,2157,730,1912,2411,1854,2075,1239,890,2471,1303,1532,947,2271,1610,808,1626,1596,1653,1609,1503,1232,1838,1511,1072,1291,1771,709,1886,1540,1712,853,890,934,1113,1183,527,996,1730,1697,2260,1754,1633,914,2457,1946,713,1179,1770,1833,2335,1122,1866,1635,1514,1242,1861,1650,1802,1594,1217,1926,1143,1129,937,790,1215,976,604,1672,2382,1324,1198,1347,1845,1569,1548,1143,1127,585,1823,1891,1781,2328,1958,977,797,700,1483,843,1464,858,1927,1664,1293,1681,1073,916,1617,2223,877,802,2057,1990,975,1519,1537,1502,1016,1502,1497,850,1940,1523,711,1671,1293,1615,1526,2296,1600,1122,821,1678,587,613,714,596,1804,1058,884,2321,1603,715,1397,1604,1533,1744,1097,748,847,1535,1558,1696,1868,591,1539,1594,1074,736,904,802,1445,1623,1978,1546,1896,1673,2334,1114,776,1675,1590,1639,1712,1118,792,1190,1243,1657,1008,1658,1381,929,1166,1239,1231,1973,2244,1577,1854,1109,1801,1257,531,1380,1758,1777,1943,1964,1777,1751,1573,1438,925,1280,947,1981,1554,1762,1835,1351,750,1598,1856,1584,852,1650,1606,1152,1763,1969,994,1566,914,1757,1241,1926,1531,928,1716,1637,1286,1694,770,1677,790,1115,1723,1013,1143,1676,960,1849,850,935,1247,1420,989,1227,1626,787,1576,594,991,684,1717,1195,951,825,2498,830,1459,820,2434,1647,847,1863,1080,1292,1883,1748,1621,2061,1521,839,1296,1027,1921,855,1857,920,1781,1658,1611,1339,876,1880,1227,918,750,1631,782,1258,1536,643,919,1180,1167,1698,1051,881,1042,1954,919,1287,1793,1814,1889,1642,1910,990,1842,825,802,858,1499,1828,717,504,1823,1721,1734,787,1265,1967,1008,1120,1952,1100,1098,1470,970,1432,790,1149,762,847,1954,2232,1587,1891,1916,1622,1812,1010,1526,775,1239,1538,1853,1536,2241,1709,1282,1319,994,782,2235,650,1677,684,1128,1360,895,1227,1720,1003,2114,973,1655,910,840,1835,1001,1646,907,809,1278,1051,1054,971,1956,1921,947,1514,1125,1394,1609,1916,1015,835,1617,1901,1548,1660,890,956,1841,1280,1636,2204,1203,1122,1574,1374,1746,1370,1362,1897,1020,897,1023,1344,1689,1764,1820,987,1688,1908,1078,1637,1019,1198,1002,1088,1703,946,1983,1112,700,1956,1666,1959,1276,1079,2357,1988,1257,1827,1661,939,1607,1829,806,784,1540,1794,1875,1494,1921,603,1479,1574,730,2450,1379,1621,617,508,1485,804,917,1729,1102,1826,1864,1776,1091,712,795,922,1473,1699,1026,1570,1479,2380,704,1325,1558,1133,1866,936,1657,904,924,2031,1945,1297,2179,996,969,1506,1095,1329,1130,1299,514,1738,1782,749,1267,694,1175,1846,1428,824,1637,2189,1128,1213,1984,680,1508,2000,1538,1723,1161,1676,1749,2199,1101,1240,1266,1021,1713,1563,889,1925,1791,910,2450,1763,1170,1294,1386,1506,1830,744,1298,1615,1964,812,1270,1045,1093,934,1617,1994,1759,1968,785,1956,1042,1566,1380,1047,975,1036,1960,2438,1752,1272,784,2461,911,2330,1673,1171,1966,850,1622,1938,1867,791,1958,1601,1617,1015,1572,1924,1848,1238,1556,1543,1534,1635,1450,1117,953,742,820,1895,1717,790,1885,1749,734,1624,953,967,961,1034,1940,753,755,1971,1026,1375,728,1807,1333,1093,1191,1984,888,1100,1294,1904,1045,1253,1472,1765,1634,1823,2404,985,826,705,987,1625,1729,1791,1019,1212,1234,850,662,1555,1711,1064,816,1252,1917,1013,1080,627,1058,951,1823,575,737,706,1109,1211,1450,1277,1568,995,1304,561,831,1811,1563,1107,910,1512,1061,1851,1655,895,1192,1670,1532,1896,1296,2045,722,637,1519,1107,1788,923,1261,1773,1104,883,1639,910,1572,1854,1219,1033,861,963,1537,1579,1925,1584,1829,1761,1204,1165,1109,818,1600,1170,1288,1598,722,798,933,1086,1952,1052,1786,1652,1607,1229,1902,1677,979,655,947,1882,963,1055,1390,1599,1591,1265,870,1122,613,1670,1338,1319,1710,1938,1058,1251,1710,617,916,1027,1223,1422,1081,1603,1762,1219,1953,1208,849,522,1610,1945,884,668,740,1158,1840,829,1650,1663,1913,1963,1806,1630,1016,1823,1185,1478,875,2087,1970,1645,1856,1782,1465,2439,1693,1737,1111,2485,1568,512,958,1565,1706,1616,1531,1636,1997,915,1046,1465,1399,1126,1368,709,1550,1882,1538,1881,641,1912,1194,1502,1649,854,2388,1381,838,1684,1740,1918,669,965,1899,1553,976,1628,894,1734,662,994,1033,1462,1662,1865,1042,828,850,1562,1425,1813,1973,1558,1702,1781,1538,1906,1782,848,737,1512,1956,1402,779,1625,1724,2277,1692,1184,657,942,1535,966,1294,2042,1110,819,1132,900,2486,896,1749,1252,1234,2306,814,878,1053,1809,1871,802,1191,1025,1392,2499,1290,1760,1279,816,1904,1502,922,1781,645,1142,1674,781,1274,687,1886,1598,593,1815,1121,1182,1864,2125,955,1625,864,1183,938,1040,849,914,1156,830,1655,1693,1014,1148,2453,2167,1404,1545,1634,1268,1682,1787,1337,695,1930,1042,1613,1270,997,726,1853,1591,1980,2226,808,1376,1868,1311,805,706,1464,648,1917,1018,1694,1112,950,1282,1639,1501,765,1765,1518,2417,1070,1784,1188,1494,1810,738,1564,1211,1662,1530,909,690,780,1195,1428,746,921,607,712,2312,1809,1872,2286,1648,1522,919,1858,1082,1338,1559,860,1769,1197,1971,1966,2176,1519,1892,786,942,1344,943,1098,1190,1590,1040,1524,1132,1699,1204,1003,1610,1869,1676,929,1265,1585,729,1882,912,2147,898,1979,1398,942,1504,821,1045,1149,1666,1210,1523,891,1955,1191,1641,740,1588,1272,879,1228,946,867,1932,1617,2179,1040,950,1354,1739,935,1484,2182,1711,886,1760,1283,1155,752,1888,1211,1248,1892,1030,1254,1762,1622,951,1981,1628,797,1587,1081,1895,973,844,965,1742,1304,1510,1888,1540,1023,798,1624,1612,1723,950,1919,1528,1081,1002,937,2372,1237,1242,1700,2422,801,1503,1549,606,1277,791,1878,806,1543,1363,1584,1794,704,1531,1003,1010,1794,1756,1188,1164,1851,1176,1503,1621,883,1257,552,1803,721,1573,723,1148,1513,951,2449,1597,1058,1438,1616,632,953,1714,1334,1770,1098,1010,1195,624,1272,1324,2424,1438,701,1236,1744,1078,901,1669,1073,1273,1235,1400,1598,1819,902,795,1763,1848,1288,1615,1026,1598,1896,2276,2407,1083,728,1894,1595,1274,1760,969,1652,1211,958,818,958,1091,1066,2371,1451,1985,1853,1841,1767,1147,1232,1264,898,743,1064,980,1780,1665,1852,1231,1413,2443,1071,1614,1302,1923,805,1586,1883,1582,1109,968,1687,1754,1766,1656,805,726,1228,1995,931,737,1762,1726,1915,729,1653,1261,1744,791,2199,1915,857,1853,1701,963,1889,1544,916,1175,1966,2292,1781,1075,1056,948,1002,823,856,1432,742,1743,2311,1055,1641,690,756,1704,680,1734,1033,757,1912,845,1275,1173,1502,1187,1889,1853,603,2172,1507,692,1897,1607,1607,1853,1121,2279,729,794,800,1292,831,1850,1454,1053,1115,1498,992,520,833,1114,753,1705,934,1101,1104,1085,1015,1389,1179,855,897,1762,726,1285,940,1914,1285,707,939,1911,1697,740,1639,1210,1467,1412,1124,1996,1632,1021,1448,2450,941,1412,1153,1690,1307,1635,772,1438,1505,1635,1631,1585,1117,1296,1238,1859,2239,1771,626,978,1586,1196,1225,812,1436,1019,1203,1027,1974,1746,1711,1918,1083,826,1624,1122,1906,849,1793,1936,1956,1778,1075,541,1166,533,738,1771,1687,1970,1620,668,1542,1551,2221,1522,1539,1866,1874,2097,1159,1438,863,1292,1691,1894,1174,1838,1582,1951,1237,1989,1129,768,1056,1585,1789,1869,520,738,1914,1576,869,635,1875,2344,1804,985,1589,1390,2435,1145,714,1174,1936,1477,1017,943,1515,1071,1937,2440,892,1951,1452,1605,733,616,1525,1577,1002,1792,721,1530,723,840,1254,1129,1272,1085,1922,994,1798,1544,1740,1676,1209,1397,1028,1063,1596,648,1732,1100,1182,2137,1298,1581,1520,785,1929,765,2215,1599,1320,1527,803,778,1917,1762,1662,691,1142,965,1793,1021,1097,1753,1941,1067,733,1856,961,681,1550,1766,983,1638,2092,942,1627,932,715,1140,1658,1112,1584,1894,791,715,2495,1015,1125,1964,1975,1759,1222,1587,1992,2458,837,964,1170,1823,1159,1288,1724,1130,1977,633,1237,1599,969,1292,1229,768,1878,2134,682,1815,1687,535,1109,1333,1987,943,1633,1513,1910,1581,1239,1414,755,826,1582,1454,1226,949,1875,2152,1252,1601,1515,1638,1979,1647,1158,2323,1901,1252,1891,1816,1369,1167,1781,1512,1611,1856,1539,1965,788,848,987,1021,1282,1254,1511,920,700,1929,1820,2039,935,648,2034,1543,2366,876,1422,1877,916,1462,859,1098,1326,1866,1032,579,1366,1830,1912,1748,2415,1887,642,1210,2111,1574,1525,801,1642,1382,1901,714,1952,741,1786,1047,964,627,921,989,1217,1209,1600,740,1295,1005,908,1260,1052,1718,1286,765,1206,2268,1300,1010,1062,1755,1157,2398,1083,1730,1682,1610,1460,972,1116,771,2453,1580,1202,997,1914,1297,1576,1603,976,743,1949,1992,632,1275,1847,1953,1966,1257,1028,592,797,1866,1783,1189,1089,1892,1775,737,1601,2447,1539,1970,1282,1661,1529,1777,1596,812,964,1902,1973,2443,1679,871,1890,1507,1906,1880,770,831,1152,1277,1633,991,1387,1017,1643,1079,842,1542,876,770,941,1000,1258,787,1186,1335,1827,881,1253,1754,724,944,1078,1871,1861,1069,1861,876,1216,2144,1675,1721,1719,832,1218,1178,1551,1562,1700,1263,1664,1073,632,1874,884,657,2403,1001,1734,743,1244,1789,1025,1778,2000,1128,971,1941,972,700,1005,1938,892,1848,982,780,968,1285,755,1930,865,984,1019,662,644,1496,1422,1804,768,1079,1696,1669,1230,1286,1474,1869,1403,1253,1633,1882,1268,1756,1692,1108,2399,886,1684,1779,653,1148,1026,1734,1921,1047,1826,1189,1316,948,1708,653,1976,1996,1928,1837,902,1614,754,1977,1602,1779,1816,817,1875,913,2078,714,795,831,718,2381,727,1136,1597,1598,1673,986,1973,1988,2006,1306,2366,1178,1805,1749,1444,896,718,1254,1755,1619,1820,973,2182,1940,661,1667,1204,1653,844,668,923,549,1060,1842,717,701,1035,1614,1853,1413,1625,951,774,1276,2273,1711,1260,1786,679,1233,1009,931,1649,2197,1233,951,1082,1068,1845,1524,1999,655,826,1212,1685,1942,1898,1467,1714,1104,1081,765,930,698,1478,986,910,1505,1159,873,1000,1554,1368,2101,743,1883,1849,772,963,1939,993,1830,1774,1543,1470,1673,1779,1999,835,1251,1996,1705,1504,713,1618,743,1255,1600,1031,593,1429,1505,1898,1003,1902,705,1591,1524,1611,704,1453,1562,1671,1802,961,1116,1544,1694,2016,887,746,816,1197,2180,1975,873,1305,601,937,798,1884,1636,1615,1565,1703,1693,2280,1051,1266,1348,1005,1589,1182,1273,1596,1676,1240,848,1464,1329,1842,810,1795,1791,611,1192,1071,1176,1101,1146,918,2331,2419,1422,1667,1634,1587,1641,1673,1901,1859,1034,832,1577,1682,1652,1793,1116,883,1589,981,1222,1337,1535,1538,1376,1975,786,1094,2293,1554,1520,1761,500,1500,715,1901,1235,1797,1943,901,1685,1784,1602,1665,1932,801,1705,845,1943,1262,1881,1611,1969,878,1037,1187,1361,999,1020,1651,508,812,1697,1063,635,1540,1123,774,816,814,1241,1768,786,1592,1552,1220,1628,1787,1903,1989,1870,1939,1261,656,1661,1972,1730,887,1673,1548,1227,1004,1509,1092,1982,1217,1649,592,1237,1156,992,1302,1796,1001,1930,1530,1819,1502,1781,1132,833,1223,1738,1057,671,1072,1375,1122,1526,614,1192,1220,1970,1315,705,1222,1836,739,1430,1901,1630,1798,900,1911,659,714,703,565,1151,1541,1509,1706,983,1189,2325,1024,1997,1888,887,1162,1124,2392,1256,1611,1399,1738,1843,920,1804,1272,1690,1502,710,1060,952,1240,1540,1991,560,2419,1812,2415,1047,954,641,1591,1815,1027,1181,1998,1161,643,1885,674,884,1014,719,792,2085,1048,1069,868,862,1658,1814,1512,2330,507,863,1622,796,596,945,840,1799,1769,1354,1979,1168,1944,1122,1666,1977,2237,1760,1159,874,1082,1079,1112,1188,1878,1642,1032,1657,1060,782,1958,1511,1177,2427,916,1910,877,1781,1688,500,1597,1670,2211,527,921,1631,1624,1767,517,828,1328,1734,804,1919,1694,1767,1612,1407,1229,1674,1523,2259,1146,1885,1712,717,1101,2158,823,1530,1817,1311,819,1559,532,1182,1957,1136,1337,1899,895,1666,1924,968,813,1259,1555,1033,1275,1916,714,1488,1591,1075,1603,1852,1504,1950,1279,1931,1066,651,809,1363,897,630,678,740,1507,999,1632,1162,2042,1321,661,1275,1991,998,1904,1655,1644,1804,1216,1716,991,1078,1836,1223,1655,1192,732,970,1060,832,1990,1919,1994,1296,704,1321,1070,888,925,880,805,1777,1703,1899,1169,819,1814,711,1669,1028,860,1266,1906,2178,1300,1614,1175,1294,835,1964,1754,1866,1898,798,1626,1657,1766,661,2442,914,885,1983,1522,1970,1572,1507,1330,1373,1118,1591,1404,1867,2479,1768,1650,1035,936,918,785,923,1592,1350,1245,1563,725,2442,1110,559,1708,829,1744,1649,1323,1864,1514,1669,1993,1459,2136,1165,1132,813,815,1277,1028,1572,1507,1002,1023,1506,1348,1125,1066,1797,1459,604,1808,732,1205,712,1710,1154,1783,1221,752,1906,1119,865,1224,1520,1070,1719,752,1624,1590,779,1789,926,998,887,721,1784,907,1997,1933,1953,913,1060,1601,1703,1812,1145,1678,1262,1138,1943,1277,1639,1580,1900,698,1033,1969,1847,1563,1756,1698,1689,1680,1170,1030,1338,1217,1984,2322,1691,1689,1703,1828,1545,1686,1136,1997,878,1057,521,1457,1021,1519,724,2004,734,1770,814,1486,1215,973,869,640,969,1609,1689,1917,1178,1530,1622,1013,1244,1840,1930,1942,1722,1182,1246,925,1434,1081,794,685,2025,1581,1731,1243,1184,1704,961,610,640,1650,734,717,1419,2055,1010,1011,1806,1225,1252,1913,1729,1717,1091,1629,1724,1198,1329,1634,979,1749,1446,1034,1722,1978,1529,1074,2341,1229,1215,1648,1795,1889,1527,951,1993,2329,1094,1796,946,1697,1813,1656,1738,1155,768,1818,1199,1658,2034,1899,1621,1660,1037,868,783,1642,1618,1645,1150,2186,1911,1058,1720,1719,1191,1903,1039,816,1848,931,2062,1894,1474,968,1827,709,1983,1464,1290,558,1863,1199,1631,1576,1148,1792,1808,1877,1760,966,979,1044,1180,1095,1202,691,1313,625,1933,681,636,1718,1086,845,1774,1730,1180,1607,1182,1539,1636,1088,1229,848,1209,2041,618,1750,1816,793,1737,658,1219,1272,919,1741,1984,2202,630,1344,915,1884,1989,730,1081,1198,927,1611,655,1634,1762,2049,1711,1807,591,1827,789,1299,786,1726,1790,691,1405,1009,1525,1847,1250,804,2117,2018,942,777,1695,902,1904,1536,827,1553,768,1245,1662,1958,2281,1908,916,1101,1518,1049,736,693,1802,888,973,663,700,976,2283,1301,1261,2365,958,1587,1977,1137,865,1125,1635,2345,1072,2416,1720,727,1970,1891,1227,1253,1278,692,1186,1881,898,1661,1536,726,961,1356,882,1558,1440,691,1255,1009,1065,1065,694,1045,730,1871,994,1754,2224,836,1399,1950,1519,1605,1230,584,1590,1734,786,701,783,1739,1127,919,902,838,1026,1346,1764,825,1542,1869,1291,950,680,1579,1047,1660,835,1883,1109,995,1747,1529,1034,1302,654,1020,506,1955,1653,1820,1508,1292,1922,584,1839,1879,1199,1181,1068,1686,2242,1259,1843,1924,1144,542,1515,630,1671,1047,1595,1299,1626,801,1089,1955,1708,1697,1975,1966,1791,1890,967,1711,1583,1274,1356,1144,1129,695,867,1501,1896,1449,1700,1829,1178,1460,1807,1103,992,1268,1890,670,1236,1256,1071,1217,1488,2162,1623,1585,2237,1662,819,2348,604,1849,1617,1733,802,1081,1243,1430,1707,1317,1128,2458,1091,1795,2481,1095,1759,1774,2314,1695,1099,1547,927,1966,1541,1978,1208,659,1834,792,1262,767,1225,732,1647,1344,807,631,1775,753,1952,1021,1126,2397,1059,1625,1080,2254,1696,1943,1499,1782,1505,2050,1665,1391,1797,1514,786,1991,1814,504,1215,1934,1691,1294,2268,615,1640,832,1919,1788,1674,723,990,2219,1167,1566,1053,1781,2470,1612,1418,1032,1430,812,571,1709,1128,1731,1620,1581,1672,1266,1298,1952,2386,1058,987,1256,1824,1752,796,1031,1114,1567,1282,957,1510,1005,1824,837,1103,1386,1588,792,1241,1571,770,1707,1840,972,1000,1888,557,1180,1219,943,1133,1153,1618,1246,2389,2227,1853,926,1517,1721,1231,1090,1590,1353,1610,1883,1029,1285,1210,774,940,1893,857,1563,1634,1483,1902,1638,1877,751,1873,1021,1448,720,1514,2347,1816,1615,1941,2227,1119,885,1417,1278,1050,1706,774,1751,729,1142,1668,857,1774,897,1838,1000,1209,858,767,1624,579,881,722,1837,1296,1624,1630,1257,1163,1652,1566,1669,1009,750,2149,1818,1623,1602,1143,865,1880,721,1510,1025,762,1609,869,1109,928,1747,1526,1922,1366,731,1886,1754,1236,1291,1744,933,747,1574,1290,1574,932,1047,1957,1511,1761,2287,1749,1550,1766,1540,1874,1454,2461,1528,823,1389,765,1244,1566,1539,1283,1132,948,589,1025,885,758,663,1530,1948,940,1532,1894,1373,1528,1826,1132,1955,1036,1504,1826,1609,891,1665,1965,1157,2064,1181,1653,2282,1531,1629,1081,1041,1175,810,1722,1475,1522,1556,1286,1803,866,1178,1626,1589,1165,618,1144,1201,879,1501,1289,1741,1585,897,1172,1321,798,1808,934,961,962,1778,1756,1023,784,1485,2177,2088,1181,1308,663,1975,749,1727,2158,1157,1832,1138,770,1842,1882,757,1884,1729,866,919,1587,1282,928,898,692,1972,2079,1486,1742,1936,1214,1257,841,2255,1605,1188,1213,731,1781,702,1949,1857,1904,1199,1228,1786,1953,1287,1369,1771,1082,1636,602,1854,1655,698,1101,785,1135,1308,924,508,1725,1665,1868,1951,1665,1537,912,724,516,1764,872,887,1080,1045,1530,1132,2365,1781,1138,2375,1115,811,1586,1103,939,1727,1672,1581,1781,1668,1263,819,1145,1074,1707,2145,737,1178,1261,807,1167,1575,1177,1069,679,642,1850,1692,1788,817,1639,883,1827,1986,1958,870,1662,1835,1270,2292,1028,1865,981,916,1908,1936,1926,1083,1780,1707,900,1519,1934,1043,704,1539,1279,1568,2011,1566,1812,1729,1569,2068,1869,1271,1527,601,1206,1878,884,728,907,1534,2038,1512,695,1581,1238,1173,797,1684,1974,893,1026,1812,1282,2449,932,1564,1566,1266,1945,1649,1081,1889,779,984,2495,973,1986,1829,780,843,913,779,1725,2374,778,989,1624,1989,1381,923,1034,1794,2471,1085,2070,959,1341,1377,1862,1594,1016,2321,1242,707,707,1120,774,1083,767,1725,1194,1052,667,1369,1952,1228,1236,1988,1018,2120,1602,1916,893,1968,1424,755,1643,749,1960,1845,2092,1644,1932,1861,1838,1016,734,1304,698,1476,1219,645,1532,1640,1799,991,1890,1159,948,1761,1645,934,1612,1773,1193,1350,1929,1959,626,1758,1677,1538,2148,1098,1146,1796,1578,1207,1125,737,1483,1423,1812,1028,1951,1215,1275,971,1323,1527,1978,1041,1062,1407,1905,1226,1198,1249,1310,2234,1032,1666,1212,897,919,1842,1895,1305,1373,1860,1808,741,1634,777,835,1950,833,1778,1541,1615,1683,1901,1629,1030,1733,765,920,1035,1994,1158,2019,1488,1704,1139,1138,970,1781,573,1583,1261,1138,1704,830,1913,1671,1586,1149,988,1142,1014,1770,643,1527,1597,894,929,1210,907,1370,1229,2471,1231,998,833,1141,1089,1989,1618,1571,1181,1495,1451,1273,1435,1707,1080,1634,1995,1584,1112,1232,1857,2428,837,1155,836,1836,2074,2260,970,1367,996,1686,1140,1538,1570,614,1151,1317,1904,947,997,1669,1820,1834,922,2289,2041,1628,805,1130,1622,1873,1759,1662,1230,1087,1265,740,1963,908,1076,1869,1228,1670,1245,731,1634,1597,1650,1849,879,2459,1940,547,928,505,1574,1037,764,1180,1110,1898,1484,888,1232,1977,1929,1251,694,889,1156,1607,1986,2340,756,1253,1954,602,1719,1503,825,1914,998,790,1166,1794,1606,1813,878,1573,1819,537,1538,1985,1794,1263,818,1833,737,1820,836,1073,1203,1300,1514,2252,1214,1554,1764,1675,912,822,1917,1850,1723,679,1064,1907,1898,1669,1593,1744,1759,671,723,1445,671,1839,1589,1832,1000,1822,1135,772,1160,1163,1057,948,1163,1643,1946,1268,2242,1085,1984,787,654,1685,1963,2326,576,1256,958,1823,2284,1705,716,917,1991,1676,1860,1591,1154,2015,963,1565,1699,1142,1268,1731,1898,845,857,1540,1226,619,1657,1503,2478,1572,2456,1819,842,1156,1564,874,2163,977,1880,1667,1784,1252,1833,1599,1863,1779,1923,1280,1333,1128,1829,1344,1538,1545,1279,1116,620,857,1101,1087,1993,1770,1927,1740,1878,1777,1794,1863,1582,1256,1715,1952,1238,1128,545,1939,990,1031,1724,1143,988,2019,1384,2174,1000,954,1844,902,1212,930,746,1635,754,1229,1083,1431,1670,1667,1861,2000,1997,1949,1713,727,1276,1702,1785,1632,1243,2191,2153,720,905,1107,772,1806,1162,1558,1269,838,1281,1517,1344,1705,995,818,1705,1604,1238,694,1908,667,2242,773,1524,791,1403,1211,730,1016,1574,1185,1437,1995,1195,1055,1951,983,1956,1558,947,740,1001,2127,1421,1947,788,1721,1858,806,850,713,2166,1921,888,1831,1613,695,1984,787,2208,1334,1267,1530,1458,2372,1521,1005,945,542,1204,1072,2496,1082,1518,1180,1525,1732,1841,1745,974,1797,1698,937,1152,1588,987,1616,1536,825,1722,1651,1983,1519,848,1865,845,778,1735,1900,2062,1810,830,1775,1365,1489,1576,660,1733,1346,1662,1075,974,1051,1821,1037,1505,1195,1236,1376,1920,1214,602,1122,1532,1337,1703,1310,1533,1013,1942,976,1097,1363,1153,1904,860,836,1969,1898,1026,1919,1408,2113,1547,735,1267,793,1608,1236,1209,1703,1149,1402,1531,1959,1082,1555,2120,1735,1067,2356,833,1785,786,1702,1032,1685,768,778,2183,2472,1797,1129,1809,1299,1211,1690,2496,876,2199,1027,1905,1704,780,1756,958,736,1501,700,1716,825,1195,1651,706,1566,1356,1621,2271,1055,1896,1354,1337,818,1871,1532,1507,695,1264,658,1085,1632,1995,1244,1695,1814,1131,1699,919,1674,733,990,1003,1594,1767,981,1967,1927,1526,1520,1743,1790,1396,982,2311,936,1817,762,1817,1250,2053,936,1849,1620,896,1143,1052,676,973,1276,1549,1769,1294,1284,877,829,1596,1222,2331,1048,903,1182,1591,829,1137,1914,1944,1677,1933,2483,1549,1689,1691,1367,1345,1539,1214,2017,1745,1822,1617,737,1261,1238,1477,993,1637,1163,1399,2218,1817,1931,891,1985,1721,1171,1479,1313,1890,1067,1275,2283,1630,1275,812,917,1191,757,1713,1542,682,1609,1976,827,1182,1078,1991,1578,1119,859,1682,1451,2258,860,649,1924,1868,1121,2358,1836,1398,1359,1126,1038,1907,950,1662,1837,1038,1572,1163,869,2375,1128,1657,1078,1500,834,1838,726,1531,1559,2395,853,1879,636,658,600,1686,1548,1474,1016,1825,1030,1030,1479,1635,1814,1725,826,1082,1468,1226,1108,1614,756,936,1112,1022,1803,1001,1636,1068,1646,1762,1887,1536,986,1108,1002,906,1438,1416,2349,1850,909,1874,1084,807,1272,944,1289,1222,1781,1944,1822,1550,1091,1515,893,930,715,1211,1158,1836,807,1129,1000,844,1601,835,1809,1074,1782,1706,572,831,2112,1960,1776,1050,1725,878,1018,1011,1307,1835,1262,698,1087,1923,780,973,679,964,640,850,1970,1470,1105,2198,675,1326,932,501,1072,1648,1745,1616,1605,1094,834,898,1864,2097,1459,1459,1912,1842,1627,1014,1537,1614,1516,806,1129,941,1166,2241,1300,1145,1865,1168,827,1185,1151,616,700,922,1505,1208,1400,1205,818,1789,1098,2035,1243,844,615,1854,888,657,1283,1715,1655,1013,763,1881,928,1149,1255,1160,1544,1058,1765,864,1374,1072,1087,1645,895,1587,1531,1689,613,2494,1545,1550,2318,2481,1552,943,1635,1121,1241,1869,1264,1558,765,950,1248,901,1410,2263,1745,2100,2414,793,1502,748,788,1341,1571,944,1206,1465,707,1968,813,586,1671,1740,1633,550,1267,916,1872,1148,1840,586,1121,2430,2256,1280,1184,1775,1062,823,1626,774,1627,2078,1740,630,1474,1114,1188,1273,1884,1550,1208,1231,914,1578,938,2240,1595,2438,707,1697,2049,1775,957,1592,2317,742,763,1738,791,1662,1794,841,702,1009,1522,1274,2175,2101,837,1845,1245,1510,1562,792,1124,1917,1910,1151,2158,1464,883,532,1925,1067,801,1536,1505,849,1514,1181,1773,1906,1061,1520,1564,1900,1120,1147,1087,955,545,1494,1649,1297,676,1523,1704,827,897,1024,1707,1838,1680,1617,927,873,1841,712,1860,1774,1781,1351,2263,1956,1199,960,1053,1944,780,1868,511,951,1150,1758,703,973,1128,578,1669,1096,1595,1825,1298,1812,975,1830,1054,1852,1057,1616,1500,750,1262,1700,1605,1192,1199,980,1539,824,1124,1397,1419,1214,1512,574,1446,1138,1773,879,1744,1751,1541,1625,675,543,1087,1083,2451,1562,1600,1624,1216,1333,1564,1366,1277,1245,1314,967,1511,1067,1005,1148,1501,1559,1942,1536,1833,831,1785,935,2409,1760,1920,1352,708,1798,901,1270,802,1094,666,1655,1622,2364,1442,1614,1567,677,2333,1270,1022,1000,1429,1515,888,712,1685,1483,990,1157,1350,1702,1779,1356,713,969,1324,1156,1327,1117,1284,1983,1264,1649,1245,1422,634,2052,984,1808,1266,1910,1527,1124,1654,1722,833,529,1640,1271,1628,1553,633,796,1794,1726,1644,2471,1122,1906,1420,1755,1686,2053,1772,918,861,1091,1093,1860,1908,1555,1139,982,875,1631,1615,942,1537,961,1901,641,1538,1188,1068,1034,619,1762,1100,1860,753,1636,2074,1533,1530,825,1794,1267,1891,1896,1223,1724,1072,634,1767,1273,1275,1047,1597,1586,2327,2008,1303,846,1428,877,1751,1738,985,766,1196,1128,1092,1973,2447,1736,1559,1708,517,1403,1085,510,1291,1961,766,1169,1401,946,829,2276,1861,1616,1505,1072,1253,1859,1805,1274,1709,1909,1591,1674,1730,838,1718,1863,746,940,1569,2219,843,1779,543,2215,551,692,2432,892,1734,944,1924,1688,1721,745,1590,1719,838,1941,1215,926,1609,1226,1478,1041,1420,1933,1093,1683,1165,1083,2004,1102,1565,1938,1615,746,824,2432,645,1850,1985,1031,1604,640,1666,770,1815,2203,1194,1832,639,1638,1800,909,1184,1803,713,1624,1077,1729,1065,1671,510,1181,758,2156,2004,1067,1085,1064,739,1829,1637,763,1138,1724,1017,732,1926,958,1938,1362,1627,737,726,2189,890,810,1592,1245,1479,1259,2042,663,2439,1888,1655,1197,966,807,862,1625,1143,967,1168,1744,1966,1722,1541,1409,1936,2474,1217,1057,955,1608,1010,1170,982,763,778,1502,1110,759,1789,1884,1181,1567,686,1630,1503,1754,1299,983,1708,1230,1760,1180,1915,1533,534,1404,949,1876,753,993,1257,1280,1337,2325,1946,1719,1636,1264,780,2178,1232,762,1934,978,2248,1991,573,2496,1931,652,770,1323,2180,2458,1684,1556,526,714,748,635,1137,1132,1804,2327,1966,552,1862,1640,1232,799,1114,1444,2369,1642,771,1595,1766,1692,1827,1256,1892,1541,798,1845,1519,950,910,828,1551,831,1196,1589,1874,1867,1909,672,1997,1700,1934,1716,736,1505,689,862,1320,2300,1697,2178,1229,1549,1911,1654,1224,927,1166,900,1924,1527,1773,2187,1574,2235,776,1030,791,1600,1270,1150,2369,1814,1925,1217,1668,1668,1435,762,1816,1255,2011,1874,1743,1545,782,1349,2443,1696,1727,813,1998,1961,2298,1544,1930,642,1066,1673,1829,616,713,838,1804,1840,876,1213,1541,1401,1637,1299,1160,770,1496,911,1763,858,1943,1920,672,912,584,2222,1939,1420,1993,1818,1459,1889,1155,1707,896,1972,1506,868,1661,962,1609,1250,1796,909,1930,2000,949,1639,923,502,1511,873,2155,647,934,2251,670,1343,1021,882,1573,1979,1926,1347,1760,1776,1037,1365,1179,1514,1103,878,1571,1502,1737,1252,1584,1658,1833,1057,871,844,1741,2497,1265,1769,1902,1895,1531,1838,1288,1738,1010,909,1635,744,945,1063,1823,1358,1870,1207,1892,1857,1296,1012,733,1224,1587,858,830,1665,1003,867,1081,1976,1118,1283,889,2236,2113,1843,1795,1070,1545,1700,1511,1104,771,1605,1558,1550,853,948,942,1102,823,1792,871,1644,1081,1759,1611,1138,1886,2207,1678,886,1691,1278,1835,1827,922,1207,870,1651,846,1085,1166,601,711,1005,1554,1245,1783,909,1214,1743,1035,1848,1880,1790,862,927,1088,1362,1754,1097,1295,1607,1606,1291,1418,1317,1832,993,1153,724,1582,1115,1112,1678,806,1503,2346,839,760,1506,1640,896,1409,1633,1139,1101,2396,1119,1857,1886,1692,1655,622,1647,1239,1471,1505,916,693,1852,1191,1061,2493,1015,1911,1287,1576,840,1626,1262,1261,1015,1195,800,1873,2207,1732,961,1986,1823,830,724,1007,1875,1150,1693,1538,1993,926,1994,1061,1803,1664,978,1914,1668,1205,685,2088,1014,806,1545,1045,1951,898,2339,2379,1692,2352,1114,1890,2363,1527,2193,1206,728,1231,1735,1266,1977,1915,1295,749,1884,1361,1934,1055,851,1118,1451,2470,935,2500,1984,1818,1741,1065,858,702,613,1896,833,2047,1579,988,1667,1184,1733,1106,2058,1055,1735,809,1335,652,1095,1477,1819,1982,1599,941,1198,967,1637,1678,1023,774,1032,889,974,790,931,659,2120,843,736,1053,1596,1368,1544,1486,1285,1501,2218,1117,1561,792,1212,1977,1965,775,892,1696,833,541,1414,1966,704,871,1380,1885,916,1115,919,883,2065,1869,1625,537,1534,1082,1279,1544,1101,1230,956,552,925,1822,1781,1628,1736,2016,779,1217,1601,1201,579,2289,1023,1900,807,1653,1452,1934,1972,1606,1908,741,734,1504,1121,1979,1105,1528,1712,955,802,701,1418,1155,1061,2258,947,1868,1713,886,2122,980,1916,2079,1377,2363,1568,1210,1179,822,1235,1735,745,794,1979,1641,1718,706,728,1948,1863,1849,1528,1979,1639,796,794,748,1278,838,2459,1358,731,973,1757,1995,870,1035,2205,709,1206,685,1690,786,1136,1268,1012,1198,1152,1034,1869,773,2273,956,939,1938,1764,1920,525,653,1700,1505,1589,1829,963,1724,731,1911,1239,508,893,1973,1050,1779,1078,2470,1170,706,1897,1858,1134,1057,1630,2202,1209,1068,1366,1727,1673,1954,1022,1915,803,1241,993,779,1972,2366,1104,1509,2001,1735,730,1148,1781,951,1189,1899,1212,1136,1059,2172,2451,1834,1609,1845,2084,936,2403,1533,856,841,1083,1721,1276,974,827,1159,742,849,960,1928,1648,1538,715,1201,668,1545,1206,1694,1656,964,951,835,1548,827,1834,1840,1973,1829,1851,1519,1822,721,1022,588,1716,955,817,1036,1682,628,941,647,838,849,1048,2383,820,752,1923,2000,1412,979,1000,961,1297,714,1505,1955,1578,812,1898,1868,701,1068,1521,1572,1910,901,1586,1782,684,1165,698,1904,2386,1640,1282,787,1508,1864,1803,1200,1743,771,1325,1569,1019,1524,1202,802,1968,1693,932,1071,1866,1844,1016,803,862,1500,2491,1704,1803,1541,1178,1473,594,1701,1169,1684,1569,1232,958,1583,907,1702,739,1760,1956,714,1848,1005,1638,1294,1653,1950,1841,1252,1817,1337,1561,1517,1917,766,745,1562,2371,991,1582,1348,1933,1737,2335,1946,1554,1039,1703,883,1226,1867,1950,1062,870,1032,1015,2289,785,878,1884,852,1155,1650,1831,1509,1389,1149,1402,1781,1632,1604,1220,1616,1015,1769,1264,1941,1269,1650,1639,1939,1908,1142,949,787,1316,2060,976,1357,2428,1201,1634,1097,1542,795,1656,1173,999,1002,1873,670,1355,1942,2225,1540,1677,2453,1248,1290,854,1080,704,525,1837,2284,876,813,1246,1410,1962,1710,867,1727,1101,1721,1623,1684,1671,1279,1737,1719,1543,1650,2454,1631,1823,1879,862,1197,1187,1409,1696,1075,1113,1027,777,1657,1681,1061,1301,762,1046,2423,940,1971,851,1867,1858,1176,1144,719,1308,1096,1881,1601,1638,1538,724,1692,1650,1089,1528,1512,1790,711,1174,866,1082,684,913,624,762,1722,1223,1822,1793,1742,1990,614,1654,1231,802,1984,868,1445,888,1052,703,1034,1561,1554,1089,885,1689,782,1837,1121,1974,704,1412,1237,1549,968,1500,1784,1952,1135,1973,982,2178,1793,1769,918,1914,824,1249,1755,1693,707,1677,1954,1224,1931,1726,800,1617,1562,806,1693,1187,895,1810,575,2351,1196,1685,1603,1275,1119,1167,1229,1297,1510,717,872,1260,1020,1232,1538,1626,1923,799,1978,1548,1670,1211,1501,1573,1643,795,1514,1058,1645,2370,903,961,1843,1091,991,1195,1814,1110,1206,1114,1677,1553,1650,2042,1852,1911,929,1872,1727,1740,773,1059,873,1836,1119,786,1741,1174,1697,1766,1646,1999,1071,834,674,1740,1388,1897,1623,1074,1049,1142,1332,996,702,724,2310,1268,1876,585,1816,1588,728,1063,1156,2014,1514,793,1633,1307,1006,1289,921,1500,2156,1726,1493,830,1953,751,1230,2254,1550,877,1510,1811,1269,1908,1306,1117,1754,1066,1661,1305,1533,1115,837,1892,797,741,726,1017,1125,1993,1840,1481,811,1191,1690,682,516,1634,1655,806,782,1880,1838,1061,824,720,1818,561,1111,1884,1413,2047,2443,1770,2340,1293,1557,1615,1837,997,1938,756,1629,501,1042,1396,929,1622,1727,706,1527,1695,796,1525,1096,1624,1961,1955,1868,2454,1551,1786,1923,1103,1601,1219,786,1177,1179,1809,830,1098,829,1185,1281,1001,1041,1960,1419,1395,990,1988,977,1606,2472,1015,1553,1901,1917,856,1127,1933,740,1244,1818,1810,1139,1514,1512,1775,1503,1226,589,851,1558,1608,1257,1617,1678,1254,711,1703,500,672,1933,778,1922,1033,1644,1272,1066,897,1076,2398,1541,1658,2271,1613,1692,801,1298,831,1187,1577,1598,1117,1793,1399,1851,1508,1803,1147,1971,1836,1934,1858,1134,1254,1595,910,1114,1726,946,1756,1099,1700,1730,1514,1033,1751,688,1521,1496,1921,1414,1622,934,903,1946,791,1992,858,990,705,1008,1696,1907,1960,2051,1202,1941,2456,1955,1275,1860,1611,895,1733,666,701,1462,598,1897,1614,787,1896],\"coloraxis\":\"coloraxis\",\"symbol\":\"circle\"},\"mode\":\"markers\",\"name\":\"\",\"showlegend\":false,\"x\":[1004,1986,909,1855,1226,1220,1167,1847,771,1635,1203,1054,1196,1056,1865,1868,1639,796,1136,1902,1069,931,2010,1074,1972,1685,1130,1301,730,1806,1981,868,1721,1755,1709,2114,1226,1648,856,904,1198,931,1290,507,2492,851,1882,1710,1412,779,1655,940,1667,1926,718,545,1249,1894,1469,916,934,1691,1236,1577,1915,1600,1579,1260,1021,2174,1589,668,1724,890,1218,1792,1378,898,1928,1233,1618,627,1563,1693,1522,1090,1085,1687,692,1518,1025,2170,969,1546,1709,1659,755,1182,735,1089,1534,1622,2198,1293,1641,1950,1245,905,1496,1892,1517,1034,1755,1622,1092,821,1694,1809,1401,1470,798,764,1135,939,1586,1973,1023,884,1640,622,1880,2413,1649,1729,1942,711,885,1688,1236,926,1686,1344,1437,1430,1081,1352,1986,1758,607,2139,1488,1645,950,928,1693,1873,721,1190,1593,786,1195,1824,1906,656,727,931,1898,1698,1926,1481,1506,1020,889,1015,1682,869,1445,1919,1243,857,1055,1778,851,1021,2203,613,738,1489,795,1909,1252,1077,1524,1049,1780,946,906,2344,929,1843,1918,1507,1499,1526,1855,1627,1846,2019,1578,1780,662,1005,839,1698,878,835,911,1796,1004,1694,1244,588,2342,1835,1977,1961,1517,2409,1864,1643,1015,1700,624,980,1003,1072,808,1027,696,1716,1878,1699,1626,1730,996,1277,906,1976,1776,1402,1160,1957,1887,1859,747,985,1024,1600,1276,1159,1024,1249,839,1286,2467,653,606,1837,1880,2189,1853,1057,723,1812,1788,1615,1755,1296,1554,1737,785,1678,2360,1464,1632,1755,1556,1170,901,1160,1570,1476,586,1059,1712,847,1192,1942,557,1728,1798,1497,1173,1640,1747,1342,2000,1987,1567,1188,737,785,2078,647,1171,2435,1805,1145,971,1657,1638,1284,1273,1185,1538,1929,1656,1287,1749,1585,1962,1425,884,1052,1756,523,1524,1949,1263,1917,1401,723,1660,895,1889,1199,782,1571,1848,1131,1062,1983,1572,1535,1818,1484,2189,1203,1610,863,985,1623,1019,1575,802,1846,759,2060,1503,1853,1739,766,857,1887,1502,1568,918,1289,1941,1730,1513,1762,1970,1702,1726,1243,1550,1830,1435,1729,1572,1145,1043,1332,608,676,1685,658,1008,1924,2112,917,1353,1694,1625,1882,1924,894,904,1279,1547,626,1673,1296,2194,1678,702,1067,980,1989,1257,1069,606,1449,1154,927,1613,1851,1511,1765,1238,934,754,1736,980,1299,849,1450,1634,1320,769,1150,908,1668,1990,1857,2061,1668,1444,1121,1514,1256,672,908,1631,1001,1618,2340,1159,1775,1008,1563,1723,1543,1231,1995,2113,1849,1095,1057,841,693,1666,1517,1854,789,760,1137,1687,984,1662,1065,1621,703,1221,1577,989,1368,2365,1525,1180,1122,1775,1877,760,2297,787,2317,749,1616,1284,756,1238,1236,1664,1537,1731,929,786,1370,1685,1549,1539,1898,918,774,1072,1239,1362,1785,2181,2033,952,1066,1153,1849,1095,1100,1300,1806,1897,1121,985,1782,1582,1225,1727,1712,1089,1532,1301,812,863,1686,1332,969,1300,593,809,1105,542,1608,2271,1915,2152,1068,1810,1939,1905,1057,1920,1577,787,1916,1527,1248,1555,2323,961,849,1938,1147,1976,973,1472,1689,1208,1268,1640,635,1996,2404,1675,797,1256,1938,757,520,878,927,1751,764,1674,1681,1976,1505,888,1680,631,1227,1124,1962,1261,1164,1313,1723,1144,1740,1163,708,1855,563,1768,943,931,1127,1629,1656,1676,856,1663,1905,861,1183,1352,1510,987,1245,1144,790,1736,1950,2186,843,1022,2397,1083,923,1958,631,1829,2228,1969,1128,922,1141,1537,720,2175,1152,2278,2460,1940,693,966,898,918,1918,2333,768,783,1661,958,1276,1877,1845,1533,1257,1353,1672,1097,1986,1083,1218,1903,860,1003,1078,1133,1494,626,719,921,1867,1010,1404,1305,1647,1433,925,964,571,1828,1595,615,919,1018,1578,1660,796,2416,760,1767,817,630,833,740,1520,769,1638,1857,924,600,1964,1914,1678,758,1110,1782,1282,913,1545,971,605,1014,982,1651,1288,1661,1578,1937,1403,968,1628,1287,1438,1351,956,1177,774,1207,1561,1156,1852,1190,1823,1527,581,519,1290,1274,1041,908,1525,1984,1537,1806,1152,1288,730,1730,845,1776,913,1124,766,665,762,1833,944,1754,875,1392,1853,1576,1022,1640,779,1729,715,1562,1203,1825,1707,998,1675,1792,1574,1070,1125,1971,1361,1786,612,1596,1644,1041,810,837,1884,1063,1298,1867,1575,1463,1164,1805,733,1197,2069,956,736,1050,2047,632,871,811,1087,1170,1843,1783,847,1258,979,1607,775,1830,961,1925,1301,1041,1593,779,725,1717,1248,1223,1925,907,1089,1574,1335,1876,2455,1280,2169,1897,975,1876,1931,1793,1618,1582,1050,1938,1894,1780,1636,1864,2478,725,1627,1652,1996,1463,1302,1294,1685,1790,1036,1688,1707,919,1528,1746,1885,1135,871,831,1216,1728,1677,1463,1739,668,1878,1780,1513,917,2157,730,1912,2411,1854,2075,1239,890,2471,1303,1532,947,2271,1610,808,1626,1596,1653,1609,1503,1232,1838,1511,1072,1291,1771,709,1886,1540,1712,853,890,934,1113,1183,527,996,1730,1697,2260,1754,1633,914,2457,1946,713,1179,1770,1833,2335,1122,1866,1635,1514,1242,1861,1650,1802,1594,1217,1926,1143,1129,937,790,1215,976,604,1672,2382,1324,1198,1347,1845,1569,1548,1143,1127,585,1823,1891,1781,2328,1958,977,797,700,1483,843,1464,858,1927,1664,1293,1681,1073,916,1617,2223,877,802,2057,1990,975,1519,1537,1502,1016,1502,1497,850,1940,1523,711,1671,1293,1615,1526,2296,1600,1122,821,1678,587,613,714,596,1804,1058,884,2321,1603,715,1397,1604,1533,1744,1097,748,847,1535,1558,1696,1868,591,1539,1594,1074,736,904,802,1445,1623,1978,1546,1896,1673,2334,1114,776,1675,1590,1639,1712,1118,792,1190,1243,1657,1008,1658,1381,929,1166,1239,1231,1973,2244,1577,1854,1109,1801,1257,531,1380,1758,1777,1943,1964,1777,1751,1573,1438,925,1280,947,1981,1554,1762,1835,1351,750,1598,1856,1584,852,1650,1606,1152,1763,1969,994,1566,914,1757,1241,1926,1531,928,1716,1637,1286,1694,770,1677,790,1115,1723,1013,1143,1676,960,1849,850,935,1247,1420,989,1227,1626,787,1576,594,991,684,1717,1195,951,825,2498,830,1459,820,2434,1647,847,1863,1080,1292,1883,1748,1621,2061,1521,839,1296,1027,1921,855,1857,920,1781,1658,1611,1339,876,1880,1227,918,750,1631,782,1258,1536,643,919,1180,1167,1698,1051,881,1042,1954,919,1287,1793,1814,1889,1642,1910,990,1842,825,802,858,1499,1828,717,504,1823,1721,1734,787,1265,1967,1008,1120,1952,1100,1098,1470,970,1432,790,1149,762,847,1954,2232,1587,1891,1916,1622,1812,1010,1526,775,1239,1538,1853,1536,2241,1709,1282,1319,994,782,2235,650,1677,684,1128,1360,895,1227,1720,1003,2114,973,1655,910,840,1835,1001,1646,907,809,1278,1051,1054,971,1956,1921,947,1514,1125,1394,1609,1916,1015,835,1617,1901,1548,1660,890,956,1841,1280,1636,2204,1203,1122,1574,1374,1746,1370,1362,1897,1020,897,1023,1344,1689,1764,1820,987,1688,1908,1078,1637,1019,1198,1002,1088,1703,946,1983,1112,700,1956,1666,1959,1276,1079,2357,1988,1257,1827,1661,939,1607,1829,806,784,1540,1794,1875,1494,1921,603,1479,1574,730,2450,1379,1621,617,508,1485,804,917,1729,1102,1826,1864,1776,1091,712,795,922,1473,1699,1026,1570,1479,2380,704,1325,1558,1133,1866,936,1657,904,924,2031,1945,1297,2179,996,969,1506,1095,1329,1130,1299,514,1738,1782,749,1267,694,1175,1846,1428,824,1637,2189,1128,1213,1984,680,1508,2000,1538,1723,1161,1676,1749,2199,1101,1240,1266,1021,1713,1563,889,1925,1791,910,2450,1763,1170,1294,1386,1506,1830,744,1298,1615,1964,812,1270,1045,1093,934,1617,1994,1759,1968,785,1956,1042,1566,1380,1047,975,1036,1960,2438,1752,1272,784,2461,911,2330,1673,1171,1966,850,1622,1938,1867,791,1958,1601,1617,1015,1572,1924,1848,1238,1556,1543,1534,1635,1450,1117,953,742,820,1895,1717,790,1885,1749,734,1624,953,967,961,1034,1940,753,755,1971,1026,1375,728,1807,1333,1093,1191,1984,888,1100,1294,1904,1045,1253,1472,1765,1634,1823,2404,985,826,705,987,1625,1729,1791,1019,1212,1234,850,662,1555,1711,1064,816,1252,1917,1013,1080,627,1058,951,1823,575,737,706,1109,1211,1450,1277,1568,995,1304,561,831,1811,1563,1107,910,1512,1061,1851,1655,895,1192,1670,1532,1896,1296,2045,722,637,1519,1107,1788,923,1261,1773,1104,883,1639,910,1572,1854,1219,1033,861,963,1537,1579,1925,1584,1829,1761,1204,1165,1109,818,1600,1170,1288,1598,722,798,933,1086,1952,1052,1786,1652,1607,1229,1902,1677,979,655,947,1882,963,1055,1390,1599,1591,1265,870,1122,613,1670,1338,1319,1710,1938,1058,1251,1710,617,916,1027,1223,1422,1081,1603,1762,1219,1953,1208,849,522,1610,1945,884,668,740,1158,1840,829,1650,1663,1913,1963,1806,1630,1016,1823,1185,1478,875,2087,1970,1645,1856,1782,1465,2439,1693,1737,1111,2485,1568,512,958,1565,1706,1616,1531,1636,1997,915,1046,1465,1399,1126,1368,709,1550,1882,1538,1881,641,1912,1194,1502,1649,854,2388,1381,838,1684,1740,1918,669,965,1899,1553,976,1628,894,1734,662,994,1033,1462,1662,1865,1042,828,850,1562,1425,1813,1973,1558,1702,1781,1538,1906,1782,848,737,1512,1956,1402,779,1625,1724,2277,1692,1184,657,942,1535,966,1294,2042,1110,819,1132,900,2486,896,1749,1252,1234,2306,814,878,1053,1809,1871,802,1191,1025,1392,2499,1290,1760,1279,816,1904,1502,922,1781,645,1142,1674,781,1274,687,1886,1598,593,1815,1121,1182,1864,2125,955,1625,864,1183,938,1040,849,914,1156,830,1655,1693,1014,1148,2453,2167,1404,1545,1634,1268,1682,1787,1337,695,1930,1042,1613,1270,997,726,1853,1591,1980,2226,808,1376,1868,1311,805,706,1464,648,1917,1018,1694,1112,950,1282,1639,1501,765,1765,1518,2417,1070,1784,1188,1494,1810,738,1564,1211,1662,1530,909,690,780,1195,1428,746,921,607,712,2312,1809,1872,2286,1648,1522,919,1858,1082,1338,1559,860,1769,1197,1971,1966,2176,1519,1892,786,942,1344,943,1098,1190,1590,1040,1524,1132,1699,1204,1003,1610,1869,1676,929,1265,1585,729,1882,912,2147,898,1979,1398,942,1504,821,1045,1149,1666,1210,1523,891,1955,1191,1641,740,1588,1272,879,1228,946,867,1932,1617,2179,1040,950,1354,1739,935,1484,2182,1711,886,1760,1283,1155,752,1888,1211,1248,1892,1030,1254,1762,1622,951,1981,1628,797,1587,1081,1895,973,844,965,1742,1304,1510,1888,1540,1023,798,1624,1612,1723,950,1919,1528,1081,1002,937,2372,1237,1242,1700,2422,801,1503,1549,606,1277,791,1878,806,1543,1363,1584,1794,704,1531,1003,1010,1794,1756,1188,1164,1851,1176,1503,1621,883,1257,552,1803,721,1573,723,1148,1513,951,2449,1597,1058,1438,1616,632,953,1714,1334,1770,1098,1010,1195,624,1272,1324,2424,1438,701,1236,1744,1078,901,1669,1073,1273,1235,1400,1598,1819,902,795,1763,1848,1288,1615,1026,1598,1896,2276,2407,1083,728,1894,1595,1274,1760,969,1652,1211,958,818,958,1091,1066,2371,1451,1985,1853,1841,1767,1147,1232,1264,898,743,1064,980,1780,1665,1852,1231,1413,2443,1071,1614,1302,1923,805,1586,1883,1582,1109,968,1687,1754,1766,1656,805,726,1228,1995,931,737,1762,1726,1915,729,1653,1261,1744,791,2199,1915,857,1853,1701,963,1889,1544,916,1175,1966,2292,1781,1075,1056,948,1002,823,856,1432,742,1743,2311,1055,1641,690,756,1704,680,1734,1033,757,1912,845,1275,1173,1502,1187,1889,1853,603,2172,1507,692,1897,1607,1607,1853,1121,2279,729,794,800,1292,831,1850,1454,1053,1115,1498,992,520,833,1114,753,1705,934,1101,1104,1085,1015,1389,1179,855,897,1762,726,1285,940,1914,1285,707,939,1911,1697,740,1639,1210,1467,1412,1124,1996,1632,1021,1448,2450,941,1412,1153,1690,1307,1635,772,1438,1505,1635,1631,1585,1117,1296,1238,1859,2239,1771,626,978,1586,1196,1225,812,1436,1019,1203,1027,1974,1746,1711,1918,1083,826,1624,1122,1906,849,1793,1936,1956,1778,1075,541,1166,533,738,1771,1687,1970,1620,668,1542,1551,2221,1522,1539,1866,1874,2097,1159,1438,863,1292,1691,1894,1174,1838,1582,1951,1237,1989,1129,768,1056,1585,1789,1869,520,738,1914,1576,869,635,1875,2344,1804,985,1589,1390,2435,1145,714,1174,1936,1477,1017,943,1515,1071,1937,2440,892,1951,1452,1605,733,616,1525,1577,1002,1792,721,1530,723,840,1254,1129,1272,1085,1922,994,1798,1544,1740,1676,1209,1397,1028,1063,1596,648,1732,1100,1182,2137,1298,1581,1520,785,1929,765,2215,1599,1320,1527,803,778,1917,1762,1662,691,1142,965,1793,1021,1097,1753,1941,1067,733,1856,961,681,1550,1766,983,1638,2092,942,1627,932,715,1140,1658,1112,1584,1894,791,715,2495,1015,1125,1964,1975,1759,1222,1587,1992,2458,837,964,1170,1823,1159,1288,1724,1130,1977,633,1237,1599,969,1292,1229,768,1878,2134,682,1815,1687,535,1109,1333,1987,943,1633,1513,1910,1581,1239,1414,755,826,1582,1454,1226,949,1875,2152,1252,1601,1515,1638,1979,1647,1158,2323,1901,1252,1891,1816,1369,1167,1781,1512,1611,1856,1539,1965,788,848,987,1021,1282,1254,1511,920,700,1929,1820,2039,935,648,2034,1543,2366,876,1422,1877,916,1462,859,1098,1326,1866,1032,579,1366,1830,1912,1748,2415,1887,642,1210,2111,1574,1525,801,1642,1382,1901,714,1952,741,1786,1047,964,627,921,989,1217,1209,1600,740,1295,1005,908,1260,1052,1718,1286,765,1206,2268,1300,1010,1062,1755,1157,2398,1083,1730,1682,1610,1460,972,1116,771,2453,1580,1202,997,1914,1297,1576,1603,976,743,1949,1992,632,1275,1847,1953,1966,1257,1028,592,797,1866,1783,1189,1089,1892,1775,737,1601,2447,1539,1970,1282,1661,1529,1777,1596,812,964,1902,1973,2443,1679,871,1890,1507,1906,1880,770,831,1152,1277,1633,991,1387,1017,1643,1079,842,1542,876,770,941,1000,1258,787,1186,1335,1827,881,1253,1754,724,944,1078,1871,1861,1069,1861,876,1216,2144,1675,1721,1719,832,1218,1178,1551,1562,1700,1263,1664,1073,632,1874,884,657,2403,1001,1734,743,1244,1789,1025,1778,2000,1128,971,1941,972,700,1005,1938,892,1848,982,780,968,1285,755,1930,865,984,1019,662,644,1496,1422,1804,768,1079,1696,1669,1230,1286,1474,1869,1403,1253,1633,1882,1268,1756,1692,1108,2399,886,1684,1779,653,1148,1026,1734,1921,1047,1826,1189,1316,948,1708,653,1976,1996,1928,1837,902,1614,754,1977,1602,1779,1816,817,1875,913,2078,714,795,831,718,2381,727,1136,1597,1598,1673,986,1973,1988,2006,1306,2366,1178,1805,1749,1444,896,718,1254,1755,1619,1820,973,2182,1940,661,1667,1204,1653,844,668,923,549,1060,1842,717,701,1035,1614,1853,1413,1625,951,774,1276,2273,1711,1260,1786,679,1233,1009,931,1649,2197,1233,951,1082,1068,1845,1524,1999,655,826,1212,1685,1942,1898,1467,1714,1104,1081,765,930,698,1478,986,910,1505,1159,873,1000,1554,1368,2101,743,1883,1849,772,963,1939,993,1830,1774,1543,1470,1673,1779,1999,835,1251,1996,1705,1504,713,1618,743,1255,1600,1031,593,1429,1505,1898,1003,1902,705,1591,1524,1611,704,1453,1562,1671,1802,961,1116,1544,1694,2016,887,746,816,1197,2180,1975,873,1305,601,937,798,1884,1636,1615,1565,1703,1693,2280,1051,1266,1348,1005,1589,1182,1273,1596,1676,1240,848,1464,1329,1842,810,1795,1791,611,1192,1071,1176,1101,1146,918,2331,2419,1422,1667,1634,1587,1641,1673,1901,1859,1034,832,1577,1682,1652,1793,1116,883,1589,981,1222,1337,1535,1538,1376,1975,786,1094,2293,1554,1520,1761,500,1500,715,1901,1235,1797,1943,901,1685,1784,1602,1665,1932,801,1705,845,1943,1262,1881,1611,1969,878,1037,1187,1361,999,1020,1651,508,812,1697,1063,635,1540,1123,774,816,814,1241,1768,786,1592,1552,1220,1628,1787,1903,1989,1870,1939,1261,656,1661,1972,1730,887,1673,1548,1227,1004,1509,1092,1982,1217,1649,592,1237,1156,992,1302,1796,1001,1930,1530,1819,1502,1781,1132,833,1223,1738,1057,671,1072,1375,1122,1526,614,1192,1220,1970,1315,705,1222,1836,739,1430,1901,1630,1798,900,1911,659,714,703,565,1151,1541,1509,1706,983,1189,2325,1024,1997,1888,887,1162,1124,2392,1256,1611,1399,1738,1843,920,1804,1272,1690,1502,710,1060,952,1240,1540,1991,560,2419,1812,2415,1047,954,641,1591,1815,1027,1181,1998,1161,643,1885,674,884,1014,719,792,2085,1048,1069,868,862,1658,1814,1512,2330,507,863,1622,796,596,945,840,1799,1769,1354,1979,1168,1944,1122,1666,1977,2237,1760,1159,874,1082,1079,1112,1188,1878,1642,1032,1657,1060,782,1958,1511,1177,2427,916,1910,877,1781,1688,500,1597,1670,2211,527,921,1631,1624,1767,517,828,1328,1734,804,1919,1694,1767,1612,1407,1229,1674,1523,2259,1146,1885,1712,717,1101,2158,823,1530,1817,1311,819,1559,532,1182,1957,1136,1337,1899,895,1666,1924,968,813,1259,1555,1033,1275,1916,714,1488,1591,1075,1603,1852,1504,1950,1279,1931,1066,651,809,1363,897,630,678,740,1507,999,1632,1162,2042,1321,661,1275,1991,998,1904,1655,1644,1804,1216,1716,991,1078,1836,1223,1655,1192,732,970,1060,832,1990,1919,1994,1296,704,1321,1070,888,925,880,805,1777,1703,1899,1169,819,1814,711,1669,1028,860,1266,1906,2178,1300,1614,1175,1294,835,1964,1754,1866,1898,798,1626,1657,1766,661,2442,914,885,1983,1522,1970,1572,1507,1330,1373,1118,1591,1404,1867,2479,1768,1650,1035,936,918,785,923,1592,1350,1245,1563,725,2442,1110,559,1708,829,1744,1649,1323,1864,1514,1669,1993,1459,2136,1165,1132,813,815,1277,1028,1572,1507,1002,1023,1506,1348,1125,1066,1797,1459,604,1808,732,1205,712,1710,1154,1783,1221,752,1906,1119,865,1224,1520,1070,1719,752,1624,1590,779,1789,926,998,887,721,1784,907,1997,1933,1953,913,1060,1601,1703,1812,1145,1678,1262,1138,1943,1277,1639,1580,1900,698,1033,1969,1847,1563,1756,1698,1689,1680,1170,1030,1338,1217,1984,2322,1691,1689,1703,1828,1545,1686,1136,1997,878,1057,521,1457,1021,1519,724,2004,734,1770,814,1486,1215,973,869,640,969,1609,1689,1917,1178,1530,1622,1013,1244,1840,1930,1942,1722,1182,1246,925,1434,1081,794,685,2025,1581,1731,1243,1184,1704,961,610,640,1650,734,717,1419,2055,1010,1011,1806,1225,1252,1913,1729,1717,1091,1629,1724,1198,1329,1634,979,1749,1446,1034,1722,1978,1529,1074,2341,1229,1215,1648,1795,1889,1527,951,1993,2329,1094,1796,946,1697,1813,1656,1738,1155,768,1818,1199,1658,2034,1899,1621,1660,1037,868,783,1642,1618,1645,1150,2186,1911,1058,1720,1719,1191,1903,1039,816,1848,931,2062,1894,1474,968,1827,709,1983,1464,1290,558,1863,1199,1631,1576,1148,1792,1808,1877,1760,966,979,1044,1180,1095,1202,691,1313,625,1933,681,636,1718,1086,845,1774,1730,1180,1607,1182,1539,1636,1088,1229,848,1209,2041,618,1750,1816,793,1737,658,1219,1272,919,1741,1984,2202,630,1344,915,1884,1989,730,1081,1198,927,1611,655,1634,1762,2049,1711,1807,591,1827,789,1299,786,1726,1790,691,1405,1009,1525,1847,1250,804,2117,2018,942,777,1695,902,1904,1536,827,1553,768,1245,1662,1958,2281,1908,916,1101,1518,1049,736,693,1802,888,973,663,700,976,2283,1301,1261,2365,958,1587,1977,1137,865,1125,1635,2345,1072,2416,1720,727,1970,1891,1227,1253,1278,692,1186,1881,898,1661,1536,726,961,1356,882,1558,1440,691,1255,1009,1065,1065,694,1045,730,1871,994,1754,2224,836,1399,1950,1519,1605,1230,584,1590,1734,786,701,783,1739,1127,919,902,838,1026,1346,1764,825,1542,1869,1291,950,680,1579,1047,1660,835,1883,1109,995,1747,1529,1034,1302,654,1020,506,1955,1653,1820,1508,1292,1922,584,1839,1879,1199,1181,1068,1686,2242,1259,1843,1924,1144,542,1515,630,1671,1047,1595,1299,1626,801,1089,1955,1708,1697,1975,1966,1791,1890,967,1711,1583,1274,1356,1144,1129,695,867,1501,1896,1449,1700,1829,1178,1460,1807,1103,992,1268,1890,670,1236,1256,1071,1217,1488,2162,1623,1585,2237,1662,819,2348,604,1849,1617,1733,802,1081,1243,1430,1707,1317,1128,2458,1091,1795,2481,1095,1759,1774,2314,1695,1099,1547,927,1966,1541,1978,1208,659,1834,792,1262,767,1225,732,1647,1344,807,631,1775,753,1952,1021,1126,2397,1059,1625,1080,2254,1696,1943,1499,1782,1505,2050,1665,1391,1797,1514,786,1991,1814,504,1215,1934,1691,1294,2268,615,1640,832,1919,1788,1674,723,990,2219,1167,1566,1053,1781,2470,1612,1418,1032,1430,812,571,1709,1128,1731,1620,1581,1672,1266,1298,1952,2386,1058,987,1256,1824,1752,796,1031,1114,1567,1282,957,1510,1005,1824,837,1103,1386,1588,792,1241,1571,770,1707,1840,972,1000,1888,557,1180,1219,943,1133,1153,1618,1246,2389,2227,1853,926,1517,1721,1231,1090,1590,1353,1610,1883,1029,1285,1210,774,940,1893,857,1563,1634,1483,1902,1638,1877,751,1873,1021,1448,720,1514,2347,1816,1615,1941,2227,1119,885,1417,1278,1050,1706,774,1751,729,1142,1668,857,1774,897,1838,1000,1209,858,767,1624,579,881,722,1837,1296,1624,1630,1257,1163,1652,1566,1669,1009,750,2149,1818,1623,1602,1143,865,1880,721,1510,1025,762,1609,869,1109,928,1747,1526,1922,1366,731,1886,1754,1236,1291,1744,933,747,1574,1290,1574,932,1047,1957,1511,1761,2287,1749,1550,1766,1540,1874,1454,2461,1528,823,1389,765,1244,1566,1539,1283,1132,948,589,1025,885,758,663,1530,1948,940,1532,1894,1373,1528,1826,1132,1955,1036,1504,1826,1609,891,1665,1965,1157,2064,1181,1653,2282,1531,1629,1081,1041,1175,810,1722,1475,1522,1556,1286,1803,866,1178,1626,1589,1165,618,1144,1201,879,1501,1289,1741,1585,897,1172,1321,798,1808,934,961,962,1778,1756,1023,784,1485,2177,2088,1181,1308,663,1975,749,1727,2158,1157,1832,1138,770,1842,1882,757,1884,1729,866,919,1587,1282,928,898,692,1972,2079,1486,1742,1936,1214,1257,841,2255,1605,1188,1213,731,1781,702,1949,1857,1904,1199,1228,1786,1953,1287,1369,1771,1082,1636,602,1854,1655,698,1101,785,1135,1308,924,508,1725,1665,1868,1951,1665,1537,912,724,516,1764,872,887,1080,1045,1530,1132,2365,1781,1138,2375,1115,811,1586,1103,939,1727,1672,1581,1781,1668,1263,819,1145,1074,1707,2145,737,1178,1261,807,1167,1575,1177,1069,679,642,1850,1692,1788,817,1639,883,1827,1986,1958,870,1662,1835,1270,2292,1028,1865,981,916,1908,1936,1926,1083,1780,1707,900,1519,1934,1043,704,1539,1279,1568,2011,1566,1812,1729,1569,2068,1869,1271,1527,601,1206,1878,884,728,907,1534,2038,1512,695,1581,1238,1173,797,1684,1974,893,1026,1812,1282,2449,932,1564,1566,1266,1945,1649,1081,1889,779,984,2495,973,1986,1829,780,843,913,779,1725,2374,778,989,1624,1989,1381,923,1034,1794,2471,1085,2070,959,1341,1377,1862,1594,1016,2321,1242,707,707,1120,774,1083,767,1725,1194,1052,667,1369,1952,1228,1236,1988,1018,2120,1602,1916,893,1968,1424,755,1643,749,1960,1845,2092,1644,1932,1861,1838,1016,734,1304,698,1476,1219,645,1532,1640,1799,991,1890,1159,948,1761,1645,934,1612,1773,1193,1350,1929,1959,626,1758,1677,1538,2148,1098,1146,1796,1578,1207,1125,737,1483,1423,1812,1028,1951,1215,1275,971,1323,1527,1978,1041,1062,1407,1905,1226,1198,1249,1310,2234,1032,1666,1212,897,919,1842,1895,1305,1373,1860,1808,741,1634,777,835,1950,833,1778,1541,1615,1683,1901,1629,1030,1733,765,920,1035,1994,1158,2019,1488,1704,1139,1138,970,1781,573,1583,1261,1138,1704,830,1913,1671,1586,1149,988,1142,1014,1770,643,1527,1597,894,929,1210,907,1370,1229,2471,1231,998,833,1141,1089,1989,1618,1571,1181,1495,1451,1273,1435,1707,1080,1634,1995,1584,1112,1232,1857,2428,837,1155,836,1836,2074,2260,970,1367,996,1686,1140,1538,1570,614,1151,1317,1904,947,997,1669,1820,1834,922,2289,2041,1628,805,1130,1622,1873,1759,1662,1230,1087,1265,740,1963,908,1076,1869,1228,1670,1245,731,1634,1597,1650,1849,879,2459,1940,547,928,505,1574,1037,764,1180,1110,1898,1484,888,1232,1977,1929,1251,694,889,1156,1607,1986,2340,756,1253,1954,602,1719,1503,825,1914,998,790,1166,1794,1606,1813,878,1573,1819,537,1538,1985,1794,1263,818,1833,737,1820,836,1073,1203,1300,1514,2252,1214,1554,1764,1675,912,822,1917,1850,1723,679,1064,1907,1898,1669,1593,1744,1759,671,723,1445,671,1839,1589,1832,1000,1822,1135,772,1160,1163,1057,948,1163,1643,1946,1268,2242,1085,1984,787,654,1685,1963,2326,576,1256,958,1823,2284,1705,716,917,1991,1676,1860,1591,1154,2015,963,1565,1699,1142,1268,1731,1898,845,857,1540,1226,619,1657,1503,2478,1572,2456,1819,842,1156,1564,874,2163,977,1880,1667,1784,1252,1833,1599,1863,1779,1923,1280,1333,1128,1829,1344,1538,1545,1279,1116,620,857,1101,1087,1993,1770,1927,1740,1878,1777,1794,1863,1582,1256,1715,1952,1238,1128,545,1939,990,1031,1724,1143,988,2019,1384,2174,1000,954,1844,902,1212,930,746,1635,754,1229,1083,1431,1670,1667,1861,2000,1997,1949,1713,727,1276,1702,1785,1632,1243,2191,2153,720,905,1107,772,1806,1162,1558,1269,838,1281,1517,1344,1705,995,818,1705,1604,1238,694,1908,667,2242,773,1524,791,1403,1211,730,1016,1574,1185,1437,1995,1195,1055,1951,983,1956,1558,947,740,1001,2127,1421,1947,788,1721,1858,806,850,713,2166,1921,888,1831,1613,695,1984,787,2208,1334,1267,1530,1458,2372,1521,1005,945,542,1204,1072,2496,1082,1518,1180,1525,1732,1841,1745,974,1797,1698,937,1152,1588,987,1616,1536,825,1722,1651,1983,1519,848,1865,845,778,1735,1900,2062,1810,830,1775,1365,1489,1576,660,1733,1346,1662,1075,974,1051,1821,1037,1505,1195,1236,1376,1920,1214,602,1122,1532,1337,1703,1310,1533,1013,1942,976,1097,1363,1153,1904,860,836,1969,1898,1026,1919,1408,2113,1547,735,1267,793,1608,1236,1209,1703,1149,1402,1531,1959,1082,1555,2120,1735,1067,2356,833,1785,786,1702,1032,1685,768,778,2183,2472,1797,1129,1809,1299,1211,1690,2496,876,2199,1027,1905,1704,780,1756,958,736,1501,700,1716,825,1195,1651,706,1566,1356,1621,2271,1055,1896,1354,1337,818,1871,1532,1507,695,1264,658,1085,1632,1995,1244,1695,1814,1131,1699,919,1674,733,990,1003,1594,1767,981,1967,1927,1526,1520,1743,1790,1396,982,2311,936,1817,762,1817,1250,2053,936,1849,1620,896,1143,1052,676,973,1276,1549,1769,1294,1284,877,829,1596,1222,2331,1048,903,1182,1591,829,1137,1914,1944,1677,1933,2483,1549,1689,1691,1367,1345,1539,1214,2017,1745,1822,1617,737,1261,1238,1477,993,1637,1163,1399,2218,1817,1931,891,1985,1721,1171,1479,1313,1890,1067,1275,2283,1630,1275,812,917,1191,757,1713,1542,682,1609,1976,827,1182,1078,1991,1578,1119,859,1682,1451,2258,860,649,1924,1868,1121,2358,1836,1398,1359,1126,1038,1907,950,1662,1837,1038,1572,1163,869,2375,1128,1657,1078,1500,834,1838,726,1531,1559,2395,853,1879,636,658,600,1686,1548,1474,1016,1825,1030,1030,1479,1635,1814,1725,826,1082,1468,1226,1108,1614,756,936,1112,1022,1803,1001,1636,1068,1646,1762,1887,1536,986,1108,1002,906,1438,1416,2349,1850,909,1874,1084,807,1272,944,1289,1222,1781,1944,1822,1550,1091,1515,893,930,715,1211,1158,1836,807,1129,1000,844,1601,835,1809,1074,1782,1706,572,831,2112,1960,1776,1050,1725,878,1018,1011,1307,1835,1262,698,1087,1923,780,973,679,964,640,850,1970,1470,1105,2198,675,1326,932,501,1072,1648,1745,1616,1605,1094,834,898,1864,2097,1459,1459,1912,1842,1627,1014,1537,1614,1516,806,1129,941,1166,2241,1300,1145,1865,1168,827,1185,1151,616,700,922,1505,1208,1400,1205,818,1789,1098,2035,1243,844,615,1854,888,657,1283,1715,1655,1013,763,1881,928,1149,1255,1160,1544,1058,1765,864,1374,1072,1087,1645,895,1587,1531,1689,613,2494,1545,1550,2318,2481,1552,943,1635,1121,1241,1869,1264,1558,765,950,1248,901,1410,2263,1745,2100,2414,793,1502,748,788,1341,1571,944,1206,1465,707,1968,813,586,1671,1740,1633,550,1267,916,1872,1148,1840,586,1121,2430,2256,1280,1184,1775,1062,823,1626,774,1627,2078,1740,630,1474,1114,1188,1273,1884,1550,1208,1231,914,1578,938,2240,1595,2438,707,1697,2049,1775,957,1592,2317,742,763,1738,791,1662,1794,841,702,1009,1522,1274,2175,2101,837,1845,1245,1510,1562,792,1124,1917,1910,1151,2158,1464,883,532,1925,1067,801,1536,1505,849,1514,1181,1773,1906,1061,1520,1564,1900,1120,1147,1087,955,545,1494,1649,1297,676,1523,1704,827,897,1024,1707,1838,1680,1617,927,873,1841,712,1860,1774,1781,1351,2263,1956,1199,960,1053,1944,780,1868,511,951,1150,1758,703,973,1128,578,1669,1096,1595,1825,1298,1812,975,1830,1054,1852,1057,1616,1500,750,1262,1700,1605,1192,1199,980,1539,824,1124,1397,1419,1214,1512,574,1446,1138,1773,879,1744,1751,1541,1625,675,543,1087,1083,2451,1562,1600,1624,1216,1333,1564,1366,1277,1245,1314,967,1511,1067,1005,1148,1501,1559,1942,1536,1833,831,1785,935,2409,1760,1920,1352,708,1798,901,1270,802,1094,666,1655,1622,2364,1442,1614,1567,677,2333,1270,1022,1000,1429,1515,888,712,1685,1483,990,1157,1350,1702,1779,1356,713,969,1324,1156,1327,1117,1284,1983,1264,1649,1245,1422,634,2052,984,1808,1266,1910,1527,1124,1654,1722,833,529,1640,1271,1628,1553,633,796,1794,1726,1644,2471,1122,1906,1420,1755,1686,2053,1772,918,861,1091,1093,1860,1908,1555,1139,982,875,1631,1615,942,1537,961,1901,641,1538,1188,1068,1034,619,1762,1100,1860,753,1636,2074,1533,1530,825,1794,1267,1891,1896,1223,1724,1072,634,1767,1273,1275,1047,1597,1586,2327,2008,1303,846,1428,877,1751,1738,985,766,1196,1128,1092,1973,2447,1736,1559,1708,517,1403,1085,510,1291,1961,766,1169,1401,946,829,2276,1861,1616,1505,1072,1253,1859,1805,1274,1709,1909,1591,1674,1730,838,1718,1863,746,940,1569,2219,843,1779,543,2215,551,692,2432,892,1734,944,1924,1688,1721,745,1590,1719,838,1941,1215,926,1609,1226,1478,1041,1420,1933,1093,1683,1165,1083,2004,1102,1565,1938,1615,746,824,2432,645,1850,1985,1031,1604,640,1666,770,1815,2203,1194,1832,639,1638,1800,909,1184,1803,713,1624,1077,1729,1065,1671,510,1181,758,2156,2004,1067,1085,1064,739,1829,1637,763,1138,1724,1017,732,1926,958,1938,1362,1627,737,726,2189,890,810,1592,1245,1479,1259,2042,663,2439,1888,1655,1197,966,807,862,1625,1143,967,1168,1744,1966,1722,1541,1409,1936,2474,1217,1057,955,1608,1010,1170,982,763,778,1502,1110,759,1789,1884,1181,1567,686,1630,1503,1754,1299,983,1708,1230,1760,1180,1915,1533,534,1404,949,1876,753,993,1257,1280,1337,2325,1946,1719,1636,1264,780,2178,1232,762,1934,978,2248,1991,573,2496,1931,652,770,1323,2180,2458,1684,1556,526,714,748,635,1137,1132,1804,2327,1966,552,1862,1640,1232,799,1114,1444,2369,1642,771,1595,1766,1692,1827,1256,1892,1541,798,1845,1519,950,910,828,1551,831,1196,1589,1874,1867,1909,672,1997,1700,1934,1716,736,1505,689,862,1320,2300,1697,2178,1229,1549,1911,1654,1224,927,1166,900,1924,1527,1773,2187,1574,2235,776,1030,791,1600,1270,1150,2369,1814,1925,1217,1668,1668,1435,762,1816,1255,2011,1874,1743,1545,782,1349,2443,1696,1727,813,1998,1961,2298,1544,1930,642,1066,1673,1829,616,713,838,1804,1840,876,1213,1541,1401,1637,1299,1160,770,1496,911,1763,858,1943,1920,672,912,584,2222,1939,1420,1993,1818,1459,1889,1155,1707,896,1972,1506,868,1661,962,1609,1250,1796,909,1930,2000,949,1639,923,502,1511,873,2155,647,934,2251,670,1343,1021,882,1573,1979,1926,1347,1760,1776,1037,1365,1179,1514,1103,878,1571,1502,1737,1252,1584,1658,1833,1057,871,844,1741,2497,1265,1769,1902,1895,1531,1838,1288,1738,1010,909,1635,744,945,1063,1823,1358,1870,1207,1892,1857,1296,1012,733,1224,1587,858,830,1665,1003,867,1081,1976,1118,1283,889,2236,2113,1843,1795,1070,1545,1700,1511,1104,771,1605,1558,1550,853,948,942,1102,823,1792,871,1644,1081,1759,1611,1138,1886,2207,1678,886,1691,1278,1835,1827,922,1207,870,1651,846,1085,1166,601,711,1005,1554,1245,1783,909,1214,1743,1035,1848,1880,1790,862,927,1088,1362,1754,1097,1295,1607,1606,1291,1418,1317,1832,993,1153,724,1582,1115,1112,1678,806,1503,2346,839,760,1506,1640,896,1409,1633,1139,1101,2396,1119,1857,1886,1692,1655,622,1647,1239,1471,1505,916,693,1852,1191,1061,2493,1015,1911,1287,1576,840,1626,1262,1261,1015,1195,800,1873,2207,1732,961,1986,1823,830,724,1007,1875,1150,1693,1538,1993,926,1994,1061,1803,1664,978,1914,1668,1205,685,2088,1014,806,1545,1045,1951,898,2339,2379,1692,2352,1114,1890,2363,1527,2193,1206,728,1231,1735,1266,1977,1915,1295,749,1884,1361,1934,1055,851,1118,1451,2470,935,2500,1984,1818,1741,1065,858,702,613,1896,833,2047,1579,988,1667,1184,1733,1106,2058,1055,1735,809,1335,652,1095,1477,1819,1982,1599,941,1198,967,1637,1678,1023,774,1032,889,974,790,931,659,2120,843,736,1053,1596,1368,1544,1486,1285,1501,2218,1117,1561,792,1212,1977,1965,775,892,1696,833,541,1414,1966,704,871,1380,1885,916,1115,919,883,2065,1869,1625,537,1534,1082,1279,1544,1101,1230,956,552,925,1822,1781,1628,1736,2016,779,1217,1601,1201,579,2289,1023,1900,807,1653,1452,1934,1972,1606,1908,741,734,1504,1121,1979,1105,1528,1712,955,802,701,1418,1155,1061,2258,947,1868,1713,886,2122,980,1916,2079,1377,2363,1568,1210,1179,822,1235,1735,745,794,1979,1641,1718,706,728,1948,1863,1849,1528,1979,1639,796,794,748,1278,838,2459,1358,731,973,1757,1995,870,1035,2205,709,1206,685,1690,786,1136,1268,1012,1198,1152,1034,1869,773,2273,956,939,1938,1764,1920,525,653,1700,1505,1589,1829,963,1724,731,1911,1239,508,893,1973,1050,1779,1078,2470,1170,706,1897,1858,1134,1057,1630,2202,1209,1068,1366,1727,1673,1954,1022,1915,803,1241,993,779,1972,2366,1104,1509,2001,1735,730,1148,1781,951,1189,1899,1212,1136,1059,2172,2451,1834,1609,1845,2084,936,2403,1533,856,841,1083,1721,1276,974,827,1159,742,849,960,1928,1648,1538,715,1201,668,1545,1206,1694,1656,964,951,835,1548,827,1834,1840,1973,1829,1851,1519,1822,721,1022,588,1716,955,817,1036,1682,628,941,647,838,849,1048,2383,820,752,1923,2000,1412,979,1000,961,1297,714,1505,1955,1578,812,1898,1868,701,1068,1521,1572,1910,901,1586,1782,684,1165,698,1904,2386,1640,1282,787,1508,1864,1803,1200,1743,771,1325,1569,1019,1524,1202,802,1968,1693,932,1071,1866,1844,1016,803,862,1500,2491,1704,1803,1541,1178,1473,594,1701,1169,1684,1569,1232,958,1583,907,1702,739,1760,1956,714,1848,1005,1638,1294,1653,1950,1841,1252,1817,1337,1561,1517,1917,766,745,1562,2371,991,1582,1348,1933,1737,2335,1946,1554,1039,1703,883,1226,1867,1950,1062,870,1032,1015,2289,785,878,1884,852,1155,1650,1831,1509,1389,1149,1402,1781,1632,1604,1220,1616,1015,1769,1264,1941,1269,1650,1639,1939,1908,1142,949,787,1316,2060,976,1357,2428,1201,1634,1097,1542,795,1656,1173,999,1002,1873,670,1355,1942,2225,1540,1677,2453,1248,1290,854,1080,704,525,1837,2284,876,813,1246,1410,1962,1710,867,1727,1101,1721,1623,1684,1671,1279,1737,1719,1543,1650,2454,1631,1823,1879,862,1197,1187,1409,1696,1075,1113,1027,777,1657,1681,1061,1301,762,1046,2423,940,1971,851,1867,1858,1176,1144,719,1308,1096,1881,1601,1638,1538,724,1692,1650,1089,1528,1512,1790,711,1174,866,1082,684,913,624,762,1722,1223,1822,1793,1742,1990,614,1654,1231,802,1984,868,1445,888,1052,703,1034,1561,1554,1089,885,1689,782,1837,1121,1974,704,1412,1237,1549,968,1500,1784,1952,1135,1973,982,2178,1793,1769,918,1914,824,1249,1755,1693,707,1677,1954,1224,1931,1726,800,1617,1562,806,1693,1187,895,1810,575,2351,1196,1685,1603,1275,1119,1167,1229,1297,1510,717,872,1260,1020,1232,1538,1626,1923,799,1978,1548,1670,1211,1501,1573,1643,795,1514,1058,1645,2370,903,961,1843,1091,991,1195,1814,1110,1206,1114,1677,1553,1650,2042,1852,1911,929,1872,1727,1740,773,1059,873,1836,1119,786,1741,1174,1697,1766,1646,1999,1071,834,674,1740,1388,1897,1623,1074,1049,1142,1332,996,702,724,2310,1268,1876,585,1816,1588,728,1063,1156,2014,1514,793,1633,1307,1006,1289,921,1500,2156,1726,1493,830,1953,751,1230,2254,1550,877,1510,1811,1269,1908,1306,1117,1754,1066,1661,1305,1533,1115,837,1892,797,741,726,1017,1125,1993,1840,1481,811,1191,1690,682,516,1634,1655,806,782,1880,1838,1061,824,720,1818,561,1111,1884,1413,2047,2443,1770,2340,1293,1557,1615,1837,997,1938,756,1629,501,1042,1396,929,1622,1727,706,1527,1695,796,1525,1096,1624,1961,1955,1868,2454,1551,1786,1923,1103,1601,1219,786,1177,1179,1809,830,1098,829,1185,1281,1001,1041,1960,1419,1395,990,1988,977,1606,2472,1015,1553,1901,1917,856,1127,1933,740,1244,1818,1810,1139,1514,1512,1775,1503,1226,589,851,1558,1608,1257,1617,1678,1254,711,1703,500,672,1933,778,1922,1033,1644,1272,1066,897,1076,2398,1541,1658,2271,1613,1692,801,1298,831,1187,1577,1598,1117,1793,1399,1851,1508,1803,1147,1971,1836,1934,1858,1134,1254,1595,910,1114,1726,946,1756,1099,1700,1730,1514,1033,1751,688,1521,1496,1921,1414,1622,934,903,1946,791,1992,858,990,705,1008,1696,1907,1960,2051,1202,1941,2456,1955,1275,1860,1611,895,1733,666,701,1462,598,1897,1614,787,1896],\"xaxis\":\"x\",\"y\":[8124400,22781941,13672408,10063653,7717313,13002093,8785897,17640263,8599784,8528251,15460830,9837169,9099021,9743177,16414161,16499784,9019552,11359965,8660489,22157385,11232696,9461549,11515372,10002847,14577130,13130325,13905300,8368365,9166824,11882434,13464561,9439900,15513979,10702831,13471591,18478191,5239698,9528316,10819523,11972645,8603978,7402837,8201955,6054496,19867776,3779441,16757850,21186337,8823087,5512842,13163828,6185784,11362753,17976166,5837413,4108764,9033213,14118319,9897904,6098963,10079914,9896884,9255369,12582910,14700118,12397652,14073061,7213740,12210141,13932343,12749693,10715485,9466999,7482031,13090419,14671115,10423293,9190684,12238735,10170568,9726203,6903700,10299127,13351965,18135236,10304376,14851860,13113085,10900422,18216248,11426944,13250584,11732447,14825026,10861682,14188956,11060310,10281471,9895773,9330756,8251996,13651305,14386494,13693157,10663419,12602262,5233151,8003625,8971826,12729658,12196843,9580726,15691527,14198084,8516922,7552336,10858491,19955937,10633056,7682662,9469654,5919689,9697353,4547346,15103380,24309201,10056410,11665156,18391963,6862108,14121017,13712532,19734543,13328517,12712993,8364230,7539941,12245828,12540840,7234604,10925799,11522927,10792235,6980809,6437756,6871656,12054125,20230531,6149457,13145488,9049717,7905231,10178637,12895904,16208565,11584406,7940194,8437847,9573076,9577633,10116248,8899572,16851463,9151728,8735798,10323083,17531842,12970592,23467870,10564901,11045554,8187058,9535416,8684907,19464831,8532226,6161039,15365847,13828056,5223945,7658936,11493244,4156812,9625051,18803694,5406870,8645177,8591779,8860817,10645747,9795113,10398168,9187694,10724260,9130616,11645669,9796068,19943173,9897563,12730811,22903178,14418587,9435528,14491033,22025014,9479325,11324174,13634663,10066321,13973995,4565613,12796413,4342430,12011582,6685085,8696227,7710077,9542407,4990626,13166035,8342435,5990775,13646867,11323045,14737593,18792965,7489941,14325499,15810287,16425768,11707278,13075938,4690799,12412482,10624770,6905036,5004120,7701797,6731106,10929652,15159786,12027749,10164294,15564764,9386601,16275974,10584531,12779752,10398726,7335725,9823528,15989821,21421926,10361919,11717387,7689444,12502508,10940878,10084326,9425312,5009668,13236472,9435297,9565199,13372022,8093365,8325240,13791106,14216456,19253603,15575062,9400896,11441627,12922315,14808412,8436282,11900953,10338673,10688922,14893077,6046272,12560595,21005151,9920740,11283896,9157147,9768764,9490994,7994845,9534946,6778606,12239696,5674312,8343753,14432415,7791992,5678812,17120558,4988023,15643404,17776916,7319928,8483274,18519085,11323914,10093152,14127168,11747605,8166250,10379212,4047163,6197930,10278629,10024553,6493193,21461141,17810855,5857396,6974574,10877718,10123254,16864527,7779564,10539031,20423305,10703027,11466516,15734279,12240513,17956422,16497510,9050403,8738038,8291370,12710342,7803840,11672274,15130317,11041216,11664534,7928914,8965757,18588188,8863855,14311645,9417077,8246582,13399659,16804511,10503346,5618545,12866619,8516565,11990068,22861680,10298655,12796192,13571827,16356891,6895848,7744750,12439620,6903319,10576954,8279261,13023948,8458953,17069431,11843908,9840719,21440036,9131987,8878226,13584064,8724596,6711751,11289967,15234515,12998811,11061108,12931120,9442995,12924044,12910286,7144872,16037480,13129341,17291017,10289679,11097459,21730938,14869088,8608519,8748929,6535181,8736484,11637327,6357660,9189606,14178461,17912656,12306099,8942552,14757719,19140335,15573762,22986067,11317696,7213013,10292349,10635482,5366970,12739823,11181402,17729823,14333356,8374237,8294742,12344939,12584880,14312412,10493571,6912682,9419775,8187320,13215576,10688276,12497260,10963454,9861858,12043525,8799343,8052561,14605410,8949118,9852118,5963657,10723169,13354053,11580789,7501284,7275244,7773369,14292074,11120813,13900376,18388162,10767832,9675482,9389474,9556670,10415859,6165176,13649903,9891468,11070976,12012500,13802781,6512453,11627306,13183433,16385318,12031575,13532929,10702820,14664415,12999489,23276726,10401251,9271868,6560764,7223486,12446949,20689845,20557014,8527268,8538768,9242304,20531471,5581084,13582205,9127102,10504036,8544671,10324934,13967845,11038488,11514420,19513567,18339520,9867465,7219934,20409562,13639348,8646740,12171304,8326199,11226809,5566158,10303530,10369969,10897224,9710390,9733183,13888001,19101819,14260443,9236974,8521418,9672765,7379652,12691798,19001228,13916654,12209527,9395721,12353708,11229326,12754077,14736537,12294256,13130224,11132408,12877532,15067411,9933308,5784433,10632252,11494813,12418314,13280491,8636148,12368116,10736383,17955530,10028999,12352973,16578273,8997829,12104774,10256030,6587571,8180996,10508728,11921131,14125509,9493169,5125998,6823737,7946771,3188283,9770644,18363695,10442812,17710210,7882774,9397550,10099999,21271432,8468249,17325651,12556305,5540483,15318555,11360019,10156374,9183132,18703806,9501844,9167491,15915142,10619400,23833612,7326002,12197399,13952607,12674496,11264923,10839286,5893894,11873211,11592651,13916210,7425843,5970294,23423844,11952238,5125393,10989711,11379601,10886899,8849132,13831520,11262230,22546933,10015637,6768948,7737173,6896718,11110971,8234267,23302529,10117032,13669130,10073536,20706016,15583010,17559459,10911366,8117703,7976208,7521612,15358298,6219108,7881799,10118977,14831644,15651468,13531357,8568048,15359851,13665708,8748608,9993044,11516925,11557128,10252379,8135759,7733533,7140483,11893766,11829510,18939869,8652135,9433845,12300528,9890719,9380141,23631847,8483266,20598604,12553236,15864394,10365167,6674591,14425269,10367059,11986970,12333030,8598124,13316988,20261651,18598419,4951572,9239032,9724395,10241972,20413854,18029655,5083185,9541244,12937737,12947285,13320971,16527271,12559309,10050277,13262273,9556128,7895144,13300557,11055678,7449031,13501034,14720837,12976235,6696347,13411641,10117599,9887897,8516453,7587419,5983651,22956057,9124761,6924517,7051336,10853737,10411426,9498738,10529748,8294475,12766500,9989135,8024150,12595831,11629753,18522257,14228863,11971703,13576365,8902564,13598372,8114110,8889749,11724247,9614994,14401038,6550648,13185991,16978075,9578814,7045108,9804811,14275916,13995834,7337925,7285475,12196550,9652972,9890821,8807254,12460210,5934030,9534540,13171747,14196346,5178126,11030874,10096351,13600324,5634808,11005860,7658186,14709195,7053637,6522414,10364515,11218954,6129529,6331910,14123737,10569119,16637155,13111757,10803163,8133101,7693994,7230526,10084145,9558735,14420291,4581865,13041263,10688250,12811575,11353180,10228221,16315432,5541602,11189285,11132826,15428317,13473238,8540660,4998048,7233923,6222560,11413657,12095050,12581994,12312106,8957673,14176271,11489396,13462209,11224109,8509503,12410899,10674637,18232042,6931010,11483959,9599606,8226755,8762161,21483766,12455284,10311150,12847436,15478513,9497603,10667459,5592170,11814467,12312533,11061745,9680097,8925686,14780232,9706407,7113904,11171647,10382294,8662414,8750548,21195025,5106748,10380975,10474265,11715324,8113785,10423325,12676517,9291078,8503672,9150893,8587774,10598655,10136577,14783717,9665043,8481193,7769300,7826425,8020367,11711447,8751167,8715825,14676841,9528890,8416761,10586371,8353873,15068088,9133180,10910695,24969043,10305454,10400967,11629022,13804650,17419500,21367202,7109108,18300509,10451744,8763038,15420080,15657469,23376897,13267109,8489626,14847192,12411766,15011630,12014622,9173606,21622910,20580987,5181100,12722467,6353206,23717970,13506216,9483366,9159783,9384884,8016334,10451958,20516401,21120989,8380933,8651587,15692852,14000962,9081886,7704785,8053306,10090112,11575591,12460773,6191020,10805773,3495933,16348449,13810749,8401389,13008996,12611741,5115642,22162676,13234211,13660815,11252276,5571983,8801959,14001568,8955480,14303604,9188391,19450908,13610197,9954445,9942947,14082753,11873680,9991394,18841049,9745944,9882606,7077692,13499128,10493835,11568482,9640246,16156083,8615880,20381989,10296757,11952148,9091956,8855065,14566034,5468125,10116222,11173046,13287452,13067163,13877384,20381529,8489564,14588569,22926829,7983040,10486145,8984032,16481036,13028396,7835697,14870325,11451832,12589794,9800516,12535151,15106399,8678520,10338729,14845073,10331958,5576208,9537452,8584034,7630426,15737888,12373673,6663978,11482691,19193298,9374984,11181945,8814621,11942546,9214540,13858925,9715109,9510836,4145062,11210686,17843149,8427339,20026062,9909428,7599013,8325989,7301516,10574123,8187930,9555041,9926492,18569231,13911076,9477550,19319476,10044028,7619912,12653981,12490862,13070743,8286785,11851861,15703677,8748399,18951216,8685700,7064266,7379848,9933592,8581284,6851254,14695924,7372723,6640505,7712783,14578512,13148428,9536868,15158390,13120523,8254642,6885503,15319692,5496233,6422644,8381154,6111960,11673617,9659139,9997642,11844490,14964383,11015659,10510944,13621748,13589248,14482135,9055863,11177794,5427635,18854117,7364899,9920430,13605626,6188498,11496453,13577270,14653003,10657254,8058953,13593765,9310511,10925967,14329693,8874293,11151853,17419750,18572449,9620147,8525865,11427150,21069421,20670252,8512138,8660059,10007780,9998924,9895471,12746253,9697958,14832706,14051918,8229964,10527176,10202076,9995874,12747307,13109822,7081930,13440387,10552221,10842545,14379743,3963015,9219858,9328596,14921214,14726330,11262659,14860036,11079244,9897008,14506608,7862111,11149608,9261872,14606097,10039504,9344769,13172601,10519560,8264986,13676417,9967943,8535004,8714953,11050562,8040648,10439058,12986268,23993576,7486520,11719297,12526795,12384127,11086771,15466464,7082607,11114890,8104207,9456525,11092177,11998586,10301451,9328758,10206904,9338807,9545616,10024594,6286111,15869836,8731502,14116717,4122469,11990681,11274384,9699576,9660589,9217115,7576725,11246278,9055573,5579234,9054245,4151755,7649946,9997277,11677945,7171124,20563479,4505004,10855852,8494086,15094168,10154431,7195584,15640760,10936622,10165183,11985909,9926106,7966712,11988175,13509910,12127910,9988342,9608313,12036258,8080767,10718271,9515376,12911378,9970890,13410144,11738698,7270225,15903154,5312129,9130469,10865976,10819531,5084888,11556487,13379879,6858555,9198858,8835288,10883114,10992759,8503241,9049377,6770513,9844849,9738574,9705266,13726917,17134143,7647693,12259671,16638959,7623549,12511882,9780344,9055326,5949059,10435309,21630978,8049658,7468216,14026892,10831763,19902735,12194995,10153813,11303190,13332914,13776726,21846938,5754198,10957553,9703977,7747373,12018100,6419830,14366130,7297473,9261913,10557550,14890567,18318276,22074014,11252715,11132128,15738029,10161113,18397978,6920206,6179582,10043913,21674579,13684693,13277294,8572993,15772617,5017051,10817934,7645458,19548240,9470455,11116094,4813873,10158136,13330268,9867069,10971706,11955521,7431591,18114886,8846388,9214382,6767599,8881033,16267923,10074396,21709208,9340709,9513904,15137400,9617354,7995502,9428702,17344268,15016134,5800069,8328968,8573261,7317325,13535011,13701937,8090390,7311290,11879372,14687605,19268128,12164580,7158990,12271368,12032323,14677543,14238925,12955712,6444073,8264290,11443817,10452650,14253235,8015175,6265948,21692408,8336261,9190652,12781214,9855019,21396748,15407460,11705331,11093757,13336231,12634954,9731632,10009580,9411901,13610593,13148233,8881178,21871423,8540625,13915781,10514017,7959563,15754888,10630523,10797896,10742363,8801728,13463129,15424860,8686969,15707801,21453046,9679642,13023999,10940724,8964583,7754896,13242100,21671759,9767589,9485174,21871843,6445119,8854570,12365745,9304586,13206970,10771297,13480009,2642292,5991345,8485690,8765685,7387914,14640261,15207475,17458434,16756989,10934262,13172843,11147710,12929018,13675308,8711136,11949243,10494513,11156896,9030865,12995115,6492140,8901375,13104617,9770208,11579776,9499211,11435847,8739450,14118900,12567072,11531940,10502077,18805506,9464275,8974943,8953459,8752143,10568976,8893037,11226418,3248175,11136240,12661883,5644500,9697291,7303872,11312198,21236995,13794696,8251549,14214245,14536578,10010672,7361018,16447690,8914998,7235330,21952307,20802864,13281279,11010397,9507261,11919485,13527254,9314749,11115477,8537136,9697457,8308138,5888320,12680685,11563729,10997710,9535327,12231790,10824713,13021132,10850549,14559738,6875966,21826675,6688598,10127615,10298864,10679570,7536822,15210626,3757062,9082915,7401988,8929748,8778971,12505899,13914690,4403981,10054171,6424394,11894494,12789077,7201640,8405919,8571270,13560150,12346361,12526614,9373354,9487203,13310490,11841321,20539285,8898930,14722768,9800986,7447527,11738565,12155156,13953537,6655296,20514551,13266221,15297480,12098149,12802439,14331678,15495995,10557294,12862574,18894028,18159837,9371447,11334919,8597380,8396307,7804245,5761896,14183533,21265547,9019224,17165488,12936360,7070874,5657796,8579458,8529765,9086500,6422850,11299387,9626231,7155606,22223513,13182764,6021748,3139654,13627752,10253018,9861305,8105816,17688256,6782425,15493170,15898573,10561436,9111963,6374808,13884542,21097807,14045342,17030127,14310551,9965961,9432893,7803024,7653157,10723199,7927303,21165663,10718095,12890911,7734095,3746961,9140092,9182775,11664671,13678974,8507545,8939210,8380668,10858827,8693459,6629917,12648341,12109447,14082423,4150161,9880945,5256862,5512625,9479406,7289884,14286636,13276587,12610177,7171841,5018902,6454329,14158522,14490669,13680923,8193051,19216896,10862481,11702009,21389508,5655001,9164795,8457136,11764654,10407453,6896799,17923824,5523373,11010621,13202357,4729720,14274314,7684700,10245129,14792212,10145832,8100385,9259687,5916504,7171086,11615891,6312395,8328699,7920906,8269704,7864225,9782645,13208562,11187937,14968971,11905605,7869576,8556885,8984031,12245845,12823776,8871786,9319205,13879585,6695561,6752083,9234720,14638759,10299785,8115506,14773284,7344182,6551068,8248935,20989259,13266662,9308557,8225776,12378116,13046977,8590816,12600036,6338514,8341111,9274505,10518323,11566561,8908662,7018261,8544753,13489329,8288560,11570960,12262465,8807926,14823684,19251579,5158919,6436507,7939692,7173348,14777014,12778313,14821885,15343296,7740672,10988631,6658371,6672577,4676868,13271466,11452025,9822251,5515056,5589414,10864389,16469708,9602227,17902321,13435821,7417409,9077466,15180436,7658013,4724281,21205186,12870821,4703982,8844850,12176545,14155716,14574868,20371746,16920278,6780820,11597868,12026107,13228220,9045550,20104225,13048869,5454280,11170813,20728326,15307348,10548397,18302135,14116459,17441201,8417966,11298231,10838256,11230107,9255794,7194785,6654100,11653582,14951181,11697559,15322029,10385561,12797609,14258363,9953243,19499386,7960838,12855536,8675704,12792083,15969505,14394465,21701916,5406512,10039188,8804480,7070920,7323021,13296779,9427447,11106440,5433719,11322449,12140677,4671167,20047647,10401625,5554839,7908054,7422948,12097335,10289253,12828260,9438007,11394690,10739001,18695329,18601288,17383027,15699312,11958857,10615314,14451965,12113225,13818372,7877824,12484290,12942079,13949425,14271386,14456658,3829713,8084979,14780324,13747892,9655431,12500188,8997674,8538495,14175830,10472807,21028331,7056417,16281150,15617768,14222993,11885244,9299913,9596153,13785749,20936063,15485485,10178620,10220553,11201449,12937537,14268785,9152927,21445053,10246333,10478481,21838769,13207340,8954122,21647281,9162806,13319592,10878586,11749142,9764463,6227048,15390057,20664882,6739694,20527595,6129883,10511955,13523837,17655954,10036011,14459763,13046359,10893027,5213611,8086933,12023419,7049152,9520407,11380075,10286542,10683238,13628408,8449062,14539053,13088624,9612972,14686266,8627684,11498834,12814401,10093268,8533703,6370788,13661576,11036025,18292573,9544431,12586672,6481631,10498634,8821645,15049429,12358954,12522641,8591565,21155324,6878459,9291782,8108272,6580115,10841050,11580189,9692412,19609460,13924924,6812501,11371537,7395749,11258490,5977954,14434305,7032402,11996490,5389929,15486440,10160018,8695656,21504447,7159347,10620522,9006795,14013404,11437144,8626392,7740767,7335340,10578078,13865886,6665490,7465380,5641494,7229234,13235999,11911829,15297254,14301130,5632840,12256402,12571010,13254237,13436184,7761373,6007705,6402792,10204281,9542020,16337696,10167622,12410049,6061409,12056929,7225137,10315242,8074057,7450129,9204307,6844237,10138356,10064484,10543401,8657697,20416501,10601304,14216850,13007770,8470287,21195423,9865134,9625480,18451535,10215374,12639654,9789701,18297297,13294004,16668076,7830299,6236910,8324344,9073476,11692354,8609596,13569002,8699913,8539102,11122673,23127868,11103841,10120902,7834046,11988878,7966464,12591432,10383314,8365896,8068122,8089366,13600404,19391563,4704016,8506208,5464781,12328430,12181249,7157451,12587005,12053968,7221179,17314320,9933380,6480515,6085999,12443355,13739121,6024314,18121333,5978791,9422762,15775481,11894719,11636435,21752736,6368746,7407136,12011688,11703795,15205620,12599883,9645631,6881714,8940971,11426779,11804418,22254683,19985271,7741688,7926865,13636195,9124325,14786271,12371927,21336784,14870813,6332307,10600600,9416762,14668252,13851220,14480622,7685278,13172078,7636400,11264761,19365866,8983975,10535804,9915629,21605484,7600131,19884934,13250888,11575456,22050304,7376465,12144984,10188790,10144374,13147122,11215494,14650932,13452964,14246669,11371032,12154686,9515109,5366406,9861228,5177962,13682577,6821085,8895355,9118305,10791971,10096774,8145861,12833506,13072218,7392850,6863303,6237298,12293986,9144343,9830213,12416220,20797424,6904620,9594059,11302889,5544718,10310984,9725471,19849400,14156869,12211930,11780065,7976987,8657382,9908918,14462271,9975828,11599352,13618717,6617062,11839786,14464934,12606234,10352290,16080373,15124407,16395991,10772656,14454389,12303147,9753433,13949167,18074446,10032214,7928764,12432434,12217102,14967120,12813170,11636986,9908766,7813504,13403663,8308463,11693032,15519392,9964765,11143521,11103500,22892240,17262015,10364728,21408638,9707480,8923036,10676047,10093935,8275012,10334256,10426295,20334958,12609090,15349825,14402095,9586495,19342792,10642195,10899281,11090880,12739542,8231964,11087636,14292011,13093137,10456190,6681382,11765490,7417249,13766929,14887121,9207969,6881438,11643645,21434610,8578050,6147941,15643171,15122331,15754117,8251578,11787904,15555703,10336497,7727239,13474040,7326749,7978600,22251835,12660776,11639340,13524533,7646874,13076674,7250061,15324118,13503592,11876207,7896213,9668867,8526427,11998838,6729077,10091147,9594547,6266972,11535577,13679565,8527480,16799117,6790922,10278948,11473565,3611644,13305495,8371690,9676814,10471998,6773241,14541031,9935594,9913389,14156511,21866761,12201327,5609100,18345635,17830681,7300218,8368471,9049035,14849241,13508625,11081013,14329960,7155106,10725430,12305376,10701043,7970562,16581159,6190930,12998759,10206776,9609602,10943792,4515445,11731626,14202338,9379467,12274061,12417767,8136216,14942010,9074189,13625661,9439894,11028070,9747493,10214891,13956947,10733053,16589316,11870678,15238985,12481443,7347865,12870818,22153941,13041768,9299841,12571138,10375908,6044887,12385584,13486671,21484800,7162048,9767830,12852611,12709506,10233116,11350863,13458672,20678150,9699328,10001162,10588097,13112324,11707217,9429382,12815331,12360594,13276673,11920601,9665675,16980097,12222704,8479225,5456454,8515759,10700325,11614087,11594510,10088538,12306879,10974918,14017669,12276841,11682856,10482286,10761387,13228153,5412184,4948256,9429200,13799878,20881872,7336515,13441057,11231352,9955282,11079610,8970675,5138831,14803880,3159395,7890418,21785405,11852465,15666678,9676393,3977875,10986166,13032645,12347895,9713577,10393087,16446515,15303588,11340913,12974198,15452085,7613457,11000696,13214792,13403193,13901365,10549841,13249570,10339792,7246955,9647705,15154821,7768359,7201018,18518094,12373083,16738397,5482332,11050000,12323198,13200560,7118892,6246937,15445474,20063637,15189227,7714669,19666839,8473047,13582687,12253523,8527299,13421475,22216107,10363468,10298430,8042427,12054884,9666655,11289759,14799918,8348642,16339610,8504762,12284178,7817117,5768216,12595912,9761905,8009441,16185505,8217580,18155399,11181973,6821816,9088800,6834564,10403859,9259251,11211537,12076727,9795769,13615970,12826300,9343489,11109848,13323845,7477049,10978415,10109581,8382015,9269800,9456023,11366245,12389257,16662246,8205914,7913596,7621273,16794059,7080140,12129667,10666179,12526761,19676579,7029365,10135829,14740331,18901344,13666090,5741546,8987842,6900519,7280474,9704875,15469948,7246688,17249729,9486060,10981249,14848200,8704803,2796025,13040917,18626148,9346577,11061707,12220530,8174439,6430145,7528558,5366704,6825393,14878881,12204152,11437198,16826576,7056837,7582436,13146381,7935219,13574693,14210941,16416101,11230837,11013304,11304674,10532382,21368434,11194865,9307848,6211748,21694013,10914398,10279377,12943030,10341593,11631945,5816193,9945356,10172371,4141825,9884760,9676407,7027133,14923091,13499745,10202931,13698626,10235855,4048127,9575771,9020968,12884413,12610059,14870840,12229067,15067558,9948333,11055466,10022496,7285740,8125960,11160336,9412484,8300886,4379898,13724494,11590241,11233184,11457613,13359472,11462002,10249471,9249366,11019222,14435487,18504977,6739076,12251327,13957476,11847087,9954789,16699037,17852947,21085676,11434595,11089797,12486036,8938381,6844388,11979610,5549827,9720573,6132713,6738178,10088730,7199881,8288480,9971257,11473523,6199543,6076596,11947865,11583343,18714666,10668630,10220536,9244040,7048735,13807574,12711220,13860563,8843035,17152616,8159497,5955180,12588449,11525577,11011893,12577247,14907750,23015205,9839004,11219085,13674956,12514108,12166905,10611155,11767741,13321766,9909284,6951486,17333227,6909137,21433867,8613361,8134204,6114621,12569402,10871421,11608605,7757558,19213761,11151404,9605248,10598965,6530505,12604572,8522772,11428299,10005760,8084012,13274415,19624066,14421112,7691006,8955261,14487771,8123605,20623807,14758527,20278215,9575793,10827689,6111509,9796054,5952818,8543170,14632315,13646526,13388085,9520949,23056438,10491572,12842676,11147714,9628060,5517150,22007083,12160077,7106074,6283053,12486906,13339083,17392480,6565252,11799506,7085496,8357122,20823260,12312668,10939993,10928662,15421895,13966822,4713210,8617892,12589183,18668565,15985016,12034679,12756242,11085018,16663493,9846774,8180835,6450226,17546191,15235084,15349437,10593754,11424402,17462164,10630856,9876923,10141273,8637018,8751322,7641415,10801987,9593097,3430234,12584646,9889570,9557327,13877975,8901099,10676289,7461217,7342388,12814831,6746067,5454108,11866760,12814422,8340914,8861684,5834146,16358800,17726898,9194588,9095697,14591616,23556652,20162843,9246864,9051772,7762497,8568277,13293835,20493556,16695965,20079510,12801618,7282009,12200656,18998358,20790613,14554378,11913620,20219844,9874688,5303482,22841320,9208958,5485209,12324196,4869376,19806751,8707135,11547394,14753767,10111892,14388963,17414576,13256061,8202184,13766029,8558873,5917784,8731691,16570926,10744595,13834681,8607112,6830886,6216039,13434886,7440277,11042590,10449772,6950150,10416979,4944603,9082616,11705265,7295414,12824888,10722935,7509706,13729741,18638801,15438486,8232429,9175477,17422954,7130310,7523943,11408014,22925427,8672825,20004537,14293040,5645173,15132999,9949962,15073379,14230713,6820546,8454769,14751641,12537626,21861976,10885321,10664994,15110317,9975882,8250130,11297072,5428509,14833984,21632142,16705879,7398237,8233403,13115690,6838452,12450997,12031566,13809022,8921525,4914615,12036509,12196728,17529379,10448433,5669909,7549068,5189490,12641560,9145746,10024278,9318440,20927776,16255100,8173883,14146415,12143129,13538884,10535651,13127053,11079304,11027162,13070034,13051353,7592130,9382114,11308891,13647750,18658823,11661335,7210208,13743249,17918213,5734992,10649162,14292099,9786703,8211613,4485668,9281874,4639231,5283835,17239084,8100544,5568659,4610489,11387077,14541823,10785386,16701400,6855972,8652975,8999912,18737275,12624522,11721528,15589809,4155648,15599007,14941327,8475792,13454197,13352088,8473356,8417454,9621931,8722622,9445011,14546001,19341737,9569221,7804314,14716958,13854567,16987413,12624993,7650984,19107376,9823708,10258918,9637561,13916588,6175192,9690383,10908755,8724330,13566676,8298057,5007982,9672203,11325736,11471765,13406902,9018216,20516161,20986801,8186921,9451431,11963231,7834540,11242105,14163658,12461043,10881412,18908918,12871524,22446412,6663613,14345440,18747571,12996788,10253471,10620746,11189494,9877802,10312515,10277779,13214080,6810604,13155577,12831277,11994453,11264615,10121584,4240431,20079041,12705425,6450365,8189342,11686163,9649317,9551792,11526162,8965698,8460315,19444555,12752075,14003765,11984231,8876485,7611051,10638837,15055083,10619683,8114321,9922289,8932690,6448451,7836537,11076931,9994772,14087646,8995769,14371109,14506778,11930511,14430149,14090883,10092812,13100366,12794900,10460732,10555272,9922565,10685570,14590396,8741098,11183023,10083420,13537772,7101230,9845136,19789643,8580026,12624132,7633290,9585170,13842281,10169876,7332019,19274192,15433241,13197113,13737645,6725505,14658980,7374210,11422365,15111131,13281718,12698749,8353398,13894508,21209843,12391144,13495773,8845057,6639258,13660886,11983749,10199108,9878547,11318845,14804151,10478523,22976907,6845993,4143550,13206116,19912352,16431463,15195600,6982807,8906756,5543242,15365851,11010277,21799167,23803439,7728367,19396919,10305412,18332426,12621766,12779212,8781448,20513043,8490245,13972157,8654131,13882718,9928009,11258828,7594127,9043338,10194902,10572579,9689546,12455564,12670312,7480725,8990597,11644365,8142981,7355040,18168541,14151176,7186346,7869632,8739645,10872181,10839711,7633319,11095392,18141179,13364585,11504010,15517378,16169236,15139578,12210147,22676389,12170854,3172322,8421763,24018589,20341786,7641741,13883509,10234017,9143331,9758062,14586637,14207169,13298645,10762628,8564199,2973477,14523032,11832323,14022218,7609116,14044569,7957132,13933422,8848740,15313432,10943862,15050151,6680347,8638336,11461658,13971154,7569823,6476000,13006308,7478592,9385291,11783879,5983779,7259045,6199365,16526982,13399945,12908428,14404603,20049042,10620118,6876617,12933846,9966894,11234262,8216330,21926048,4666664,9236397,6185833,5063032,8592716,13920602,14154173,14329214,8689597,7759548,13994243,14299773,17490219,12295397,9938410,13748146,7444272,13960475,14567229,12625417,9653335,14789143,10403830,8854514,13777399,10715745,9233770,6609767,8385001,9408382,11909302,13185962,13597262,23614136,7656816,13704577,10570583,15036000,12282552,12795299,6428981,12611546,15006276,7116186,10779169,9785807,9691318,4796690,13216930,7465113,9052445,10172574,4616003,3429014,12487939,13722418,7277873,10060132,7285133,14442393,14274960,10193140,19460095,3768608,10942269,7357162,7460553,5574805,11432093,7083848,13666686,21437853,9948528,14807131,15008083,9341337,9050810,9195633,14610832,19176568,8492761,8322507,7935270,8287534,10160929,5043740,9859239,13973096,15370974,7380204,12058508,12795399,7999641,10474627,10077466,11041291,15282262,6350930,13182516,11779305,13500081,10053581,3795684,7569846,10698392,12632173,4838339,8926812,9722574,9720731,19046402,3294720,4424645,9734364,16015764,10885617,22776724,11053196,11038409,8953152,9729341,9928737,14086079,12873923,12574884,9338220,8508803,19787945,7864011,6997890,10339219,8632850,18301349,13698515,6207435,12100740,14407333,4569130,15935052,16862149,8618744,7276816,13527254,10689441,7665832,17439103,14696146,7055917,15739749,19639473,4283876,8870201,11634339,7307209,12807413,9240925,10164244,10404061,11287757,7067860,16358203,14335884,14072252,12618599,6930320,7481552,8044431,7310828,5271044,5683478,8374496,16234498,12400436,12583468,8716033,18217591,9899858,7607303,10748585,23721299,9009824,10491201,14502665,11414232,13894873,16482525,10025647,14214233,13758966,10634520,8867030,10477193,8391640,7155094,5658926,12725672,8752491,14529316,12311184,11645512,11773601,9380742,10116579,15115930,4928791,10318710,8923229,6498625,14013950,19722522,23259213,15815909,8527034,12517056,10074810,21776061,9722186,10078976,9825577,23643369,18168149,15012941,16455907,7361921,9834437,11319910,23056356,12405375,23190223,15309372,6865535,18832691,9836358,16506778,8238250,21154323,8266311,10491520,23600457,14704709,15630186,14308876,19378601,12556492,10254541,8636379,12358695,8996634,21134979,13665669,15549818,10056943,9481374,10318704,7322340,8867034,14212672,19456368,14118347,14155749,6483286,7399042,13180117,11174757,5700816,22155707,9143157,18949116,13008841,12594197,11880709,11272435,13477821,16330613,9981224,13498855,8003525,8197681,4466672,11921337,14911452,11676704,12829421,8182051,10424127,11255625,8223767,8310305,13503762,10730044,17329961,8795022,6789365,14579317,11379237,10894666,7785636,14295811,8035834,12782390,8694651,9424369,9446091,6978703,11335115,9142472,18367069,5976482,14290218,7964574,8255045,11456002,9306504,13205258,9192027,6437074,10838580,7447394,11482234,7782223,13562388,22681808,17270568,12786852,11222867,10730291,22535997,15252296,9801575,12381651,12441051,14933733,23493065,11127725,11899881,20135221,23339935,3393899,8419478,17767838,16231873,6446239,14774893,14386171,19406498,13928477,9338799,5408069,7224960,15624406,14099090,18697710,12329564,15473364,13037084,8908458,6342070,11065451,9172017,8861392,8919685,14178250,2253935,8192976,14866552,13611932,6556889,18077498,6699741,14377307,8448836,15276363,9716717,11444082,9702380,5214913,12896691,9211093,11797559,12677253,11034913,11421023,10681164,11310905,15380123,8597657,12137704,9305778,12007282,16050763,14897593,8747820,7372418,9284287,9037577,6336099,18615644,8647344,10810098,10251536,10307755,8225552,8178567,5642050,6710088,12144026,5777643,9962148,8283161,12172827,9199291,11679420,20657351,8678894,9913310,16625553,11636761,14635728,7091942,16231588,15441281,9554873,4575963,21669477,8346676,13110082,11781018,9452154,12536281,13884998,11697461,13663875,19587816,13905730,11075053,14174774,14401076,15593824,10814916,10372157,14219175,21137174,8025165,13485827,8117240,10046285,12647138,12211562,22211878,10192844,6865579,9043436,10297148,18486044,13579981,13149303,16926764,9721331,8543569,7854625,7492346,16061409,11415680,9686789,5375664,14764454,16285393,7900295,12620418,11057919,13782979,13837968,9032243,5989214,23167417,11020882,11562480,14308612,8013223,6143259,13921614,8037243,15245971,12562104,8895975,8311066,12531771,13122104,20045497,8119396,11573124,21760861,13357604,14294780,13209674,10887403,8217358,8974016,14690287,10669084,10793953,10496342,11145024,9132360,16299640,6820836,4946795,15154768,7305777,10515005,14678457,12811189,9348573,14419358,13760521,17744002,6001608,6832864,8540768,6902991,15503658,10077563,5740622,12417133,13779699,4622955,13868489,4672400,11679787,10896535,9280523,12643316,15868576,19678686,7688082,13820638,6250753,7210880,13324515,8098476,9079134,14354645,8435839,9773188,11866572,15562156,15261924,10600547,15143500,16949158,7535074,21460214,11071674,16574854,7718250,8037795,14783009,5289815,10699463,13691636,20609126,11920750,16225690,6287494,13111402,13131882,7899990,8849345,13671409,11041969,8972543,10613913,8830740,6812027,7458724,15141884,8891381,11338783,20494719,8932495,9791999,8763376,13014524,11618707,6683036,8422420,13973207,10376644,9823069,4628531,8642777,10242458,14517294,12862024,10096694,19853696,9323342,9041121,22858374,10869747,8016334,9553701,11204891,13996145,8920694,20479346,8799214,6188028,16888334,12881660,6638058,11517464,11093077,4870547,13459912,13515668,10798668,8990816,9182265,7511011,11363024,7619899,9064155,8316858,8315616,6417143,10467778,13923830,7165643,10274283,4054455,9273075,5786000,9107905,9798081,11288943,13062751,3795197,11680140,11688708,13585023,12683609,14603074,7870992,13901784,10618679,11232253,8820090,8982050,13338748,9168739,10495993,8940061,11790920,12772389,7894901,11399512,11735089,11327820,11839550,7229164,5943168,8684064,13248632,9431288,19335042,9515504,13782733,10411211,8449705,12567787,12525057,8938031,11851056,7159771,13841757,6832174,14545763,12833113,11636008,12564988,9504260,21971570,4175730,14529136,10306671,7644277,11458212,9414298,12639399,14211285,10015397,14212306,15219478,13092388,7989391,11353800,10042142,11178306,6436026,18327604,8475559,13543974,5325431,13688873,12096784,14312268,14742961,13250064,11956452,14637173,16548277,4097486,14558414,11369501,11294830,7058040,9220543,9445554,9425117,8675535,9594775,12070552,5731736,12403664,9076496,10727630,9664772,13814213,13639322,8886913,10460088,12011262,5428752,7823880,6342483,15021495,12397660,7410353,18369951,14302277,18830994,12926248,9044450,11012940,12814557,9405319,12834991,10774881,15615167,7473329,11464423,8559579,7935576,10194702,12470313,5723932,12081121,7998139,12447529,15104072,14513691,12349613,14377932,14754178,12581759,13903449,14033022,10974138,12375340,14726913,11277041,11570490,6188390,14662390,8652769,11268966,8711344,4514685,8321680,11740212,9476915,7371487,8782209,13017469,5979914,11695280,9777520,9671896,13429835,14645556,10556172,10664680,12999730,14233578,11291414,14097448,15079324,18104919,17823116,13296838,7033878,13649788,17660240,10744615,14481560,14534041,3647424,17494542,14763478,15587364,16175636,12180880,7786864,10678238,9714957,12923652,10164223,13878039,7861512,11142190,18235062,8252324,18012039,10502150,13800427,13637317,9142911,9482495,10015044,13669096,12841868,4905151,14541712,12591774,11879591,14557788,14157572,15230699,9440652,12453934,14583699,13562566,8994031,9660761,9806292,16029892,8936752,10243482,9555887,10075832,12071961,9701574,8599001,17017471,7833916,7277356,11039066,7978642,8940447,12057514,10989732,9350247,12254580,9168030,18144952,15288578,6847733,8707767,14219204,3412363,9227664,10378924,9303090,9742572,8692621,17286495,8522483,19249475,12435397,14298043,12405504,12110890,9843331,6076504,5110573,14565791,8040399,14074118,15639684,13951324,12233649,12983267,4424821,9336744,10595516,7591242,11796485,10106828,9299701,22813564,14684768,22879655,8891881,16392927,8706485,14093315,6695271,12807237,13620376,11410179,8480741,11477266,12902159,13850904,8793362,13166083,9835841,11679665,13697234,6665084,14091903,7032855,10357503,9589735,12697647,14864804,9297771,21294089,8452647,6948282,10727782,9525022,13922515,5349681,13258940,7101992,11948113,10434004,8079720,13572717,10294410,12571810,12605231,7115273,7545489,5578040,6514965,12491559,10394978,15499913,12853693,13199364,5201266,21631855,9134164,11173832,13853373,8105592,18429736,12915576,13232606,7340204,10382747,19344030,13858905,10445904,3263830,12582803,12525878,13977614,10951135,12238966,9401096,6417728,8660103,14087478,13860790,10811745,9044570,13919440,9861950,15059430,13055488,10799993,8952254,19368022,13885352,9700848,7627712,11962561,14297780,7504397,10217473,8531811,8973127,12114586,11898329,15984264,14109889,8793977,6479877,7987832,11342048,6630463,5676370,7056404,11336103,9181686,11201871,9310120,9079106,8246959,10187290,5687644,15427203,9409150,21034772,16316004,11883587,8471736,8270164,15146119,13087684,17586676,10192235,11560438,12840553,12275740,20696806,10218449,9515603,10119669,10285028,10422923,8876987,11814570,11218904,15546349,12146740,10610804,8992975,13406800,12554528,7882461,8725130,9761742,14884891,6723611,14158484,18159051,11043881,12716556,9511142,10118769,9039018,4765435,21532100,8108887,8887802,6705727,11042828,12950123,5033757,6922099,8637762,14285052,13755541,8872951,9727863,4029432,14096269,9973001,8633472,13653956,9795484,22792953,14394495,6570956,13613927,20690699,9235546,10473123,11345971,6960072,11224340,9513739,11494127,8809964,7040225,8174045,14610787,11117632,13361212,21927151,14491273,10385180,7112880,5639605,17916305,14337170,13251190,10529866,11515007,17129028,9229489,16281436,14685073,11494017,8372587,12303577,18137395,9362231,11630850,9640924,11788883,9636711,10669735,7006348,12196432,10556040,10353233,8872693,6865736,11521301,8745027,10973726,7085496,10327652,11974040,11938244,21022240,21275978,18500909,12116132,8611644,3544982,14613802,8009183,13656306,13167012,9944520,12829256,6304490,13687363,10631324,12323609,12109767,6473870,11380103,11350375,10951560,5699356,7782298,19818843,18857517,20699335,14832042,8283402,7768802,7205393,13369217,13644847,18398886,7290165,6977969,10049070,7899907,10113111,8110425,7315863,4926810,5363492,7890716,10634736,18697062,22342343,12080074,10051299,4720698,9314019,13974224,15678720,11076783,8328280,15122368,10694890,13658558,10621328,18053179,9749897,5814647,12246665,16290965,10915872,14811539,14408516,14328394,8231614,12875464,23045886,7864233,7859266,10475808,7157336,11048400,18400116,10550540,15869854,21402436,11635720,13270513,15641347,10575258,10628283,5889620,8263649,12126081,3394015,9696553,7584133,5844159,17522461,9905367,6794698,7488201,10966346,9243333,12939624,10829052,14840397,8090598,5864456,12961896,8359157,13389925,10271490,15678555,10932564,6822172,14529944,8970259,6126881,16060144,8198372,13685704,14642876,10234889,12434716,13542609,6519793,7060495,6979244,3383957,15468469,13126056,9403972,9393573,9215913,11492406,10601981,7422888,8842242,10676012,20586843,10535552,12396274,13029573,7573122,15054576,12751102,10580661,11179814,13674647,8379144,8363352,7471317,10888597,12311948,9407060,10227185,11544592,5641349,15415792,7621990,8342042,23560953,8720700,8502318,14589459,7828669,11717481,10221404,17003563,8054509,14816194,11460928,7973542,9064110,9784901,15179563,15041962,12982851,11038889,16200653,16583490,15797021,8385535,10007991,9258941,9595294,9490400,12956009,4792010,10053040,10305851,12256150,8285592,12582106,5017100,14494986,21691585,7301805,10071761,12728663,13011863,10311715,7393114,13892573,14874946,6574167,10925851,11023140,11587482,17416426,10043417,14402577,13392099,20393118,12919239,9712024,9819916,7194075,15234454,15306138,8767342,10744159,11210734,8634866,6575423,9324169,10760313,15972095,14065523,9217361,10132308,22112294,5411631,6401721,9715732,12956555,15445663,11811191,11613961,9917577,10977268,8389140,22110498,17362741,9393869,13052015,13503606,9578082,8249097,10369415,8964534,11062432,9409730,8687029,11959968,14146529,9058890,12546757,11894033,13853768,13107689,14137542,6904765,6981776,7094572,23120343,6106320,12042051,8756454,11760789,6317842,14014467,11714078,14478626,6111696,10246583,10929005,10761708,20999217,7238592,21676345,6734533,11027605,12459868,7191257,8292284,11896751,11942547,5773680,7946218,13223618,8881284,7308450,11761161,7493394,11868647,9849482,12830445,9222265,6811351,9078168,11976512,13443880,14158645,12347690,10505772,10758675,7925821,14418891,6919500,12124280,11392695,11405667,14549259,13228366,12025220,5405265,9111039,11845308,13012053,10178356,9966494,7726399,13886520,16262141,12884538,5992296,7443693,9327587,7037506,5356050,15041877,8592098,7381517,8013672,8129130,15486596,14716171,9910168,14119371,11643863,9908306,4095575,13732862,18205874,11137563,7915727,9294689,10260369,9790155,12662447,7877210,11139516,7154922,10101519,9465088,13679503,7433685,6518519,13671344,13705708,14002726,13001647,9026637,15616478,12199312,15723870,16963365,6378768,13208179,13249208,5321578,10295012,6013252,12655976,8029756,6789448,12302681,12633955,13617394,9549767,13365786,14640585,23093588,23187726,16508079,7076200,5848230,9108011,16157611,21848944,13315208,7218600,14648982,18438253,3775008,9998308,12885434,7997228,22247899,9344240,8330494,11619699,22121001,13048325,14672974,11617659,18887311,10495208,6565620,13129757,10291554,7532916,8617441,7572034,10578361,6351291,15343216,7562875,13921060,16183782,12008360,11342237,14588792,10110304,13109755,8272126,13376206,12549065,10003755,14830450,22931417,12933060,4153550,14900142,14649384,11231743,12941712,15201114,14962712,13086728,9941166,11219710,11424937,5419601,21924843,13461022,8213265,12769306,22468427,9146675,6746923,7849855,10718830,9682469,5202121,8024968,12658551,22289485,7865278,13571763,4796690,14398770,7619110,8786513,10305495,18091350,12805400,5255738,10858692,6727268,10631760,18507352,14828855,4160402,12210833,11061948,10811063,14678150,10034282,4686605,16497540,10517698,11777873,10192056,8748224,13644949,20544574,9974473,8808479,10630459,14969157,9907363,7816136,12850643,8838941,13545138,11481747,13686536,14787084,9449018,15147789,13128937,9790583,19652546,14158882,14233770,11360635,12858199,10638360,21308869,13415080,7874818,18361577,22776224,11952155,10398018,4823006,15455746,9645862,13152214,12107918,16587531,10286496,8026208,11094078,10616561,13833994,13532423,15177157,14293103,12819985,13328714,20938697,12515595,8240425,9526914,15760335,9754794,7405461,6274800,10206172,4391382,22113894,14010346,9239398,16285599,14814085,8433776,11306554,11839581,17864903,6542055,7639626,13532908,8047782,10113022,8645792,7413647,12923925,10934449,11767698,10128354,8534707,12535296,11926889,9821467,17550229,14776398,9936686,15647042,7428566,9659500,14116817,12984359,19896949,10199230,11714706,11650158,4245626,10777409,7710675,8669846,14614352,14386628,8184469,8759570,7895167,10701892,20575457,11211193,8786228,13400249,10108546,11316346,13421607,13703508,6860140,15888288,7778425,14906888,9404301,9086832,10995927,10265258,11238187,10965393,14019224,7570344,7234007,9585036,15106011,15005792,9101193,11444870,7298293,14928437,12770659,9862453,6283053,7305239,11961814,12739581,14661943,8316686,13452171,17064520,12790194,9149816,8353537,13172278,24340227,9708595,11829798,13285937,7622796,16189223,8193163,12337714,6047711,16290100,13696903,9128958,15257217,10144514,12689216,11793087,7418441,8177086,12316175,13838470,10745433,9258448,7408563,14075405,15937206,19678952,9962941,10800563,11827148,10210656,9689273,10497282,18401673,6164589,14868844,12846047,11121651,14212440,15038882,9648839,18370265,8475861,17459514,7630259,5550929,21629078,10403223,17845991,11487630,7438463,13882123,10496049,9235071,21402611,4747367,8376504,10343802,13884317,14496223,9992426,10296495,15062444,8761595,6913487,14334381,10143671,10488167,22827053,9833515,8289256,10472134,12261783,10481277,12443908,9819107,9124012,8367063,12061896,8403212,9286566,6305688,9393466,16503443,3628841,10506194,14914441,10556797,6978034,12120578,9021833,12059220,7342128,10317629,8410711,11937004,7710003,12452280,12901290,12040537,12735416,8053173,18944628,17202386,11230888,18969439,12834705,11648448,9202294,14096504,8643644,12057506,8613847,8691455,9445971,14620982,11063936,8446108,12796846,13160176,21329859,13181336,13229247,11934321,8546271,14787371,12039006,9841364,18340513,8217985,13187998,14744490,6845286,15559272,10985452,8754686,9137481,8241325,19821002,9382951,13653542,14437046,9190836,13073861,9128503,9276611,11453777,9961641,23395805,5029111,10864279,3199416,15461151,13517003,10334114,4616343,7187745,6672462,14328847,10470650,12703708,11314401,13248833,10249598,8929706,7686720,5749354,14040402,4971287,9232040,8165036,17891829,21083398,9345490,13204231,15070373,13643187,9189314,10130579,15814997,8901721,13475328,11489742,6587619,8895138,6699978,17590135,8164452,11940799,9331420,15828344,15864510,12432467,4439424,13359931,6338514,12633000,11655353,8858863,11253304,8972595,8659947,8345568,12820351,19633255,10989888,13621361,6836550,10556087,8029500,7534086,4195592,12926399,13397361,9278819,8869297,9634153,14630275,12352735,13065609,14009018,6407037,9341647,13090002,9601228,18559798,14474162,15802694,7739749,5971257,13639766,13153773,10540774,11451123,14126527,11308476,11303240,19218399,12189174,16263177,8187464,12807789,11211984,9316303,8687102,7137730,15215450,8873574,9874411,12239710,14446247,9274493,8402341,8769985,13422038,6242704,13188755,18395302,7953998,9741000,8697790,7786400,14333267,9068867,15129130,11058535,9806762,12733407,8896431,11159154,15451900,10915503,4215210,13656356,14892476,8751046,15173453,9165780,14630901,9774201,10536750,10521222,14267582,8533546,7258321,11051882,9841364,18819511,11738015,6571103,20202841,10456458,13498229,7842660,13922265,6364981,20733111,10714585,15740267,7790380,13862051,5400263,11346119,7000321,5161202,8366963,6939975,11516891,14277889,11084485,12168531,7412129,4660819,9912585,12659558,10030313,8630272,8604928,9406829,11464713,6019211,10263705,11784681,8573261,7923524,15379484,13959895,12383406,11654563,14137337,7452822,10177571,14432363,21549386,7794831,8354904,13052630,12990745,7987510,7404781,8978055,10959585,14155815,8580866,11339546,6432759,9044230,9706779,10226125,10950396,12205394,10645899,15434288,13918178,14684444,11870777,11220907,8690053,7090163,7203600,10997182,9363369,12380155,8183010,6855521,12134715,10245614,12741055,6782706,11663323,9673388,11618842,16709571,8086676,11362072,18364185,11902884,12818635,8215972,10196873,9591339,8494658,8392157,8792742,12676017,5180959,3962588,14504216,12055839,7766996,8615790,5504219,8875012,7807091,8505509,13833703,11393929,13556496,11878949,4962298,10844820,8518720,5988761,10743436,6117418,12795681,14779978,11016580,9844365,9165049,8790039,10077175,10417980,9558551,9566828,10420434,13704162,16198569,8858835,7977016,12581843,12144026,9163527,10519569,5717852,4935744,12335060,11319518,9276442,14747963,12673481,10244513,9809476,11745479,5551042,10620439,10298160,15830312,7444830,9626094,9419425,7803998,9072116,8572852,12590052,5594736,6997612,3364923,14579922,8585777,5198687,12965404,14205085,9814350,6183761,12195613,23843333,11865994,6554315,6411433,10657632,12741654,7738763,10056182,10895304,12476726,8087030,12835929,10470291,8746608,12125056,9070912,11913452,5767041,14068749,6914767,11220573,19456374,14198095,12522584,10843268,12132881,9511193,7873201,9335752,11394541,9887609,11498614,10239653,15772566,4903461,8366824,13076923,13048048,18127675,21320371,9015801,18824144,4741755,7444138,8952262,13037181,11045060,10045626,11730975,7515473,9042538,9216271,6267760,7226208,16394042,15178614,7219575,8690864,8500004,23378516,9627678,17097880,5012011,7773624,19760244,11233806,15076021,14621344,21455787,9163398,12317075,9501767,6779790,10909279,12846786,12636571,9724606,12091086,10232305,13538371,9673157,17325158,7483296,10581519,14869112,12906148,10001712,9152331,13082966,19551249,20492444,7833074,12302994,16010211,16045719,5516700,8619678,13681916,6109490,7268612,16460598,8633544,19135346,14667587,8468253,10839921,7215677,14021840,11086128,11981904,12212710,8309512,23637346,8141229,11620581,7978410,7697879,13824993,16835360,15796877,7965992,18052509,8111655,12708788,5573829,10240456,10245824,11573519,11230678,10336175,11331515,9418438,12560575,12624869,13303580,13084555,12371332,14326689,10635212,10311237,5674048,8873583,6513387,4876571,14025243,13913936,17339969,3958242,12599392,12954249,6812814,7955792,7531902,11713732,13205641,8242508,14694412,8745595,12583995,22314841,4082678,14190413,6713878,22843754,9804094,11570041,12110723,8641794,12558706,9700492,17633369,7977081,9602202,6926853,11655176,9421219,14989938,7660449,8213087,15712479,6116768,12430572,7801804,11375107,16336697,11157280,12108907,10084581,11560489,6653279,12394749,9306206,14091587,7979652,8560730,10693089,13045819,20857585,7680235,8046290,9608945,15776078,12982749,9015374,12895872,9532023,6478583,11470813,4862189,10489601,13586429,20265408,7303271,12665230,11246722,8880179,13873802,6314981,8032178,10190760,8950102,13794753,12511338,11587959,20648965,14035224,11328725,10029318,8045054,8656096,9059054,8067514,12201247,7475282,8113560,11031756,12424126,8603315,14707566,21386655,11532009,9309174,6530492,15585006,10135144,12591844,10395663,14580931,7546969,9893576,8086072,9297331,13881623,7599043,12516556,4762314,8886318,13401885,19823365,9494729,14208094,13912747,5976878,15209576,10100384,9425438,10068500,9391612,20923190,12963496,8117292,20771496,14385197,10827666,7329584,10535912,15722797,14558379,8700595,9581780,11253341,9665313,14760312,10548362,9899261,15336794,15877111,9401239,13601388,11537666,14362005,9226486,11000111,8898603,14217043,9425611,22779671,9340078,8209125,10727729,13878428,11738964,4389562,11507831,9678263,7569719,19302056,6015120,9352221,10967812,8457702,10746863,13381228,9349988,15430393,14640103,15229560,14156380,12659768,21046404,11158646,9874027,9489198,9701031,15423813,10654099,13678371,8954974,6808222,10090215,9523042,11450196,8281922,8813221,13105701,8995403,4541419,11712379,10210947,12991327,8783268,7727455,20820731,8635200,14039648,9025409,12346541,12338467,13294534,13175510,12048400,8941041,9566189,17170343,22838130,10151822,17103778,12056044,6944967,10135767,10331222,7385855,7566615,13089717,10278517,19894688,17550092,9936093,5860965,10705059,11477521,11173115,20145243,10046137,7890571,8464386,11420800,8192381,13612191,14224336,9533125,13597435,13321013,7191990,12605463,10471879,6555726,9618703,16712469,11104429,15783931,9312780,12172884,9053296,18298245,15262089,9267685,8918684,7010850,9532585,11914392,14161540,11707605,20637668,13983698,14185008,15153210,14411810,5666700,16928405,11520558,9108112,9890171,12659977,13088154,5302573,13669875,4806355,18916472,5446174,4732467,14846685,11161821,16697698,7366350,11772750,11046001,11372528,11023219,12122995,16409727,8187919,12671509,10982127,5883803,12266915,10559336,10716953,14407601,8633100,23609988,9980696,8915659,7925395,13509998,10640344,9277236,14638030,13348867,9472061,9643506,12056044,14819916,8037606,9589441,10348518,7484171,6676353,9176092,14006756,6763569,22118021,19355218,6859083,13250257,7453638,11510740,16577533,11011698,8812550,12106845,8132410,7661842,10203590,9466131,12779078,12906116,6965343,8968533,9761788,13487958,12750883,8556373,8696330,14768466,10148025,13359503,12476628,8526191,8043127,13574681,9690812,4208466,9998889,9598220,8753600,8684222,9177596,6446070,11665684,11655770,11531883,7894050,6806379,8677972,13598977,12498231,13290757,10544484,14325708,14673921,12223888,8456908,13125607,4154734,11997954,14545712,12976211,14514461,13508073,15997214,12012775,11233200,8283692,8938761,17476610,13585002,9111889,14471781,13127531,20210984,7640720,14576235,5314860,6681826,6131855,8208687,11286633,7652323,22653010,16294505,11883656,10887651,4996125,9071744,11470430,12056058,8680997,9664188,21800136,15738359,15992925,8887098,16245454,11934473,5743704,10985723,8031524,9678437,9618731,9761975,7103304,15985206,9934535,12796780,12747863,12090508,16076850,16064011,8049794,18339019,7853286,3842786,14636337,10756740,11654222,22311105,5872791,21080868,11384038,4916383,8385960,10692402,11776523,19945452,10511821,19310650,7408939,10693959,6081367,6284309,10581798,7771124,13557054,12242111,12941196,6955988,16007859,10769501,15892762,8548937,5655328,6943913,14177928,13419919,11153584,10047904,21358357,9926768,22258475,8932451,10954234,19252436,6610860,10629450,12965462,11516273,7071281,7459891,12557194,10170170,13221862,7604363,15148240,21610323,21650915,4630081,22962065,13956736,17140096,19878998,9188148,8610100,7265803,7460507,8186022,13123849,9029490,11518089,10602400,17370938,8349395,13043162,9982752,5904408,15443272,10259915,14490276,12365200,8240334,18711016,14314642,19297924,12098445,14380670,9141054,18834836,8830036,9255825,20875295,21360690,23534529,6030024,11392178,10721416,11375276,7619002,9895169,10611423,13457409,14788932,13160562,19848749,12388322,7441052,12415419,10273110,13998859,9854795,23476321,13184493,13401640,14552409,21440207,8454118,11575230,15393926,13809842,7111748,7469926,8715055,15119515,14299783,8294846,6986571,5830822,8461168,9078924,12319008,10030128,8925994,10318133,8769214,12657942,9217410,15832291,9270771,5944040,10321347,5339689,19643910,22343040,7403795,14199523,13851385,10047353,9406405,10224803,21215220,6506316,10745349,8628630,8885312,19675497,12890794,11910925,10696986,14586896,6171924,12458060,22062106,6951441,18569776,8027324,5653218,10919578,13207519,11800789,7478209,9668950,13797844,4752189,8047685,12983253,5839184,8473977,21092715,21868203,6775562,20207596,16003065,10444577,8201398,10714802,12661011,14071578,9318879,18174476,7818735,8134317,10508256,7460040,13049067,23088741,10604615,6893840,7999152,21630078,15114904,7274137,16215259,14331637,17127334,14678995,10095390,11099671,13786334,7174123,10243837,14487130,5576340,5188050,10384903,19982115,9864834,8953358,9286513,13815341,11200329,12269035,8681788,7612644,12235845,7708388,9005768,12386993,7885207,12986299,9862388,11388547,16079908,9018507,8757701,12054702,13498485,16983984,21746240,12178744,8166685,17579780,15244529,13223959,8637949,8751428,11660702,12559828,9447505,11707135,7534183,5571095,8792911,8056669,15683379,9162161,8275042,9201816,10891403,14995874,10443635,20688076,10874436,14218987,13929377,19020636,12303434,22207706,12696020,7053470,14142441,8455278,7379321,8821520,13139940,15451576,6356804,4406566,8878064,8861271,11663236,12465264,8334553,13405221,9768075,13870927,14873108,15918197,14497156,13865573,11780425,7781522,7865989,14793008,9761243,7836409,15800527,8110424,8630870,9934606,12276162,21493450,7520936,10187897,8414758,10409495,9711456,6398655,7400850,5730988,12754275,13506041,6637052,8890272,10377882,10414172,7426850,9285873,10268667,15135059,14323103,13542784,10677630,16354006,14608404,10583699,14491520,6383972,7175806,10409531,11861669,10585946,9157080,6560131,8095385,14330470,10466959,12906125,7840967,11145164,10374971,10233982,8982350,9469010,13769717,11512374,9535657,14749669,8333178,16192081,11394328,14681154,13155662,10868144,15170959,6666847,11003223,7807049,15860792,12162194,13486781,7172949,24200534,12840237,15874569,9842501,13456279,14856973,7054893,14092933,9531862,14893508,5972482,11613473,11139589,8097835,10139180,14061684,14187558,5386313,19846483,12550934,10425221,15254662,10157047,13972322,12149759,12707216,14274473,9828254,8006430,9864515,15765189,7291209,8228532,14030020,12061750,9973637,21543051,11275771,11603347,10503899,10679003,8423495,5813646,12190861,11554043,12804076,21769558,15716841,11529822,9193086,12130986,6733468,4244506,21760263,3489289,13183858,20004028,12536495,13947660,4032225,11441343,9295120,17964899,9194955,14829259,7619824,9507249,5379000,11742414,8223218,8866304,16389120,11858583,10035484,9390497,10368832,12675620,7171431,9122134,4861570,12193867,10390826,6273383,7209077,5398416,8224084,19329785,7594241,9831895,8148179,13163346,5729178,13771441,13202285,9662714,8225518,13265973,10167234,11880544,4535591,9343778,12655720,23061858,5290088,8962379,9945570,10305953,6367089,11014125,16646724,8018619,9744287,12005064,21777234,5773640,12595671,11756054,4284239,13802328,12373620,14936243,5657252,10050741,10180561,11633845,11971504,14168025,5805648,8216602,5548488,8926580,15257400,21181695,13533251,11153205,11875459,6374185,11157542,13691262,9980775,6034942,19821489,9292058,17601350,9628652,19895660,10906942,22498616,12026072,11937048,21213930,8564168,10636876,17292438,7468923,13574010,9312093,7404818,12873774,9886626,8311558,3986132,6942539,14060743,10583907,18352280,9377721,12742066,13319387,10747815,18030536,6524648,24788923,18385667,6472366,19398496,8259927,11720936,6256076,10105089,8391161,22837255,7862293,7026030,23635103,13745933,12521425,7492358,9467166,9410981,14621859,22307330,8221635,15272636,11651850,5075280,8813143,7483499,10996554,8771682,12302598,7643360,6460212,11473186,14194732,14633430,7473704,8522426,17198292,11589979,6091633,7231627,20069493,7305525,9071384,14556199,7364034,14475255,6784335,12499376,22326003,9151421,12655600,10377411,8408647,10770660,21203272,15198520,5259144,6331665,19928260,12681970,7684786,13413362,12969378,10341739,8363340,11721671,10769205,4153559,8337631,17266683,7974270,14164684,13021401,20681768,14456049,5041215,12594247,11993291,10130955,4194836,12666748,17234909,9387020,13869884,7968740,20682606,12196466,15584888,11836799,14167261,7033595,10513503,10576545,9250899,11035513,13554710,9561108,9691344,17970094,10130229,11123742,9011167,14082647,10694877,15216831,13085591,11325046,8981344,6522894,13587348,20659536,14475328,9228413,21798999,19003887,8912169,19334223,15070553,8890838,11353073,8996385,9247381,9894473,12356032,6583431,9422695,6987379,10063687,8319061,15346891,8733272,18297947,7628762,8780566,5290115,9055378,8819333,15641305,13369095,9459632,9739418,6776831,12666370,9127926,11589854,9054748,18943206,11817866,22743483,12785472,14484998,6132942,8537207,6468289,12687729,8438035,8863086,10611844,9719939,7930492,12647844,5274496,9088956,6728976,9950703,20880403,7675405,6066572,13750282,15833991,10213368,10488807,10215398,8659649,10450440,6103636,12912975,9269715,14794260,8927111,16974102,8491338,8641133,9485157,8958121,11963035,16151474,9044028,7543221,11274968,7524212,12941971,4995038,15748974,20568515,20376434,6156762,7829085,11744886,16256981,21369043,10682578,20832717,7776627,9172075,9375248,10176243,5683125,12988008,10159581,23911722,8543895,9335236,6808641,10629615,9984879,9287862,8153047,8334144,8101571,21297216,10360290,15455880,13110680,13252573,12941429,6889526,21422594,7635180,20924900,19177260,10207704,10421355,10105752,6879241,16688276,7444525,7389056,9144873,10079347,14533817,14014640,12818611,11603831,14265012,14595422,17016691,11697451,20585816,9183974,8867981,18980273,13377048,6064345,7358891,10468105,13585236,9035957,8633578,12737590,12574205,9855356,19865061,15182481,13396502,7602774,17138132,8270438,10328445,12169932,13176204,10386626,9566596,10903474,12573652,13807470,9280492,8619612,15616677,11165735,7575747,12366799,11391702,10840190,11769755,9540826,11617727,13642757,9640943,18820349,9476179,15289485,8771991,9479243,9915830,10528835,8734497,9873144,14365089,15147348,17081976,12123842,8816455,10320510,9250824,19316106,9511976,11849336,19665448,15350685,9435815,13509530,11855777,6484724,14063171,7697074,11900169,9667258,11839955,5983163,13686304,17360054,10764830,8887591,11825632,14684920,11415894,9779766,12454890,6096001,8480362,3247769,10726968,19288667,7834492,10922020,8523831,10264534,15054541,11148089,11313032,16373928,4141452,11792239,13368720,13123772,19274186,9639297,16054649,20008348,8781308,15722687,21153061,13422265,15864407,12097048,7479168,8786513,12938107,9845881,9366574,11040404,14697171,11459349,7948892,7635934,8824486,9890924,7149034,9378823,4649955,21054771,10903014,19079781,13087728,9658229,14240924,7003682,9139602,5926730,12643933,10391110,22026259,19990366,14413319,7868044,7323154,9273475,15149812,8801877,9093056,11856384,15809470,8772582,10026801,10322810,15851909,4630923,12002947,6489716,6766567,10003569,8973729,16374041,13926539,13553169,12440693,5101865,7923489,11318359,11219238,13683935,9640104,10276975,9070899,9191439,11762571,9527969,12738968,18756508,7864153,8484099,10510486,6325968,23453523,8840438,17101360,7528652,9267384,9979208,14227135,7807936,9574806,16363147,22558526,8186423,14199569,8105465,17945604,13958351,7231022,8782597,15020699,7031762,10216882,10069202,15552579,3312090,10143307,13103451,7956661,23124838,15844599,6075240,5075637,12233442,8559679,6676241,8699590,8131857,14029529,3210770,19774106,9517001,7726456,10870756,14771817,6899706,8466036,9506594,7279675,13064512,8444373,6103547,13044801,6522927,12680742,8588590,12689571,10720569,4548670,23066273,9141694,12284950,10647894,11630435,8607974,19874794,8613918,13338489,9805199,11859897,20083876,10768193,10093761,14742612,11610445,10067818,15286825,21751326,15680706,16387489,11161935,10824902,11738722,8058882,18043698,21174871,13850732,9530068,15575968,11032213,15922577,7800611,7038404,4885961,10843875,10198536,6096726,14622006,12771848,7862576,14021081,13023799,17586229,7537467,7446321,7266523,10173814,12508538,11023034,8438318,7732699,11244066,5762896,6850780,8723447,6161547,8774633,13778910,8327187,22162912,4955483,12765164,10068329,6401865,8617954,8824621,12957652,9347955,9419159,10659671,13185240,8079403,7773451,10762126,8479826,12045108,9787674,14721179,7862536,12310929,6614877,15385553,13789372,10524651,7496698,18111569,11597943,14162276,15266181,5295801,10292950,15047171,12461587,13166099,7658961,10028071,4401798,8640261,10603594,7496588,9198019,9371252,9356479,7685899,15359223,14479427,7499971,12062054,10093728,14105473,5605864,6659700,12865438,14740946,8738289,4842069,18042481,15901223,8989412,5836457,10247278,16479044,6808500,14832481,13291804,9936170,18387308,11872889,21001214,12643491,10178570,15291266,14141782,14778075,7436550,17562939,8770459,9393327,5839225,5346833,6340138,9316727,7873068,10949953,8823308,6849347,14850662,5867956,13838590,6857691,12718590,10741454,15309603,8431772,13417034,10182375,14211457,11566806,6588810,10906885,10007856,8954832,12804716,9575676,15729761,9677828,13685055,11357572,9233098,6718564,13730203,14384053,15262852,9192032,8217256,7253025,17273409,8569896,9714789,12881636,8228755,12157091,23466688,9522503,10378601,8667079,10635701,7754960,10469228,10610466,22612591,10321094,7935888,10839853,9173199,6247826,14905357,6199254,6777466,14116253,19369571,10842533,13578437,14994760,11240585,7416910,21634323,6943913,6472605,14649700,4720702,11257619,8267910,11948525,9911673,10136505,13210287,13100706,14931182,13397429,11192402,13409261,6816598,11323273,11184491,14502855,11336131,8642934,14545781,13428571,7443851,15984159,9877014,13623187,10902045,15816190,13985444,10359930,14890833,11814880,22181428,13097563,10242515,13363077,9084270,7511271,12720386,6470363,14359802,8481980,20432103,16035149,11804887,12113843,11316960,5950140,13943393,8445184,23980067,14478659,13648327,8410300,7976695,15009216,10281707,11652168,7799876,12529888,4853840,9694826,7515036,14656480,11650296,12009816,8868650,9881853,15188530,13827791,9967387,14703996,14586240,7629813,20515684,6559608,6066763,9922324,5668827,11370222,8835792,9051448,10405469],\"yaxis\":\"y\",\"type\":\"scattergl\"}],                        {\"template\":{\"data\":{\"bar\":[{\"error_x\":{\"color\":\"#2a3f5f\"},\"error_y\":{\"color\":\"#2a3f5f\"},\"marker\":{\"line\":{\"color\":\"#E5ECF6\",\"width\":0.5},\"pattern\":{\"fillmode\":\"overlay\",\"size\":10,\"solidity\":0.2}},\"type\":\"bar\"}],\"barpolar\":[{\"marker\":{\"line\":{\"color\":\"#E5ECF6\",\"width\":0.5},\"pattern\":{\"fillmode\":\"overlay\",\"size\":10,\"solidity\":0.2}},\"type\":\"barpolar\"}],\"carpet\":[{\"aaxis\":{\"endlinecolor\":\"#2a3f5f\",\"gridcolor\":\"white\",\"linecolor\":\"white\",\"minorgridcolor\":\"white\",\"startlinecolor\":\"#2a3f5f\"},\"baxis\":{\"endlinecolor\":\"#2a3f5f\",\"gridcolor\":\"white\",\"linecolor\":\"white\",\"minorgridcolor\":\"white\",\"startlinecolor\":\"#2a3f5f\"},\"type\":\"carpet\"}],\"choropleth\":[{\"colorbar\":{\"outlinewidth\":0,\"ticks\":\"\"},\"type\":\"choropleth\"}],\"contour\":[{\"colorbar\":{\"outlinewidth\":0,\"ticks\":\"\"},\"colorscale\":[[0.0,\"#0d0887\"],[0.1111111111111111,\"#46039f\"],[0.2222222222222222,\"#7201a8\"],[0.3333333333333333,\"#9c179e\"],[0.4444444444444444,\"#bd3786\"],[0.5555555555555556,\"#d8576b\"],[0.6666666666666666,\"#ed7953\"],[0.7777777777777778,\"#fb9f3a\"],[0.8888888888888888,\"#fdca26\"],[1.0,\"#f0f921\"]],\"type\":\"contour\"}],\"contourcarpet\":[{\"colorbar\":{\"outlinewidth\":0,\"ticks\":\"\"},\"type\":\"contourcarpet\"}],\"heatmap\":[{\"colorbar\":{\"outlinewidth\":0,\"ticks\":\"\"},\"colorscale\":[[0.0,\"#0d0887\"],[0.1111111111111111,\"#46039f\"],[0.2222222222222222,\"#7201a8\"],[0.3333333333333333,\"#9c179e\"],[0.4444444444444444,\"#bd3786\"],[0.5555555555555556,\"#d8576b\"],[0.6666666666666666,\"#ed7953\"],[0.7777777777777778,\"#fb9f3a\"],[0.8888888888888888,\"#fdca26\"],[1.0,\"#f0f921\"]],\"type\":\"heatmap\"}],\"heatmapgl\":[{\"colorbar\":{\"outlinewidth\":0,\"ticks\":\"\"},\"colorscale\":[[0.0,\"#0d0887\"],[0.1111111111111111,\"#46039f\"],[0.2222222222222222,\"#7201a8\"],[0.3333333333333333,\"#9c179e\"],[0.4444444444444444,\"#bd3786\"],[0.5555555555555556,\"#d8576b\"],[0.6666666666666666,\"#ed7953\"],[0.7777777777777778,\"#fb9f3a\"],[0.8888888888888888,\"#fdca26\"],[1.0,\"#f0f921\"]],\"type\":\"heatmapgl\"}],\"histogram\":[{\"marker\":{\"pattern\":{\"fillmode\":\"overlay\",\"size\":10,\"solidity\":0.2}},\"type\":\"histogram\"}],\"histogram2d\":[{\"colorbar\":{\"outlinewidth\":0,\"ticks\":\"\"},\"colorscale\":[[0.0,\"#0d0887\"],[0.1111111111111111,\"#46039f\"],[0.2222222222222222,\"#7201a8\"],[0.3333333333333333,\"#9c179e\"],[0.4444444444444444,\"#bd3786\"],[0.5555555555555556,\"#d8576b\"],[0.6666666666666666,\"#ed7953\"],[0.7777777777777778,\"#fb9f3a\"],[0.8888888888888888,\"#fdca26\"],[1.0,\"#f0f921\"]],\"type\":\"histogram2d\"}],\"histogram2dcontour\":[{\"colorbar\":{\"outlinewidth\":0,\"ticks\":\"\"},\"colorscale\":[[0.0,\"#0d0887\"],[0.1111111111111111,\"#46039f\"],[0.2222222222222222,\"#7201a8\"],[0.3333333333333333,\"#9c179e\"],[0.4444444444444444,\"#bd3786\"],[0.5555555555555556,\"#d8576b\"],[0.6666666666666666,\"#ed7953\"],[0.7777777777777778,\"#fb9f3a\"],[0.8888888888888888,\"#fdca26\"],[1.0,\"#f0f921\"]],\"type\":\"histogram2dcontour\"}],\"mesh3d\":[{\"colorbar\":{\"outlinewidth\":0,\"ticks\":\"\"},\"type\":\"mesh3d\"}],\"parcoords\":[{\"line\":{\"colorbar\":{\"outlinewidth\":0,\"ticks\":\"\"}},\"type\":\"parcoords\"}],\"pie\":[{\"automargin\":true,\"type\":\"pie\"}],\"scatter\":[{\"marker\":{\"colorbar\":{\"outlinewidth\":0,\"ticks\":\"\"}},\"type\":\"scatter\"}],\"scatter3d\":[{\"line\":{\"colorbar\":{\"outlinewidth\":0,\"ticks\":\"\"}},\"marker\":{\"colorbar\":{\"outlinewidth\":0,\"ticks\":\"\"}},\"type\":\"scatter3d\"}],\"scattercarpet\":[{\"marker\":{\"colorbar\":{\"outlinewidth\":0,\"ticks\":\"\"}},\"type\":\"scattercarpet\"}],\"scattergeo\":[{\"marker\":{\"colorbar\":{\"outlinewidth\":0,\"ticks\":\"\"}},\"type\":\"scattergeo\"}],\"scattergl\":[{\"marker\":{\"colorbar\":{\"outlinewidth\":0,\"ticks\":\"\"}},\"type\":\"scattergl\"}],\"scattermapbox\":[{\"marker\":{\"colorbar\":{\"outlinewidth\":0,\"ticks\":\"\"}},\"type\":\"scattermapbox\"}],\"scatterpolar\":[{\"marker\":{\"colorbar\":{\"outlinewidth\":0,\"ticks\":\"\"}},\"type\":\"scatterpolar\"}],\"scatterpolargl\":[{\"marker\":{\"colorbar\":{\"outlinewidth\":0,\"ticks\":\"\"}},\"type\":\"scatterpolargl\"}],\"scatterternary\":[{\"marker\":{\"colorbar\":{\"outlinewidth\":0,\"ticks\":\"\"}},\"type\":\"scatterternary\"}],\"surface\":[{\"colorbar\":{\"outlinewidth\":0,\"ticks\":\"\"},\"colorscale\":[[0.0,\"#0d0887\"],[0.1111111111111111,\"#46039f\"],[0.2222222222222222,\"#7201a8\"],[0.3333333333333333,\"#9c179e\"],[0.4444444444444444,\"#bd3786\"],[0.5555555555555556,\"#d8576b\"],[0.6666666666666666,\"#ed7953\"],[0.7777777777777778,\"#fb9f3a\"],[0.8888888888888888,\"#fdca26\"],[1.0,\"#f0f921\"]],\"type\":\"surface\"}],\"table\":[{\"cells\":{\"fill\":{\"color\":\"#EBF0F8\"},\"line\":{\"color\":\"white\"}},\"header\":{\"fill\":{\"color\":\"#C8D4E3\"},\"line\":{\"color\":\"white\"}},\"type\":\"table\"}]},\"layout\":{\"annotationdefaults\":{\"arrowcolor\":\"#2a3f5f\",\"arrowhead\":0,\"arrowwidth\":1},\"autotypenumbers\":\"strict\",\"coloraxis\":{\"colorbar\":{\"outlinewidth\":0,\"ticks\":\"\"}},\"colorscale\":{\"diverging\":[[0,\"#8e0152\"],[0.1,\"#c51b7d\"],[0.2,\"#de77ae\"],[0.3,\"#f1b6da\"],[0.4,\"#fde0ef\"],[0.5,\"#f7f7f7\"],[0.6,\"#e6f5d0\"],[0.7,\"#b8e186\"],[0.8,\"#7fbc41\"],[0.9,\"#4d9221\"],[1,\"#276419\"]],\"sequential\":[[0.0,\"#0d0887\"],[0.1111111111111111,\"#46039f\"],[0.2222222222222222,\"#7201a8\"],[0.3333333333333333,\"#9c179e\"],[0.4444444444444444,\"#bd3786\"],[0.5555555555555556,\"#d8576b\"],[0.6666666666666666,\"#ed7953\"],[0.7777777777777778,\"#fb9f3a\"],[0.8888888888888888,\"#fdca26\"],[1.0,\"#f0f921\"]],\"sequentialminus\":[[0.0,\"#0d0887\"],[0.1111111111111111,\"#46039f\"],[0.2222222222222222,\"#7201a8\"],[0.3333333333333333,\"#9c179e\"],[0.4444444444444444,\"#bd3786\"],[0.5555555555555556,\"#d8576b\"],[0.6666666666666666,\"#ed7953\"],[0.7777777777777778,\"#fb9f3a\"],[0.8888888888888888,\"#fdca26\"],[1.0,\"#f0f921\"]]},\"colorway\":[\"#636efa\",\"#EF553B\",\"#00cc96\",\"#ab63fa\",\"#FFA15A\",\"#19d3f3\",\"#FF6692\",\"#B6E880\",\"#FF97FF\",\"#FECB52\"],\"font\":{\"color\":\"#2a3f5f\"},\"geo\":{\"bgcolor\":\"white\",\"lakecolor\":\"white\",\"landcolor\":\"#E5ECF6\",\"showlakes\":true,\"showland\":true,\"subunitcolor\":\"white\"},\"hoverlabel\":{\"align\":\"left\"},\"hovermode\":\"closest\",\"mapbox\":{\"style\":\"light\"},\"paper_bgcolor\":\"white\",\"plot_bgcolor\":\"#E5ECF6\",\"polar\":{\"angularaxis\":{\"gridcolor\":\"white\",\"linecolor\":\"white\",\"ticks\":\"\"},\"bgcolor\":\"#E5ECF6\",\"radialaxis\":{\"gridcolor\":\"white\",\"linecolor\":\"white\",\"ticks\":\"\"}},\"scene\":{\"xaxis\":{\"backgroundcolor\":\"#E5ECF6\",\"gridcolor\":\"white\",\"gridwidth\":2,\"linecolor\":\"white\",\"showbackground\":true,\"ticks\":\"\",\"zerolinecolor\":\"white\"},\"yaxis\":{\"backgroundcolor\":\"#E5ECF6\",\"gridcolor\":\"white\",\"gridwidth\":2,\"linecolor\":\"white\",\"showbackground\":true,\"ticks\":\"\",\"zerolinecolor\":\"white\"},\"zaxis\":{\"backgroundcolor\":\"#E5ECF6\",\"gridcolor\":\"white\",\"gridwidth\":2,\"linecolor\":\"white\",\"showbackground\":true,\"ticks\":\"\",\"zerolinecolor\":\"white\"}},\"shapedefaults\":{\"line\":{\"color\":\"#2a3f5f\"}},\"ternary\":{\"aaxis\":{\"gridcolor\":\"white\",\"linecolor\":\"white\",\"ticks\":\"\"},\"baxis\":{\"gridcolor\":\"white\",\"linecolor\":\"white\",\"ticks\":\"\"},\"bgcolor\":\"#E5ECF6\",\"caxis\":{\"gridcolor\":\"white\",\"linecolor\":\"white\",\"ticks\":\"\"}},\"title\":{\"x\":0.05},\"xaxis\":{\"automargin\":true,\"gridcolor\":\"white\",\"linecolor\":\"white\",\"ticks\":\"\",\"title\":{\"standoff\":15},\"zerolinecolor\":\"white\",\"zerolinewidth\":2},\"yaxis\":{\"automargin\":true,\"gridcolor\":\"white\",\"linecolor\":\"white\",\"ticks\":\"\",\"title\":{\"standoff\":15},\"zerolinecolor\":\"white\",\"zerolinewidth\":2}}},\"xaxis\":{\"anchor\":\"y\",\"domain\":[0.0,1.0],\"title\":{\"text\":\"INT_SQFT\"}},\"yaxis\":{\"anchor\":\"x\",\"domain\":[0.0,1.0],\"title\":{\"text\":\"TOTAL_SALES_PRICE\"}},\"coloraxis\":{\"colorbar\":{\"title\":{\"text\":\"INT_SQFT\"}},\"colorscale\":[[0.0,\"#0d0887\"],[0.1111111111111111,\"#46039f\"],[0.2222222222222222,\"#7201a8\"],[0.3333333333333333,\"#9c179e\"],[0.4444444444444444,\"#bd3786\"],[0.5555555555555556,\"#d8576b\"],[0.6666666666666666,\"#ed7953\"],[0.7777777777777778,\"#fb9f3a\"],[0.8888888888888888,\"#fdca26\"],[1.0,\"#f0f921\"]]},\"legend\":{\"tracegroupgap\":0},\"title\":{\"text\":\"INT_SQFT VS TOTAL_SALES_PRICE\"}},                        {\"responsive\": true}                    ).then(function(){\n",
              "                            \n",
              "var gd = document.getElementById('81b56068-6ee9-43fb-9ec6-7c43e5e70589');\n",
              "var x = new MutationObserver(function (mutations, observer) {{\n",
              "        var display = window.getComputedStyle(gd).display;\n",
              "        if (!display || display === 'none') {{\n",
              "            console.log([gd, 'removed!']);\n",
              "            Plotly.purge(gd);\n",
              "            observer.disconnect();\n",
              "        }}\n",
              "}});\n",
              "\n",
              "// Listen for the removal of the full notebook cells\n",
              "var notebookContainer = gd.closest('#notebook-container');\n",
              "if (notebookContainer) {{\n",
              "    x.observe(notebookContainer, {childList: true});\n",
              "}}\n",
              "\n",
              "// Listen for the clearing of the current output cell\n",
              "var outputEl = gd.closest('.output');\n",
              "if (outputEl) {{\n",
              "    x.observe(outputEl, {childList: true});\n",
              "}}\n",
              "\n",
              "                        })                };                            </script>        </div>\n",
              "</body>\n",
              "</html>"
            ]
          },
          "metadata": {}
        }
      ],
      "source": [
        "fig1 = px.scatter(data,x = 'INT_SQFT', y = 'TOTAL_SALES_PRICE', color = 'INT_SQFT' ,title=\"INT_SQFT VS TOTAL_SALES_PRICE\")\n",
        "fig1"
      ]
    },
    {
      "cell_type": "markdown",
      "source": [
        "From **INT_SQFT VS TOTAL_SALES_PRICE** Plot we can Interpret that if Square feet's of House Increase than there will be increase in Price of the House.\n",
        "in this plot we can see linearity Clearly."
      ],
      "metadata": {
        "id": "P0Kkjt616EU0"
      }
    },
    {
      "cell_type": "code",
      "execution_count": 42,
      "metadata": {
        "id": "jGrKnUIa51Dp",
        "colab": {
          "base_uri": "https://localhost:8080/",
          "height": 542
        },
        "outputId": "667b2911-e61a-4c66-ad36-4e263f901dc7"
      },
      "outputs": [
        {
          "output_type": "display_data",
          "data": {
            "text/html": [
              "<html>\n",
              "<head><meta charset=\"utf-8\" /></head>\n",
              "<body>\n",
              "    <div>            <script src=\"https://cdnjs.cloudflare.com/ajax/libs/mathjax/2.7.5/MathJax.js?config=TeX-AMS-MML_SVG\"></script><script type=\"text/javascript\">if (window.MathJax) {MathJax.Hub.Config({SVG: {font: \"STIX-Web\"}});}</script>                <script type=\"text/javascript\">window.PlotlyConfig = {MathJaxConfig: 'local'};</script>\n",
              "        <script src=\"https://cdn.plot.ly/plotly-2.8.3.min.js\"></script>                <div id=\"d5bc528e-779f-41d8-8be1-4c94f0ea8d14\" class=\"plotly-graph-div\" style=\"height:525px; width:100%;\"></div>            <script type=\"text/javascript\">                                    window.PLOTLYENV=window.PLOTLYENV || {};                                    if (document.getElementById(\"d5bc528e-779f-41d8-8be1-4c94f0ea8d14\")) {                    Plotly.newPlot(                        \"d5bc528e-779f-41d8-8be1-4c94f0ea8d14\",                        [{\"hovertemplate\":\"DIST_MAINROAD=%{marker.color}<br>TOTAL_SALES_PRICE=%{y}<extra></extra>\",\"legendgroup\":\"\",\"marker\":{\"color\":[131,26,70,14,84,36,137,176,175,74,78,143,137,83,157,148,175,134,69,168,53,96,114,100,111,105,29,59,185,138,173,15,117,16,130,46,180,111,36,52,105,16,86,49,113,105,189,15,28,51,19,167,126,49,75,154,25,187,200,32,11,100,36,23,13,154,58,89,176,48,39,177,116,116,51,41,192,72,148,24,100,49,43,187,85,171,149,73,62,145,125,121,70,129,6,103,8,50,67,0,6,147,71,34,178,185,106,144,135,38,40,73,142,79,89,34,72,177,20,99,166,137,50,74,59,63,44,75,113,60,90,166,169,144,10,116,122,148,108,98,57,129,104,17,85,1,109,164,121,136,97,96,177,90,145,0,145,37,9,181,93,187,81,20,84,37,108,15,193,144,122,95,196,147,78,39,20,178,141,158,174,94,124,82,76,81,69,177,73,11,190,144,73,36,194,14,116,71,76,158,187,54,89,64,82,39,28,65,153,115,148,17,102,76,16,77,84,176,182,86,50,163,69,88,84,104,82,103,187,52,76,135,34,84,196,66,119,131,84,86,18,98,188,200,78,111,64,112,120,112,138,134,48,142,168,159,77,148,141,90,142,93,175,105,69,121,4,81,95,1,123,200,49,100,145,31,85,25,18,71,116,70,171,2,156,103,105,120,106,184,170,167,190,110,1,7,152,126,105,123,23,24,27,198,82,183,31,158,2,187,12,63,13,45,111,124,29,38,15,78,16,141,66,188,161,84,30,9,118,188,180,106,11,159,12,148,33,137,61,106,100,8,156,191,160,187,95,124,178,64,15,148,1,149,193,54,60,171,140,26,61,47,153,4,161,190,131,159,183,17,16,38,27,108,98,109,190,70,34,146,128,142,65,129,19,164,53,123,76,105,113,74,143,137,41,67,175,175,99,36,77,177,20,161,192,45,80,89,82,190,23,193,32,65,73,200,190,55,90,185,163,55,86,49,170,72,151,106,128,6,63,3,92,60,18,114,118,169,11,57,69,32,39,141,149,28,115,14,198,106,4,34,103,112,22,58,8,129,121,43,30,57,35,55,161,111,28,93,144,187,187,80,173,131,72,117,24,29,6,183,154,75,101,60,62,22,193,6,128,119,63,58,152,47,127,51,43,37,187,188,199,176,132,41,108,37,184,39,21,178,58,77,107,111,131,50,36,59,96,128,104,99,167,176,58,190,190,135,72,12,167,158,50,13,198,72,25,29,82,80,103,180,113,78,146,184,77,101,56,138,178,10,168,31,69,167,197,149,6,33,84,111,37,129,107,77,120,101,31,22,70,31,82,51,106,48,83,185,26,186,38,28,43,183,67,24,99,130,82,29,18,36,2,8,65,79,165,24,62,151,60,84,157,63,169,24,128,83,3,87,50,87,74,191,58,190,113,56,127,133,1,182,195,105,171,196,163,198,140,28,91,149,48,68,129,175,31,9,141,91,121,7,102,100,40,178,89,192,27,183,54,51,34,38,2,4,75,188,193,49,188,131,88,82,47,159,61,108,128,190,31,9,176,163,5,103,92,29,198,157,27,82,121,135,23,66,140,127,85,186,166,122,23,131,98,42,30,64,134,191,111,73,174,97,77,130,21,147,151,15,14,181,96,187,66,31,43,157,88,63,77,70,91,60,83,79,100,133,83,68,4,74,49,185,18,77,95,16,47,113,145,70,46,11,56,200,176,128,13,149,10,198,46,27,102,65,71,75,190,9,162,101,136,200,141,152,190,149,190,132,118,39,33,158,185,0,132,24,92,129,161,36,155,48,140,34,156,54,67,156,12,93,74,32,154,66,78,24,117,181,187,69,149,172,74,0,149,190,76,131,22,79,198,70,50,118,192,141,126,149,99,39,78,176,77,127,84,61,38,164,35,6,42,2,115,159,70,177,5,29,102,89,50,122,162,92,1,147,196,28,157,98,50,195,108,189,30,34,67,93,147,50,145,46,85,45,31,56,183,51,93,184,184,125,162,109,124,47,139,12,45,123,19,67,122,44,9,72,114,133,73,194,143,92,6,166,97,92,147,60,112,46,149,39,73,93,27,44,64,151,157,72,182,112,37,129,53,20,42,125,143,24,33,179,147,92,2,41,101,184,154,18,179,135,39,162,138,164,19,32,137,196,6,196,1,129,64,154,189,198,49,124,145,102,199,64,156,194,49,85,51,41,45,66,149,105,185,101,69,64,103,58,154,39,74,66,21,99,185,149,36,90,136,93,163,109,18,39,21,18,131,199,78,115,42,164,24,64,170,179,163,79,94,62,73,106,62,170,92,115,79,19,171,74,92,118,75,111,104,18,70,131,118,188,195,159,132,93,191,50,200,63,157,8,39,18,140,167,98,107,111,91,193,105,182,47,153,106,97,185,39,76,182,145,93,37,77,105,84,19,127,14,31,75,120,49,98,113,5,60,115,35,41,185,14,192,108,128,139,99,76,27,19,78,151,162,169,196,52,41,33,7,52,11,68,14,40,80,79,76,185,68,52,19,62,150,67,126,113,192,103,61,25,199,200,144,86,164,29,172,166,150,99,192,185,30,1,143,102,162,46,195,105,101,26,139,73,200,153,93,155,16,28,61,36,132,171,6,97,76,9,64,78,71,170,4,28,117,170,67,109,110,28,26,140,149,95,99,78,137,71,73,5,167,111,81,15,47,38,79,82,24,147,19,90,159,117,80,28,11,150,50,157,160,130,26,100,133,11,33,28,147,30,142,148,166,53,199,18,3,152,111,119,52,154,6,131,172,37,100,193,62,41,121,80,34,78,94,142,37,10,153,137,55,14,192,21,159,55,82,41,157,193,104,187,42,106,155,139,141,97,194,1,94,38,171,99,66,59,161,103,106,102,67,176,60,60,166,24,124,128,75,81,50,163,134,37,185,66,126,199,33,78,172,163,193,27,148,80,79,198,100,96,28,84,39,171,164,54,100,87,7,45,176,101,190,6,190,134,133,175,73,92,171,151,134,35,182,51,35,45,50,11,162,36,62,22,35,134,188,192,128,4,197,83,101,74,115,120,46,147,80,89,67,46,196,184,118,16,80,80,10,5,68,199,20,52,139,49,64,86,106,187,36,183,74,63,170,132,191,176,180,52,44,130,141,79,178,168,132,5,32,69,62,17,46,157,144,123,22,138,126,54,102,187,19,58,34,4,200,30,5,7,159,72,158,133,17,107,178,78,155,5,26,101,156,33,112,75,181,35,21,70,59,51,29,171,87,8,126,103,11,27,21,167,52,80,152,56,153,163,192,17,184,98,1,86,10,60,125,37,5,138,72,82,108,160,105,111,139,33,34,188,97,7,46,120,152,18,7,63,194,199,166,156,181,151,3,63,158,15,73,89,150,76,72,29,151,97,70,31,142,152,156,9,102,90,89,34,200,138,97,65,52,71,2,116,110,9,100,56,165,16,43,129,114,138,113,7,68,123,15,200,63,4,154,200,117,45,86,93,23,7,170,114,48,120,16,80,115,63,143,122,36,10,163,141,100,157,44,146,197,153,188,166,161,22,197,109,41,113,75,181,182,124,31,7,190,152,139,27,18,153,170,71,118,35,86,31,5,150,108,48,66,153,160,78,104,142,172,15,124,0,113,22,107,105,20,130,22,9,25,110,179,97,7,6,65,184,81,5,178,172,52,116,129,130,71,39,133,32,89,107,47,99,113,93,138,3,108,30,198,173,95,195,72,161,43,150,188,21,18,22,64,164,195,48,78,69,0,92,71,176,31,180,35,76,110,192,162,119,174,91,50,110,4,51,35,67,33,35,5,58,125,138,11,184,96,144,156,39,99,62,169,168,53,116,114,145,118,147,138,33,71,36,78,154,92,91,52,90,133,117,86,140,106,4,182,18,103,47,116,122,8,182,169,91,168,104,187,32,81,48,46,137,55,29,61,119,118,136,181,24,105,63,191,93,18,81,3,53,77,10,20,68,107,31,54,6,49,126,48,176,192,25,92,189,170,74,200,100,34,126,183,141,193,163,142,19,124,15,164,166,2,155,14,113,48,196,4,198,198,175,2,124,143,70,25,21,132,122,191,146,99,17,152,53,194,43,17,93,40,38,116,34,165,163,178,178,39,114,74,73,27,48,138,88,181,197,48,63,100,184,143,182,66,167,86,116,149,73,16,22,117,104,196,109,71,9,171,128,166,6,88,135,174,62,115,94,43,37,53,163,124,37,88,174,16,46,26,15,70,156,194,165,59,165,137,5,5,35,28,164,16,75,18,151,198,62,77,106,142,61,106,185,47,147,182,36,103,91,108,199,142,180,181,23,130,16,133,32,182,22,76,64,140,66,83,95,137,54,144,17,3,26,156,100,165,147,10,82,37,107,41,72,57,170,122,179,27,184,161,191,189,154,91,78,78,137,52,109,86,19,128,126,179,144,117,165,162,112,51,172,63,68,102,34,125,154,116,140,96,8,24,50,163,112,171,137,164,19,176,126,150,159,58,173,72,38,3,143,195,71,34,184,49,128,24,47,139,10,155,47,192,181,13,114,162,151,117,62,117,75,177,129,175,84,149,190,62,200,34,116,99,32,128,99,49,41,125,80,59,85,173,156,143,136,42,126,31,183,168,146,36,98,104,104,63,99,155,175,157,159,53,92,88,123,175,43,116,15,195,39,57,17,104,138,75,36,59,120,42,107,72,145,129,17,106,34,159,186,96,161,14,120,124,161,154,199,177,42,169,125,78,97,74,45,14,155,165,132,35,46,177,61,25,185,181,33,19,88,145,28,40,4,116,16,130,86,143,124,99,58,160,141,104,118,185,181,98,125,152,177,180,94,132,60,125,158,101,191,98,56,147,2,48,76,74,100,157,200,123,169,9,146,198,6,170,104,167,181,5,193,133,90,119,186,51,32,147,90,75,46,193,26,114,79,177,81,131,152,189,87,22,23,51,147,78,32,136,85,182,122,146,168,113,114,98,50,121,96,124,191,194,126,112,42,124,127,40,24,132,71,169,198,142,92,177,136,113,88,15,114,168,83,8,121,36,10,190,178,54,172,109,186,183,23,116,85,81,28,90,107,94,124,195,134,150,114,139,109,139,169,132,108,198,141,147,75,124,110,84,76,110,72,134,12,88,199,81,64,31,88,88,10,39,108,35,120,142,153,98,8,88,75,111,14,126,86,77,157,71,4,22,60,8,198,188,133,134,40,181,69,100,117,14,47,28,109,22,199,65,194,111,63,151,153,68,182,37,141,16,62,106,121,166,149,163,118,51,178,116,125,195,102,66,168,116,44,16,92,22,55,190,11,88,99,140,188,79,47,130,124,167,29,83,196,195,88,88,123,10,103,61,16,45,167,76,74,60,140,85,121,42,71,138,29,99,78,59,81,73,49,24,119,44,8,139,186,194,113,26,9,34,92,50,191,109,191,156,177,104,76,147,162,85,151,170,78,13,140,45,66,124,153,138,41,137,125,166,146,87,4,167,6,49,111,8,109,114,80,131,92,126,74,42,84,43,82,137,152,72,138,129,186,143,70,94,164,31,58,111,4,103,180,37,154,38,192,110,75,141,134,22,123,85,6,6,90,177,170,119,23,136,68,134,140,158,43,71,165,107,0,35,40,30,109,83,11,63,123,145,136,152,83,141,0,12,128,172,79,144,66,120,200,140,53,115,40,30,90,48,164,70,133,187,68,94,134,47,185,53,86,47,31,51,106,1,5,70,177,165,97,116,45,67,135,54,146,71,75,181,199,102,10,28,96,43,198,40,76,86,156,52,170,72,51,130,32,123,14,72,2,107,158,34,99,103,103,11,127,143,113,160,188,77,105,77,200,58,144,16,165,38,183,77,81,130,93,136,70,50,90,14,108,107,62,32,9,189,188,189,123,105,146,144,89,101,21,171,93,83,43,186,39,29,36,166,30,38,121,187,131,199,182,93,63,132,117,174,101,62,137,119,111,8,177,131,138,77,172,25,68,24,20,149,109,191,153,157,185,125,14,81,28,113,93,173,103,154,116,66,73,187,165,51,67,51,143,97,40,172,111,132,182,188,130,13,33,92,58,24,167,78,61,111,196,171,101,72,93,184,170,61,188,46,161,104,189,91,146,105,134,145,86,197,77,46,129,170,2,78,31,79,125,124,93,137,83,182,12,92,43,190,180,61,169,47,97,48,29,36,20,178,133,169,170,175,133,124,81,32,47,181,196,27,49,195,46,156,94,113,159,159,130,178,43,172,180,15,151,56,43,78,51,67,57,93,73,142,108,57,177,127,26,59,44,189,102,159,82,14,109,21,151,53,110,20,45,130,115,40,135,4,153,90,55,90,62,43,56,133,172,107,81,175,120,103,138,89,144,76,96,81,90,152,114,105,1,165,130,101,84,39,114,4,165,14,51,98,22,149,146,153,151,7,42,124,108,89,8,103,180,158,56,198,106,6,125,110,44,72,45,0,43,97,99,7,36,6,53,97,78,161,18,196,70,116,18,85,10,152,120,197,168,194,50,58,105,151,38,152,183,177,27,176,117,151,19,1,60,91,117,1,57,94,95,92,83,188,180,9,146,50,53,13,125,62,22,200,25,125,119,132,141,134,2,4,23,27,117,49,36,147,150,100,157,83,65,166,58,64,30,146,89,140,1,171,48,108,151,13,9,126,194,5,193,72,89,131,115,93,65,30,1,16,70,95,57,34,69,58,28,20,70,104,2,117,4,156,173,98,138,18,79,114,111,2,162,175,176,89,112,94,85,180,131,34,111,128,106,96,80,75,97,170,109,99,191,91,143,120,18,161,134,83,54,70,86,184,144,200,58,31,148,38,77,77,36,90,134,75,94,145,98,39,121,189,89,72,188,186,169,128,115,137,51,7,194,109,107,132,102,17,74,28,38,137,27,112,51,129,192,65,30,148,87,87,67,28,170,83,200,136,51,58,130,117,50,39,33,92,189,35,157,130,74,37,91,19,192,117,92,163,195,43,179,134,6,159,125,78,143,195,97,144,145,80,78,79,161,145,180,39,79,169,151,15,152,115,161,52,28,42,108,97,4,37,140,97,108,131,16,130,99,80,182,68,48,50,139,166,58,160,23,113,10,167,49,112,94,196,2,181,75,158,72,119,25,185,68,181,10,28,1,102,56,130,197,47,173,130,23,118,114,40,131,99,12,46,0,178,173,57,123,102,44,70,123,27,118,26,43,181,116,11,76,185,43,190,181,148,129,189,44,164,197,139,88,117,178,97,3,155,88,191,156,132,126,158,88,73,139,105,68,184,139,32,4,20,133,109,17,192,9,23,54,165,36,98,18,96,111,145,135,61,152,32,164,144,119,183,66,22,50,108,86,16,26,158,34,123,86,119,73,166,200,117,45,117,127,177,87,20,170,63,169,122,64,185,32,46,94,50,95,140,115,61,59,23,10,117,92,30,73,166,182,5,192,200,110,63,134,192,3,71,141,68,81,146,155,66,49,110,93,54,69,3,149,39,64,99,139,19,54,94,2,70,102,65,139,67,184,96,32,17,12,0,141,67,194,2,14,180,158,6,59,33,153,197,2,126,116,64,59,35,98,169,51,95,161,11,142,135,118,165,108,44,133,45,129,145,39,139,36,172,190,80,35,113,110,49,150,30,179,24,9,29,61,184,152,69,125,6,40,145,0,167,142,65,15,39,7,103,145,51,42,42,2,126,171,136,176,194,53,184,4,200,37,60,191,44,113,90,69,66,153,68,52,13,91,108,187,44,93,166,115,148,83,3,161,191,51,197,66,178,108,77,140,134,171,185,158,23,14,68,15,177,143,17,49,49,111,107,29,109,160,27,154,79,85,166,121,184,72,192,10,177,145,51,49,171,96,62,2,1,100,45,26,186,55,37,42,9,125,190,157,18,49,93,107,130,171,174,87,158,186,103,18,162,19,80,96,102,183,28,21,113,195,157,14,144,186,73,48,73,67,108,129,175,39,35,169,82,62,154,131,108,163,85,166,69,79,149,77,35,168,186,198,35,100,134,65,158,129,18,177,193,100,5,178,78,125,148,85,22,124,131,153,109,155,189,181,72,46,160,104,52,89,25,142,46,87,172,73,40,115,22,111,28,7,148,53,106,98,197,20,197,89,82,182,75,164,114,186,47,179,133,145,74,196,194,175,89,19,39,158,46,26,55,94,124,73,50,24,142,10,120,69,77,44,155,41,51,47,56,64,112,37,49,21,131,70,165,103,122,199,83,2,110,88,193,51,102,135,199,190,200,50,87,31,150,155,132,100,40,133,75,37,191,128,81,11,3,88,175,22,56,198,189,66,137,126,2,4,81,70,57,87,119,52,149,128,38,61,120,10,174,84,191,9,147,20,0,7,130,188,42,36,46,121,5,26,142,191,30,84,143,41,145,10,160,77,63,111,160,165,153,166,70,102,86,92,84,112,118,59,73,127,103,174,182,18,87,62,27,80,6,54,91,19,8,168,164,66,152,99,62,77,158,166,49,86,108,35,72,46,168,2,4,118,83,193,195,114,101,163,159,22,60,87,146,85,15,135,4,100,44,49,105,39,53,148,150,158,21,146,118,3,20,172,144,69,129,81,17,7,27,98,184,117,175,176,35,20,36,16,159,131,189,48,186,96,170,163,68,46,117,22,9,4,194,5,199,82,12,195,189,68,85,179,174,191,40,115,24,185,118,48,196,130,125,183,170,12,194,61,15,176,5,164,127,12,167,73,193,85,195,9,188,21,73,192,69,51,0,187,141,156,170,140,132,86,34,105,169,61,95,198,143,70,68,40,60,179,164,81,14,150,123,172,44,97,80,59,152,1,132,133,55,35,33,152,29,16,124,145,96,178,30,31,109,163,42,13,191,61,126,34,56,183,185,148,178,187,175,153,135,70,29,114,73,161,173,4,4,162,130,73,93,34,151,90,170,29,138,51,13,16,29,175,14,29,111,183,161,59,192,77,190,71,139,189,9,135,191,98,7,182,148,75,112,28,45,183,88,120,134,2,148,127,46,77,123,51,106,75,174,73,54,46,87,105,110,104,93,51,111,25,3,46,112,33,22,113,66,139,78,138,151,111,86,63,4,77,189,137,177,5,156,85,45,25,198,194,134,164,11,180,170,69,127,132,17,101,84,105,80,57,173,194,60,41,194,184,135,44,163,78,32,136,160,123,49,117,122,27,101,12,132,72,169,164,27,190,29,171,197,86,81,181,156,10,147,121,155,48,68,57,131,83,158,78,181,11,48,104,77,193,21,123,168,161,15,92,187,199,74,77,119,161,156,177,102,0,180,73,50,19,138,23,191,33,117,155,92,82,177,146,80,109,79,18,118,175,102,128,9,103,145,133,118,181,3,111,142,89,185,62,2,71,73,91,141,37,106,140,55,64,100,141,0,29,89,140,74,173,172,9,100,67,60,122,98,120,159,16,199,77,186,118,166,46,56,172,128,190,21,30,70,26,65,39,14,10,169,65,169,143,109,132,58,7,190,3,36,70,17,109,144,67,142,78,77,177,120,119,30,128,188,40,43,1,162,199,65,94,15,124,179,122,99,111,169,113,60,58,3,34,27,94,145,91,119,106,1,71,182,143,119,79,196,104,187,155,69,3,121,149,63,163,21,198,104,171,155,144,56,64,108,79,166,182,16,57,75,193,183,149,95,82,113,46,174,93,160,163,134,92,62,69,21,134,168,36,185,145,10,139,187,117,81,133,48,129,53,67,37,51,40,117,152,194,127,64,6,27,163,197,187,101,174,74,172,61,110,124,71,106,14,138,132,49,22,103,29,100,176,190,139,56,8,70,53,57,166,187,93,107,148,52,159,199,46,0,4,23,80,157,169,169,41,55,78,146,103,84,146,169,118,5,180,68,148,196,159,151,160,50,121,72,97,68,131,79,65,146,94,57,149,12,149,161,87,135,14,188,116,143,130,168,101,179,46,46,192,119,106,135,188,11,197,61,176,183,6,156,200,27,17,156,164,91,184,30,60,16,164,135,144,71,126,162,123,11,173,77,133,131,143,120,153,23,47,84,154,137,137,113,15,72,3,137,164,112,37,40,8,170,1,189,185,31,134,128,24,197,173,63,148,12,156,91,61,104,91,177,4,111,190,173,1,151,24,145,29,166,108,152,158,30,130,17,1,37,179,31,41,161,134,118,2,40,46,123,37,172,113,177,123,96,120,125,63,130,73,169,128,75,25,129,73,150,175,168,168,151,166,194,133,147,42,155,146,16,173,164,18,192,135,22,168,92,88,105,195,71,86,75,145,95,88,44,61,125,128,186,47,109,4,95,122,9,199,77,28,8,196,21,33,49,68,108,186,105,4,28,61,48,86,175,115,15,81,157,68,101,159,18,111,147,50,148,93,30,82,71,144,49,74,36,169,2,16,30,17,37,127,107,132,121,165,22,149,196,5,20,195,22,84,12,104,14,76,97,197,49,110,104,169,155,115,82,105,95,58,94,61,119,44,143,148,17,139,150,66,76,101,121,142,172,147,55,97,12,62,162,122,176,112,80,137,103,144,169,10,53,166,141,187,113,41,148,104,108,35,97,50,9,175,140,54,130,165,74,179,197,131,90,67,172,91,181,146,67,197,76,96,174,45,171,150,172,58,141,158,14,88,156,106,91,116,115,66,47,101,41,188,133,4,134,90,126,197,131,99,43,190,98,85,101,146,69,6,138,49,13,75,69,93,188,184,148,167,119,166,165,123,86,185,159,83,25,32,29,191,90,156,138,122,41,11,139,181,97,15,123,85,181,178,38,124,51,79,96,107,101,60,15,35,82,132,200,29,64,152,47,51,68,155,115,66,109,2,75,57,174,168,188,168,157,95,14,28,78,148,39,144,26,111,99,10,68,84,5,128,22,27,169,97,120,13,171,197,49,157,136,14,51,133,51,33,78,190,191,75,186,182,190,24,137,141,200,46,69,180,59,85,193,136,105,198,195,175,49,192,50,156,135,177,14,127,98,148,21,75,175,184,30,164,150,95,51,76,118,180,13,42,126,199,120,175,84,117,117,102,143,98,156,164,44,4,45,166,35,36,186,134,191,89,190,55,114,184,182,96,101,131,97,174,28,138,77,39,35,165,168,167,140,8,18,51,156,59,18,25,64,83,0,74,37,172,10,42,103,95,154,27,134,187,177,33,35,114,172,70,85,106,107,124,2,172,76,152,110,35,195,22,195,135,71,78,69,5,14,22,14,44,104,0,68,160,179,75,116,64,110,140,67,75,76,77,187,112,74,9,31,190,6,185,142,118,78,192,148,42,196,31,197,89,197,173,89,104,159,129,88,118,2,53,177,136,2,62,3,87,65,36,94,171,196,119,43,198,91,121,18,2,172,88,145,63,182,136,175,92,86,153,112,39,5,51,156,51,39,97,196,164,148,120,2,42,177,156,99,23,59,29,39,185,188,109,106,99,160,145,166,105,77,106,9,182,160,186,80,86,57,153,121,51,141,157,99,52,163,170,89,197,58,151,76,90,48,167,31,177,180,110,142,112,145,52,67,162,72,21,173,105,152,34,195,37,118,35,117,116,81,82,66,0,162,71,139,90,170,75,61,109,171,60,188,82,65,21,30,39,6,161,157,59,10,32,91,34,185,59,38,106,73,173,161,195,157,65,135,162,28,178,128,154,111,188,28,121,116,75,115,90,6,88,105,86,54,99,8,41,189,177,191,151,184,39,90,34,89,67,105,101,17,51,150,100,30,97,152,179,153,123,176,99,168,152,93,189,44,179,108,186,20,59,91,35,10,1,14,148,112,116,119,62,131,198,154,147,123,70,49,131,80,27,130,104,86,172,59,70,183,143,39,118,145,115,94,147,101,18,120,144,177,126,27,97,53,124,14,178,21,200,27,196,132,38,144,28,77,141,193,42,190,134,36,163,161,49,57,17,170,45,73,190,77,50,173,122,35,172,156,123,40,164,22,169,125,54,146,87,98,39,165,41,63,62,26,148,51,169,178,81,14,12,4,49,114,194,85,16,45,26,115,39,63,63,30,117,31,37,74,103,150,182,141,90,194,88,91,199,165,80,48,29,57,74,98,136,105,108,153,46,101,2,8,137,7,13,195,156,152,45,183,51,55,0,79,72,69,2,183,176,128,20,16,142,88,149,190,27,39,163,78,125,4,106,122,123,120,100,14,131,29,31,6,187,4,5,93,41,40,121,169,200,120,156,181,126,105,126,134,101,75,86,58,185,67,16,115,200,149,102,192,87,155,122,151,124,173,41,59,49,180,6,4,171,53,28,29,193,103,58,77,157,82,166,76,34,55,76,111,162,85,82,111,8,60,56,94,47,0,95,38,39,60,108,175,24,150,166,19,69,197,192,115,131,112,132,163,57,3,35,117,144,78,49,195,30,38,199,56,88,75,21,156,117,139,130,6,89,187,162,108,115,56,86,51,186,74,163,189,163,112,147,112,130,140,37,140,175,178,18,171,68,2,194,24,120,200,20,10,191,179,144,104,153,85,80,80,144,93,124,89,108,0,145,121,177,117,185,47,51,130,165,111,43,180,8,34,194,6,3,95,2,139,10,148,158,29,70,15,199,46,161,78,177,53,57,189,148,31,53,57,187,59,180,151,55,1,168,94,146,111,93,121,124,141,9,170,140,46,142,29,55,71,68,107,115,73,109,87,170,134,161,197,192,191,26,86,91,148,187,100,183,23,74,80,123,39,148,170,73,81,18,141,179,58,113,164,107,76,13,144,84,39,0,34,179,145,77,47,144,30,132,67,7,67,60,184,81,195,140,151,154,103,138,132,2,21,128,106,97,94,73,44,59,162,141,13,100,97,61,97,121,167,61,109,134,113,53,174,30,89,125,118,129,174,132,145,173,26,153,54,105,94,88,200,63,13,166,10,38,56,58,191,121,120,136,131,23,180,56,26,147,177,88,141,144,96,30,117,168,112,117,137,99,160,169,91,106,142,97,75,142,67,99,96,194,173,111,56,24,134,14,91,192,32,27,96,179,71,95,184,19,157,70,95,41,52,15,48,175,42,192,78,153,116,116,55,95,112,165,85,67,113,140,143,98,140,200,177,177,126,164,193,53,50,11,73,145,199,71,86,121,94,87,8,156,17,30,176,195,181,181,36,90,117,56,66,72,180,120,99,130,83,152,173,127,24,78,156,192,172,162,123,91,88,194,126,174,76,78,83,87,120,45,55,105,133,155,88,5,44,111,167,101,149,30,144,200,135,130,191,163,7,11,85,92,161,186,111,148,110,121,16,190,7,32,15,13,140,142,127,185,18,36,131,73,157,134,83,98,150,133,113,107,57,146,169,28,65,27,35,36,28,158,122,87,175,30,74,97,104,178,170,134,195,173,110,49,17,40,15,81,16,29,129,193,154,86,45,195,59,118,35,5,103,20,197,106,52,158,72,120,120,24,84,60,31,64,48,99,167,42,132,100,104,52,181,60,125,93,96,36,192,34,90,59,20,130,76,15,146,126,78,99,145,135,194,172,179,143,20,49,124,183,125,140,124,6,153,7,59,74,11,151,28,75,156,19,117,14,173,121,83,100,94,173,95,127,108,81,181,26,165,138,185,107,47,85,17,78,173,187,22,160,197,55,28,21,63,188,68,64,19,197,0,35,59,22,109,22,128,164,56,123,109,39,63,156,129,85,86,176,91,49,108,69,147,77,46,119,99,158,168,47,70,58,113,4,67,32,97,55,15,50,61,159,136,197,44,1,75,18,96,32,50,52,39,183,6,108,28,86,134,182,115,171,127,77,92,28,176,144,120,121,124,104,120,185,6,126,15,109,175,145,24,193,174,200,110,39,85,200,74,94,116,46,196,122,97,108,157,37,72,54,154,36,175,92,81,15,72,191,93,171,189,109,8,188,158,52,115,185,62,79,19,194,173,84,38,112,103,169,132,148,101,93,56,63,107,57,134,192,15,184,45,72,110,101,98,84,132,46,165,170,144,157,60,175,68,177,77,47,187,105,167,106,73,170,54,137,157,90,122,196,9,68,94,145,64,54,64,17,35,142,149,23,182,0,93,4,126,55,77,60,28,72,0,176,32,70,78,137,191,111,109,127,129,14,27,101,154,122,94,53,60,29,0,139,48,138,2,37,113,128,131,47,190,152,29,34,113,194,155,147,8,78,153,149,97,73,86,110,143,142,143,121,87,108,26,6,40,156,162,133,142,183,48,155,156,29,155,83,173,15,9,35,127,2,81,113,176,39,34,115,29,106,181,186,189,0,143,197,78,93,79,49,50,122,190,4,188,31,98,123,36,34,88,66,67,87,59,164,90,63,141,160,30,32,131,146,44,80,137,176,51,145,3,82,175,150,147,52,145,26,150,153,2,148,15,112,112,169,142,95,153,30,177,116,182,160,61,163,57,53,52,19,188,144,143,171,154,20,190,116,34,35,186,2,60,15,113,121,83,90,74,112,57,39,98,156,139,166,139,41,78,58,143,184,121,163,88,116,143,166,195,119,120,22,158,118,64,64,191,9,143,108,174,171,157,48,106,197,73,61,112,73,133,49,186,91,25,194,168,30,102,154,195,75,41,98,89,176,162,81,21,60,181,159,142,116,50,1,156,34,65,148,10,134,74,142,12,130,24,110,196,70,83,190,138,31,98,37,52,106,108,198,116,186,85,133,39,104,128,68,93,32,87,52,118,79,123,176,70,8,63,57,69,24,140,47,37,58,13,39,28,115,62,121,55,10,136,40,165,181,116,132,39,130,107,21,80,141,175,71,96,101,193,145,58,103,102,141,168,113,73,174,55,193,54,184,82,57,165,182,17,31,44,184,56,69,197,3,143,40,37,134,55,67,136,134,58,94,36,118,87,141,83,138,137,154,108,184,82,185,121,110,136,82,191,82,119,9,6,18,41,130,98,105,11,196,6,80,98,48,8,58,12,85,144,64,4,183,81,11,54,114,143,65,165,175,142,90,190,39,104,196,91,14,130,105,131,33,69,195,109,181,99,55,97,159,64,111,17,36,70,0,152,68,114,76,25,50,44,85,0,110,140,196,144,131,163,57,183,197,44,34,48,87,198,131,52,9,53,143,118,132,178,198,58,182,65,24,119,165,157,168,54,48,43,21,20,114,43,107,83,19,164,59,139,14,99,171,183,5,20,56,173,62,42,72,184,26,94,45,124,29,60,116,110,46,160,14,59,81,2,75,40,133,175,164,160,150,7,160,18,178,81,156,197,179,140,142,133,119,36,145,192,160,180,163,13,63,51,111,64,123,59,94,166,155,88,62,146,147,192,66,188,139,182,5,156,113,125,45,145,13,8,196,18,106,3,124,66,127,199,169,84,17,121,52,191,162,163,174,80,193,188,123,162,7,136,88,100,117,163,126,137,116,63,42,112,48,87,156,199,157,89,18,165,200,28,164,116,159,138,96,71,120,0,13,129,34,141,102,74,99,130,5,188,165,165,180,12,89,4,128,139,132,114,175,58,77,41,179,83,9,49,98,95,180,158,31,45,151,64,174,150,61,172,23,179,39,152,58,23,97,72,106,95,141,46,45,6,16,10,38,100,102,157,138,13,71,90,120,104,21,149,125,122,27,37,178,14,128,43,11,181,170,29,10,104,38,109,71,134,54,82,176,39,67,169,107,60,5,125,144,47,31,24,80,139,9,179,116,71,62,14,196,196,69,157,112,106,155,187,101,183,10,196,10,31,115,21,199,153,47,88,139,119,62,140,128,114,89,114,43,26,84,149,88,174,162,171,8,51,178,35,77,123,78,139,188,127,92,109,81,117,72,88,116,140,37,152,125,99,33,135,98,158,93,159,112,114,54,32,82,86,25,31,56,183,132,21,115,77,4,197,12,178,23,14,117,83,165,144,129,196,53,189,96,109,30,73,193,106,110,147,168,188,129,129,173,86,111,21,168,164,111,141,93,109,89,86,189,169,34,42,194,103,139,48,190,72,5,104,11,79,151,128,121,114,13,46,0,63,92,191,152,34,165,36,101,93,153,158,64,156,191,153,43,164,85,72,86,55,14,14,144,188,177,109,91,108,148,71,147,32,181,100,194,48,86,98,30,134,90,171,33,3,174,144,197,191,51,100,68,51,52,152,40,156],\"coloraxis\":\"coloraxis\",\"symbol\":\"circle\"},\"mode\":\"markers\",\"name\":\"\",\"showlegend\":false,\"x\":[131,26,70,14,84,36,137,176,175,74,78,143,137,83,157,148,175,134,69,168,53,96,114,100,111,105,29,59,185,138,173,15,117,16,130,46,180,111,36,52,105,16,86,49,113,105,189,15,28,51,19,167,126,49,75,154,25,187,200,32,11,100,36,23,13,154,58,89,176,48,39,177,116,116,51,41,192,72,148,24,100,49,43,187,85,171,149,73,62,145,125,121,70,129,6,103,8,50,67,0,6,147,71,34,178,185,106,144,135,38,40,73,142,79,89,34,72,177,20,99,166,137,50,74,59,63,44,75,113,60,90,166,169,144,10,116,122,148,108,98,57,129,104,17,85,1,109,164,121,136,97,96,177,90,145,0,145,37,9,181,93,187,81,20,84,37,108,15,193,144,122,95,196,147,78,39,20,178,141,158,174,94,124,82,76,81,69,177,73,11,190,144,73,36,194,14,116,71,76,158,187,54,89,64,82,39,28,65,153,115,148,17,102,76,16,77,84,176,182,86,50,163,69,88,84,104,82,103,187,52,76,135,34,84,196,66,119,131,84,86,18,98,188,200,78,111,64,112,120,112,138,134,48,142,168,159,77,148,141,90,142,93,175,105,69,121,4,81,95,1,123,200,49,100,145,31,85,25,18,71,116,70,171,2,156,103,105,120,106,184,170,167,190,110,1,7,152,126,105,123,23,24,27,198,82,183,31,158,2,187,12,63,13,45,111,124,29,38,15,78,16,141,66,188,161,84,30,9,118,188,180,106,11,159,12,148,33,137,61,106,100,8,156,191,160,187,95,124,178,64,15,148,1,149,193,54,60,171,140,26,61,47,153,4,161,190,131,159,183,17,16,38,27,108,98,109,190,70,34,146,128,142,65,129,19,164,53,123,76,105,113,74,143,137,41,67,175,175,99,36,77,177,20,161,192,45,80,89,82,190,23,193,32,65,73,200,190,55,90,185,163,55,86,49,170,72,151,106,128,6,63,3,92,60,18,114,118,169,11,57,69,32,39,141,149,28,115,14,198,106,4,34,103,112,22,58,8,129,121,43,30,57,35,55,161,111,28,93,144,187,187,80,173,131,72,117,24,29,6,183,154,75,101,60,62,22,193,6,128,119,63,58,152,47,127,51,43,37,187,188,199,176,132,41,108,37,184,39,21,178,58,77,107,111,131,50,36,59,96,128,104,99,167,176,58,190,190,135,72,12,167,158,50,13,198,72,25,29,82,80,103,180,113,78,146,184,77,101,56,138,178,10,168,31,69,167,197,149,6,33,84,111,37,129,107,77,120,101,31,22,70,31,82,51,106,48,83,185,26,186,38,28,43,183,67,24,99,130,82,29,18,36,2,8,65,79,165,24,62,151,60,84,157,63,169,24,128,83,3,87,50,87,74,191,58,190,113,56,127,133,1,182,195,105,171,196,163,198,140,28,91,149,48,68,129,175,31,9,141,91,121,7,102,100,40,178,89,192,27,183,54,51,34,38,2,4,75,188,193,49,188,131,88,82,47,159,61,108,128,190,31,9,176,163,5,103,92,29,198,157,27,82,121,135,23,66,140,127,85,186,166,122,23,131,98,42,30,64,134,191,111,73,174,97,77,130,21,147,151,15,14,181,96,187,66,31,43,157,88,63,77,70,91,60,83,79,100,133,83,68,4,74,49,185,18,77,95,16,47,113,145,70,46,11,56,200,176,128,13,149,10,198,46,27,102,65,71,75,190,9,162,101,136,200,141,152,190,149,190,132,118,39,33,158,185,0,132,24,92,129,161,36,155,48,140,34,156,54,67,156,12,93,74,32,154,66,78,24,117,181,187,69,149,172,74,0,149,190,76,131,22,79,198,70,50,118,192,141,126,149,99,39,78,176,77,127,84,61,38,164,35,6,42,2,115,159,70,177,5,29,102,89,50,122,162,92,1,147,196,28,157,98,50,195,108,189,30,34,67,93,147,50,145,46,85,45,31,56,183,51,93,184,184,125,162,109,124,47,139,12,45,123,19,67,122,44,9,72,114,133,73,194,143,92,6,166,97,92,147,60,112,46,149,39,73,93,27,44,64,151,157,72,182,112,37,129,53,20,42,125,143,24,33,179,147,92,2,41,101,184,154,18,179,135,39,162,138,164,19,32,137,196,6,196,1,129,64,154,189,198,49,124,145,102,199,64,156,194,49,85,51,41,45,66,149,105,185,101,69,64,103,58,154,39,74,66,21,99,185,149,36,90,136,93,163,109,18,39,21,18,131,199,78,115,42,164,24,64,170,179,163,79,94,62,73,106,62,170,92,115,79,19,171,74,92,118,75,111,104,18,70,131,118,188,195,159,132,93,191,50,200,63,157,8,39,18,140,167,98,107,111,91,193,105,182,47,153,106,97,185,39,76,182,145,93,37,77,105,84,19,127,14,31,75,120,49,98,113,5,60,115,35,41,185,14,192,108,128,139,99,76,27,19,78,151,162,169,196,52,41,33,7,52,11,68,14,40,80,79,76,185,68,52,19,62,150,67,126,113,192,103,61,25,199,200,144,86,164,29,172,166,150,99,192,185,30,1,143,102,162,46,195,105,101,26,139,73,200,153,93,155,16,28,61,36,132,171,6,97,76,9,64,78,71,170,4,28,117,170,67,109,110,28,26,140,149,95,99,78,137,71,73,5,167,111,81,15,47,38,79,82,24,147,19,90,159,117,80,28,11,150,50,157,160,130,26,100,133,11,33,28,147,30,142,148,166,53,199,18,3,152,111,119,52,154,6,131,172,37,100,193,62,41,121,80,34,78,94,142,37,10,153,137,55,14,192,21,159,55,82,41,157,193,104,187,42,106,155,139,141,97,194,1,94,38,171,99,66,59,161,103,106,102,67,176,60,60,166,24,124,128,75,81,50,163,134,37,185,66,126,199,33,78,172,163,193,27,148,80,79,198,100,96,28,84,39,171,164,54,100,87,7,45,176,101,190,6,190,134,133,175,73,92,171,151,134,35,182,51,35,45,50,11,162,36,62,22,35,134,188,192,128,4,197,83,101,74,115,120,46,147,80,89,67,46,196,184,118,16,80,80,10,5,68,199,20,52,139,49,64,86,106,187,36,183,74,63,170,132,191,176,180,52,44,130,141,79,178,168,132,5,32,69,62,17,46,157,144,123,22,138,126,54,102,187,19,58,34,4,200,30,5,7,159,72,158,133,17,107,178,78,155,5,26,101,156,33,112,75,181,35,21,70,59,51,29,171,87,8,126,103,11,27,21,167,52,80,152,56,153,163,192,17,184,98,1,86,10,60,125,37,5,138,72,82,108,160,105,111,139,33,34,188,97,7,46,120,152,18,7,63,194,199,166,156,181,151,3,63,158,15,73,89,150,76,72,29,151,97,70,31,142,152,156,9,102,90,89,34,200,138,97,65,52,71,2,116,110,9,100,56,165,16,43,129,114,138,113,7,68,123,15,200,63,4,154,200,117,45,86,93,23,7,170,114,48,120,16,80,115,63,143,122,36,10,163,141,100,157,44,146,197,153,188,166,161,22,197,109,41,113,75,181,182,124,31,7,190,152,139,27,18,153,170,71,118,35,86,31,5,150,108,48,66,153,160,78,104,142,172,15,124,0,113,22,107,105,20,130,22,9,25,110,179,97,7,6,65,184,81,5,178,172,52,116,129,130,71,39,133,32,89,107,47,99,113,93,138,3,108,30,198,173,95,195,72,161,43,150,188,21,18,22,64,164,195,48,78,69,0,92,71,176,31,180,35,76,110,192,162,119,174,91,50,110,4,51,35,67,33,35,5,58,125,138,11,184,96,144,156,39,99,62,169,168,53,116,114,145,118,147,138,33,71,36,78,154,92,91,52,90,133,117,86,140,106,4,182,18,103,47,116,122,8,182,169,91,168,104,187,32,81,48,46,137,55,29,61,119,118,136,181,24,105,63,191,93,18,81,3,53,77,10,20,68,107,31,54,6,49,126,48,176,192,25,92,189,170,74,200,100,34,126,183,141,193,163,142,19,124,15,164,166,2,155,14,113,48,196,4,198,198,175,2,124,143,70,25,21,132,122,191,146,99,17,152,53,194,43,17,93,40,38,116,34,165,163,178,178,39,114,74,73,27,48,138,88,181,197,48,63,100,184,143,182,66,167,86,116,149,73,16,22,117,104,196,109,71,9,171,128,166,6,88,135,174,62,115,94,43,37,53,163,124,37,88,174,16,46,26,15,70,156,194,165,59,165,137,5,5,35,28,164,16,75,18,151,198,62,77,106,142,61,106,185,47,147,182,36,103,91,108,199,142,180,181,23,130,16,133,32,182,22,76,64,140,66,83,95,137,54,144,17,3,26,156,100,165,147,10,82,37,107,41,72,57,170,122,179,27,184,161,191,189,154,91,78,78,137,52,109,86,19,128,126,179,144,117,165,162,112,51,172,63,68,102,34,125,154,116,140,96,8,24,50,163,112,171,137,164,19,176,126,150,159,58,173,72,38,3,143,195,71,34,184,49,128,24,47,139,10,155,47,192,181,13,114,162,151,117,62,117,75,177,129,175,84,149,190,62,200,34,116,99,32,128,99,49,41,125,80,59,85,173,156,143,136,42,126,31,183,168,146,36,98,104,104,63,99,155,175,157,159,53,92,88,123,175,43,116,15,195,39,57,17,104,138,75,36,59,120,42,107,72,145,129,17,106,34,159,186,96,161,14,120,124,161,154,199,177,42,169,125,78,97,74,45,14,155,165,132,35,46,177,61,25,185,181,33,19,88,145,28,40,4,116,16,130,86,143,124,99,58,160,141,104,118,185,181,98,125,152,177,180,94,132,60,125,158,101,191,98,56,147,2,48,76,74,100,157,200,123,169,9,146,198,6,170,104,167,181,5,193,133,90,119,186,51,32,147,90,75,46,193,26,114,79,177,81,131,152,189,87,22,23,51,147,78,32,136,85,182,122,146,168,113,114,98,50,121,96,124,191,194,126,112,42,124,127,40,24,132,71,169,198,142,92,177,136,113,88,15,114,168,83,8,121,36,10,190,178,54,172,109,186,183,23,116,85,81,28,90,107,94,124,195,134,150,114,139,109,139,169,132,108,198,141,147,75,124,110,84,76,110,72,134,12,88,199,81,64,31,88,88,10,39,108,35,120,142,153,98,8,88,75,111,14,126,86,77,157,71,4,22,60,8,198,188,133,134,40,181,69,100,117,14,47,28,109,22,199,65,194,111,63,151,153,68,182,37,141,16,62,106,121,166,149,163,118,51,178,116,125,195,102,66,168,116,44,16,92,22,55,190,11,88,99,140,188,79,47,130,124,167,29,83,196,195,88,88,123,10,103,61,16,45,167,76,74,60,140,85,121,42,71,138,29,99,78,59,81,73,49,24,119,44,8,139,186,194,113,26,9,34,92,50,191,109,191,156,177,104,76,147,162,85,151,170,78,13,140,45,66,124,153,138,41,137,125,166,146,87,4,167,6,49,111,8,109,114,80,131,92,126,74,42,84,43,82,137,152,72,138,129,186,143,70,94,164,31,58,111,4,103,180,37,154,38,192,110,75,141,134,22,123,85,6,6,90,177,170,119,23,136,68,134,140,158,43,71,165,107,0,35,40,30,109,83,11,63,123,145,136,152,83,141,0,12,128,172,79,144,66,120,200,140,53,115,40,30,90,48,164,70,133,187,68,94,134,47,185,53,86,47,31,51,106,1,5,70,177,165,97,116,45,67,135,54,146,71,75,181,199,102,10,28,96,43,198,40,76,86,156,52,170,72,51,130,32,123,14,72,2,107,158,34,99,103,103,11,127,143,113,160,188,77,105,77,200,58,144,16,165,38,183,77,81,130,93,136,70,50,90,14,108,107,62,32,9,189,188,189,123,105,146,144,89,101,21,171,93,83,43,186,39,29,36,166,30,38,121,187,131,199,182,93,63,132,117,174,101,62,137,119,111,8,177,131,138,77,172,25,68,24,20,149,109,191,153,157,185,125,14,81,28,113,93,173,103,154,116,66,73,187,165,51,67,51,143,97,40,172,111,132,182,188,130,13,33,92,58,24,167,78,61,111,196,171,101,72,93,184,170,61,188,46,161,104,189,91,146,105,134,145,86,197,77,46,129,170,2,78,31,79,125,124,93,137,83,182,12,92,43,190,180,61,169,47,97,48,29,36,20,178,133,169,170,175,133,124,81,32,47,181,196,27,49,195,46,156,94,113,159,159,130,178,43,172,180,15,151,56,43,78,51,67,57,93,73,142,108,57,177,127,26,59,44,189,102,159,82,14,109,21,151,53,110,20,45,130,115,40,135,4,153,90,55,90,62,43,56,133,172,107,81,175,120,103,138,89,144,76,96,81,90,152,114,105,1,165,130,101,84,39,114,4,165,14,51,98,22,149,146,153,151,7,42,124,108,89,8,103,180,158,56,198,106,6,125,110,44,72,45,0,43,97,99,7,36,6,53,97,78,161,18,196,70,116,18,85,10,152,120,197,168,194,50,58,105,151,38,152,183,177,27,176,117,151,19,1,60,91,117,1,57,94,95,92,83,188,180,9,146,50,53,13,125,62,22,200,25,125,119,132,141,134,2,4,23,27,117,49,36,147,150,100,157,83,65,166,58,64,30,146,89,140,1,171,48,108,151,13,9,126,194,5,193,72,89,131,115,93,65,30,1,16,70,95,57,34,69,58,28,20,70,104,2,117,4,156,173,98,138,18,79,114,111,2,162,175,176,89,112,94,85,180,131,34,111,128,106,96,80,75,97,170,109,99,191,91,143,120,18,161,134,83,54,70,86,184,144,200,58,31,148,38,77,77,36,90,134,75,94,145,98,39,121,189,89,72,188,186,169,128,115,137,51,7,194,109,107,132,102,17,74,28,38,137,27,112,51,129,192,65,30,148,87,87,67,28,170,83,200,136,51,58,130,117,50,39,33,92,189,35,157,130,74,37,91,19,192,117,92,163,195,43,179,134,6,159,125,78,143,195,97,144,145,80,78,79,161,145,180,39,79,169,151,15,152,115,161,52,28,42,108,97,4,37,140,97,108,131,16,130,99,80,182,68,48,50,139,166,58,160,23,113,10,167,49,112,94,196,2,181,75,158,72,119,25,185,68,181,10,28,1,102,56,130,197,47,173,130,23,118,114,40,131,99,12,46,0,178,173,57,123,102,44,70,123,27,118,26,43,181,116,11,76,185,43,190,181,148,129,189,44,164,197,139,88,117,178,97,3,155,88,191,156,132,126,158,88,73,139,105,68,184,139,32,4,20,133,109,17,192,9,23,54,165,36,98,18,96,111,145,135,61,152,32,164,144,119,183,66,22,50,108,86,16,26,158,34,123,86,119,73,166,200,117,45,117,127,177,87,20,170,63,169,122,64,185,32,46,94,50,95,140,115,61,59,23,10,117,92,30,73,166,182,5,192,200,110,63,134,192,3,71,141,68,81,146,155,66,49,110,93,54,69,3,149,39,64,99,139,19,54,94,2,70,102,65,139,67,184,96,32,17,12,0,141,67,194,2,14,180,158,6,59,33,153,197,2,126,116,64,59,35,98,169,51,95,161,11,142,135,118,165,108,44,133,45,129,145,39,139,36,172,190,80,35,113,110,49,150,30,179,24,9,29,61,184,152,69,125,6,40,145,0,167,142,65,15,39,7,103,145,51,42,42,2,126,171,136,176,194,53,184,4,200,37,60,191,44,113,90,69,66,153,68,52,13,91,108,187,44,93,166,115,148,83,3,161,191,51,197,66,178,108,77,140,134,171,185,158,23,14,68,15,177,143,17,49,49,111,107,29,109,160,27,154,79,85,166,121,184,72,192,10,177,145,51,49,171,96,62,2,1,100,45,26,186,55,37,42,9,125,190,157,18,49,93,107,130,171,174,87,158,186,103,18,162,19,80,96,102,183,28,21,113,195,157,14,144,186,73,48,73,67,108,129,175,39,35,169,82,62,154,131,108,163,85,166,69,79,149,77,35,168,186,198,35,100,134,65,158,129,18,177,193,100,5,178,78,125,148,85,22,124,131,153,109,155,189,181,72,46,160,104,52,89,25,142,46,87,172,73,40,115,22,111,28,7,148,53,106,98,197,20,197,89,82,182,75,164,114,186,47,179,133,145,74,196,194,175,89,19,39,158,46,26,55,94,124,73,50,24,142,10,120,69,77,44,155,41,51,47,56,64,112,37,49,21,131,70,165,103,122,199,83,2,110,88,193,51,102,135,199,190,200,50,87,31,150,155,132,100,40,133,75,37,191,128,81,11,3,88,175,22,56,198,189,66,137,126,2,4,81,70,57,87,119,52,149,128,38,61,120,10,174,84,191,9,147,20,0,7,130,188,42,36,46,121,5,26,142,191,30,84,143,41,145,10,160,77,63,111,160,165,153,166,70,102,86,92,84,112,118,59,73,127,103,174,182,18,87,62,27,80,6,54,91,19,8,168,164,66,152,99,62,77,158,166,49,86,108,35,72,46,168,2,4,118,83,193,195,114,101,163,159,22,60,87,146,85,15,135,4,100,44,49,105,39,53,148,150,158,21,146,118,3,20,172,144,69,129,81,17,7,27,98,184,117,175,176,35,20,36,16,159,131,189,48,186,96,170,163,68,46,117,22,9,4,194,5,199,82,12,195,189,68,85,179,174,191,40,115,24,185,118,48,196,130,125,183,170,12,194,61,15,176,5,164,127,12,167,73,193,85,195,9,188,21,73,192,69,51,0,187,141,156,170,140,132,86,34,105,169,61,95,198,143,70,68,40,60,179,164,81,14,150,123,172,44,97,80,59,152,1,132,133,55,35,33,152,29,16,124,145,96,178,30,31,109,163,42,13,191,61,126,34,56,183,185,148,178,187,175,153,135,70,29,114,73,161,173,4,4,162,130,73,93,34,151,90,170,29,138,51,13,16,29,175,14,29,111,183,161,59,192,77,190,71,139,189,9,135,191,98,7,182,148,75,112,28,45,183,88,120,134,2,148,127,46,77,123,51,106,75,174,73,54,46,87,105,110,104,93,51,111,25,3,46,112,33,22,113,66,139,78,138,151,111,86,63,4,77,189,137,177,5,156,85,45,25,198,194,134,164,11,180,170,69,127,132,17,101,84,105,80,57,173,194,60,41,194,184,135,44,163,78,32,136,160,123,49,117,122,27,101,12,132,72,169,164,27,190,29,171,197,86,81,181,156,10,147,121,155,48,68,57,131,83,158,78,181,11,48,104,77,193,21,123,168,161,15,92,187,199,74,77,119,161,156,177,102,0,180,73,50,19,138,23,191,33,117,155,92,82,177,146,80,109,79,18,118,175,102,128,9,103,145,133,118,181,3,111,142,89,185,62,2,71,73,91,141,37,106,140,55,64,100,141,0,29,89,140,74,173,172,9,100,67,60,122,98,120,159,16,199,77,186,118,166,46,56,172,128,190,21,30,70,26,65,39,14,10,169,65,169,143,109,132,58,7,190,3,36,70,17,109,144,67,142,78,77,177,120,119,30,128,188,40,43,1,162,199,65,94,15,124,179,122,99,111,169,113,60,58,3,34,27,94,145,91,119,106,1,71,182,143,119,79,196,104,187,155,69,3,121,149,63,163,21,198,104,171,155,144,56,64,108,79,166,182,16,57,75,193,183,149,95,82,113,46,174,93,160,163,134,92,62,69,21,134,168,36,185,145,10,139,187,117,81,133,48,129,53,67,37,51,40,117,152,194,127,64,6,27,163,197,187,101,174,74,172,61,110,124,71,106,14,138,132,49,22,103,29,100,176,190,139,56,8,70,53,57,166,187,93,107,148,52,159,199,46,0,4,23,80,157,169,169,41,55,78,146,103,84,146,169,118,5,180,68,148,196,159,151,160,50,121,72,97,68,131,79,65,146,94,57,149,12,149,161,87,135,14,188,116,143,130,168,101,179,46,46,192,119,106,135,188,11,197,61,176,183,6,156,200,27,17,156,164,91,184,30,60,16,164,135,144,71,126,162,123,11,173,77,133,131,143,120,153,23,47,84,154,137,137,113,15,72,3,137,164,112,37,40,8,170,1,189,185,31,134,128,24,197,173,63,148,12,156,91,61,104,91,177,4,111,190,173,1,151,24,145,29,166,108,152,158,30,130,17,1,37,179,31,41,161,134,118,2,40,46,123,37,172,113,177,123,96,120,125,63,130,73,169,128,75,25,129,73,150,175,168,168,151,166,194,133,147,42,155,146,16,173,164,18,192,135,22,168,92,88,105,195,71,86,75,145,95,88,44,61,125,128,186,47,109,4,95,122,9,199,77,28,8,196,21,33,49,68,108,186,105,4,28,61,48,86,175,115,15,81,157,68,101,159,18,111,147,50,148,93,30,82,71,144,49,74,36,169,2,16,30,17,37,127,107,132,121,165,22,149,196,5,20,195,22,84,12,104,14,76,97,197,49,110,104,169,155,115,82,105,95,58,94,61,119,44,143,148,17,139,150,66,76,101,121,142,172,147,55,97,12,62,162,122,176,112,80,137,103,144,169,10,53,166,141,187,113,41,148,104,108,35,97,50,9,175,140,54,130,165,74,179,197,131,90,67,172,91,181,146,67,197,76,96,174,45,171,150,172,58,141,158,14,88,156,106,91,116,115,66,47,101,41,188,133,4,134,90,126,197,131,99,43,190,98,85,101,146,69,6,138,49,13,75,69,93,188,184,148,167,119,166,165,123,86,185,159,83,25,32,29,191,90,156,138,122,41,11,139,181,97,15,123,85,181,178,38,124,51,79,96,107,101,60,15,35,82,132,200,29,64,152,47,51,68,155,115,66,109,2,75,57,174,168,188,168,157,95,14,28,78,148,39,144,26,111,99,10,68,84,5,128,22,27,169,97,120,13,171,197,49,157,136,14,51,133,51,33,78,190,191,75,186,182,190,24,137,141,200,46,69,180,59,85,193,136,105,198,195,175,49,192,50,156,135,177,14,127,98,148,21,75,175,184,30,164,150,95,51,76,118,180,13,42,126,199,120,175,84,117,117,102,143,98,156,164,44,4,45,166,35,36,186,134,191,89,190,55,114,184,182,96,101,131,97,174,28,138,77,39,35,165,168,167,140,8,18,51,156,59,18,25,64,83,0,74,37,172,10,42,103,95,154,27,134,187,177,33,35,114,172,70,85,106,107,124,2,172,76,152,110,35,195,22,195,135,71,78,69,5,14,22,14,44,104,0,68,160,179,75,116,64,110,140,67,75,76,77,187,112,74,9,31,190,6,185,142,118,78,192,148,42,196,31,197,89,197,173,89,104,159,129,88,118,2,53,177,136,2,62,3,87,65,36,94,171,196,119,43,198,91,121,18,2,172,88,145,63,182,136,175,92,86,153,112,39,5,51,156,51,39,97,196,164,148,120,2,42,177,156,99,23,59,29,39,185,188,109,106,99,160,145,166,105,77,106,9,182,160,186,80,86,57,153,121,51,141,157,99,52,163,170,89,197,58,151,76,90,48,167,31,177,180,110,142,112,145,52,67,162,72,21,173,105,152,34,195,37,118,35,117,116,81,82,66,0,162,71,139,90,170,75,61,109,171,60,188,82,65,21,30,39,6,161,157,59,10,32,91,34,185,59,38,106,73,173,161,195,157,65,135,162,28,178,128,154,111,188,28,121,116,75,115,90,6,88,105,86,54,99,8,41,189,177,191,151,184,39,90,34,89,67,105,101,17,51,150,100,30,97,152,179,153,123,176,99,168,152,93,189,44,179,108,186,20,59,91,35,10,1,14,148,112,116,119,62,131,198,154,147,123,70,49,131,80,27,130,104,86,172,59,70,183,143,39,118,145,115,94,147,101,18,120,144,177,126,27,97,53,124,14,178,21,200,27,196,132,38,144,28,77,141,193,42,190,134,36,163,161,49,57,17,170,45,73,190,77,50,173,122,35,172,156,123,40,164,22,169,125,54,146,87,98,39,165,41,63,62,26,148,51,169,178,81,14,12,4,49,114,194,85,16,45,26,115,39,63,63,30,117,31,37,74,103,150,182,141,90,194,88,91,199,165,80,48,29,57,74,98,136,105,108,153,46,101,2,8,137,7,13,195,156,152,45,183,51,55,0,79,72,69,2,183,176,128,20,16,142,88,149,190,27,39,163,78,125,4,106,122,123,120,100,14,131,29,31,6,187,4,5,93,41,40,121,169,200,120,156,181,126,105,126,134,101,75,86,58,185,67,16,115,200,149,102,192,87,155,122,151,124,173,41,59,49,180,6,4,171,53,28,29,193,103,58,77,157,82,166,76,34,55,76,111,162,85,82,111,8,60,56,94,47,0,95,38,39,60,108,175,24,150,166,19,69,197,192,115,131,112,132,163,57,3,35,117,144,78,49,195,30,38,199,56,88,75,21,156,117,139,130,6,89,187,162,108,115,56,86,51,186,74,163,189,163,112,147,112,130,140,37,140,175,178,18,171,68,2,194,24,120,200,20,10,191,179,144,104,153,85,80,80,144,93,124,89,108,0,145,121,177,117,185,47,51,130,165,111,43,180,8,34,194,6,3,95,2,139,10,148,158,29,70,15,199,46,161,78,177,53,57,189,148,31,53,57,187,59,180,151,55,1,168,94,146,111,93,121,124,141,9,170,140,46,142,29,55,71,68,107,115,73,109,87,170,134,161,197,192,191,26,86,91,148,187,100,183,23,74,80,123,39,148,170,73,81,18,141,179,58,113,164,107,76,13,144,84,39,0,34,179,145,77,47,144,30,132,67,7,67,60,184,81,195,140,151,154,103,138,132,2,21,128,106,97,94,73,44,59,162,141,13,100,97,61,97,121,167,61,109,134,113,53,174,30,89,125,118,129,174,132,145,173,26,153,54,105,94,88,200,63,13,166,10,38,56,58,191,121,120,136,131,23,180,56,26,147,177,88,141,144,96,30,117,168,112,117,137,99,160,169,91,106,142,97,75,142,67,99,96,194,173,111,56,24,134,14,91,192,32,27,96,179,71,95,184,19,157,70,95,41,52,15,48,175,42,192,78,153,116,116,55,95,112,165,85,67,113,140,143,98,140,200,177,177,126,164,193,53,50,11,73,145,199,71,86,121,94,87,8,156,17,30,176,195,181,181,36,90,117,56,66,72,180,120,99,130,83,152,173,127,24,78,156,192,172,162,123,91,88,194,126,174,76,78,83,87,120,45,55,105,133,155,88,5,44,111,167,101,149,30,144,200,135,130,191,163,7,11,85,92,161,186,111,148,110,121,16,190,7,32,15,13,140,142,127,185,18,36,131,73,157,134,83,98,150,133,113,107,57,146,169,28,65,27,35,36,28,158,122,87,175,30,74,97,104,178,170,134,195,173,110,49,17,40,15,81,16,29,129,193,154,86,45,195,59,118,35,5,103,20,197,106,52,158,72,120,120,24,84,60,31,64,48,99,167,42,132,100,104,52,181,60,125,93,96,36,192,34,90,59,20,130,76,15,146,126,78,99,145,135,194,172,179,143,20,49,124,183,125,140,124,6,153,7,59,74,11,151,28,75,156,19,117,14,173,121,83,100,94,173,95,127,108,81,181,26,165,138,185,107,47,85,17,78,173,187,22,160,197,55,28,21,63,188,68,64,19,197,0,35,59,22,109,22,128,164,56,123,109,39,63,156,129,85,86,176,91,49,108,69,147,77,46,119,99,158,168,47,70,58,113,4,67,32,97,55,15,50,61,159,136,197,44,1,75,18,96,32,50,52,39,183,6,108,28,86,134,182,115,171,127,77,92,28,176,144,120,121,124,104,120,185,6,126,15,109,175,145,24,193,174,200,110,39,85,200,74,94,116,46,196,122,97,108,157,37,72,54,154,36,175,92,81,15,72,191,93,171,189,109,8,188,158,52,115,185,62,79,19,194,173,84,38,112,103,169,132,148,101,93,56,63,107,57,134,192,15,184,45,72,110,101,98,84,132,46,165,170,144,157,60,175,68,177,77,47,187,105,167,106,73,170,54,137,157,90,122,196,9,68,94,145,64,54,64,17,35,142,149,23,182,0,93,4,126,55,77,60,28,72,0,176,32,70,78,137,191,111,109,127,129,14,27,101,154,122,94,53,60,29,0,139,48,138,2,37,113,128,131,47,190,152,29,34,113,194,155,147,8,78,153,149,97,73,86,110,143,142,143,121,87,108,26,6,40,156,162,133,142,183,48,155,156,29,155,83,173,15,9,35,127,2,81,113,176,39,34,115,29,106,181,186,189,0,143,197,78,93,79,49,50,122,190,4,188,31,98,123,36,34,88,66,67,87,59,164,90,63,141,160,30,32,131,146,44,80,137,176,51,145,3,82,175,150,147,52,145,26,150,153,2,148,15,112,112,169,142,95,153,30,177,116,182,160,61,163,57,53,52,19,188,144,143,171,154,20,190,116,34,35,186,2,60,15,113,121,83,90,74,112,57,39,98,156,139,166,139,41,78,58,143,184,121,163,88,116,143,166,195,119,120,22,158,118,64,64,191,9,143,108,174,171,157,48,106,197,73,61,112,73,133,49,186,91,25,194,168,30,102,154,195,75,41,98,89,176,162,81,21,60,181,159,142,116,50,1,156,34,65,148,10,134,74,142,12,130,24,110,196,70,83,190,138,31,98,37,52,106,108,198,116,186,85,133,39,104,128,68,93,32,87,52,118,79,123,176,70,8,63,57,69,24,140,47,37,58,13,39,28,115,62,121,55,10,136,40,165,181,116,132,39,130,107,21,80,141,175,71,96,101,193,145,58,103,102,141,168,113,73,174,55,193,54,184,82,57,165,182,17,31,44,184,56,69,197,3,143,40,37,134,55,67,136,134,58,94,36,118,87,141,83,138,137,154,108,184,82,185,121,110,136,82,191,82,119,9,6,18,41,130,98,105,11,196,6,80,98,48,8,58,12,85,144,64,4,183,81,11,54,114,143,65,165,175,142,90,190,39,104,196,91,14,130,105,131,33,69,195,109,181,99,55,97,159,64,111,17,36,70,0,152,68,114,76,25,50,44,85,0,110,140,196,144,131,163,57,183,197,44,34,48,87,198,131,52,9,53,143,118,132,178,198,58,182,65,24,119,165,157,168,54,48,43,21,20,114,43,107,83,19,164,59,139,14,99,171,183,5,20,56,173,62,42,72,184,26,94,45,124,29,60,116,110,46,160,14,59,81,2,75,40,133,175,164,160,150,7,160,18,178,81,156,197,179,140,142,133,119,36,145,192,160,180,163,13,63,51,111,64,123,59,94,166,155,88,62,146,147,192,66,188,139,182,5,156,113,125,45,145,13,8,196,18,106,3,124,66,127,199,169,84,17,121,52,191,162,163,174,80,193,188,123,162,7,136,88,100,117,163,126,137,116,63,42,112,48,87,156,199,157,89,18,165,200,28,164,116,159,138,96,71,120,0,13,129,34,141,102,74,99,130,5,188,165,165,180,12,89,4,128,139,132,114,175,58,77,41,179,83,9,49,98,95,180,158,31,45,151,64,174,150,61,172,23,179,39,152,58,23,97,72,106,95,141,46,45,6,16,10,38,100,102,157,138,13,71,90,120,104,21,149,125,122,27,37,178,14,128,43,11,181,170,29,10,104,38,109,71,134,54,82,176,39,67,169,107,60,5,125,144,47,31,24,80,139,9,179,116,71,62,14,196,196,69,157,112,106,155,187,101,183,10,196,10,31,115,21,199,153,47,88,139,119,62,140,128,114,89,114,43,26,84,149,88,174,162,171,8,51,178,35,77,123,78,139,188,127,92,109,81,117,72,88,116,140,37,152,125,99,33,135,98,158,93,159,112,114,54,32,82,86,25,31,56,183,132,21,115,77,4,197,12,178,23,14,117,83,165,144,129,196,53,189,96,109,30,73,193,106,110,147,168,188,129,129,173,86,111,21,168,164,111,141,93,109,89,86,189,169,34,42,194,103,139,48,190,72,5,104,11,79,151,128,121,114,13,46,0,63,92,191,152,34,165,36,101,93,153,158,64,156,191,153,43,164,85,72,86,55,14,14,144,188,177,109,91,108,148,71,147,32,181,100,194,48,86,98,30,134,90,171,33,3,174,144,197,191,51,100,68,51,52,152,40,156],\"xaxis\":\"x\",\"y\":[8124400,22781941,13672408,10063653,7717313,13002093,8785897,17640263,8599784,8528251,15460830,9837169,9099021,9743177,16414161,16499784,9019552,11359965,8660489,22157385,11232696,9461549,11515372,10002847,14577130,13130325,13905300,8368365,9166824,11882434,13464561,9439900,15513979,10702831,13471591,18478191,5239698,9528316,10819523,11972645,8603978,7402837,8201955,6054496,19867776,3779441,16757850,21186337,8823087,5512842,13163828,6185784,11362753,17976166,5837413,4108764,9033213,14118319,9897904,6098963,10079914,9896884,9255369,12582910,14700118,12397652,14073061,7213740,12210141,13932343,12749693,10715485,9466999,7482031,13090419,14671115,10423293,9190684,12238735,10170568,9726203,6903700,10299127,13351965,18135236,10304376,14851860,13113085,10900422,18216248,11426944,13250584,11732447,14825026,10861682,14188956,11060310,10281471,9895773,9330756,8251996,13651305,14386494,13693157,10663419,12602262,5233151,8003625,8971826,12729658,12196843,9580726,15691527,14198084,8516922,7552336,10858491,19955937,10633056,7682662,9469654,5919689,9697353,4547346,15103380,24309201,10056410,11665156,18391963,6862108,14121017,13712532,19734543,13328517,12712993,8364230,7539941,12245828,12540840,7234604,10925799,11522927,10792235,6980809,6437756,6871656,12054125,20230531,6149457,13145488,9049717,7905231,10178637,12895904,16208565,11584406,7940194,8437847,9573076,9577633,10116248,8899572,16851463,9151728,8735798,10323083,17531842,12970592,23467870,10564901,11045554,8187058,9535416,8684907,19464831,8532226,6161039,15365847,13828056,5223945,7658936,11493244,4156812,9625051,18803694,5406870,8645177,8591779,8860817,10645747,9795113,10398168,9187694,10724260,9130616,11645669,9796068,19943173,9897563,12730811,22903178,14418587,9435528,14491033,22025014,9479325,11324174,13634663,10066321,13973995,4565613,12796413,4342430,12011582,6685085,8696227,7710077,9542407,4990626,13166035,8342435,5990775,13646867,11323045,14737593,18792965,7489941,14325499,15810287,16425768,11707278,13075938,4690799,12412482,10624770,6905036,5004120,7701797,6731106,10929652,15159786,12027749,10164294,15564764,9386601,16275974,10584531,12779752,10398726,7335725,9823528,15989821,21421926,10361919,11717387,7689444,12502508,10940878,10084326,9425312,5009668,13236472,9435297,9565199,13372022,8093365,8325240,13791106,14216456,19253603,15575062,9400896,11441627,12922315,14808412,8436282,11900953,10338673,10688922,14893077,6046272,12560595,21005151,9920740,11283896,9157147,9768764,9490994,7994845,9534946,6778606,12239696,5674312,8343753,14432415,7791992,5678812,17120558,4988023,15643404,17776916,7319928,8483274,18519085,11323914,10093152,14127168,11747605,8166250,10379212,4047163,6197930,10278629,10024553,6493193,21461141,17810855,5857396,6974574,10877718,10123254,16864527,7779564,10539031,20423305,10703027,11466516,15734279,12240513,17956422,16497510,9050403,8738038,8291370,12710342,7803840,11672274,15130317,11041216,11664534,7928914,8965757,18588188,8863855,14311645,9417077,8246582,13399659,16804511,10503346,5618545,12866619,8516565,11990068,22861680,10298655,12796192,13571827,16356891,6895848,7744750,12439620,6903319,10576954,8279261,13023948,8458953,17069431,11843908,9840719,21440036,9131987,8878226,13584064,8724596,6711751,11289967,15234515,12998811,11061108,12931120,9442995,12924044,12910286,7144872,16037480,13129341,17291017,10289679,11097459,21730938,14869088,8608519,8748929,6535181,8736484,11637327,6357660,9189606,14178461,17912656,12306099,8942552,14757719,19140335,15573762,22986067,11317696,7213013,10292349,10635482,5366970,12739823,11181402,17729823,14333356,8374237,8294742,12344939,12584880,14312412,10493571,6912682,9419775,8187320,13215576,10688276,12497260,10963454,9861858,12043525,8799343,8052561,14605410,8949118,9852118,5963657,10723169,13354053,11580789,7501284,7275244,7773369,14292074,11120813,13900376,18388162,10767832,9675482,9389474,9556670,10415859,6165176,13649903,9891468,11070976,12012500,13802781,6512453,11627306,13183433,16385318,12031575,13532929,10702820,14664415,12999489,23276726,10401251,9271868,6560764,7223486,12446949,20689845,20557014,8527268,8538768,9242304,20531471,5581084,13582205,9127102,10504036,8544671,10324934,13967845,11038488,11514420,19513567,18339520,9867465,7219934,20409562,13639348,8646740,12171304,8326199,11226809,5566158,10303530,10369969,10897224,9710390,9733183,13888001,19101819,14260443,9236974,8521418,9672765,7379652,12691798,19001228,13916654,12209527,9395721,12353708,11229326,12754077,14736537,12294256,13130224,11132408,12877532,15067411,9933308,5784433,10632252,11494813,12418314,13280491,8636148,12368116,10736383,17955530,10028999,12352973,16578273,8997829,12104774,10256030,6587571,8180996,10508728,11921131,14125509,9493169,5125998,6823737,7946771,3188283,9770644,18363695,10442812,17710210,7882774,9397550,10099999,21271432,8468249,17325651,12556305,5540483,15318555,11360019,10156374,9183132,18703806,9501844,9167491,15915142,10619400,23833612,7326002,12197399,13952607,12674496,11264923,10839286,5893894,11873211,11592651,13916210,7425843,5970294,23423844,11952238,5125393,10989711,11379601,10886899,8849132,13831520,11262230,22546933,10015637,6768948,7737173,6896718,11110971,8234267,23302529,10117032,13669130,10073536,20706016,15583010,17559459,10911366,8117703,7976208,7521612,15358298,6219108,7881799,10118977,14831644,15651468,13531357,8568048,15359851,13665708,8748608,9993044,11516925,11557128,10252379,8135759,7733533,7140483,11893766,11829510,18939869,8652135,9433845,12300528,9890719,9380141,23631847,8483266,20598604,12553236,15864394,10365167,6674591,14425269,10367059,11986970,12333030,8598124,13316988,20261651,18598419,4951572,9239032,9724395,10241972,20413854,18029655,5083185,9541244,12937737,12947285,13320971,16527271,12559309,10050277,13262273,9556128,7895144,13300557,11055678,7449031,13501034,14720837,12976235,6696347,13411641,10117599,9887897,8516453,7587419,5983651,22956057,9124761,6924517,7051336,10853737,10411426,9498738,10529748,8294475,12766500,9989135,8024150,12595831,11629753,18522257,14228863,11971703,13576365,8902564,13598372,8114110,8889749,11724247,9614994,14401038,6550648,13185991,16978075,9578814,7045108,9804811,14275916,13995834,7337925,7285475,12196550,9652972,9890821,8807254,12460210,5934030,9534540,13171747,14196346,5178126,11030874,10096351,13600324,5634808,11005860,7658186,14709195,7053637,6522414,10364515,11218954,6129529,6331910,14123737,10569119,16637155,13111757,10803163,8133101,7693994,7230526,10084145,9558735,14420291,4581865,13041263,10688250,12811575,11353180,10228221,16315432,5541602,11189285,11132826,15428317,13473238,8540660,4998048,7233923,6222560,11413657,12095050,12581994,12312106,8957673,14176271,11489396,13462209,11224109,8509503,12410899,10674637,18232042,6931010,11483959,9599606,8226755,8762161,21483766,12455284,10311150,12847436,15478513,9497603,10667459,5592170,11814467,12312533,11061745,9680097,8925686,14780232,9706407,7113904,11171647,10382294,8662414,8750548,21195025,5106748,10380975,10474265,11715324,8113785,10423325,12676517,9291078,8503672,9150893,8587774,10598655,10136577,14783717,9665043,8481193,7769300,7826425,8020367,11711447,8751167,8715825,14676841,9528890,8416761,10586371,8353873,15068088,9133180,10910695,24969043,10305454,10400967,11629022,13804650,17419500,21367202,7109108,18300509,10451744,8763038,15420080,15657469,23376897,13267109,8489626,14847192,12411766,15011630,12014622,9173606,21622910,20580987,5181100,12722467,6353206,23717970,13506216,9483366,9159783,9384884,8016334,10451958,20516401,21120989,8380933,8651587,15692852,14000962,9081886,7704785,8053306,10090112,11575591,12460773,6191020,10805773,3495933,16348449,13810749,8401389,13008996,12611741,5115642,22162676,13234211,13660815,11252276,5571983,8801959,14001568,8955480,14303604,9188391,19450908,13610197,9954445,9942947,14082753,11873680,9991394,18841049,9745944,9882606,7077692,13499128,10493835,11568482,9640246,16156083,8615880,20381989,10296757,11952148,9091956,8855065,14566034,5468125,10116222,11173046,13287452,13067163,13877384,20381529,8489564,14588569,22926829,7983040,10486145,8984032,16481036,13028396,7835697,14870325,11451832,12589794,9800516,12535151,15106399,8678520,10338729,14845073,10331958,5576208,9537452,8584034,7630426,15737888,12373673,6663978,11482691,19193298,9374984,11181945,8814621,11942546,9214540,13858925,9715109,9510836,4145062,11210686,17843149,8427339,20026062,9909428,7599013,8325989,7301516,10574123,8187930,9555041,9926492,18569231,13911076,9477550,19319476,10044028,7619912,12653981,12490862,13070743,8286785,11851861,15703677,8748399,18951216,8685700,7064266,7379848,9933592,8581284,6851254,14695924,7372723,6640505,7712783,14578512,13148428,9536868,15158390,13120523,8254642,6885503,15319692,5496233,6422644,8381154,6111960,11673617,9659139,9997642,11844490,14964383,11015659,10510944,13621748,13589248,14482135,9055863,11177794,5427635,18854117,7364899,9920430,13605626,6188498,11496453,13577270,14653003,10657254,8058953,13593765,9310511,10925967,14329693,8874293,11151853,17419750,18572449,9620147,8525865,11427150,21069421,20670252,8512138,8660059,10007780,9998924,9895471,12746253,9697958,14832706,14051918,8229964,10527176,10202076,9995874,12747307,13109822,7081930,13440387,10552221,10842545,14379743,3963015,9219858,9328596,14921214,14726330,11262659,14860036,11079244,9897008,14506608,7862111,11149608,9261872,14606097,10039504,9344769,13172601,10519560,8264986,13676417,9967943,8535004,8714953,11050562,8040648,10439058,12986268,23993576,7486520,11719297,12526795,12384127,11086771,15466464,7082607,11114890,8104207,9456525,11092177,11998586,10301451,9328758,10206904,9338807,9545616,10024594,6286111,15869836,8731502,14116717,4122469,11990681,11274384,9699576,9660589,9217115,7576725,11246278,9055573,5579234,9054245,4151755,7649946,9997277,11677945,7171124,20563479,4505004,10855852,8494086,15094168,10154431,7195584,15640760,10936622,10165183,11985909,9926106,7966712,11988175,13509910,12127910,9988342,9608313,12036258,8080767,10718271,9515376,12911378,9970890,13410144,11738698,7270225,15903154,5312129,9130469,10865976,10819531,5084888,11556487,13379879,6858555,9198858,8835288,10883114,10992759,8503241,9049377,6770513,9844849,9738574,9705266,13726917,17134143,7647693,12259671,16638959,7623549,12511882,9780344,9055326,5949059,10435309,21630978,8049658,7468216,14026892,10831763,19902735,12194995,10153813,11303190,13332914,13776726,21846938,5754198,10957553,9703977,7747373,12018100,6419830,14366130,7297473,9261913,10557550,14890567,18318276,22074014,11252715,11132128,15738029,10161113,18397978,6920206,6179582,10043913,21674579,13684693,13277294,8572993,15772617,5017051,10817934,7645458,19548240,9470455,11116094,4813873,10158136,13330268,9867069,10971706,11955521,7431591,18114886,8846388,9214382,6767599,8881033,16267923,10074396,21709208,9340709,9513904,15137400,9617354,7995502,9428702,17344268,15016134,5800069,8328968,8573261,7317325,13535011,13701937,8090390,7311290,11879372,14687605,19268128,12164580,7158990,12271368,12032323,14677543,14238925,12955712,6444073,8264290,11443817,10452650,14253235,8015175,6265948,21692408,8336261,9190652,12781214,9855019,21396748,15407460,11705331,11093757,13336231,12634954,9731632,10009580,9411901,13610593,13148233,8881178,21871423,8540625,13915781,10514017,7959563,15754888,10630523,10797896,10742363,8801728,13463129,15424860,8686969,15707801,21453046,9679642,13023999,10940724,8964583,7754896,13242100,21671759,9767589,9485174,21871843,6445119,8854570,12365745,9304586,13206970,10771297,13480009,2642292,5991345,8485690,8765685,7387914,14640261,15207475,17458434,16756989,10934262,13172843,11147710,12929018,13675308,8711136,11949243,10494513,11156896,9030865,12995115,6492140,8901375,13104617,9770208,11579776,9499211,11435847,8739450,14118900,12567072,11531940,10502077,18805506,9464275,8974943,8953459,8752143,10568976,8893037,11226418,3248175,11136240,12661883,5644500,9697291,7303872,11312198,21236995,13794696,8251549,14214245,14536578,10010672,7361018,16447690,8914998,7235330,21952307,20802864,13281279,11010397,9507261,11919485,13527254,9314749,11115477,8537136,9697457,8308138,5888320,12680685,11563729,10997710,9535327,12231790,10824713,13021132,10850549,14559738,6875966,21826675,6688598,10127615,10298864,10679570,7536822,15210626,3757062,9082915,7401988,8929748,8778971,12505899,13914690,4403981,10054171,6424394,11894494,12789077,7201640,8405919,8571270,13560150,12346361,12526614,9373354,9487203,13310490,11841321,20539285,8898930,14722768,9800986,7447527,11738565,12155156,13953537,6655296,20514551,13266221,15297480,12098149,12802439,14331678,15495995,10557294,12862574,18894028,18159837,9371447,11334919,8597380,8396307,7804245,5761896,14183533,21265547,9019224,17165488,12936360,7070874,5657796,8579458,8529765,9086500,6422850,11299387,9626231,7155606,22223513,13182764,6021748,3139654,13627752,10253018,9861305,8105816,17688256,6782425,15493170,15898573,10561436,9111963,6374808,13884542,21097807,14045342,17030127,14310551,9965961,9432893,7803024,7653157,10723199,7927303,21165663,10718095,12890911,7734095,3746961,9140092,9182775,11664671,13678974,8507545,8939210,8380668,10858827,8693459,6629917,12648341,12109447,14082423,4150161,9880945,5256862,5512625,9479406,7289884,14286636,13276587,12610177,7171841,5018902,6454329,14158522,14490669,13680923,8193051,19216896,10862481,11702009,21389508,5655001,9164795,8457136,11764654,10407453,6896799,17923824,5523373,11010621,13202357,4729720,14274314,7684700,10245129,14792212,10145832,8100385,9259687,5916504,7171086,11615891,6312395,8328699,7920906,8269704,7864225,9782645,13208562,11187937,14968971,11905605,7869576,8556885,8984031,12245845,12823776,8871786,9319205,13879585,6695561,6752083,9234720,14638759,10299785,8115506,14773284,7344182,6551068,8248935,20989259,13266662,9308557,8225776,12378116,13046977,8590816,12600036,6338514,8341111,9274505,10518323,11566561,8908662,7018261,8544753,13489329,8288560,11570960,12262465,8807926,14823684,19251579,5158919,6436507,7939692,7173348,14777014,12778313,14821885,15343296,7740672,10988631,6658371,6672577,4676868,13271466,11452025,9822251,5515056,5589414,10864389,16469708,9602227,17902321,13435821,7417409,9077466,15180436,7658013,4724281,21205186,12870821,4703982,8844850,12176545,14155716,14574868,20371746,16920278,6780820,11597868,12026107,13228220,9045550,20104225,13048869,5454280,11170813,20728326,15307348,10548397,18302135,14116459,17441201,8417966,11298231,10838256,11230107,9255794,7194785,6654100,11653582,14951181,11697559,15322029,10385561,12797609,14258363,9953243,19499386,7960838,12855536,8675704,12792083,15969505,14394465,21701916,5406512,10039188,8804480,7070920,7323021,13296779,9427447,11106440,5433719,11322449,12140677,4671167,20047647,10401625,5554839,7908054,7422948,12097335,10289253,12828260,9438007,11394690,10739001,18695329,18601288,17383027,15699312,11958857,10615314,14451965,12113225,13818372,7877824,12484290,12942079,13949425,14271386,14456658,3829713,8084979,14780324,13747892,9655431,12500188,8997674,8538495,14175830,10472807,21028331,7056417,16281150,15617768,14222993,11885244,9299913,9596153,13785749,20936063,15485485,10178620,10220553,11201449,12937537,14268785,9152927,21445053,10246333,10478481,21838769,13207340,8954122,21647281,9162806,13319592,10878586,11749142,9764463,6227048,15390057,20664882,6739694,20527595,6129883,10511955,13523837,17655954,10036011,14459763,13046359,10893027,5213611,8086933,12023419,7049152,9520407,11380075,10286542,10683238,13628408,8449062,14539053,13088624,9612972,14686266,8627684,11498834,12814401,10093268,8533703,6370788,13661576,11036025,18292573,9544431,12586672,6481631,10498634,8821645,15049429,12358954,12522641,8591565,21155324,6878459,9291782,8108272,6580115,10841050,11580189,9692412,19609460,13924924,6812501,11371537,7395749,11258490,5977954,14434305,7032402,11996490,5389929,15486440,10160018,8695656,21504447,7159347,10620522,9006795,14013404,11437144,8626392,7740767,7335340,10578078,13865886,6665490,7465380,5641494,7229234,13235999,11911829,15297254,14301130,5632840,12256402,12571010,13254237,13436184,7761373,6007705,6402792,10204281,9542020,16337696,10167622,12410049,6061409,12056929,7225137,10315242,8074057,7450129,9204307,6844237,10138356,10064484,10543401,8657697,20416501,10601304,14216850,13007770,8470287,21195423,9865134,9625480,18451535,10215374,12639654,9789701,18297297,13294004,16668076,7830299,6236910,8324344,9073476,11692354,8609596,13569002,8699913,8539102,11122673,23127868,11103841,10120902,7834046,11988878,7966464,12591432,10383314,8365896,8068122,8089366,13600404,19391563,4704016,8506208,5464781,12328430,12181249,7157451,12587005,12053968,7221179,17314320,9933380,6480515,6085999,12443355,13739121,6024314,18121333,5978791,9422762,15775481,11894719,11636435,21752736,6368746,7407136,12011688,11703795,15205620,12599883,9645631,6881714,8940971,11426779,11804418,22254683,19985271,7741688,7926865,13636195,9124325,14786271,12371927,21336784,14870813,6332307,10600600,9416762,14668252,13851220,14480622,7685278,13172078,7636400,11264761,19365866,8983975,10535804,9915629,21605484,7600131,19884934,13250888,11575456,22050304,7376465,12144984,10188790,10144374,13147122,11215494,14650932,13452964,14246669,11371032,12154686,9515109,5366406,9861228,5177962,13682577,6821085,8895355,9118305,10791971,10096774,8145861,12833506,13072218,7392850,6863303,6237298,12293986,9144343,9830213,12416220,20797424,6904620,9594059,11302889,5544718,10310984,9725471,19849400,14156869,12211930,11780065,7976987,8657382,9908918,14462271,9975828,11599352,13618717,6617062,11839786,14464934,12606234,10352290,16080373,15124407,16395991,10772656,14454389,12303147,9753433,13949167,18074446,10032214,7928764,12432434,12217102,14967120,12813170,11636986,9908766,7813504,13403663,8308463,11693032,15519392,9964765,11143521,11103500,22892240,17262015,10364728,21408638,9707480,8923036,10676047,10093935,8275012,10334256,10426295,20334958,12609090,15349825,14402095,9586495,19342792,10642195,10899281,11090880,12739542,8231964,11087636,14292011,13093137,10456190,6681382,11765490,7417249,13766929,14887121,9207969,6881438,11643645,21434610,8578050,6147941,15643171,15122331,15754117,8251578,11787904,15555703,10336497,7727239,13474040,7326749,7978600,22251835,12660776,11639340,13524533,7646874,13076674,7250061,15324118,13503592,11876207,7896213,9668867,8526427,11998838,6729077,10091147,9594547,6266972,11535577,13679565,8527480,16799117,6790922,10278948,11473565,3611644,13305495,8371690,9676814,10471998,6773241,14541031,9935594,9913389,14156511,21866761,12201327,5609100,18345635,17830681,7300218,8368471,9049035,14849241,13508625,11081013,14329960,7155106,10725430,12305376,10701043,7970562,16581159,6190930,12998759,10206776,9609602,10943792,4515445,11731626,14202338,9379467,12274061,12417767,8136216,14942010,9074189,13625661,9439894,11028070,9747493,10214891,13956947,10733053,16589316,11870678,15238985,12481443,7347865,12870818,22153941,13041768,9299841,12571138,10375908,6044887,12385584,13486671,21484800,7162048,9767830,12852611,12709506,10233116,11350863,13458672,20678150,9699328,10001162,10588097,13112324,11707217,9429382,12815331,12360594,13276673,11920601,9665675,16980097,12222704,8479225,5456454,8515759,10700325,11614087,11594510,10088538,12306879,10974918,14017669,12276841,11682856,10482286,10761387,13228153,5412184,4948256,9429200,13799878,20881872,7336515,13441057,11231352,9955282,11079610,8970675,5138831,14803880,3159395,7890418,21785405,11852465,15666678,9676393,3977875,10986166,13032645,12347895,9713577,10393087,16446515,15303588,11340913,12974198,15452085,7613457,11000696,13214792,13403193,13901365,10549841,13249570,10339792,7246955,9647705,15154821,7768359,7201018,18518094,12373083,16738397,5482332,11050000,12323198,13200560,7118892,6246937,15445474,20063637,15189227,7714669,19666839,8473047,13582687,12253523,8527299,13421475,22216107,10363468,10298430,8042427,12054884,9666655,11289759,14799918,8348642,16339610,8504762,12284178,7817117,5768216,12595912,9761905,8009441,16185505,8217580,18155399,11181973,6821816,9088800,6834564,10403859,9259251,11211537,12076727,9795769,13615970,12826300,9343489,11109848,13323845,7477049,10978415,10109581,8382015,9269800,9456023,11366245,12389257,16662246,8205914,7913596,7621273,16794059,7080140,12129667,10666179,12526761,19676579,7029365,10135829,14740331,18901344,13666090,5741546,8987842,6900519,7280474,9704875,15469948,7246688,17249729,9486060,10981249,14848200,8704803,2796025,13040917,18626148,9346577,11061707,12220530,8174439,6430145,7528558,5366704,6825393,14878881,12204152,11437198,16826576,7056837,7582436,13146381,7935219,13574693,14210941,16416101,11230837,11013304,11304674,10532382,21368434,11194865,9307848,6211748,21694013,10914398,10279377,12943030,10341593,11631945,5816193,9945356,10172371,4141825,9884760,9676407,7027133,14923091,13499745,10202931,13698626,10235855,4048127,9575771,9020968,12884413,12610059,14870840,12229067,15067558,9948333,11055466,10022496,7285740,8125960,11160336,9412484,8300886,4379898,13724494,11590241,11233184,11457613,13359472,11462002,10249471,9249366,11019222,14435487,18504977,6739076,12251327,13957476,11847087,9954789,16699037,17852947,21085676,11434595,11089797,12486036,8938381,6844388,11979610,5549827,9720573,6132713,6738178,10088730,7199881,8288480,9971257,11473523,6199543,6076596,11947865,11583343,18714666,10668630,10220536,9244040,7048735,13807574,12711220,13860563,8843035,17152616,8159497,5955180,12588449,11525577,11011893,12577247,14907750,23015205,9839004,11219085,13674956,12514108,12166905,10611155,11767741,13321766,9909284,6951486,17333227,6909137,21433867,8613361,8134204,6114621,12569402,10871421,11608605,7757558,19213761,11151404,9605248,10598965,6530505,12604572,8522772,11428299,10005760,8084012,13274415,19624066,14421112,7691006,8955261,14487771,8123605,20623807,14758527,20278215,9575793,10827689,6111509,9796054,5952818,8543170,14632315,13646526,13388085,9520949,23056438,10491572,12842676,11147714,9628060,5517150,22007083,12160077,7106074,6283053,12486906,13339083,17392480,6565252,11799506,7085496,8357122,20823260,12312668,10939993,10928662,15421895,13966822,4713210,8617892,12589183,18668565,15985016,12034679,12756242,11085018,16663493,9846774,8180835,6450226,17546191,15235084,15349437,10593754,11424402,17462164,10630856,9876923,10141273,8637018,8751322,7641415,10801987,9593097,3430234,12584646,9889570,9557327,13877975,8901099,10676289,7461217,7342388,12814831,6746067,5454108,11866760,12814422,8340914,8861684,5834146,16358800,17726898,9194588,9095697,14591616,23556652,20162843,9246864,9051772,7762497,8568277,13293835,20493556,16695965,20079510,12801618,7282009,12200656,18998358,20790613,14554378,11913620,20219844,9874688,5303482,22841320,9208958,5485209,12324196,4869376,19806751,8707135,11547394,14753767,10111892,14388963,17414576,13256061,8202184,13766029,8558873,5917784,8731691,16570926,10744595,13834681,8607112,6830886,6216039,13434886,7440277,11042590,10449772,6950150,10416979,4944603,9082616,11705265,7295414,12824888,10722935,7509706,13729741,18638801,15438486,8232429,9175477,17422954,7130310,7523943,11408014,22925427,8672825,20004537,14293040,5645173,15132999,9949962,15073379,14230713,6820546,8454769,14751641,12537626,21861976,10885321,10664994,15110317,9975882,8250130,11297072,5428509,14833984,21632142,16705879,7398237,8233403,13115690,6838452,12450997,12031566,13809022,8921525,4914615,12036509,12196728,17529379,10448433,5669909,7549068,5189490,12641560,9145746,10024278,9318440,20927776,16255100,8173883,14146415,12143129,13538884,10535651,13127053,11079304,11027162,13070034,13051353,7592130,9382114,11308891,13647750,18658823,11661335,7210208,13743249,17918213,5734992,10649162,14292099,9786703,8211613,4485668,9281874,4639231,5283835,17239084,8100544,5568659,4610489,11387077,14541823,10785386,16701400,6855972,8652975,8999912,18737275,12624522,11721528,15589809,4155648,15599007,14941327,8475792,13454197,13352088,8473356,8417454,9621931,8722622,9445011,14546001,19341737,9569221,7804314,14716958,13854567,16987413,12624993,7650984,19107376,9823708,10258918,9637561,13916588,6175192,9690383,10908755,8724330,13566676,8298057,5007982,9672203,11325736,11471765,13406902,9018216,20516161,20986801,8186921,9451431,11963231,7834540,11242105,14163658,12461043,10881412,18908918,12871524,22446412,6663613,14345440,18747571,12996788,10253471,10620746,11189494,9877802,10312515,10277779,13214080,6810604,13155577,12831277,11994453,11264615,10121584,4240431,20079041,12705425,6450365,8189342,11686163,9649317,9551792,11526162,8965698,8460315,19444555,12752075,14003765,11984231,8876485,7611051,10638837,15055083,10619683,8114321,9922289,8932690,6448451,7836537,11076931,9994772,14087646,8995769,14371109,14506778,11930511,14430149,14090883,10092812,13100366,12794900,10460732,10555272,9922565,10685570,14590396,8741098,11183023,10083420,13537772,7101230,9845136,19789643,8580026,12624132,7633290,9585170,13842281,10169876,7332019,19274192,15433241,13197113,13737645,6725505,14658980,7374210,11422365,15111131,13281718,12698749,8353398,13894508,21209843,12391144,13495773,8845057,6639258,13660886,11983749,10199108,9878547,11318845,14804151,10478523,22976907,6845993,4143550,13206116,19912352,16431463,15195600,6982807,8906756,5543242,15365851,11010277,21799167,23803439,7728367,19396919,10305412,18332426,12621766,12779212,8781448,20513043,8490245,13972157,8654131,13882718,9928009,11258828,7594127,9043338,10194902,10572579,9689546,12455564,12670312,7480725,8990597,11644365,8142981,7355040,18168541,14151176,7186346,7869632,8739645,10872181,10839711,7633319,11095392,18141179,13364585,11504010,15517378,16169236,15139578,12210147,22676389,12170854,3172322,8421763,24018589,20341786,7641741,13883509,10234017,9143331,9758062,14586637,14207169,13298645,10762628,8564199,2973477,14523032,11832323,14022218,7609116,14044569,7957132,13933422,8848740,15313432,10943862,15050151,6680347,8638336,11461658,13971154,7569823,6476000,13006308,7478592,9385291,11783879,5983779,7259045,6199365,16526982,13399945,12908428,14404603,20049042,10620118,6876617,12933846,9966894,11234262,8216330,21926048,4666664,9236397,6185833,5063032,8592716,13920602,14154173,14329214,8689597,7759548,13994243,14299773,17490219,12295397,9938410,13748146,7444272,13960475,14567229,12625417,9653335,14789143,10403830,8854514,13777399,10715745,9233770,6609767,8385001,9408382,11909302,13185962,13597262,23614136,7656816,13704577,10570583,15036000,12282552,12795299,6428981,12611546,15006276,7116186,10779169,9785807,9691318,4796690,13216930,7465113,9052445,10172574,4616003,3429014,12487939,13722418,7277873,10060132,7285133,14442393,14274960,10193140,19460095,3768608,10942269,7357162,7460553,5574805,11432093,7083848,13666686,21437853,9948528,14807131,15008083,9341337,9050810,9195633,14610832,19176568,8492761,8322507,7935270,8287534,10160929,5043740,9859239,13973096,15370974,7380204,12058508,12795399,7999641,10474627,10077466,11041291,15282262,6350930,13182516,11779305,13500081,10053581,3795684,7569846,10698392,12632173,4838339,8926812,9722574,9720731,19046402,3294720,4424645,9734364,16015764,10885617,22776724,11053196,11038409,8953152,9729341,9928737,14086079,12873923,12574884,9338220,8508803,19787945,7864011,6997890,10339219,8632850,18301349,13698515,6207435,12100740,14407333,4569130,15935052,16862149,8618744,7276816,13527254,10689441,7665832,17439103,14696146,7055917,15739749,19639473,4283876,8870201,11634339,7307209,12807413,9240925,10164244,10404061,11287757,7067860,16358203,14335884,14072252,12618599,6930320,7481552,8044431,7310828,5271044,5683478,8374496,16234498,12400436,12583468,8716033,18217591,9899858,7607303,10748585,23721299,9009824,10491201,14502665,11414232,13894873,16482525,10025647,14214233,13758966,10634520,8867030,10477193,8391640,7155094,5658926,12725672,8752491,14529316,12311184,11645512,11773601,9380742,10116579,15115930,4928791,10318710,8923229,6498625,14013950,19722522,23259213,15815909,8527034,12517056,10074810,21776061,9722186,10078976,9825577,23643369,18168149,15012941,16455907,7361921,9834437,11319910,23056356,12405375,23190223,15309372,6865535,18832691,9836358,16506778,8238250,21154323,8266311,10491520,23600457,14704709,15630186,14308876,19378601,12556492,10254541,8636379,12358695,8996634,21134979,13665669,15549818,10056943,9481374,10318704,7322340,8867034,14212672,19456368,14118347,14155749,6483286,7399042,13180117,11174757,5700816,22155707,9143157,18949116,13008841,12594197,11880709,11272435,13477821,16330613,9981224,13498855,8003525,8197681,4466672,11921337,14911452,11676704,12829421,8182051,10424127,11255625,8223767,8310305,13503762,10730044,17329961,8795022,6789365,14579317,11379237,10894666,7785636,14295811,8035834,12782390,8694651,9424369,9446091,6978703,11335115,9142472,18367069,5976482,14290218,7964574,8255045,11456002,9306504,13205258,9192027,6437074,10838580,7447394,11482234,7782223,13562388,22681808,17270568,12786852,11222867,10730291,22535997,15252296,9801575,12381651,12441051,14933733,23493065,11127725,11899881,20135221,23339935,3393899,8419478,17767838,16231873,6446239,14774893,14386171,19406498,13928477,9338799,5408069,7224960,15624406,14099090,18697710,12329564,15473364,13037084,8908458,6342070,11065451,9172017,8861392,8919685,14178250,2253935,8192976,14866552,13611932,6556889,18077498,6699741,14377307,8448836,15276363,9716717,11444082,9702380,5214913,12896691,9211093,11797559,12677253,11034913,11421023,10681164,11310905,15380123,8597657,12137704,9305778,12007282,16050763,14897593,8747820,7372418,9284287,9037577,6336099,18615644,8647344,10810098,10251536,10307755,8225552,8178567,5642050,6710088,12144026,5777643,9962148,8283161,12172827,9199291,11679420,20657351,8678894,9913310,16625553,11636761,14635728,7091942,16231588,15441281,9554873,4575963,21669477,8346676,13110082,11781018,9452154,12536281,13884998,11697461,13663875,19587816,13905730,11075053,14174774,14401076,15593824,10814916,10372157,14219175,21137174,8025165,13485827,8117240,10046285,12647138,12211562,22211878,10192844,6865579,9043436,10297148,18486044,13579981,13149303,16926764,9721331,8543569,7854625,7492346,16061409,11415680,9686789,5375664,14764454,16285393,7900295,12620418,11057919,13782979,13837968,9032243,5989214,23167417,11020882,11562480,14308612,8013223,6143259,13921614,8037243,15245971,12562104,8895975,8311066,12531771,13122104,20045497,8119396,11573124,21760861,13357604,14294780,13209674,10887403,8217358,8974016,14690287,10669084,10793953,10496342,11145024,9132360,16299640,6820836,4946795,15154768,7305777,10515005,14678457,12811189,9348573,14419358,13760521,17744002,6001608,6832864,8540768,6902991,15503658,10077563,5740622,12417133,13779699,4622955,13868489,4672400,11679787,10896535,9280523,12643316,15868576,19678686,7688082,13820638,6250753,7210880,13324515,8098476,9079134,14354645,8435839,9773188,11866572,15562156,15261924,10600547,15143500,16949158,7535074,21460214,11071674,16574854,7718250,8037795,14783009,5289815,10699463,13691636,20609126,11920750,16225690,6287494,13111402,13131882,7899990,8849345,13671409,11041969,8972543,10613913,8830740,6812027,7458724,15141884,8891381,11338783,20494719,8932495,9791999,8763376,13014524,11618707,6683036,8422420,13973207,10376644,9823069,4628531,8642777,10242458,14517294,12862024,10096694,19853696,9323342,9041121,22858374,10869747,8016334,9553701,11204891,13996145,8920694,20479346,8799214,6188028,16888334,12881660,6638058,11517464,11093077,4870547,13459912,13515668,10798668,8990816,9182265,7511011,11363024,7619899,9064155,8316858,8315616,6417143,10467778,13923830,7165643,10274283,4054455,9273075,5786000,9107905,9798081,11288943,13062751,3795197,11680140,11688708,13585023,12683609,14603074,7870992,13901784,10618679,11232253,8820090,8982050,13338748,9168739,10495993,8940061,11790920,12772389,7894901,11399512,11735089,11327820,11839550,7229164,5943168,8684064,13248632,9431288,19335042,9515504,13782733,10411211,8449705,12567787,12525057,8938031,11851056,7159771,13841757,6832174,14545763,12833113,11636008,12564988,9504260,21971570,4175730,14529136,10306671,7644277,11458212,9414298,12639399,14211285,10015397,14212306,15219478,13092388,7989391,11353800,10042142,11178306,6436026,18327604,8475559,13543974,5325431,13688873,12096784,14312268,14742961,13250064,11956452,14637173,16548277,4097486,14558414,11369501,11294830,7058040,9220543,9445554,9425117,8675535,9594775,12070552,5731736,12403664,9076496,10727630,9664772,13814213,13639322,8886913,10460088,12011262,5428752,7823880,6342483,15021495,12397660,7410353,18369951,14302277,18830994,12926248,9044450,11012940,12814557,9405319,12834991,10774881,15615167,7473329,11464423,8559579,7935576,10194702,12470313,5723932,12081121,7998139,12447529,15104072,14513691,12349613,14377932,14754178,12581759,13903449,14033022,10974138,12375340,14726913,11277041,11570490,6188390,14662390,8652769,11268966,8711344,4514685,8321680,11740212,9476915,7371487,8782209,13017469,5979914,11695280,9777520,9671896,13429835,14645556,10556172,10664680,12999730,14233578,11291414,14097448,15079324,18104919,17823116,13296838,7033878,13649788,17660240,10744615,14481560,14534041,3647424,17494542,14763478,15587364,16175636,12180880,7786864,10678238,9714957,12923652,10164223,13878039,7861512,11142190,18235062,8252324,18012039,10502150,13800427,13637317,9142911,9482495,10015044,13669096,12841868,4905151,14541712,12591774,11879591,14557788,14157572,15230699,9440652,12453934,14583699,13562566,8994031,9660761,9806292,16029892,8936752,10243482,9555887,10075832,12071961,9701574,8599001,17017471,7833916,7277356,11039066,7978642,8940447,12057514,10989732,9350247,12254580,9168030,18144952,15288578,6847733,8707767,14219204,3412363,9227664,10378924,9303090,9742572,8692621,17286495,8522483,19249475,12435397,14298043,12405504,12110890,9843331,6076504,5110573,14565791,8040399,14074118,15639684,13951324,12233649,12983267,4424821,9336744,10595516,7591242,11796485,10106828,9299701,22813564,14684768,22879655,8891881,16392927,8706485,14093315,6695271,12807237,13620376,11410179,8480741,11477266,12902159,13850904,8793362,13166083,9835841,11679665,13697234,6665084,14091903,7032855,10357503,9589735,12697647,14864804,9297771,21294089,8452647,6948282,10727782,9525022,13922515,5349681,13258940,7101992,11948113,10434004,8079720,13572717,10294410,12571810,12605231,7115273,7545489,5578040,6514965,12491559,10394978,15499913,12853693,13199364,5201266,21631855,9134164,11173832,13853373,8105592,18429736,12915576,13232606,7340204,10382747,19344030,13858905,10445904,3263830,12582803,12525878,13977614,10951135,12238966,9401096,6417728,8660103,14087478,13860790,10811745,9044570,13919440,9861950,15059430,13055488,10799993,8952254,19368022,13885352,9700848,7627712,11962561,14297780,7504397,10217473,8531811,8973127,12114586,11898329,15984264,14109889,8793977,6479877,7987832,11342048,6630463,5676370,7056404,11336103,9181686,11201871,9310120,9079106,8246959,10187290,5687644,15427203,9409150,21034772,16316004,11883587,8471736,8270164,15146119,13087684,17586676,10192235,11560438,12840553,12275740,20696806,10218449,9515603,10119669,10285028,10422923,8876987,11814570,11218904,15546349,12146740,10610804,8992975,13406800,12554528,7882461,8725130,9761742,14884891,6723611,14158484,18159051,11043881,12716556,9511142,10118769,9039018,4765435,21532100,8108887,8887802,6705727,11042828,12950123,5033757,6922099,8637762,14285052,13755541,8872951,9727863,4029432,14096269,9973001,8633472,13653956,9795484,22792953,14394495,6570956,13613927,20690699,9235546,10473123,11345971,6960072,11224340,9513739,11494127,8809964,7040225,8174045,14610787,11117632,13361212,21927151,14491273,10385180,7112880,5639605,17916305,14337170,13251190,10529866,11515007,17129028,9229489,16281436,14685073,11494017,8372587,12303577,18137395,9362231,11630850,9640924,11788883,9636711,10669735,7006348,12196432,10556040,10353233,8872693,6865736,11521301,8745027,10973726,7085496,10327652,11974040,11938244,21022240,21275978,18500909,12116132,8611644,3544982,14613802,8009183,13656306,13167012,9944520,12829256,6304490,13687363,10631324,12323609,12109767,6473870,11380103,11350375,10951560,5699356,7782298,19818843,18857517,20699335,14832042,8283402,7768802,7205393,13369217,13644847,18398886,7290165,6977969,10049070,7899907,10113111,8110425,7315863,4926810,5363492,7890716,10634736,18697062,22342343,12080074,10051299,4720698,9314019,13974224,15678720,11076783,8328280,15122368,10694890,13658558,10621328,18053179,9749897,5814647,12246665,16290965,10915872,14811539,14408516,14328394,8231614,12875464,23045886,7864233,7859266,10475808,7157336,11048400,18400116,10550540,15869854,21402436,11635720,13270513,15641347,10575258,10628283,5889620,8263649,12126081,3394015,9696553,7584133,5844159,17522461,9905367,6794698,7488201,10966346,9243333,12939624,10829052,14840397,8090598,5864456,12961896,8359157,13389925,10271490,15678555,10932564,6822172,14529944,8970259,6126881,16060144,8198372,13685704,14642876,10234889,12434716,13542609,6519793,7060495,6979244,3383957,15468469,13126056,9403972,9393573,9215913,11492406,10601981,7422888,8842242,10676012,20586843,10535552,12396274,13029573,7573122,15054576,12751102,10580661,11179814,13674647,8379144,8363352,7471317,10888597,12311948,9407060,10227185,11544592,5641349,15415792,7621990,8342042,23560953,8720700,8502318,14589459,7828669,11717481,10221404,17003563,8054509,14816194,11460928,7973542,9064110,9784901,15179563,15041962,12982851,11038889,16200653,16583490,15797021,8385535,10007991,9258941,9595294,9490400,12956009,4792010,10053040,10305851,12256150,8285592,12582106,5017100,14494986,21691585,7301805,10071761,12728663,13011863,10311715,7393114,13892573,14874946,6574167,10925851,11023140,11587482,17416426,10043417,14402577,13392099,20393118,12919239,9712024,9819916,7194075,15234454,15306138,8767342,10744159,11210734,8634866,6575423,9324169,10760313,15972095,14065523,9217361,10132308,22112294,5411631,6401721,9715732,12956555,15445663,11811191,11613961,9917577,10977268,8389140,22110498,17362741,9393869,13052015,13503606,9578082,8249097,10369415,8964534,11062432,9409730,8687029,11959968,14146529,9058890,12546757,11894033,13853768,13107689,14137542,6904765,6981776,7094572,23120343,6106320,12042051,8756454,11760789,6317842,14014467,11714078,14478626,6111696,10246583,10929005,10761708,20999217,7238592,21676345,6734533,11027605,12459868,7191257,8292284,11896751,11942547,5773680,7946218,13223618,8881284,7308450,11761161,7493394,11868647,9849482,12830445,9222265,6811351,9078168,11976512,13443880,14158645,12347690,10505772,10758675,7925821,14418891,6919500,12124280,11392695,11405667,14549259,13228366,12025220,5405265,9111039,11845308,13012053,10178356,9966494,7726399,13886520,16262141,12884538,5992296,7443693,9327587,7037506,5356050,15041877,8592098,7381517,8013672,8129130,15486596,14716171,9910168,14119371,11643863,9908306,4095575,13732862,18205874,11137563,7915727,9294689,10260369,9790155,12662447,7877210,11139516,7154922,10101519,9465088,13679503,7433685,6518519,13671344,13705708,14002726,13001647,9026637,15616478,12199312,15723870,16963365,6378768,13208179,13249208,5321578,10295012,6013252,12655976,8029756,6789448,12302681,12633955,13617394,9549767,13365786,14640585,23093588,23187726,16508079,7076200,5848230,9108011,16157611,21848944,13315208,7218600,14648982,18438253,3775008,9998308,12885434,7997228,22247899,9344240,8330494,11619699,22121001,13048325,14672974,11617659,18887311,10495208,6565620,13129757,10291554,7532916,8617441,7572034,10578361,6351291,15343216,7562875,13921060,16183782,12008360,11342237,14588792,10110304,13109755,8272126,13376206,12549065,10003755,14830450,22931417,12933060,4153550,14900142,14649384,11231743,12941712,15201114,14962712,13086728,9941166,11219710,11424937,5419601,21924843,13461022,8213265,12769306,22468427,9146675,6746923,7849855,10718830,9682469,5202121,8024968,12658551,22289485,7865278,13571763,4796690,14398770,7619110,8786513,10305495,18091350,12805400,5255738,10858692,6727268,10631760,18507352,14828855,4160402,12210833,11061948,10811063,14678150,10034282,4686605,16497540,10517698,11777873,10192056,8748224,13644949,20544574,9974473,8808479,10630459,14969157,9907363,7816136,12850643,8838941,13545138,11481747,13686536,14787084,9449018,15147789,13128937,9790583,19652546,14158882,14233770,11360635,12858199,10638360,21308869,13415080,7874818,18361577,22776224,11952155,10398018,4823006,15455746,9645862,13152214,12107918,16587531,10286496,8026208,11094078,10616561,13833994,13532423,15177157,14293103,12819985,13328714,20938697,12515595,8240425,9526914,15760335,9754794,7405461,6274800,10206172,4391382,22113894,14010346,9239398,16285599,14814085,8433776,11306554,11839581,17864903,6542055,7639626,13532908,8047782,10113022,8645792,7413647,12923925,10934449,11767698,10128354,8534707,12535296,11926889,9821467,17550229,14776398,9936686,15647042,7428566,9659500,14116817,12984359,19896949,10199230,11714706,11650158,4245626,10777409,7710675,8669846,14614352,14386628,8184469,8759570,7895167,10701892,20575457,11211193,8786228,13400249,10108546,11316346,13421607,13703508,6860140,15888288,7778425,14906888,9404301,9086832,10995927,10265258,11238187,10965393,14019224,7570344,7234007,9585036,15106011,15005792,9101193,11444870,7298293,14928437,12770659,9862453,6283053,7305239,11961814,12739581,14661943,8316686,13452171,17064520,12790194,9149816,8353537,13172278,24340227,9708595,11829798,13285937,7622796,16189223,8193163,12337714,6047711,16290100,13696903,9128958,15257217,10144514,12689216,11793087,7418441,8177086,12316175,13838470,10745433,9258448,7408563,14075405,15937206,19678952,9962941,10800563,11827148,10210656,9689273,10497282,18401673,6164589,14868844,12846047,11121651,14212440,15038882,9648839,18370265,8475861,17459514,7630259,5550929,21629078,10403223,17845991,11487630,7438463,13882123,10496049,9235071,21402611,4747367,8376504,10343802,13884317,14496223,9992426,10296495,15062444,8761595,6913487,14334381,10143671,10488167,22827053,9833515,8289256,10472134,12261783,10481277,12443908,9819107,9124012,8367063,12061896,8403212,9286566,6305688,9393466,16503443,3628841,10506194,14914441,10556797,6978034,12120578,9021833,12059220,7342128,10317629,8410711,11937004,7710003,12452280,12901290,12040537,12735416,8053173,18944628,17202386,11230888,18969439,12834705,11648448,9202294,14096504,8643644,12057506,8613847,8691455,9445971,14620982,11063936,8446108,12796846,13160176,21329859,13181336,13229247,11934321,8546271,14787371,12039006,9841364,18340513,8217985,13187998,14744490,6845286,15559272,10985452,8754686,9137481,8241325,19821002,9382951,13653542,14437046,9190836,13073861,9128503,9276611,11453777,9961641,23395805,5029111,10864279,3199416,15461151,13517003,10334114,4616343,7187745,6672462,14328847,10470650,12703708,11314401,13248833,10249598,8929706,7686720,5749354,14040402,4971287,9232040,8165036,17891829,21083398,9345490,13204231,15070373,13643187,9189314,10130579,15814997,8901721,13475328,11489742,6587619,8895138,6699978,17590135,8164452,11940799,9331420,15828344,15864510,12432467,4439424,13359931,6338514,12633000,11655353,8858863,11253304,8972595,8659947,8345568,12820351,19633255,10989888,13621361,6836550,10556087,8029500,7534086,4195592,12926399,13397361,9278819,8869297,9634153,14630275,12352735,13065609,14009018,6407037,9341647,13090002,9601228,18559798,14474162,15802694,7739749,5971257,13639766,13153773,10540774,11451123,14126527,11308476,11303240,19218399,12189174,16263177,8187464,12807789,11211984,9316303,8687102,7137730,15215450,8873574,9874411,12239710,14446247,9274493,8402341,8769985,13422038,6242704,13188755,18395302,7953998,9741000,8697790,7786400,14333267,9068867,15129130,11058535,9806762,12733407,8896431,11159154,15451900,10915503,4215210,13656356,14892476,8751046,15173453,9165780,14630901,9774201,10536750,10521222,14267582,8533546,7258321,11051882,9841364,18819511,11738015,6571103,20202841,10456458,13498229,7842660,13922265,6364981,20733111,10714585,15740267,7790380,13862051,5400263,11346119,7000321,5161202,8366963,6939975,11516891,14277889,11084485,12168531,7412129,4660819,9912585,12659558,10030313,8630272,8604928,9406829,11464713,6019211,10263705,11784681,8573261,7923524,15379484,13959895,12383406,11654563,14137337,7452822,10177571,14432363,21549386,7794831,8354904,13052630,12990745,7987510,7404781,8978055,10959585,14155815,8580866,11339546,6432759,9044230,9706779,10226125,10950396,12205394,10645899,15434288,13918178,14684444,11870777,11220907,8690053,7090163,7203600,10997182,9363369,12380155,8183010,6855521,12134715,10245614,12741055,6782706,11663323,9673388,11618842,16709571,8086676,11362072,18364185,11902884,12818635,8215972,10196873,9591339,8494658,8392157,8792742,12676017,5180959,3962588,14504216,12055839,7766996,8615790,5504219,8875012,7807091,8505509,13833703,11393929,13556496,11878949,4962298,10844820,8518720,5988761,10743436,6117418,12795681,14779978,11016580,9844365,9165049,8790039,10077175,10417980,9558551,9566828,10420434,13704162,16198569,8858835,7977016,12581843,12144026,9163527,10519569,5717852,4935744,12335060,11319518,9276442,14747963,12673481,10244513,9809476,11745479,5551042,10620439,10298160,15830312,7444830,9626094,9419425,7803998,9072116,8572852,12590052,5594736,6997612,3364923,14579922,8585777,5198687,12965404,14205085,9814350,6183761,12195613,23843333,11865994,6554315,6411433,10657632,12741654,7738763,10056182,10895304,12476726,8087030,12835929,10470291,8746608,12125056,9070912,11913452,5767041,14068749,6914767,11220573,19456374,14198095,12522584,10843268,12132881,9511193,7873201,9335752,11394541,9887609,11498614,10239653,15772566,4903461,8366824,13076923,13048048,18127675,21320371,9015801,18824144,4741755,7444138,8952262,13037181,11045060,10045626,11730975,7515473,9042538,9216271,6267760,7226208,16394042,15178614,7219575,8690864,8500004,23378516,9627678,17097880,5012011,7773624,19760244,11233806,15076021,14621344,21455787,9163398,12317075,9501767,6779790,10909279,12846786,12636571,9724606,12091086,10232305,13538371,9673157,17325158,7483296,10581519,14869112,12906148,10001712,9152331,13082966,19551249,20492444,7833074,12302994,16010211,16045719,5516700,8619678,13681916,6109490,7268612,16460598,8633544,19135346,14667587,8468253,10839921,7215677,14021840,11086128,11981904,12212710,8309512,23637346,8141229,11620581,7978410,7697879,13824993,16835360,15796877,7965992,18052509,8111655,12708788,5573829,10240456,10245824,11573519,11230678,10336175,11331515,9418438,12560575,12624869,13303580,13084555,12371332,14326689,10635212,10311237,5674048,8873583,6513387,4876571,14025243,13913936,17339969,3958242,12599392,12954249,6812814,7955792,7531902,11713732,13205641,8242508,14694412,8745595,12583995,22314841,4082678,14190413,6713878,22843754,9804094,11570041,12110723,8641794,12558706,9700492,17633369,7977081,9602202,6926853,11655176,9421219,14989938,7660449,8213087,15712479,6116768,12430572,7801804,11375107,16336697,11157280,12108907,10084581,11560489,6653279,12394749,9306206,14091587,7979652,8560730,10693089,13045819,20857585,7680235,8046290,9608945,15776078,12982749,9015374,12895872,9532023,6478583,11470813,4862189,10489601,13586429,20265408,7303271,12665230,11246722,8880179,13873802,6314981,8032178,10190760,8950102,13794753,12511338,11587959,20648965,14035224,11328725,10029318,8045054,8656096,9059054,8067514,12201247,7475282,8113560,11031756,12424126,8603315,14707566,21386655,11532009,9309174,6530492,15585006,10135144,12591844,10395663,14580931,7546969,9893576,8086072,9297331,13881623,7599043,12516556,4762314,8886318,13401885,19823365,9494729,14208094,13912747,5976878,15209576,10100384,9425438,10068500,9391612,20923190,12963496,8117292,20771496,14385197,10827666,7329584,10535912,15722797,14558379,8700595,9581780,11253341,9665313,14760312,10548362,9899261,15336794,15877111,9401239,13601388,11537666,14362005,9226486,11000111,8898603,14217043,9425611,22779671,9340078,8209125,10727729,13878428,11738964,4389562,11507831,9678263,7569719,19302056,6015120,9352221,10967812,8457702,10746863,13381228,9349988,15430393,14640103,15229560,14156380,12659768,21046404,11158646,9874027,9489198,9701031,15423813,10654099,13678371,8954974,6808222,10090215,9523042,11450196,8281922,8813221,13105701,8995403,4541419,11712379,10210947,12991327,8783268,7727455,20820731,8635200,14039648,9025409,12346541,12338467,13294534,13175510,12048400,8941041,9566189,17170343,22838130,10151822,17103778,12056044,6944967,10135767,10331222,7385855,7566615,13089717,10278517,19894688,17550092,9936093,5860965,10705059,11477521,11173115,20145243,10046137,7890571,8464386,11420800,8192381,13612191,14224336,9533125,13597435,13321013,7191990,12605463,10471879,6555726,9618703,16712469,11104429,15783931,9312780,12172884,9053296,18298245,15262089,9267685,8918684,7010850,9532585,11914392,14161540,11707605,20637668,13983698,14185008,15153210,14411810,5666700,16928405,11520558,9108112,9890171,12659977,13088154,5302573,13669875,4806355,18916472,5446174,4732467,14846685,11161821,16697698,7366350,11772750,11046001,11372528,11023219,12122995,16409727,8187919,12671509,10982127,5883803,12266915,10559336,10716953,14407601,8633100,23609988,9980696,8915659,7925395,13509998,10640344,9277236,14638030,13348867,9472061,9643506,12056044,14819916,8037606,9589441,10348518,7484171,6676353,9176092,14006756,6763569,22118021,19355218,6859083,13250257,7453638,11510740,16577533,11011698,8812550,12106845,8132410,7661842,10203590,9466131,12779078,12906116,6965343,8968533,9761788,13487958,12750883,8556373,8696330,14768466,10148025,13359503,12476628,8526191,8043127,13574681,9690812,4208466,9998889,9598220,8753600,8684222,9177596,6446070,11665684,11655770,11531883,7894050,6806379,8677972,13598977,12498231,13290757,10544484,14325708,14673921,12223888,8456908,13125607,4154734,11997954,14545712,12976211,14514461,13508073,15997214,12012775,11233200,8283692,8938761,17476610,13585002,9111889,14471781,13127531,20210984,7640720,14576235,5314860,6681826,6131855,8208687,11286633,7652323,22653010,16294505,11883656,10887651,4996125,9071744,11470430,12056058,8680997,9664188,21800136,15738359,15992925,8887098,16245454,11934473,5743704,10985723,8031524,9678437,9618731,9761975,7103304,15985206,9934535,12796780,12747863,12090508,16076850,16064011,8049794,18339019,7853286,3842786,14636337,10756740,11654222,22311105,5872791,21080868,11384038,4916383,8385960,10692402,11776523,19945452,10511821,19310650,7408939,10693959,6081367,6284309,10581798,7771124,13557054,12242111,12941196,6955988,16007859,10769501,15892762,8548937,5655328,6943913,14177928,13419919,11153584,10047904,21358357,9926768,22258475,8932451,10954234,19252436,6610860,10629450,12965462,11516273,7071281,7459891,12557194,10170170,13221862,7604363,15148240,21610323,21650915,4630081,22962065,13956736,17140096,19878998,9188148,8610100,7265803,7460507,8186022,13123849,9029490,11518089,10602400,17370938,8349395,13043162,9982752,5904408,15443272,10259915,14490276,12365200,8240334,18711016,14314642,19297924,12098445,14380670,9141054,18834836,8830036,9255825,20875295,21360690,23534529,6030024,11392178,10721416,11375276,7619002,9895169,10611423,13457409,14788932,13160562,19848749,12388322,7441052,12415419,10273110,13998859,9854795,23476321,13184493,13401640,14552409,21440207,8454118,11575230,15393926,13809842,7111748,7469926,8715055,15119515,14299783,8294846,6986571,5830822,8461168,9078924,12319008,10030128,8925994,10318133,8769214,12657942,9217410,15832291,9270771,5944040,10321347,5339689,19643910,22343040,7403795,14199523,13851385,10047353,9406405,10224803,21215220,6506316,10745349,8628630,8885312,19675497,12890794,11910925,10696986,14586896,6171924,12458060,22062106,6951441,18569776,8027324,5653218,10919578,13207519,11800789,7478209,9668950,13797844,4752189,8047685,12983253,5839184,8473977,21092715,21868203,6775562,20207596,16003065,10444577,8201398,10714802,12661011,14071578,9318879,18174476,7818735,8134317,10508256,7460040,13049067,23088741,10604615,6893840,7999152,21630078,15114904,7274137,16215259,14331637,17127334,14678995,10095390,11099671,13786334,7174123,10243837,14487130,5576340,5188050,10384903,19982115,9864834,8953358,9286513,13815341,11200329,12269035,8681788,7612644,12235845,7708388,9005768,12386993,7885207,12986299,9862388,11388547,16079908,9018507,8757701,12054702,13498485,16983984,21746240,12178744,8166685,17579780,15244529,13223959,8637949,8751428,11660702,12559828,9447505,11707135,7534183,5571095,8792911,8056669,15683379,9162161,8275042,9201816,10891403,14995874,10443635,20688076,10874436,14218987,13929377,19020636,12303434,22207706,12696020,7053470,14142441,8455278,7379321,8821520,13139940,15451576,6356804,4406566,8878064,8861271,11663236,12465264,8334553,13405221,9768075,13870927,14873108,15918197,14497156,13865573,11780425,7781522,7865989,14793008,9761243,7836409,15800527,8110424,8630870,9934606,12276162,21493450,7520936,10187897,8414758,10409495,9711456,6398655,7400850,5730988,12754275,13506041,6637052,8890272,10377882,10414172,7426850,9285873,10268667,15135059,14323103,13542784,10677630,16354006,14608404,10583699,14491520,6383972,7175806,10409531,11861669,10585946,9157080,6560131,8095385,14330470,10466959,12906125,7840967,11145164,10374971,10233982,8982350,9469010,13769717,11512374,9535657,14749669,8333178,16192081,11394328,14681154,13155662,10868144,15170959,6666847,11003223,7807049,15860792,12162194,13486781,7172949,24200534,12840237,15874569,9842501,13456279,14856973,7054893,14092933,9531862,14893508,5972482,11613473,11139589,8097835,10139180,14061684,14187558,5386313,19846483,12550934,10425221,15254662,10157047,13972322,12149759,12707216,14274473,9828254,8006430,9864515,15765189,7291209,8228532,14030020,12061750,9973637,21543051,11275771,11603347,10503899,10679003,8423495,5813646,12190861,11554043,12804076,21769558,15716841,11529822,9193086,12130986,6733468,4244506,21760263,3489289,13183858,20004028,12536495,13947660,4032225,11441343,9295120,17964899,9194955,14829259,7619824,9507249,5379000,11742414,8223218,8866304,16389120,11858583,10035484,9390497,10368832,12675620,7171431,9122134,4861570,12193867,10390826,6273383,7209077,5398416,8224084,19329785,7594241,9831895,8148179,13163346,5729178,13771441,13202285,9662714,8225518,13265973,10167234,11880544,4535591,9343778,12655720,23061858,5290088,8962379,9945570,10305953,6367089,11014125,16646724,8018619,9744287,12005064,21777234,5773640,12595671,11756054,4284239,13802328,12373620,14936243,5657252,10050741,10180561,11633845,11971504,14168025,5805648,8216602,5548488,8926580,15257400,21181695,13533251,11153205,11875459,6374185,11157542,13691262,9980775,6034942,19821489,9292058,17601350,9628652,19895660,10906942,22498616,12026072,11937048,21213930,8564168,10636876,17292438,7468923,13574010,9312093,7404818,12873774,9886626,8311558,3986132,6942539,14060743,10583907,18352280,9377721,12742066,13319387,10747815,18030536,6524648,24788923,18385667,6472366,19398496,8259927,11720936,6256076,10105089,8391161,22837255,7862293,7026030,23635103,13745933,12521425,7492358,9467166,9410981,14621859,22307330,8221635,15272636,11651850,5075280,8813143,7483499,10996554,8771682,12302598,7643360,6460212,11473186,14194732,14633430,7473704,8522426,17198292,11589979,6091633,7231627,20069493,7305525,9071384,14556199,7364034,14475255,6784335,12499376,22326003,9151421,12655600,10377411,8408647,10770660,21203272,15198520,5259144,6331665,19928260,12681970,7684786,13413362,12969378,10341739,8363340,11721671,10769205,4153559,8337631,17266683,7974270,14164684,13021401,20681768,14456049,5041215,12594247,11993291,10130955,4194836,12666748,17234909,9387020,13869884,7968740,20682606,12196466,15584888,11836799,14167261,7033595,10513503,10576545,9250899,11035513,13554710,9561108,9691344,17970094,10130229,11123742,9011167,14082647,10694877,15216831,13085591,11325046,8981344,6522894,13587348,20659536,14475328,9228413,21798999,19003887,8912169,19334223,15070553,8890838,11353073,8996385,9247381,9894473,12356032,6583431,9422695,6987379,10063687,8319061,15346891,8733272,18297947,7628762,8780566,5290115,9055378,8819333,15641305,13369095,9459632,9739418,6776831,12666370,9127926,11589854,9054748,18943206,11817866,22743483,12785472,14484998,6132942,8537207,6468289,12687729,8438035,8863086,10611844,9719939,7930492,12647844,5274496,9088956,6728976,9950703,20880403,7675405,6066572,13750282,15833991,10213368,10488807,10215398,8659649,10450440,6103636,12912975,9269715,14794260,8927111,16974102,8491338,8641133,9485157,8958121,11963035,16151474,9044028,7543221,11274968,7524212,12941971,4995038,15748974,20568515,20376434,6156762,7829085,11744886,16256981,21369043,10682578,20832717,7776627,9172075,9375248,10176243,5683125,12988008,10159581,23911722,8543895,9335236,6808641,10629615,9984879,9287862,8153047,8334144,8101571,21297216,10360290,15455880,13110680,13252573,12941429,6889526,21422594,7635180,20924900,19177260,10207704,10421355,10105752,6879241,16688276,7444525,7389056,9144873,10079347,14533817,14014640,12818611,11603831,14265012,14595422,17016691,11697451,20585816,9183974,8867981,18980273,13377048,6064345,7358891,10468105,13585236,9035957,8633578,12737590,12574205,9855356,19865061,15182481,13396502,7602774,17138132,8270438,10328445,12169932,13176204,10386626,9566596,10903474,12573652,13807470,9280492,8619612,15616677,11165735,7575747,12366799,11391702,10840190,11769755,9540826,11617727,13642757,9640943,18820349,9476179,15289485,8771991,9479243,9915830,10528835,8734497,9873144,14365089,15147348,17081976,12123842,8816455,10320510,9250824,19316106,9511976,11849336,19665448,15350685,9435815,13509530,11855777,6484724,14063171,7697074,11900169,9667258,11839955,5983163,13686304,17360054,10764830,8887591,11825632,14684920,11415894,9779766,12454890,6096001,8480362,3247769,10726968,19288667,7834492,10922020,8523831,10264534,15054541,11148089,11313032,16373928,4141452,11792239,13368720,13123772,19274186,9639297,16054649,20008348,8781308,15722687,21153061,13422265,15864407,12097048,7479168,8786513,12938107,9845881,9366574,11040404,14697171,11459349,7948892,7635934,8824486,9890924,7149034,9378823,4649955,21054771,10903014,19079781,13087728,9658229,14240924,7003682,9139602,5926730,12643933,10391110,22026259,19990366,14413319,7868044,7323154,9273475,15149812,8801877,9093056,11856384,15809470,8772582,10026801,10322810,15851909,4630923,12002947,6489716,6766567,10003569,8973729,16374041,13926539,13553169,12440693,5101865,7923489,11318359,11219238,13683935,9640104,10276975,9070899,9191439,11762571,9527969,12738968,18756508,7864153,8484099,10510486,6325968,23453523,8840438,17101360,7528652,9267384,9979208,14227135,7807936,9574806,16363147,22558526,8186423,14199569,8105465,17945604,13958351,7231022,8782597,15020699,7031762,10216882,10069202,15552579,3312090,10143307,13103451,7956661,23124838,15844599,6075240,5075637,12233442,8559679,6676241,8699590,8131857,14029529,3210770,19774106,9517001,7726456,10870756,14771817,6899706,8466036,9506594,7279675,13064512,8444373,6103547,13044801,6522927,12680742,8588590,12689571,10720569,4548670,23066273,9141694,12284950,10647894,11630435,8607974,19874794,8613918,13338489,9805199,11859897,20083876,10768193,10093761,14742612,11610445,10067818,15286825,21751326,15680706,16387489,11161935,10824902,11738722,8058882,18043698,21174871,13850732,9530068,15575968,11032213,15922577,7800611,7038404,4885961,10843875,10198536,6096726,14622006,12771848,7862576,14021081,13023799,17586229,7537467,7446321,7266523,10173814,12508538,11023034,8438318,7732699,11244066,5762896,6850780,8723447,6161547,8774633,13778910,8327187,22162912,4955483,12765164,10068329,6401865,8617954,8824621,12957652,9347955,9419159,10659671,13185240,8079403,7773451,10762126,8479826,12045108,9787674,14721179,7862536,12310929,6614877,15385553,13789372,10524651,7496698,18111569,11597943,14162276,15266181,5295801,10292950,15047171,12461587,13166099,7658961,10028071,4401798,8640261,10603594,7496588,9198019,9371252,9356479,7685899,15359223,14479427,7499971,12062054,10093728,14105473,5605864,6659700,12865438,14740946,8738289,4842069,18042481,15901223,8989412,5836457,10247278,16479044,6808500,14832481,13291804,9936170,18387308,11872889,21001214,12643491,10178570,15291266,14141782,14778075,7436550,17562939,8770459,9393327,5839225,5346833,6340138,9316727,7873068,10949953,8823308,6849347,14850662,5867956,13838590,6857691,12718590,10741454,15309603,8431772,13417034,10182375,14211457,11566806,6588810,10906885,10007856,8954832,12804716,9575676,15729761,9677828,13685055,11357572,9233098,6718564,13730203,14384053,15262852,9192032,8217256,7253025,17273409,8569896,9714789,12881636,8228755,12157091,23466688,9522503,10378601,8667079,10635701,7754960,10469228,10610466,22612591,10321094,7935888,10839853,9173199,6247826,14905357,6199254,6777466,14116253,19369571,10842533,13578437,14994760,11240585,7416910,21634323,6943913,6472605,14649700,4720702,11257619,8267910,11948525,9911673,10136505,13210287,13100706,14931182,13397429,11192402,13409261,6816598,11323273,11184491,14502855,11336131,8642934,14545781,13428571,7443851,15984159,9877014,13623187,10902045,15816190,13985444,10359930,14890833,11814880,22181428,13097563,10242515,13363077,9084270,7511271,12720386,6470363,14359802,8481980,20432103,16035149,11804887,12113843,11316960,5950140,13943393,8445184,23980067,14478659,13648327,8410300,7976695,15009216,10281707,11652168,7799876,12529888,4853840,9694826,7515036,14656480,11650296,12009816,8868650,9881853,15188530,13827791,9967387,14703996,14586240,7629813,20515684,6559608,6066763,9922324,5668827,11370222,8835792,9051448,10405469],\"yaxis\":\"y\",\"type\":\"scattergl\"}],                        {\"template\":{\"data\":{\"bar\":[{\"error_x\":{\"color\":\"#2a3f5f\"},\"error_y\":{\"color\":\"#2a3f5f\"},\"marker\":{\"line\":{\"color\":\"#E5ECF6\",\"width\":0.5},\"pattern\":{\"fillmode\":\"overlay\",\"size\":10,\"solidity\":0.2}},\"type\":\"bar\"}],\"barpolar\":[{\"marker\":{\"line\":{\"color\":\"#E5ECF6\",\"width\":0.5},\"pattern\":{\"fillmode\":\"overlay\",\"size\":10,\"solidity\":0.2}},\"type\":\"barpolar\"}],\"carpet\":[{\"aaxis\":{\"endlinecolor\":\"#2a3f5f\",\"gridcolor\":\"white\",\"linecolor\":\"white\",\"minorgridcolor\":\"white\",\"startlinecolor\":\"#2a3f5f\"},\"baxis\":{\"endlinecolor\":\"#2a3f5f\",\"gridcolor\":\"white\",\"linecolor\":\"white\",\"minorgridcolor\":\"white\",\"startlinecolor\":\"#2a3f5f\"},\"type\":\"carpet\"}],\"choropleth\":[{\"colorbar\":{\"outlinewidth\":0,\"ticks\":\"\"},\"type\":\"choropleth\"}],\"contour\":[{\"colorbar\":{\"outlinewidth\":0,\"ticks\":\"\"},\"colorscale\":[[0.0,\"#0d0887\"],[0.1111111111111111,\"#46039f\"],[0.2222222222222222,\"#7201a8\"],[0.3333333333333333,\"#9c179e\"],[0.4444444444444444,\"#bd3786\"],[0.5555555555555556,\"#d8576b\"],[0.6666666666666666,\"#ed7953\"],[0.7777777777777778,\"#fb9f3a\"],[0.8888888888888888,\"#fdca26\"],[1.0,\"#f0f921\"]],\"type\":\"contour\"}],\"contourcarpet\":[{\"colorbar\":{\"outlinewidth\":0,\"ticks\":\"\"},\"type\":\"contourcarpet\"}],\"heatmap\":[{\"colorbar\":{\"outlinewidth\":0,\"ticks\":\"\"},\"colorscale\":[[0.0,\"#0d0887\"],[0.1111111111111111,\"#46039f\"],[0.2222222222222222,\"#7201a8\"],[0.3333333333333333,\"#9c179e\"],[0.4444444444444444,\"#bd3786\"],[0.5555555555555556,\"#d8576b\"],[0.6666666666666666,\"#ed7953\"],[0.7777777777777778,\"#fb9f3a\"],[0.8888888888888888,\"#fdca26\"],[1.0,\"#f0f921\"]],\"type\":\"heatmap\"}],\"heatmapgl\":[{\"colorbar\":{\"outlinewidth\":0,\"ticks\":\"\"},\"colorscale\":[[0.0,\"#0d0887\"],[0.1111111111111111,\"#46039f\"],[0.2222222222222222,\"#7201a8\"],[0.3333333333333333,\"#9c179e\"],[0.4444444444444444,\"#bd3786\"],[0.5555555555555556,\"#d8576b\"],[0.6666666666666666,\"#ed7953\"],[0.7777777777777778,\"#fb9f3a\"],[0.8888888888888888,\"#fdca26\"],[1.0,\"#f0f921\"]],\"type\":\"heatmapgl\"}],\"histogram\":[{\"marker\":{\"pattern\":{\"fillmode\":\"overlay\",\"size\":10,\"solidity\":0.2}},\"type\":\"histogram\"}],\"histogram2d\":[{\"colorbar\":{\"outlinewidth\":0,\"ticks\":\"\"},\"colorscale\":[[0.0,\"#0d0887\"],[0.1111111111111111,\"#46039f\"],[0.2222222222222222,\"#7201a8\"],[0.3333333333333333,\"#9c179e\"],[0.4444444444444444,\"#bd3786\"],[0.5555555555555556,\"#d8576b\"],[0.6666666666666666,\"#ed7953\"],[0.7777777777777778,\"#fb9f3a\"],[0.8888888888888888,\"#fdca26\"],[1.0,\"#f0f921\"]],\"type\":\"histogram2d\"}],\"histogram2dcontour\":[{\"colorbar\":{\"outlinewidth\":0,\"ticks\":\"\"},\"colorscale\":[[0.0,\"#0d0887\"],[0.1111111111111111,\"#46039f\"],[0.2222222222222222,\"#7201a8\"],[0.3333333333333333,\"#9c179e\"],[0.4444444444444444,\"#bd3786\"],[0.5555555555555556,\"#d8576b\"],[0.6666666666666666,\"#ed7953\"],[0.7777777777777778,\"#fb9f3a\"],[0.8888888888888888,\"#fdca26\"],[1.0,\"#f0f921\"]],\"type\":\"histogram2dcontour\"}],\"mesh3d\":[{\"colorbar\":{\"outlinewidth\":0,\"ticks\":\"\"},\"type\":\"mesh3d\"}],\"parcoords\":[{\"line\":{\"colorbar\":{\"outlinewidth\":0,\"ticks\":\"\"}},\"type\":\"parcoords\"}],\"pie\":[{\"automargin\":true,\"type\":\"pie\"}],\"scatter\":[{\"marker\":{\"colorbar\":{\"outlinewidth\":0,\"ticks\":\"\"}},\"type\":\"scatter\"}],\"scatter3d\":[{\"line\":{\"colorbar\":{\"outlinewidth\":0,\"ticks\":\"\"}},\"marker\":{\"colorbar\":{\"outlinewidth\":0,\"ticks\":\"\"}},\"type\":\"scatter3d\"}],\"scattercarpet\":[{\"marker\":{\"colorbar\":{\"outlinewidth\":0,\"ticks\":\"\"}},\"type\":\"scattercarpet\"}],\"scattergeo\":[{\"marker\":{\"colorbar\":{\"outlinewidth\":0,\"ticks\":\"\"}},\"type\":\"scattergeo\"}],\"scattergl\":[{\"marker\":{\"colorbar\":{\"outlinewidth\":0,\"ticks\":\"\"}},\"type\":\"scattergl\"}],\"scattermapbox\":[{\"marker\":{\"colorbar\":{\"outlinewidth\":0,\"ticks\":\"\"}},\"type\":\"scattermapbox\"}],\"scatterpolar\":[{\"marker\":{\"colorbar\":{\"outlinewidth\":0,\"ticks\":\"\"}},\"type\":\"scatterpolar\"}],\"scatterpolargl\":[{\"marker\":{\"colorbar\":{\"outlinewidth\":0,\"ticks\":\"\"}},\"type\":\"scatterpolargl\"}],\"scatterternary\":[{\"marker\":{\"colorbar\":{\"outlinewidth\":0,\"ticks\":\"\"}},\"type\":\"scatterternary\"}],\"surface\":[{\"colorbar\":{\"outlinewidth\":0,\"ticks\":\"\"},\"colorscale\":[[0.0,\"#0d0887\"],[0.1111111111111111,\"#46039f\"],[0.2222222222222222,\"#7201a8\"],[0.3333333333333333,\"#9c179e\"],[0.4444444444444444,\"#bd3786\"],[0.5555555555555556,\"#d8576b\"],[0.6666666666666666,\"#ed7953\"],[0.7777777777777778,\"#fb9f3a\"],[0.8888888888888888,\"#fdca26\"],[1.0,\"#f0f921\"]],\"type\":\"surface\"}],\"table\":[{\"cells\":{\"fill\":{\"color\":\"#EBF0F8\"},\"line\":{\"color\":\"white\"}},\"header\":{\"fill\":{\"color\":\"#C8D4E3\"},\"line\":{\"color\":\"white\"}},\"type\":\"table\"}]},\"layout\":{\"annotationdefaults\":{\"arrowcolor\":\"#2a3f5f\",\"arrowhead\":0,\"arrowwidth\":1},\"autotypenumbers\":\"strict\",\"coloraxis\":{\"colorbar\":{\"outlinewidth\":0,\"ticks\":\"\"}},\"colorscale\":{\"diverging\":[[0,\"#8e0152\"],[0.1,\"#c51b7d\"],[0.2,\"#de77ae\"],[0.3,\"#f1b6da\"],[0.4,\"#fde0ef\"],[0.5,\"#f7f7f7\"],[0.6,\"#e6f5d0\"],[0.7,\"#b8e186\"],[0.8,\"#7fbc41\"],[0.9,\"#4d9221\"],[1,\"#276419\"]],\"sequential\":[[0.0,\"#0d0887\"],[0.1111111111111111,\"#46039f\"],[0.2222222222222222,\"#7201a8\"],[0.3333333333333333,\"#9c179e\"],[0.4444444444444444,\"#bd3786\"],[0.5555555555555556,\"#d8576b\"],[0.6666666666666666,\"#ed7953\"],[0.7777777777777778,\"#fb9f3a\"],[0.8888888888888888,\"#fdca26\"],[1.0,\"#f0f921\"]],\"sequentialminus\":[[0.0,\"#0d0887\"],[0.1111111111111111,\"#46039f\"],[0.2222222222222222,\"#7201a8\"],[0.3333333333333333,\"#9c179e\"],[0.4444444444444444,\"#bd3786\"],[0.5555555555555556,\"#d8576b\"],[0.6666666666666666,\"#ed7953\"],[0.7777777777777778,\"#fb9f3a\"],[0.8888888888888888,\"#fdca26\"],[1.0,\"#f0f921\"]]},\"colorway\":[\"#636efa\",\"#EF553B\",\"#00cc96\",\"#ab63fa\",\"#FFA15A\",\"#19d3f3\",\"#FF6692\",\"#B6E880\",\"#FF97FF\",\"#FECB52\"],\"font\":{\"color\":\"#2a3f5f\"},\"geo\":{\"bgcolor\":\"white\",\"lakecolor\":\"white\",\"landcolor\":\"#E5ECF6\",\"showlakes\":true,\"showland\":true,\"subunitcolor\":\"white\"},\"hoverlabel\":{\"align\":\"left\"},\"hovermode\":\"closest\",\"mapbox\":{\"style\":\"light\"},\"paper_bgcolor\":\"white\",\"plot_bgcolor\":\"#E5ECF6\",\"polar\":{\"angularaxis\":{\"gridcolor\":\"white\",\"linecolor\":\"white\",\"ticks\":\"\"},\"bgcolor\":\"#E5ECF6\",\"radialaxis\":{\"gridcolor\":\"white\",\"linecolor\":\"white\",\"ticks\":\"\"}},\"scene\":{\"xaxis\":{\"backgroundcolor\":\"#E5ECF6\",\"gridcolor\":\"white\",\"gridwidth\":2,\"linecolor\":\"white\",\"showbackground\":true,\"ticks\":\"\",\"zerolinecolor\":\"white\"},\"yaxis\":{\"backgroundcolor\":\"#E5ECF6\",\"gridcolor\":\"white\",\"gridwidth\":2,\"linecolor\":\"white\",\"showbackground\":true,\"ticks\":\"\",\"zerolinecolor\":\"white\"},\"zaxis\":{\"backgroundcolor\":\"#E5ECF6\",\"gridcolor\":\"white\",\"gridwidth\":2,\"linecolor\":\"white\",\"showbackground\":true,\"ticks\":\"\",\"zerolinecolor\":\"white\"}},\"shapedefaults\":{\"line\":{\"color\":\"#2a3f5f\"}},\"ternary\":{\"aaxis\":{\"gridcolor\":\"white\",\"linecolor\":\"white\",\"ticks\":\"\"},\"baxis\":{\"gridcolor\":\"white\",\"linecolor\":\"white\",\"ticks\":\"\"},\"bgcolor\":\"#E5ECF6\",\"caxis\":{\"gridcolor\":\"white\",\"linecolor\":\"white\",\"ticks\":\"\"}},\"title\":{\"x\":0.05},\"xaxis\":{\"automargin\":true,\"gridcolor\":\"white\",\"linecolor\":\"white\",\"ticks\":\"\",\"title\":{\"standoff\":15},\"zerolinecolor\":\"white\",\"zerolinewidth\":2},\"yaxis\":{\"automargin\":true,\"gridcolor\":\"white\",\"linecolor\":\"white\",\"ticks\":\"\",\"title\":{\"standoff\":15},\"zerolinecolor\":\"white\",\"zerolinewidth\":2}}},\"xaxis\":{\"anchor\":\"y\",\"domain\":[0.0,1.0],\"title\":{\"text\":\"DIST_MAINROAD\"}},\"yaxis\":{\"anchor\":\"x\",\"domain\":[0.0,1.0],\"title\":{\"text\":\"TOTAL_SALES_PRICE\"}},\"coloraxis\":{\"colorbar\":{\"title\":{\"text\":\"DIST_MAINROAD\"}},\"colorscale\":[[0.0,\"#0d0887\"],[0.1111111111111111,\"#46039f\"],[0.2222222222222222,\"#7201a8\"],[0.3333333333333333,\"#9c179e\"],[0.4444444444444444,\"#bd3786\"],[0.5555555555555556,\"#d8576b\"],[0.6666666666666666,\"#ed7953\"],[0.7777777777777778,\"#fb9f3a\"],[0.8888888888888888,\"#fdca26\"],[1.0,\"#f0f921\"]]},\"legend\":{\"tracegroupgap\":0},\"title\":{\"text\":\"DIST_MAINROAD VS TOTAL_SALES_PRICE\"}},                        {\"responsive\": true}                    ).then(function(){\n",
              "                            \n",
              "var gd = document.getElementById('d5bc528e-779f-41d8-8be1-4c94f0ea8d14');\n",
              "var x = new MutationObserver(function (mutations, observer) {{\n",
              "        var display = window.getComputedStyle(gd).display;\n",
              "        if (!display || display === 'none') {{\n",
              "            console.log([gd, 'removed!']);\n",
              "            Plotly.purge(gd);\n",
              "            observer.disconnect();\n",
              "        }}\n",
              "}});\n",
              "\n",
              "// Listen for the removal of the full notebook cells\n",
              "var notebookContainer = gd.closest('#notebook-container');\n",
              "if (notebookContainer) {{\n",
              "    x.observe(notebookContainer, {childList: true});\n",
              "}}\n",
              "\n",
              "// Listen for the clearing of the current output cell\n",
              "var outputEl = gd.closest('.output');\n",
              "if (outputEl) {{\n",
              "    x.observe(outputEl, {childList: true});\n",
              "}}\n",
              "\n",
              "                        })                };                            </script>        </div>\n",
              "</body>\n",
              "</html>"
            ]
          },
          "metadata": {}
        }
      ],
      "source": [
        "fig2 = px.scatter(data,x = 'DIST_MAINROAD', y = 'TOTAL_SALES_PRICE', color = 'DIST_MAINROAD',title=\"DIST_MAINROAD VS TOTAL_SALES_PRICE\")\n",
        "fig2"
      ]
    },
    {
      "cell_type": "markdown",
      "source": [
        "From **DIST_MAINROAD VS TOTAL_SALES_PRICE** Plot we can see that there is no Relationship for DIST_MAIND and Total_Sales_price. in General if Distance from Main Road is less  House price will be Higher but in this dataset Distance from mainroad is not showing any impact on Price."
      ],
      "metadata": {
        "id": "JRpDfrHF6laW"
      }
    },
    {
      "cell_type": "code",
      "execution_count": 43,
      "metadata": {
        "id": "KasMUG0059KZ",
        "colab": {
          "base_uri": "https://localhost:8080/",
          "height": 542
        },
        "outputId": "68c01445-940b-4fad-b6e9-6358adc0a929"
      },
      "outputs": [
        {
          "output_type": "display_data",
          "data": {
            "text/html": [
              "<html>\n",
              "<head><meta charset=\"utf-8\" /></head>\n",
              "<body>\n",
              "    <div>            <script src=\"https://cdnjs.cloudflare.com/ajax/libs/mathjax/2.7.5/MathJax.js?config=TeX-AMS-MML_SVG\"></script><script type=\"text/javascript\">if (window.MathJax) {MathJax.Hub.Config({SVG: {font: \"STIX-Web\"}});}</script>                <script type=\"text/javascript\">window.PlotlyConfig = {MathJaxConfig: 'local'};</script>\n",
              "        <script src=\"https://cdn.plot.ly/plotly-2.8.3.min.js\"></script>                <div id=\"f75487e6-1cea-42eb-954b-b7937a76b5a8\" class=\"plotly-graph-div\" style=\"height:525px; width:100%;\"></div>            <script type=\"text/javascript\">                                    window.PLOTLYENV=window.PLOTLYENV || {};                                    if (document.getElementById(\"f75487e6-1cea-42eb-954b-b7937a76b5a8\")) {                    Plotly.newPlot(                        \"f75487e6-1cea-42eb-954b-b7937a76b5a8\",                        [{\"alignmentgroup\":\"True\",\"hovertemplate\":\"N_ROOM=%{marker.color}<br>AVERAGE_PRICE=%{y}<extra></extra>\",\"legendgroup\":\"\",\"marker\":{\"color\":[2,3,4,5,6],\"coloraxis\":\"coloraxis\",\"pattern\":{\"shape\":\"\"}},\"name\":\"\",\"offsetgroup\":\"\",\"orientation\":\"v\",\"showlegend\":false,\"textposition\":\"auto\",\"x\":[2,3,4,5,6],\"xaxis\":\"x\",\"y\":[7311581.445168295,9705457.58635294,12254633.294966836,14836566.212680578,15279237.83464567],\"yaxis\":\"y\",\"type\":\"bar\"}],                        {\"template\":{\"data\":{\"bar\":[{\"error_x\":{\"color\":\"#2a3f5f\"},\"error_y\":{\"color\":\"#2a3f5f\"},\"marker\":{\"line\":{\"color\":\"#E5ECF6\",\"width\":0.5},\"pattern\":{\"fillmode\":\"overlay\",\"size\":10,\"solidity\":0.2}},\"type\":\"bar\"}],\"barpolar\":[{\"marker\":{\"line\":{\"color\":\"#E5ECF6\",\"width\":0.5},\"pattern\":{\"fillmode\":\"overlay\",\"size\":10,\"solidity\":0.2}},\"type\":\"barpolar\"}],\"carpet\":[{\"aaxis\":{\"endlinecolor\":\"#2a3f5f\",\"gridcolor\":\"white\",\"linecolor\":\"white\",\"minorgridcolor\":\"white\",\"startlinecolor\":\"#2a3f5f\"},\"baxis\":{\"endlinecolor\":\"#2a3f5f\",\"gridcolor\":\"white\",\"linecolor\":\"white\",\"minorgridcolor\":\"white\",\"startlinecolor\":\"#2a3f5f\"},\"type\":\"carpet\"}],\"choropleth\":[{\"colorbar\":{\"outlinewidth\":0,\"ticks\":\"\"},\"type\":\"choropleth\"}],\"contour\":[{\"colorbar\":{\"outlinewidth\":0,\"ticks\":\"\"},\"colorscale\":[[0.0,\"#0d0887\"],[0.1111111111111111,\"#46039f\"],[0.2222222222222222,\"#7201a8\"],[0.3333333333333333,\"#9c179e\"],[0.4444444444444444,\"#bd3786\"],[0.5555555555555556,\"#d8576b\"],[0.6666666666666666,\"#ed7953\"],[0.7777777777777778,\"#fb9f3a\"],[0.8888888888888888,\"#fdca26\"],[1.0,\"#f0f921\"]],\"type\":\"contour\"}],\"contourcarpet\":[{\"colorbar\":{\"outlinewidth\":0,\"ticks\":\"\"},\"type\":\"contourcarpet\"}],\"heatmap\":[{\"colorbar\":{\"outlinewidth\":0,\"ticks\":\"\"},\"colorscale\":[[0.0,\"#0d0887\"],[0.1111111111111111,\"#46039f\"],[0.2222222222222222,\"#7201a8\"],[0.3333333333333333,\"#9c179e\"],[0.4444444444444444,\"#bd3786\"],[0.5555555555555556,\"#d8576b\"],[0.6666666666666666,\"#ed7953\"],[0.7777777777777778,\"#fb9f3a\"],[0.8888888888888888,\"#fdca26\"],[1.0,\"#f0f921\"]],\"type\":\"heatmap\"}],\"heatmapgl\":[{\"colorbar\":{\"outlinewidth\":0,\"ticks\":\"\"},\"colorscale\":[[0.0,\"#0d0887\"],[0.1111111111111111,\"#46039f\"],[0.2222222222222222,\"#7201a8\"],[0.3333333333333333,\"#9c179e\"],[0.4444444444444444,\"#bd3786\"],[0.5555555555555556,\"#d8576b\"],[0.6666666666666666,\"#ed7953\"],[0.7777777777777778,\"#fb9f3a\"],[0.8888888888888888,\"#fdca26\"],[1.0,\"#f0f921\"]],\"type\":\"heatmapgl\"}],\"histogram\":[{\"marker\":{\"pattern\":{\"fillmode\":\"overlay\",\"size\":10,\"solidity\":0.2}},\"type\":\"histogram\"}],\"histogram2d\":[{\"colorbar\":{\"outlinewidth\":0,\"ticks\":\"\"},\"colorscale\":[[0.0,\"#0d0887\"],[0.1111111111111111,\"#46039f\"],[0.2222222222222222,\"#7201a8\"],[0.3333333333333333,\"#9c179e\"],[0.4444444444444444,\"#bd3786\"],[0.5555555555555556,\"#d8576b\"],[0.6666666666666666,\"#ed7953\"],[0.7777777777777778,\"#fb9f3a\"],[0.8888888888888888,\"#fdca26\"],[1.0,\"#f0f921\"]],\"type\":\"histogram2d\"}],\"histogram2dcontour\":[{\"colorbar\":{\"outlinewidth\":0,\"ticks\":\"\"},\"colorscale\":[[0.0,\"#0d0887\"],[0.1111111111111111,\"#46039f\"],[0.2222222222222222,\"#7201a8\"],[0.3333333333333333,\"#9c179e\"],[0.4444444444444444,\"#bd3786\"],[0.5555555555555556,\"#d8576b\"],[0.6666666666666666,\"#ed7953\"],[0.7777777777777778,\"#fb9f3a\"],[0.8888888888888888,\"#fdca26\"],[1.0,\"#f0f921\"]],\"type\":\"histogram2dcontour\"}],\"mesh3d\":[{\"colorbar\":{\"outlinewidth\":0,\"ticks\":\"\"},\"type\":\"mesh3d\"}],\"parcoords\":[{\"line\":{\"colorbar\":{\"outlinewidth\":0,\"ticks\":\"\"}},\"type\":\"parcoords\"}],\"pie\":[{\"automargin\":true,\"type\":\"pie\"}],\"scatter\":[{\"marker\":{\"colorbar\":{\"outlinewidth\":0,\"ticks\":\"\"}},\"type\":\"scatter\"}],\"scatter3d\":[{\"line\":{\"colorbar\":{\"outlinewidth\":0,\"ticks\":\"\"}},\"marker\":{\"colorbar\":{\"outlinewidth\":0,\"ticks\":\"\"}},\"type\":\"scatter3d\"}],\"scattercarpet\":[{\"marker\":{\"colorbar\":{\"outlinewidth\":0,\"ticks\":\"\"}},\"type\":\"scattercarpet\"}],\"scattergeo\":[{\"marker\":{\"colorbar\":{\"outlinewidth\":0,\"ticks\":\"\"}},\"type\":\"scattergeo\"}],\"scattergl\":[{\"marker\":{\"colorbar\":{\"outlinewidth\":0,\"ticks\":\"\"}},\"type\":\"scattergl\"}],\"scattermapbox\":[{\"marker\":{\"colorbar\":{\"outlinewidth\":0,\"ticks\":\"\"}},\"type\":\"scattermapbox\"}],\"scatterpolar\":[{\"marker\":{\"colorbar\":{\"outlinewidth\":0,\"ticks\":\"\"}},\"type\":\"scatterpolar\"}],\"scatterpolargl\":[{\"marker\":{\"colorbar\":{\"outlinewidth\":0,\"ticks\":\"\"}},\"type\":\"scatterpolargl\"}],\"scatterternary\":[{\"marker\":{\"colorbar\":{\"outlinewidth\":0,\"ticks\":\"\"}},\"type\":\"scatterternary\"}],\"surface\":[{\"colorbar\":{\"outlinewidth\":0,\"ticks\":\"\"},\"colorscale\":[[0.0,\"#0d0887\"],[0.1111111111111111,\"#46039f\"],[0.2222222222222222,\"#7201a8\"],[0.3333333333333333,\"#9c179e\"],[0.4444444444444444,\"#bd3786\"],[0.5555555555555556,\"#d8576b\"],[0.6666666666666666,\"#ed7953\"],[0.7777777777777778,\"#fb9f3a\"],[0.8888888888888888,\"#fdca26\"],[1.0,\"#f0f921\"]],\"type\":\"surface\"}],\"table\":[{\"cells\":{\"fill\":{\"color\":\"#EBF0F8\"},\"line\":{\"color\":\"white\"}},\"header\":{\"fill\":{\"color\":\"#C8D4E3\"},\"line\":{\"color\":\"white\"}},\"type\":\"table\"}]},\"layout\":{\"annotationdefaults\":{\"arrowcolor\":\"#2a3f5f\",\"arrowhead\":0,\"arrowwidth\":1},\"autotypenumbers\":\"strict\",\"coloraxis\":{\"colorbar\":{\"outlinewidth\":0,\"ticks\":\"\"}},\"colorscale\":{\"diverging\":[[0,\"#8e0152\"],[0.1,\"#c51b7d\"],[0.2,\"#de77ae\"],[0.3,\"#f1b6da\"],[0.4,\"#fde0ef\"],[0.5,\"#f7f7f7\"],[0.6,\"#e6f5d0\"],[0.7,\"#b8e186\"],[0.8,\"#7fbc41\"],[0.9,\"#4d9221\"],[1,\"#276419\"]],\"sequential\":[[0.0,\"#0d0887\"],[0.1111111111111111,\"#46039f\"],[0.2222222222222222,\"#7201a8\"],[0.3333333333333333,\"#9c179e\"],[0.4444444444444444,\"#bd3786\"],[0.5555555555555556,\"#d8576b\"],[0.6666666666666666,\"#ed7953\"],[0.7777777777777778,\"#fb9f3a\"],[0.8888888888888888,\"#fdca26\"],[1.0,\"#f0f921\"]],\"sequentialminus\":[[0.0,\"#0d0887\"],[0.1111111111111111,\"#46039f\"],[0.2222222222222222,\"#7201a8\"],[0.3333333333333333,\"#9c179e\"],[0.4444444444444444,\"#bd3786\"],[0.5555555555555556,\"#d8576b\"],[0.6666666666666666,\"#ed7953\"],[0.7777777777777778,\"#fb9f3a\"],[0.8888888888888888,\"#fdca26\"],[1.0,\"#f0f921\"]]},\"colorway\":[\"#636efa\",\"#EF553B\",\"#00cc96\",\"#ab63fa\",\"#FFA15A\",\"#19d3f3\",\"#FF6692\",\"#B6E880\",\"#FF97FF\",\"#FECB52\"],\"font\":{\"color\":\"#2a3f5f\"},\"geo\":{\"bgcolor\":\"white\",\"lakecolor\":\"white\",\"landcolor\":\"#E5ECF6\",\"showlakes\":true,\"showland\":true,\"subunitcolor\":\"white\"},\"hoverlabel\":{\"align\":\"left\"},\"hovermode\":\"closest\",\"mapbox\":{\"style\":\"light\"},\"paper_bgcolor\":\"white\",\"plot_bgcolor\":\"#E5ECF6\",\"polar\":{\"angularaxis\":{\"gridcolor\":\"white\",\"linecolor\":\"white\",\"ticks\":\"\"},\"bgcolor\":\"#E5ECF6\",\"radialaxis\":{\"gridcolor\":\"white\",\"linecolor\":\"white\",\"ticks\":\"\"}},\"scene\":{\"xaxis\":{\"backgroundcolor\":\"#E5ECF6\",\"gridcolor\":\"white\",\"gridwidth\":2,\"linecolor\":\"white\",\"showbackground\":true,\"ticks\":\"\",\"zerolinecolor\":\"white\"},\"yaxis\":{\"backgroundcolor\":\"#E5ECF6\",\"gridcolor\":\"white\",\"gridwidth\":2,\"linecolor\":\"white\",\"showbackground\":true,\"ticks\":\"\",\"zerolinecolor\":\"white\"},\"zaxis\":{\"backgroundcolor\":\"#E5ECF6\",\"gridcolor\":\"white\",\"gridwidth\":2,\"linecolor\":\"white\",\"showbackground\":true,\"ticks\":\"\",\"zerolinecolor\":\"white\"}},\"shapedefaults\":{\"line\":{\"color\":\"#2a3f5f\"}},\"ternary\":{\"aaxis\":{\"gridcolor\":\"white\",\"linecolor\":\"white\",\"ticks\":\"\"},\"baxis\":{\"gridcolor\":\"white\",\"linecolor\":\"white\",\"ticks\":\"\"},\"bgcolor\":\"#E5ECF6\",\"caxis\":{\"gridcolor\":\"white\",\"linecolor\":\"white\",\"ticks\":\"\"}},\"title\":{\"x\":0.05},\"xaxis\":{\"automargin\":true,\"gridcolor\":\"white\",\"linecolor\":\"white\",\"ticks\":\"\",\"title\":{\"standoff\":15},\"zerolinecolor\":\"white\",\"zerolinewidth\":2},\"yaxis\":{\"automargin\":true,\"gridcolor\":\"white\",\"linecolor\":\"white\",\"ticks\":\"\",\"title\":{\"standoff\":15},\"zerolinecolor\":\"white\",\"zerolinewidth\":2}}},\"xaxis\":{\"anchor\":\"y\",\"domain\":[0.0,1.0],\"title\":{\"text\":\"N_ROOM\"}},\"yaxis\":{\"anchor\":\"x\",\"domain\":[0.0,1.0],\"title\":{\"text\":\"AVERAGE_PRICE\"}},\"coloraxis\":{\"colorbar\":{\"title\":{\"text\":\"N_ROOM\"}},\"colorscale\":[[0.0,\"#0d0887\"],[0.1111111111111111,\"#46039f\"],[0.2222222222222222,\"#7201a8\"],[0.3333333333333333,\"#9c179e\"],[0.4444444444444444,\"#bd3786\"],[0.5555555555555556,\"#d8576b\"],[0.6666666666666666,\"#ed7953\"],[0.7777777777777778,\"#fb9f3a\"],[0.8888888888888888,\"#fdca26\"],[1.0,\"#f0f921\"]]},\"legend\":{\"tracegroupgap\":0},\"title\":{\"text\":\"N_ROOM VS AVERAGE_PRICE\"},\"barmode\":\"relative\"},                        {\"responsive\": true}                    ).then(function(){\n",
              "                            \n",
              "var gd = document.getElementById('f75487e6-1cea-42eb-954b-b7937a76b5a8');\n",
              "var x = new MutationObserver(function (mutations, observer) {{\n",
              "        var display = window.getComputedStyle(gd).display;\n",
              "        if (!display || display === 'none') {{\n",
              "            console.log([gd, 'removed!']);\n",
              "            Plotly.purge(gd);\n",
              "            observer.disconnect();\n",
              "        }}\n",
              "}});\n",
              "\n",
              "// Listen for the removal of the full notebook cells\n",
              "var notebookContainer = gd.closest('#notebook-container');\n",
              "if (notebookContainer) {{\n",
              "    x.observe(notebookContainer, {childList: true});\n",
              "}}\n",
              "\n",
              "// Listen for the clearing of the current output cell\n",
              "var outputEl = gd.closest('.output');\n",
              "if (outputEl) {{\n",
              "    x.observe(outputEl, {childList: true});\n",
              "}}\n",
              "\n",
              "                        })                };                            </script>        </div>\n",
              "</body>\n",
              "</html>"
            ]
          },
          "metadata": {}
        }
      ],
      "source": [
        "x = pd.DataFrame(data.groupby('N_ROOM')[\"TOTAL_SALES_PRICE\"].mean())\n",
        "y = data['N_ROOM'].unique()\n",
        "y = sorted(y)\n",
        "df2 = {'N_ROOM':y,\"AVERAGE_PRICE\":x['TOTAL_SALES_PRICE']}\n",
        "temp = pd.DataFrame(df2)\n",
        "temp.sort_values('AVERAGE_PRICE',inplace = True)\n",
        "\n",
        "fig1 = px.bar(temp,x = 'N_ROOM',y = 'AVERAGE_PRICE', color = 'N_ROOM', title = \"N_ROOM VS AVERAGE_PRICE\")\n",
        "fig1\n"
      ]
    },
    {
      "cell_type": "markdown",
      "source": [
        "From **N_ROOM Vs Average_Price** we can interpret that No of Rooms Increases Price of the House will also increase. above plot is showing that House with 6 Rooms has Higher price and price is Linearly Decreasing if no of rooms Decreases"
      ],
      "metadata": {
        "id": "Isgj6Z1t75Tu"
      }
    },
    {
      "cell_type": "code",
      "source": [
        "x = pd.DataFrame(data.groupby('N_BEDROOM')[\"TOTAL_SALES_PRICE\"].mean())\n",
        "y = data['N_BEDROOM'].unique()\n",
        "y = sorted(y)\n",
        "df2 = {'N_BEDROOM':y,\"AVERAGE_PRICE\":x['TOTAL_SALES_PRICE']}\n",
        "temp = pd.DataFrame(df2)\n",
        "temp.sort_values('AVERAGE_PRICE',inplace = True)\n",
        "\n",
        "fig1 = px.bar(temp,x = 'N_BEDROOM',y = 'AVERAGE_PRICE', color = 'N_BEDROOM', title = \"N_BEDROOM VS AVERAGE_PRICE\")\n",
        "fig1\n"
      ],
      "metadata": {
        "colab": {
          "base_uri": "https://localhost:8080/",
          "height": 542
        },
        "id": "YxcJiRArDSjo",
        "outputId": "5f6db11b-28ca-4cce-936a-ce5ceedf3778"
      },
      "execution_count": 44,
      "outputs": [
        {
          "output_type": "display_data",
          "data": {
            "text/html": [
              "<html>\n",
              "<head><meta charset=\"utf-8\" /></head>\n",
              "<body>\n",
              "    <div>            <script src=\"https://cdnjs.cloudflare.com/ajax/libs/mathjax/2.7.5/MathJax.js?config=TeX-AMS-MML_SVG\"></script><script type=\"text/javascript\">if (window.MathJax) {MathJax.Hub.Config({SVG: {font: \"STIX-Web\"}});}</script>                <script type=\"text/javascript\">window.PlotlyConfig = {MathJaxConfig: 'local'};</script>\n",
              "        <script src=\"https://cdn.plot.ly/plotly-2.8.3.min.js\"></script>                <div id=\"6d7767e4-ca55-449b-98bc-e9cf7801cafa\" class=\"plotly-graph-div\" style=\"height:525px; width:100%;\"></div>            <script type=\"text/javascript\">                                    window.PLOTLYENV=window.PLOTLYENV || {};                                    if (document.getElementById(\"6d7767e4-ca55-449b-98bc-e9cf7801cafa\")) {                    Plotly.newPlot(                        \"6d7767e4-ca55-449b-98bc-e9cf7801cafa\",                        [{\"alignmentgroup\":\"True\",\"hovertemplate\":\"N_BEDROOM=%{marker.color}<br>AVERAGE_PRICE=%{y}<extra></extra>\",\"legendgroup\":\"\",\"marker\":{\"color\":[1,2,3,4],\"coloraxis\":\"coloraxis\",\"pattern\":{\"shape\":\"\"}},\"name\":\"\",\"offsetgroup\":\"\",\"orientation\":\"v\",\"showlegend\":false,\"textposition\":\"auto\",\"x\":[1,2,3,4],\"xaxis\":\"x\",\"y\":[10227343.500790305,12390163.218962586,13137752.048090523,15279237.83464567],\"yaxis\":\"y\",\"type\":\"bar\"}],                        {\"template\":{\"data\":{\"bar\":[{\"error_x\":{\"color\":\"#2a3f5f\"},\"error_y\":{\"color\":\"#2a3f5f\"},\"marker\":{\"line\":{\"color\":\"#E5ECF6\",\"width\":0.5},\"pattern\":{\"fillmode\":\"overlay\",\"size\":10,\"solidity\":0.2}},\"type\":\"bar\"}],\"barpolar\":[{\"marker\":{\"line\":{\"color\":\"#E5ECF6\",\"width\":0.5},\"pattern\":{\"fillmode\":\"overlay\",\"size\":10,\"solidity\":0.2}},\"type\":\"barpolar\"}],\"carpet\":[{\"aaxis\":{\"endlinecolor\":\"#2a3f5f\",\"gridcolor\":\"white\",\"linecolor\":\"white\",\"minorgridcolor\":\"white\",\"startlinecolor\":\"#2a3f5f\"},\"baxis\":{\"endlinecolor\":\"#2a3f5f\",\"gridcolor\":\"white\",\"linecolor\":\"white\",\"minorgridcolor\":\"white\",\"startlinecolor\":\"#2a3f5f\"},\"type\":\"carpet\"}],\"choropleth\":[{\"colorbar\":{\"outlinewidth\":0,\"ticks\":\"\"},\"type\":\"choropleth\"}],\"contour\":[{\"colorbar\":{\"outlinewidth\":0,\"ticks\":\"\"},\"colorscale\":[[0.0,\"#0d0887\"],[0.1111111111111111,\"#46039f\"],[0.2222222222222222,\"#7201a8\"],[0.3333333333333333,\"#9c179e\"],[0.4444444444444444,\"#bd3786\"],[0.5555555555555556,\"#d8576b\"],[0.6666666666666666,\"#ed7953\"],[0.7777777777777778,\"#fb9f3a\"],[0.8888888888888888,\"#fdca26\"],[1.0,\"#f0f921\"]],\"type\":\"contour\"}],\"contourcarpet\":[{\"colorbar\":{\"outlinewidth\":0,\"ticks\":\"\"},\"type\":\"contourcarpet\"}],\"heatmap\":[{\"colorbar\":{\"outlinewidth\":0,\"ticks\":\"\"},\"colorscale\":[[0.0,\"#0d0887\"],[0.1111111111111111,\"#46039f\"],[0.2222222222222222,\"#7201a8\"],[0.3333333333333333,\"#9c179e\"],[0.4444444444444444,\"#bd3786\"],[0.5555555555555556,\"#d8576b\"],[0.6666666666666666,\"#ed7953\"],[0.7777777777777778,\"#fb9f3a\"],[0.8888888888888888,\"#fdca26\"],[1.0,\"#f0f921\"]],\"type\":\"heatmap\"}],\"heatmapgl\":[{\"colorbar\":{\"outlinewidth\":0,\"ticks\":\"\"},\"colorscale\":[[0.0,\"#0d0887\"],[0.1111111111111111,\"#46039f\"],[0.2222222222222222,\"#7201a8\"],[0.3333333333333333,\"#9c179e\"],[0.4444444444444444,\"#bd3786\"],[0.5555555555555556,\"#d8576b\"],[0.6666666666666666,\"#ed7953\"],[0.7777777777777778,\"#fb9f3a\"],[0.8888888888888888,\"#fdca26\"],[1.0,\"#f0f921\"]],\"type\":\"heatmapgl\"}],\"histogram\":[{\"marker\":{\"pattern\":{\"fillmode\":\"overlay\",\"size\":10,\"solidity\":0.2}},\"type\":\"histogram\"}],\"histogram2d\":[{\"colorbar\":{\"outlinewidth\":0,\"ticks\":\"\"},\"colorscale\":[[0.0,\"#0d0887\"],[0.1111111111111111,\"#46039f\"],[0.2222222222222222,\"#7201a8\"],[0.3333333333333333,\"#9c179e\"],[0.4444444444444444,\"#bd3786\"],[0.5555555555555556,\"#d8576b\"],[0.6666666666666666,\"#ed7953\"],[0.7777777777777778,\"#fb9f3a\"],[0.8888888888888888,\"#fdca26\"],[1.0,\"#f0f921\"]],\"type\":\"histogram2d\"}],\"histogram2dcontour\":[{\"colorbar\":{\"outlinewidth\":0,\"ticks\":\"\"},\"colorscale\":[[0.0,\"#0d0887\"],[0.1111111111111111,\"#46039f\"],[0.2222222222222222,\"#7201a8\"],[0.3333333333333333,\"#9c179e\"],[0.4444444444444444,\"#bd3786\"],[0.5555555555555556,\"#d8576b\"],[0.6666666666666666,\"#ed7953\"],[0.7777777777777778,\"#fb9f3a\"],[0.8888888888888888,\"#fdca26\"],[1.0,\"#f0f921\"]],\"type\":\"histogram2dcontour\"}],\"mesh3d\":[{\"colorbar\":{\"outlinewidth\":0,\"ticks\":\"\"},\"type\":\"mesh3d\"}],\"parcoords\":[{\"line\":{\"colorbar\":{\"outlinewidth\":0,\"ticks\":\"\"}},\"type\":\"parcoords\"}],\"pie\":[{\"automargin\":true,\"type\":\"pie\"}],\"scatter\":[{\"marker\":{\"colorbar\":{\"outlinewidth\":0,\"ticks\":\"\"}},\"type\":\"scatter\"}],\"scatter3d\":[{\"line\":{\"colorbar\":{\"outlinewidth\":0,\"ticks\":\"\"}},\"marker\":{\"colorbar\":{\"outlinewidth\":0,\"ticks\":\"\"}},\"type\":\"scatter3d\"}],\"scattercarpet\":[{\"marker\":{\"colorbar\":{\"outlinewidth\":0,\"ticks\":\"\"}},\"type\":\"scattercarpet\"}],\"scattergeo\":[{\"marker\":{\"colorbar\":{\"outlinewidth\":0,\"ticks\":\"\"}},\"type\":\"scattergeo\"}],\"scattergl\":[{\"marker\":{\"colorbar\":{\"outlinewidth\":0,\"ticks\":\"\"}},\"type\":\"scattergl\"}],\"scattermapbox\":[{\"marker\":{\"colorbar\":{\"outlinewidth\":0,\"ticks\":\"\"}},\"type\":\"scattermapbox\"}],\"scatterpolar\":[{\"marker\":{\"colorbar\":{\"outlinewidth\":0,\"ticks\":\"\"}},\"type\":\"scatterpolar\"}],\"scatterpolargl\":[{\"marker\":{\"colorbar\":{\"outlinewidth\":0,\"ticks\":\"\"}},\"type\":\"scatterpolargl\"}],\"scatterternary\":[{\"marker\":{\"colorbar\":{\"outlinewidth\":0,\"ticks\":\"\"}},\"type\":\"scatterternary\"}],\"surface\":[{\"colorbar\":{\"outlinewidth\":0,\"ticks\":\"\"},\"colorscale\":[[0.0,\"#0d0887\"],[0.1111111111111111,\"#46039f\"],[0.2222222222222222,\"#7201a8\"],[0.3333333333333333,\"#9c179e\"],[0.4444444444444444,\"#bd3786\"],[0.5555555555555556,\"#d8576b\"],[0.6666666666666666,\"#ed7953\"],[0.7777777777777778,\"#fb9f3a\"],[0.8888888888888888,\"#fdca26\"],[1.0,\"#f0f921\"]],\"type\":\"surface\"}],\"table\":[{\"cells\":{\"fill\":{\"color\":\"#EBF0F8\"},\"line\":{\"color\":\"white\"}},\"header\":{\"fill\":{\"color\":\"#C8D4E3\"},\"line\":{\"color\":\"white\"}},\"type\":\"table\"}]},\"layout\":{\"annotationdefaults\":{\"arrowcolor\":\"#2a3f5f\",\"arrowhead\":0,\"arrowwidth\":1},\"autotypenumbers\":\"strict\",\"coloraxis\":{\"colorbar\":{\"outlinewidth\":0,\"ticks\":\"\"}},\"colorscale\":{\"diverging\":[[0,\"#8e0152\"],[0.1,\"#c51b7d\"],[0.2,\"#de77ae\"],[0.3,\"#f1b6da\"],[0.4,\"#fde0ef\"],[0.5,\"#f7f7f7\"],[0.6,\"#e6f5d0\"],[0.7,\"#b8e186\"],[0.8,\"#7fbc41\"],[0.9,\"#4d9221\"],[1,\"#276419\"]],\"sequential\":[[0.0,\"#0d0887\"],[0.1111111111111111,\"#46039f\"],[0.2222222222222222,\"#7201a8\"],[0.3333333333333333,\"#9c179e\"],[0.4444444444444444,\"#bd3786\"],[0.5555555555555556,\"#d8576b\"],[0.6666666666666666,\"#ed7953\"],[0.7777777777777778,\"#fb9f3a\"],[0.8888888888888888,\"#fdca26\"],[1.0,\"#f0f921\"]],\"sequentialminus\":[[0.0,\"#0d0887\"],[0.1111111111111111,\"#46039f\"],[0.2222222222222222,\"#7201a8\"],[0.3333333333333333,\"#9c179e\"],[0.4444444444444444,\"#bd3786\"],[0.5555555555555556,\"#d8576b\"],[0.6666666666666666,\"#ed7953\"],[0.7777777777777778,\"#fb9f3a\"],[0.8888888888888888,\"#fdca26\"],[1.0,\"#f0f921\"]]},\"colorway\":[\"#636efa\",\"#EF553B\",\"#00cc96\",\"#ab63fa\",\"#FFA15A\",\"#19d3f3\",\"#FF6692\",\"#B6E880\",\"#FF97FF\",\"#FECB52\"],\"font\":{\"color\":\"#2a3f5f\"},\"geo\":{\"bgcolor\":\"white\",\"lakecolor\":\"white\",\"landcolor\":\"#E5ECF6\",\"showlakes\":true,\"showland\":true,\"subunitcolor\":\"white\"},\"hoverlabel\":{\"align\":\"left\"},\"hovermode\":\"closest\",\"mapbox\":{\"style\":\"light\"},\"paper_bgcolor\":\"white\",\"plot_bgcolor\":\"#E5ECF6\",\"polar\":{\"angularaxis\":{\"gridcolor\":\"white\",\"linecolor\":\"white\",\"ticks\":\"\"},\"bgcolor\":\"#E5ECF6\",\"radialaxis\":{\"gridcolor\":\"white\",\"linecolor\":\"white\",\"ticks\":\"\"}},\"scene\":{\"xaxis\":{\"backgroundcolor\":\"#E5ECF6\",\"gridcolor\":\"white\",\"gridwidth\":2,\"linecolor\":\"white\",\"showbackground\":true,\"ticks\":\"\",\"zerolinecolor\":\"white\"},\"yaxis\":{\"backgroundcolor\":\"#E5ECF6\",\"gridcolor\":\"white\",\"gridwidth\":2,\"linecolor\":\"white\",\"showbackground\":true,\"ticks\":\"\",\"zerolinecolor\":\"white\"},\"zaxis\":{\"backgroundcolor\":\"#E5ECF6\",\"gridcolor\":\"white\",\"gridwidth\":2,\"linecolor\":\"white\",\"showbackground\":true,\"ticks\":\"\",\"zerolinecolor\":\"white\"}},\"shapedefaults\":{\"line\":{\"color\":\"#2a3f5f\"}},\"ternary\":{\"aaxis\":{\"gridcolor\":\"white\",\"linecolor\":\"white\",\"ticks\":\"\"},\"baxis\":{\"gridcolor\":\"white\",\"linecolor\":\"white\",\"ticks\":\"\"},\"bgcolor\":\"#E5ECF6\",\"caxis\":{\"gridcolor\":\"white\",\"linecolor\":\"white\",\"ticks\":\"\"}},\"title\":{\"x\":0.05},\"xaxis\":{\"automargin\":true,\"gridcolor\":\"white\",\"linecolor\":\"white\",\"ticks\":\"\",\"title\":{\"standoff\":15},\"zerolinecolor\":\"white\",\"zerolinewidth\":2},\"yaxis\":{\"automargin\":true,\"gridcolor\":\"white\",\"linecolor\":\"white\",\"ticks\":\"\",\"title\":{\"standoff\":15},\"zerolinecolor\":\"white\",\"zerolinewidth\":2}}},\"xaxis\":{\"anchor\":\"y\",\"domain\":[0.0,1.0],\"title\":{\"text\":\"N_BEDROOM\"}},\"yaxis\":{\"anchor\":\"x\",\"domain\":[0.0,1.0],\"title\":{\"text\":\"AVERAGE_PRICE\"}},\"coloraxis\":{\"colorbar\":{\"title\":{\"text\":\"N_BEDROOM\"}},\"colorscale\":[[0.0,\"#0d0887\"],[0.1111111111111111,\"#46039f\"],[0.2222222222222222,\"#7201a8\"],[0.3333333333333333,\"#9c179e\"],[0.4444444444444444,\"#bd3786\"],[0.5555555555555556,\"#d8576b\"],[0.6666666666666666,\"#ed7953\"],[0.7777777777777778,\"#fb9f3a\"],[0.8888888888888888,\"#fdca26\"],[1.0,\"#f0f921\"]]},\"legend\":{\"tracegroupgap\":0},\"title\":{\"text\":\"N_BEDROOM VS AVERAGE_PRICE\"},\"barmode\":\"relative\"},                        {\"responsive\": true}                    ).then(function(){\n",
              "                            \n",
              "var gd = document.getElementById('6d7767e4-ca55-449b-98bc-e9cf7801cafa');\n",
              "var x = new MutationObserver(function (mutations, observer) {{\n",
              "        var display = window.getComputedStyle(gd).display;\n",
              "        if (!display || display === 'none') {{\n",
              "            console.log([gd, 'removed!']);\n",
              "            Plotly.purge(gd);\n",
              "            observer.disconnect();\n",
              "        }}\n",
              "}});\n",
              "\n",
              "// Listen for the removal of the full notebook cells\n",
              "var notebookContainer = gd.closest('#notebook-container');\n",
              "if (notebookContainer) {{\n",
              "    x.observe(notebookContainer, {childList: true});\n",
              "}}\n",
              "\n",
              "// Listen for the clearing of the current output cell\n",
              "var outputEl = gd.closest('.output');\n",
              "if (outputEl) {{\n",
              "    x.observe(outputEl, {childList: true});\n",
              "}}\n",
              "\n",
              "                        })                };                            </script>        </div>\n",
              "</body>\n",
              "</html>"
            ]
          },
          "metadata": {}
        }
      ]
    },
    {
      "cell_type": "markdown",
      "source": [
        "From **N_BEDROOM Vs Average_Price** we can interpret that No of Bed Rooms Increases Price of the House will also increase. above plot is showing that House with 4 Bed Rooms has Higher price and price is Linearly Decreasing if no of Bed Rooms Decreases"
      ],
      "metadata": {
        "id": "NGCaexb0hnoi"
      }
    },
    {
      "cell_type": "code",
      "source": [
        "x = pd.DataFrame(data.groupby('N_BATHROOM')[\"TOTAL_SALES_PRICE\"].mean())\n",
        "y = data['N_BATHROOM'].unique()\n",
        "y = sorted(y)\n",
        "df2 = {'N_BATHROOM':y,\"AVERAGE_PRICE\":x['TOTAL_SALES_PRICE']}\n",
        "temp = pd.DataFrame(df2)\n",
        "temp.sort_values('AVERAGE_PRICE',inplace = True)\n",
        "\n",
        "fig1 = px.bar(temp,x = 'N_BATHROOM',y = 'AVERAGE_PRICE', color = 'N_BATHROOM', title = \"N_BATHROOM VS AVERAGE_PRICE\")\n",
        "fig1\n"
      ],
      "metadata": {
        "colab": {
          "base_uri": "https://localhost:8080/",
          "height": 542
        },
        "id": "f_tAZA_GDfZN",
        "outputId": "7f6a2d52-86e3-480a-a72f-90e65120fc97"
      },
      "execution_count": 45,
      "outputs": [
        {
          "output_type": "display_data",
          "data": {
            "text/html": [
              "<html>\n",
              "<head><meta charset=\"utf-8\" /></head>\n",
              "<body>\n",
              "    <div>            <script src=\"https://cdnjs.cloudflare.com/ajax/libs/mathjax/2.7.5/MathJax.js?config=TeX-AMS-MML_SVG\"></script><script type=\"text/javascript\">if (window.MathJax) {MathJax.Hub.Config({SVG: {font: \"STIX-Web\"}});}</script>                <script type=\"text/javascript\">window.PlotlyConfig = {MathJaxConfig: 'local'};</script>\n",
              "        <script src=\"https://cdn.plot.ly/plotly-2.8.3.min.js\"></script>                <div id=\"55900558-7eef-427b-9d2d-a3983db8c8b7\" class=\"plotly-graph-div\" style=\"height:525px; width:100%;\"></div>            <script type=\"text/javascript\">                                    window.PLOTLYENV=window.PLOTLYENV || {};                                    if (document.getElementById(\"55900558-7eef-427b-9d2d-a3983db8c8b7\")) {                    Plotly.newPlot(                        \"55900558-7eef-427b-9d2d-a3983db8c8b7\",                        [{\"alignmentgroup\":\"True\",\"hovertemplate\":\"N_BATHROOM=%{marker.color}<br>AVERAGE_PRICE=%{y}<extra></extra>\",\"legendgroup\":\"\",\"marker\":{\"color\":[1,2],\"coloraxis\":\"coloraxis\",\"pattern\":{\"shape\":\"\"}},\"name\":\"\",\"offsetgroup\":\"\",\"orientation\":\"v\",\"showlegend\":false,\"textposition\":\"auto\",\"x\":[1,2],\"xaxis\":\"x\",\"y\":[11169522.87200572,12311330.68118812],\"yaxis\":\"y\",\"type\":\"bar\"}],                        {\"template\":{\"data\":{\"bar\":[{\"error_x\":{\"color\":\"#2a3f5f\"},\"error_y\":{\"color\":\"#2a3f5f\"},\"marker\":{\"line\":{\"color\":\"#E5ECF6\",\"width\":0.5},\"pattern\":{\"fillmode\":\"overlay\",\"size\":10,\"solidity\":0.2}},\"type\":\"bar\"}],\"barpolar\":[{\"marker\":{\"line\":{\"color\":\"#E5ECF6\",\"width\":0.5},\"pattern\":{\"fillmode\":\"overlay\",\"size\":10,\"solidity\":0.2}},\"type\":\"barpolar\"}],\"carpet\":[{\"aaxis\":{\"endlinecolor\":\"#2a3f5f\",\"gridcolor\":\"white\",\"linecolor\":\"white\",\"minorgridcolor\":\"white\",\"startlinecolor\":\"#2a3f5f\"},\"baxis\":{\"endlinecolor\":\"#2a3f5f\",\"gridcolor\":\"white\",\"linecolor\":\"white\",\"minorgridcolor\":\"white\",\"startlinecolor\":\"#2a3f5f\"},\"type\":\"carpet\"}],\"choropleth\":[{\"colorbar\":{\"outlinewidth\":0,\"ticks\":\"\"},\"type\":\"choropleth\"}],\"contour\":[{\"colorbar\":{\"outlinewidth\":0,\"ticks\":\"\"},\"colorscale\":[[0.0,\"#0d0887\"],[0.1111111111111111,\"#46039f\"],[0.2222222222222222,\"#7201a8\"],[0.3333333333333333,\"#9c179e\"],[0.4444444444444444,\"#bd3786\"],[0.5555555555555556,\"#d8576b\"],[0.6666666666666666,\"#ed7953\"],[0.7777777777777778,\"#fb9f3a\"],[0.8888888888888888,\"#fdca26\"],[1.0,\"#f0f921\"]],\"type\":\"contour\"}],\"contourcarpet\":[{\"colorbar\":{\"outlinewidth\":0,\"ticks\":\"\"},\"type\":\"contourcarpet\"}],\"heatmap\":[{\"colorbar\":{\"outlinewidth\":0,\"ticks\":\"\"},\"colorscale\":[[0.0,\"#0d0887\"],[0.1111111111111111,\"#46039f\"],[0.2222222222222222,\"#7201a8\"],[0.3333333333333333,\"#9c179e\"],[0.4444444444444444,\"#bd3786\"],[0.5555555555555556,\"#d8576b\"],[0.6666666666666666,\"#ed7953\"],[0.7777777777777778,\"#fb9f3a\"],[0.8888888888888888,\"#fdca26\"],[1.0,\"#f0f921\"]],\"type\":\"heatmap\"}],\"heatmapgl\":[{\"colorbar\":{\"outlinewidth\":0,\"ticks\":\"\"},\"colorscale\":[[0.0,\"#0d0887\"],[0.1111111111111111,\"#46039f\"],[0.2222222222222222,\"#7201a8\"],[0.3333333333333333,\"#9c179e\"],[0.4444444444444444,\"#bd3786\"],[0.5555555555555556,\"#d8576b\"],[0.6666666666666666,\"#ed7953\"],[0.7777777777777778,\"#fb9f3a\"],[0.8888888888888888,\"#fdca26\"],[1.0,\"#f0f921\"]],\"type\":\"heatmapgl\"}],\"histogram\":[{\"marker\":{\"pattern\":{\"fillmode\":\"overlay\",\"size\":10,\"solidity\":0.2}},\"type\":\"histogram\"}],\"histogram2d\":[{\"colorbar\":{\"outlinewidth\":0,\"ticks\":\"\"},\"colorscale\":[[0.0,\"#0d0887\"],[0.1111111111111111,\"#46039f\"],[0.2222222222222222,\"#7201a8\"],[0.3333333333333333,\"#9c179e\"],[0.4444444444444444,\"#bd3786\"],[0.5555555555555556,\"#d8576b\"],[0.6666666666666666,\"#ed7953\"],[0.7777777777777778,\"#fb9f3a\"],[0.8888888888888888,\"#fdca26\"],[1.0,\"#f0f921\"]],\"type\":\"histogram2d\"}],\"histogram2dcontour\":[{\"colorbar\":{\"outlinewidth\":0,\"ticks\":\"\"},\"colorscale\":[[0.0,\"#0d0887\"],[0.1111111111111111,\"#46039f\"],[0.2222222222222222,\"#7201a8\"],[0.3333333333333333,\"#9c179e\"],[0.4444444444444444,\"#bd3786\"],[0.5555555555555556,\"#d8576b\"],[0.6666666666666666,\"#ed7953\"],[0.7777777777777778,\"#fb9f3a\"],[0.8888888888888888,\"#fdca26\"],[1.0,\"#f0f921\"]],\"type\":\"histogram2dcontour\"}],\"mesh3d\":[{\"colorbar\":{\"outlinewidth\":0,\"ticks\":\"\"},\"type\":\"mesh3d\"}],\"parcoords\":[{\"line\":{\"colorbar\":{\"outlinewidth\":0,\"ticks\":\"\"}},\"type\":\"parcoords\"}],\"pie\":[{\"automargin\":true,\"type\":\"pie\"}],\"scatter\":[{\"marker\":{\"colorbar\":{\"outlinewidth\":0,\"ticks\":\"\"}},\"type\":\"scatter\"}],\"scatter3d\":[{\"line\":{\"colorbar\":{\"outlinewidth\":0,\"ticks\":\"\"}},\"marker\":{\"colorbar\":{\"outlinewidth\":0,\"ticks\":\"\"}},\"type\":\"scatter3d\"}],\"scattercarpet\":[{\"marker\":{\"colorbar\":{\"outlinewidth\":0,\"ticks\":\"\"}},\"type\":\"scattercarpet\"}],\"scattergeo\":[{\"marker\":{\"colorbar\":{\"outlinewidth\":0,\"ticks\":\"\"}},\"type\":\"scattergeo\"}],\"scattergl\":[{\"marker\":{\"colorbar\":{\"outlinewidth\":0,\"ticks\":\"\"}},\"type\":\"scattergl\"}],\"scattermapbox\":[{\"marker\":{\"colorbar\":{\"outlinewidth\":0,\"ticks\":\"\"}},\"type\":\"scattermapbox\"}],\"scatterpolar\":[{\"marker\":{\"colorbar\":{\"outlinewidth\":0,\"ticks\":\"\"}},\"type\":\"scatterpolar\"}],\"scatterpolargl\":[{\"marker\":{\"colorbar\":{\"outlinewidth\":0,\"ticks\":\"\"}},\"type\":\"scatterpolargl\"}],\"scatterternary\":[{\"marker\":{\"colorbar\":{\"outlinewidth\":0,\"ticks\":\"\"}},\"type\":\"scatterternary\"}],\"surface\":[{\"colorbar\":{\"outlinewidth\":0,\"ticks\":\"\"},\"colorscale\":[[0.0,\"#0d0887\"],[0.1111111111111111,\"#46039f\"],[0.2222222222222222,\"#7201a8\"],[0.3333333333333333,\"#9c179e\"],[0.4444444444444444,\"#bd3786\"],[0.5555555555555556,\"#d8576b\"],[0.6666666666666666,\"#ed7953\"],[0.7777777777777778,\"#fb9f3a\"],[0.8888888888888888,\"#fdca26\"],[1.0,\"#f0f921\"]],\"type\":\"surface\"}],\"table\":[{\"cells\":{\"fill\":{\"color\":\"#EBF0F8\"},\"line\":{\"color\":\"white\"}},\"header\":{\"fill\":{\"color\":\"#C8D4E3\"},\"line\":{\"color\":\"white\"}},\"type\":\"table\"}]},\"layout\":{\"annotationdefaults\":{\"arrowcolor\":\"#2a3f5f\",\"arrowhead\":0,\"arrowwidth\":1},\"autotypenumbers\":\"strict\",\"coloraxis\":{\"colorbar\":{\"outlinewidth\":0,\"ticks\":\"\"}},\"colorscale\":{\"diverging\":[[0,\"#8e0152\"],[0.1,\"#c51b7d\"],[0.2,\"#de77ae\"],[0.3,\"#f1b6da\"],[0.4,\"#fde0ef\"],[0.5,\"#f7f7f7\"],[0.6,\"#e6f5d0\"],[0.7,\"#b8e186\"],[0.8,\"#7fbc41\"],[0.9,\"#4d9221\"],[1,\"#276419\"]],\"sequential\":[[0.0,\"#0d0887\"],[0.1111111111111111,\"#46039f\"],[0.2222222222222222,\"#7201a8\"],[0.3333333333333333,\"#9c179e\"],[0.4444444444444444,\"#bd3786\"],[0.5555555555555556,\"#d8576b\"],[0.6666666666666666,\"#ed7953\"],[0.7777777777777778,\"#fb9f3a\"],[0.8888888888888888,\"#fdca26\"],[1.0,\"#f0f921\"]],\"sequentialminus\":[[0.0,\"#0d0887\"],[0.1111111111111111,\"#46039f\"],[0.2222222222222222,\"#7201a8\"],[0.3333333333333333,\"#9c179e\"],[0.4444444444444444,\"#bd3786\"],[0.5555555555555556,\"#d8576b\"],[0.6666666666666666,\"#ed7953\"],[0.7777777777777778,\"#fb9f3a\"],[0.8888888888888888,\"#fdca26\"],[1.0,\"#f0f921\"]]},\"colorway\":[\"#636efa\",\"#EF553B\",\"#00cc96\",\"#ab63fa\",\"#FFA15A\",\"#19d3f3\",\"#FF6692\",\"#B6E880\",\"#FF97FF\",\"#FECB52\"],\"font\":{\"color\":\"#2a3f5f\"},\"geo\":{\"bgcolor\":\"white\",\"lakecolor\":\"white\",\"landcolor\":\"#E5ECF6\",\"showlakes\":true,\"showland\":true,\"subunitcolor\":\"white\"},\"hoverlabel\":{\"align\":\"left\"},\"hovermode\":\"closest\",\"mapbox\":{\"style\":\"light\"},\"paper_bgcolor\":\"white\",\"plot_bgcolor\":\"#E5ECF6\",\"polar\":{\"angularaxis\":{\"gridcolor\":\"white\",\"linecolor\":\"white\",\"ticks\":\"\"},\"bgcolor\":\"#E5ECF6\",\"radialaxis\":{\"gridcolor\":\"white\",\"linecolor\":\"white\",\"ticks\":\"\"}},\"scene\":{\"xaxis\":{\"backgroundcolor\":\"#E5ECF6\",\"gridcolor\":\"white\",\"gridwidth\":2,\"linecolor\":\"white\",\"showbackground\":true,\"ticks\":\"\",\"zerolinecolor\":\"white\"},\"yaxis\":{\"backgroundcolor\":\"#E5ECF6\",\"gridcolor\":\"white\",\"gridwidth\":2,\"linecolor\":\"white\",\"showbackground\":true,\"ticks\":\"\",\"zerolinecolor\":\"white\"},\"zaxis\":{\"backgroundcolor\":\"#E5ECF6\",\"gridcolor\":\"white\",\"gridwidth\":2,\"linecolor\":\"white\",\"showbackground\":true,\"ticks\":\"\",\"zerolinecolor\":\"white\"}},\"shapedefaults\":{\"line\":{\"color\":\"#2a3f5f\"}},\"ternary\":{\"aaxis\":{\"gridcolor\":\"white\",\"linecolor\":\"white\",\"ticks\":\"\"},\"baxis\":{\"gridcolor\":\"white\",\"linecolor\":\"white\",\"ticks\":\"\"},\"bgcolor\":\"#E5ECF6\",\"caxis\":{\"gridcolor\":\"white\",\"linecolor\":\"white\",\"ticks\":\"\"}},\"title\":{\"x\":0.05},\"xaxis\":{\"automargin\":true,\"gridcolor\":\"white\",\"linecolor\":\"white\",\"ticks\":\"\",\"title\":{\"standoff\":15},\"zerolinecolor\":\"white\",\"zerolinewidth\":2},\"yaxis\":{\"automargin\":true,\"gridcolor\":\"white\",\"linecolor\":\"white\",\"ticks\":\"\",\"title\":{\"standoff\":15},\"zerolinecolor\":\"white\",\"zerolinewidth\":2}}},\"xaxis\":{\"anchor\":\"y\",\"domain\":[0.0,1.0],\"title\":{\"text\":\"N_BATHROOM\"}},\"yaxis\":{\"anchor\":\"x\",\"domain\":[0.0,1.0],\"title\":{\"text\":\"AVERAGE_PRICE\"}},\"coloraxis\":{\"colorbar\":{\"title\":{\"text\":\"N_BATHROOM\"}},\"colorscale\":[[0.0,\"#0d0887\"],[0.1111111111111111,\"#46039f\"],[0.2222222222222222,\"#7201a8\"],[0.3333333333333333,\"#9c179e\"],[0.4444444444444444,\"#bd3786\"],[0.5555555555555556,\"#d8576b\"],[0.6666666666666666,\"#ed7953\"],[0.7777777777777778,\"#fb9f3a\"],[0.8888888888888888,\"#fdca26\"],[1.0,\"#f0f921\"]]},\"legend\":{\"tracegroupgap\":0},\"title\":{\"text\":\"N_BATHROOM VS AVERAGE_PRICE\"},\"barmode\":\"relative\"},                        {\"responsive\": true}                    ).then(function(){\n",
              "                            \n",
              "var gd = document.getElementById('55900558-7eef-427b-9d2d-a3983db8c8b7');\n",
              "var x = new MutationObserver(function (mutations, observer) {{\n",
              "        var display = window.getComputedStyle(gd).display;\n",
              "        if (!display || display === 'none') {{\n",
              "            console.log([gd, 'removed!']);\n",
              "            Plotly.purge(gd);\n",
              "            observer.disconnect();\n",
              "        }}\n",
              "}});\n",
              "\n",
              "// Listen for the removal of the full notebook cells\n",
              "var notebookContainer = gd.closest('#notebook-container');\n",
              "if (notebookContainer) {{\n",
              "    x.observe(notebookContainer, {childList: true});\n",
              "}}\n",
              "\n",
              "// Listen for the clearing of the current output cell\n",
              "var outputEl = gd.closest('.output');\n",
              "if (outputEl) {{\n",
              "    x.observe(outputEl, {childList: true});\n",
              "}}\n",
              "\n",
              "                        })                };                            </script>        </div>\n",
              "</body>\n",
              "</html>"
            ]
          },
          "metadata": {}
        }
      ]
    },
    {
      "cell_type": "markdown",
      "source": [
        "From **N_BATHROOM Vs Average_Price** we can interpret The House With 2 Bath Rooms has Higher Price than The House With 1 Bath Room. So The Price Will Be Higher for House with 2 Bath Rooms"
      ],
      "metadata": {
        "id": "DVH4GkTkh8-T"
      }
    },
    {
      "cell_type": "code",
      "execution_count": 46,
      "metadata": {
        "id": "ol7jsyyfAJrU",
        "colab": {
          "base_uri": "https://localhost:8080/",
          "height": 542
        },
        "outputId": "8954548a-294b-42c8-d190-36aa66481ef7"
      },
      "outputs": [
        {
          "output_type": "display_data",
          "data": {
            "text/html": [
              "<html>\n",
              "<head><meta charset=\"utf-8\" /></head>\n",
              "<body>\n",
              "    <div>            <script src=\"https://cdnjs.cloudflare.com/ajax/libs/mathjax/2.7.5/MathJax.js?config=TeX-AMS-MML_SVG\"></script><script type=\"text/javascript\">if (window.MathJax) {MathJax.Hub.Config({SVG: {font: \"STIX-Web\"}});}</script>                <script type=\"text/javascript\">window.PlotlyConfig = {MathJaxConfig: 'local'};</script>\n",
              "        <script src=\"https://cdn.plot.ly/plotly-2.8.3.min.js\"></script>                <div id=\"357b9620-5fb5-420a-aadd-9064b2e1b4e0\" class=\"plotly-graph-div\" style=\"height:525px; width:100%;\"></div>            <script type=\"text/javascript\">                                    window.PLOTLYENV=window.PLOTLYENV || {};                                    if (document.getElementById(\"357b9620-5fb5-420a-aadd-9064b2e1b4e0\")) {                    Plotly.newPlot(                        \"357b9620-5fb5-420a-aadd-9064b2e1b4e0\",                        [{\"alignmentgroup\":\"True\",\"hovertemplate\":\"SALE_COND=%{x}<br>AVERAGE_PRICE=%{y}<extra></extra>\",\"legendgroup\":\"Partial\",\"marker\":{\"color\":\"#636efa\",\"pattern\":{\"shape\":\"\"}},\"name\":\"Partial\",\"offsetgroup\":\"Partial\",\"orientation\":\"v\",\"showlegend\":true,\"textposition\":\"auto\",\"x\":[\"Partial\"],\"xaxis\":\"x\",\"y\":[11116052.795533845],\"yaxis\":\"y\",\"type\":\"bar\"},{\"alignmentgroup\":\"True\",\"hovertemplate\":\"SALE_COND=%{x}<br>AVERAGE_PRICE=%{y}<extra></extra>\",\"legendgroup\":\"Family\",\"marker\":{\"color\":\"#EF553B\",\"pattern\":{\"shape\":\"\"}},\"name\":\"Family\",\"offsetgroup\":\"Family\",\"orientation\":\"v\",\"showlegend\":true,\"textposition\":\"auto\",\"x\":[\"Family\"],\"xaxis\":\"x\",\"y\":[11250809.560228083],\"yaxis\":\"y\",\"type\":\"bar\"},{\"alignmentgroup\":\"True\",\"hovertemplate\":\"SALE_COND=%{x}<br>AVERAGE_PRICE=%{y}<extra></extra>\",\"legendgroup\":\"AbNormal\",\"marker\":{\"color\":\"#00cc96\",\"pattern\":{\"shape\":\"\"}},\"name\":\"AbNormal\",\"offsetgroup\":\"AbNormal\",\"orientation\":\"v\",\"showlegend\":true,\"textposition\":\"auto\",\"x\":[\"AbNormal\"],\"xaxis\":\"x\",\"y\":[11436184.579730688],\"yaxis\":\"y\",\"type\":\"bar\"},{\"alignmentgroup\":\"True\",\"hovertemplate\":\"SALE_COND=%{x}<br>AVERAGE_PRICE=%{y}<extra></extra>\",\"legendgroup\":\"Normal Sale\",\"marker\":{\"color\":\"#ab63fa\",\"pattern\":{\"shape\":\"\"}},\"name\":\"Normal Sale\",\"offsetgroup\":\"Normal Sale\",\"orientation\":\"v\",\"showlegend\":true,\"textposition\":\"auto\",\"x\":[\"Normal Sale\"],\"xaxis\":\"x\",\"y\":[11517866.299367534],\"yaxis\":\"y\",\"type\":\"bar\"},{\"alignmentgroup\":\"True\",\"hovertemplate\":\"SALE_COND=%{x}<br>AVERAGE_PRICE=%{y}<extra></extra>\",\"legendgroup\":\"AdjLand\",\"marker\":{\"color\":\"#FFA15A\",\"pattern\":{\"shape\":\"\"}},\"name\":\"AdjLand\",\"offsetgroup\":\"AdjLand\",\"orientation\":\"v\",\"showlegend\":true,\"textposition\":\"auto\",\"x\":[\"AdjLand\"],\"xaxis\":\"x\",\"y\":[11739685.387769284],\"yaxis\":\"y\",\"type\":\"bar\"}],                        {\"template\":{\"data\":{\"bar\":[{\"error_x\":{\"color\":\"#2a3f5f\"},\"error_y\":{\"color\":\"#2a3f5f\"},\"marker\":{\"line\":{\"color\":\"#E5ECF6\",\"width\":0.5},\"pattern\":{\"fillmode\":\"overlay\",\"size\":10,\"solidity\":0.2}},\"type\":\"bar\"}],\"barpolar\":[{\"marker\":{\"line\":{\"color\":\"#E5ECF6\",\"width\":0.5},\"pattern\":{\"fillmode\":\"overlay\",\"size\":10,\"solidity\":0.2}},\"type\":\"barpolar\"}],\"carpet\":[{\"aaxis\":{\"endlinecolor\":\"#2a3f5f\",\"gridcolor\":\"white\",\"linecolor\":\"white\",\"minorgridcolor\":\"white\",\"startlinecolor\":\"#2a3f5f\"},\"baxis\":{\"endlinecolor\":\"#2a3f5f\",\"gridcolor\":\"white\",\"linecolor\":\"white\",\"minorgridcolor\":\"white\",\"startlinecolor\":\"#2a3f5f\"},\"type\":\"carpet\"}],\"choropleth\":[{\"colorbar\":{\"outlinewidth\":0,\"ticks\":\"\"},\"type\":\"choropleth\"}],\"contour\":[{\"colorbar\":{\"outlinewidth\":0,\"ticks\":\"\"},\"colorscale\":[[0.0,\"#0d0887\"],[0.1111111111111111,\"#46039f\"],[0.2222222222222222,\"#7201a8\"],[0.3333333333333333,\"#9c179e\"],[0.4444444444444444,\"#bd3786\"],[0.5555555555555556,\"#d8576b\"],[0.6666666666666666,\"#ed7953\"],[0.7777777777777778,\"#fb9f3a\"],[0.8888888888888888,\"#fdca26\"],[1.0,\"#f0f921\"]],\"type\":\"contour\"}],\"contourcarpet\":[{\"colorbar\":{\"outlinewidth\":0,\"ticks\":\"\"},\"type\":\"contourcarpet\"}],\"heatmap\":[{\"colorbar\":{\"outlinewidth\":0,\"ticks\":\"\"},\"colorscale\":[[0.0,\"#0d0887\"],[0.1111111111111111,\"#46039f\"],[0.2222222222222222,\"#7201a8\"],[0.3333333333333333,\"#9c179e\"],[0.4444444444444444,\"#bd3786\"],[0.5555555555555556,\"#d8576b\"],[0.6666666666666666,\"#ed7953\"],[0.7777777777777778,\"#fb9f3a\"],[0.8888888888888888,\"#fdca26\"],[1.0,\"#f0f921\"]],\"type\":\"heatmap\"}],\"heatmapgl\":[{\"colorbar\":{\"outlinewidth\":0,\"ticks\":\"\"},\"colorscale\":[[0.0,\"#0d0887\"],[0.1111111111111111,\"#46039f\"],[0.2222222222222222,\"#7201a8\"],[0.3333333333333333,\"#9c179e\"],[0.4444444444444444,\"#bd3786\"],[0.5555555555555556,\"#d8576b\"],[0.6666666666666666,\"#ed7953\"],[0.7777777777777778,\"#fb9f3a\"],[0.8888888888888888,\"#fdca26\"],[1.0,\"#f0f921\"]],\"type\":\"heatmapgl\"}],\"histogram\":[{\"marker\":{\"pattern\":{\"fillmode\":\"overlay\",\"size\":10,\"solidity\":0.2}},\"type\":\"histogram\"}],\"histogram2d\":[{\"colorbar\":{\"outlinewidth\":0,\"ticks\":\"\"},\"colorscale\":[[0.0,\"#0d0887\"],[0.1111111111111111,\"#46039f\"],[0.2222222222222222,\"#7201a8\"],[0.3333333333333333,\"#9c179e\"],[0.4444444444444444,\"#bd3786\"],[0.5555555555555556,\"#d8576b\"],[0.6666666666666666,\"#ed7953\"],[0.7777777777777778,\"#fb9f3a\"],[0.8888888888888888,\"#fdca26\"],[1.0,\"#f0f921\"]],\"type\":\"histogram2d\"}],\"histogram2dcontour\":[{\"colorbar\":{\"outlinewidth\":0,\"ticks\":\"\"},\"colorscale\":[[0.0,\"#0d0887\"],[0.1111111111111111,\"#46039f\"],[0.2222222222222222,\"#7201a8\"],[0.3333333333333333,\"#9c179e\"],[0.4444444444444444,\"#bd3786\"],[0.5555555555555556,\"#d8576b\"],[0.6666666666666666,\"#ed7953\"],[0.7777777777777778,\"#fb9f3a\"],[0.8888888888888888,\"#fdca26\"],[1.0,\"#f0f921\"]],\"type\":\"histogram2dcontour\"}],\"mesh3d\":[{\"colorbar\":{\"outlinewidth\":0,\"ticks\":\"\"},\"type\":\"mesh3d\"}],\"parcoords\":[{\"line\":{\"colorbar\":{\"outlinewidth\":0,\"ticks\":\"\"}},\"type\":\"parcoords\"}],\"pie\":[{\"automargin\":true,\"type\":\"pie\"}],\"scatter\":[{\"marker\":{\"colorbar\":{\"outlinewidth\":0,\"ticks\":\"\"}},\"type\":\"scatter\"}],\"scatter3d\":[{\"line\":{\"colorbar\":{\"outlinewidth\":0,\"ticks\":\"\"}},\"marker\":{\"colorbar\":{\"outlinewidth\":0,\"ticks\":\"\"}},\"type\":\"scatter3d\"}],\"scattercarpet\":[{\"marker\":{\"colorbar\":{\"outlinewidth\":0,\"ticks\":\"\"}},\"type\":\"scattercarpet\"}],\"scattergeo\":[{\"marker\":{\"colorbar\":{\"outlinewidth\":0,\"ticks\":\"\"}},\"type\":\"scattergeo\"}],\"scattergl\":[{\"marker\":{\"colorbar\":{\"outlinewidth\":0,\"ticks\":\"\"}},\"type\":\"scattergl\"}],\"scattermapbox\":[{\"marker\":{\"colorbar\":{\"outlinewidth\":0,\"ticks\":\"\"}},\"type\":\"scattermapbox\"}],\"scatterpolar\":[{\"marker\":{\"colorbar\":{\"outlinewidth\":0,\"ticks\":\"\"}},\"type\":\"scatterpolar\"}],\"scatterpolargl\":[{\"marker\":{\"colorbar\":{\"outlinewidth\":0,\"ticks\":\"\"}},\"type\":\"scatterpolargl\"}],\"scatterternary\":[{\"marker\":{\"colorbar\":{\"outlinewidth\":0,\"ticks\":\"\"}},\"type\":\"scatterternary\"}],\"surface\":[{\"colorbar\":{\"outlinewidth\":0,\"ticks\":\"\"},\"colorscale\":[[0.0,\"#0d0887\"],[0.1111111111111111,\"#46039f\"],[0.2222222222222222,\"#7201a8\"],[0.3333333333333333,\"#9c179e\"],[0.4444444444444444,\"#bd3786\"],[0.5555555555555556,\"#d8576b\"],[0.6666666666666666,\"#ed7953\"],[0.7777777777777778,\"#fb9f3a\"],[0.8888888888888888,\"#fdca26\"],[1.0,\"#f0f921\"]],\"type\":\"surface\"}],\"table\":[{\"cells\":{\"fill\":{\"color\":\"#EBF0F8\"},\"line\":{\"color\":\"white\"}},\"header\":{\"fill\":{\"color\":\"#C8D4E3\"},\"line\":{\"color\":\"white\"}},\"type\":\"table\"}]},\"layout\":{\"annotationdefaults\":{\"arrowcolor\":\"#2a3f5f\",\"arrowhead\":0,\"arrowwidth\":1},\"autotypenumbers\":\"strict\",\"coloraxis\":{\"colorbar\":{\"outlinewidth\":0,\"ticks\":\"\"}},\"colorscale\":{\"diverging\":[[0,\"#8e0152\"],[0.1,\"#c51b7d\"],[0.2,\"#de77ae\"],[0.3,\"#f1b6da\"],[0.4,\"#fde0ef\"],[0.5,\"#f7f7f7\"],[0.6,\"#e6f5d0\"],[0.7,\"#b8e186\"],[0.8,\"#7fbc41\"],[0.9,\"#4d9221\"],[1,\"#276419\"]],\"sequential\":[[0.0,\"#0d0887\"],[0.1111111111111111,\"#46039f\"],[0.2222222222222222,\"#7201a8\"],[0.3333333333333333,\"#9c179e\"],[0.4444444444444444,\"#bd3786\"],[0.5555555555555556,\"#d8576b\"],[0.6666666666666666,\"#ed7953\"],[0.7777777777777778,\"#fb9f3a\"],[0.8888888888888888,\"#fdca26\"],[1.0,\"#f0f921\"]],\"sequentialminus\":[[0.0,\"#0d0887\"],[0.1111111111111111,\"#46039f\"],[0.2222222222222222,\"#7201a8\"],[0.3333333333333333,\"#9c179e\"],[0.4444444444444444,\"#bd3786\"],[0.5555555555555556,\"#d8576b\"],[0.6666666666666666,\"#ed7953\"],[0.7777777777777778,\"#fb9f3a\"],[0.8888888888888888,\"#fdca26\"],[1.0,\"#f0f921\"]]},\"colorway\":[\"#636efa\",\"#EF553B\",\"#00cc96\",\"#ab63fa\",\"#FFA15A\",\"#19d3f3\",\"#FF6692\",\"#B6E880\",\"#FF97FF\",\"#FECB52\"],\"font\":{\"color\":\"#2a3f5f\"},\"geo\":{\"bgcolor\":\"white\",\"lakecolor\":\"white\",\"landcolor\":\"#E5ECF6\",\"showlakes\":true,\"showland\":true,\"subunitcolor\":\"white\"},\"hoverlabel\":{\"align\":\"left\"},\"hovermode\":\"closest\",\"mapbox\":{\"style\":\"light\"},\"paper_bgcolor\":\"white\",\"plot_bgcolor\":\"#E5ECF6\",\"polar\":{\"angularaxis\":{\"gridcolor\":\"white\",\"linecolor\":\"white\",\"ticks\":\"\"},\"bgcolor\":\"#E5ECF6\",\"radialaxis\":{\"gridcolor\":\"white\",\"linecolor\":\"white\",\"ticks\":\"\"}},\"scene\":{\"xaxis\":{\"backgroundcolor\":\"#E5ECF6\",\"gridcolor\":\"white\",\"gridwidth\":2,\"linecolor\":\"white\",\"showbackground\":true,\"ticks\":\"\",\"zerolinecolor\":\"white\"},\"yaxis\":{\"backgroundcolor\":\"#E5ECF6\",\"gridcolor\":\"white\",\"gridwidth\":2,\"linecolor\":\"white\",\"showbackground\":true,\"ticks\":\"\",\"zerolinecolor\":\"white\"},\"zaxis\":{\"backgroundcolor\":\"#E5ECF6\",\"gridcolor\":\"white\",\"gridwidth\":2,\"linecolor\":\"white\",\"showbackground\":true,\"ticks\":\"\",\"zerolinecolor\":\"white\"}},\"shapedefaults\":{\"line\":{\"color\":\"#2a3f5f\"}},\"ternary\":{\"aaxis\":{\"gridcolor\":\"white\",\"linecolor\":\"white\",\"ticks\":\"\"},\"baxis\":{\"gridcolor\":\"white\",\"linecolor\":\"white\",\"ticks\":\"\"},\"bgcolor\":\"#E5ECF6\",\"caxis\":{\"gridcolor\":\"white\",\"linecolor\":\"white\",\"ticks\":\"\"}},\"title\":{\"x\":0.05},\"xaxis\":{\"automargin\":true,\"gridcolor\":\"white\",\"linecolor\":\"white\",\"ticks\":\"\",\"title\":{\"standoff\":15},\"zerolinecolor\":\"white\",\"zerolinewidth\":2},\"yaxis\":{\"automargin\":true,\"gridcolor\":\"white\",\"linecolor\":\"white\",\"ticks\":\"\",\"title\":{\"standoff\":15},\"zerolinecolor\":\"white\",\"zerolinewidth\":2}}},\"xaxis\":{\"anchor\":\"y\",\"domain\":[0.0,1.0],\"title\":{\"text\":\"SALE_COND\"},\"categoryorder\":\"array\",\"categoryarray\":[\"Partial\",\"Family\",\"AbNormal\",\"Normal Sale\",\"AdjLand\"]},\"yaxis\":{\"anchor\":\"x\",\"domain\":[0.0,1.0],\"title\":{\"text\":\"AVERAGE_PRICE\"}},\"legend\":{\"title\":{\"text\":\"SALE_COND\"},\"tracegroupgap\":0},\"title\":{\"text\":\"SALE_COND VS AVERAGE_PRICE\"},\"barmode\":\"relative\"},                        {\"responsive\": true}                    ).then(function(){\n",
              "                            \n",
              "var gd = document.getElementById('357b9620-5fb5-420a-aadd-9064b2e1b4e0');\n",
              "var x = new MutationObserver(function (mutations, observer) {{\n",
              "        var display = window.getComputedStyle(gd).display;\n",
              "        if (!display || display === 'none') {{\n",
              "            console.log([gd, 'removed!']);\n",
              "            Plotly.purge(gd);\n",
              "            observer.disconnect();\n",
              "        }}\n",
              "}});\n",
              "\n",
              "// Listen for the removal of the full notebook cells\n",
              "var notebookContainer = gd.closest('#notebook-container');\n",
              "if (notebookContainer) {{\n",
              "    x.observe(notebookContainer, {childList: true});\n",
              "}}\n",
              "\n",
              "// Listen for the clearing of the current output cell\n",
              "var outputEl = gd.closest('.output');\n",
              "if (outputEl) {{\n",
              "    x.observe(outputEl, {childList: true});\n",
              "}}\n",
              "\n",
              "                        })                };                            </script>        </div>\n",
              "</body>\n",
              "</html>"
            ]
          },
          "metadata": {}
        }
      ],
      "source": [
        "x = pd.DataFrame(data.groupby('SALE_COND')[\"TOTAL_SALES_PRICE\"].mean())\n",
        "y = data['SALE_COND'].unique()\n",
        "y = sorted(y)\n",
        "df2 = {'SALE_COND':y,\"AVERAGE_PRICE\":x['TOTAL_SALES_PRICE']}\n",
        "temp = pd.DataFrame(df2)\n",
        "temp.sort_values('AVERAGE_PRICE',inplace = True)\n",
        "\n",
        "fig1 = px.bar(temp,x = 'SALE_COND',y = 'AVERAGE_PRICE', color = 'SALE_COND', title = \"SALE_COND VS AVERAGE_PRICE\")\n",
        "fig1"
      ]
    },
    {
      "cell_type": "markdown",
      "source": [
        "From The Plot **SALE_COND VS AVERAGE_PRICE** We Interpreted That Houses with different Sale Condition are not Varying Too Much. Prices are varying a little amount. here we got AdjLand has some good value than others"
      ],
      "metadata": {
        "id": "XBxSWtFPiczA"
      }
    },
    {
      "cell_type": "code",
      "execution_count": 47,
      "metadata": {
        "id": "fOANarzd8tPu",
        "colab": {
          "base_uri": "https://localhost:8080/",
          "height": 542
        },
        "outputId": "c75b169d-99f5-4855-ca8c-30461ba9e567"
      },
      "outputs": [
        {
          "output_type": "display_data",
          "data": {
            "text/html": [
              "<html>\n",
              "<head><meta charset=\"utf-8\" /></head>\n",
              "<body>\n",
              "    <div>            <script src=\"https://cdnjs.cloudflare.com/ajax/libs/mathjax/2.7.5/MathJax.js?config=TeX-AMS-MML_SVG\"></script><script type=\"text/javascript\">if (window.MathJax) {MathJax.Hub.Config({SVG: {font: \"STIX-Web\"}});}</script>                <script type=\"text/javascript\">window.PlotlyConfig = {MathJaxConfig: 'local'};</script>\n",
              "        <script src=\"https://cdn.plot.ly/plotly-2.8.3.min.js\"></script>                <div id=\"96b79740-76de-45f1-9591-0f12822452dd\" class=\"plotly-graph-div\" style=\"height:525px; width:100%;\"></div>            <script type=\"text/javascript\">                                    window.PLOTLYENV=window.PLOTLYENV || {};                                    if (document.getElementById(\"96b79740-76de-45f1-9591-0f12822452dd\")) {                    Plotly.newPlot(                        \"96b79740-76de-45f1-9591-0f12822452dd\",                        [{\"alignmentgroup\":\"True\",\"hovertemplate\":\"BUILDTYPE=%{x}<br>AVERAGE_PRICE=%{y}<extra></extra>\",\"legendgroup\":\"House\",\"marker\":{\"color\":\"#636efa\",\"pattern\":{\"shape\":\"\"}},\"name\":\"House\",\"offsetgroup\":\"House\",\"orientation\":\"v\",\"showlegend\":true,\"textposition\":\"auto\",\"x\":[\"House\"],\"xaxis\":\"x\",\"y\":[9531204.792962357],\"yaxis\":\"y\",\"type\":\"bar\"},{\"alignmentgroup\":\"True\",\"hovertemplate\":\"BUILDTYPE=%{x}<br>AVERAGE_PRICE=%{y}<extra></extra>\",\"legendgroup\":\"Others\",\"marker\":{\"color\":\"#EF553B\",\"pattern\":{\"shape\":\"\"}},\"name\":\"Others\",\"offsetgroup\":\"Others\",\"orientation\":\"v\",\"showlegend\":true,\"textposition\":\"auto\",\"x\":[\"Others\"],\"xaxis\":\"x\",\"y\":[10273464.224315068],\"yaxis\":\"y\",\"type\":\"bar\"},{\"alignmentgroup\":\"True\",\"hovertemplate\":\"BUILDTYPE=%{x}<br>AVERAGE_PRICE=%{y}<extra></extra>\",\"legendgroup\":\"Commercial\",\"marker\":{\"color\":\"#00cc96\",\"pattern\":{\"shape\":\"\"}},\"name\":\"Commercial\",\"offsetgroup\":\"Commercial\",\"orientation\":\"v\",\"showlegend\":true,\"textposition\":\"auto\",\"x\":[\"Commercial\"],\"xaxis\":\"x\",\"y\":[14530227.559467582],\"yaxis\":\"y\",\"type\":\"bar\"}],                        {\"template\":{\"data\":{\"bar\":[{\"error_x\":{\"color\":\"#2a3f5f\"},\"error_y\":{\"color\":\"#2a3f5f\"},\"marker\":{\"line\":{\"color\":\"#E5ECF6\",\"width\":0.5},\"pattern\":{\"fillmode\":\"overlay\",\"size\":10,\"solidity\":0.2}},\"type\":\"bar\"}],\"barpolar\":[{\"marker\":{\"line\":{\"color\":\"#E5ECF6\",\"width\":0.5},\"pattern\":{\"fillmode\":\"overlay\",\"size\":10,\"solidity\":0.2}},\"type\":\"barpolar\"}],\"carpet\":[{\"aaxis\":{\"endlinecolor\":\"#2a3f5f\",\"gridcolor\":\"white\",\"linecolor\":\"white\",\"minorgridcolor\":\"white\",\"startlinecolor\":\"#2a3f5f\"},\"baxis\":{\"endlinecolor\":\"#2a3f5f\",\"gridcolor\":\"white\",\"linecolor\":\"white\",\"minorgridcolor\":\"white\",\"startlinecolor\":\"#2a3f5f\"},\"type\":\"carpet\"}],\"choropleth\":[{\"colorbar\":{\"outlinewidth\":0,\"ticks\":\"\"},\"type\":\"choropleth\"}],\"contour\":[{\"colorbar\":{\"outlinewidth\":0,\"ticks\":\"\"},\"colorscale\":[[0.0,\"#0d0887\"],[0.1111111111111111,\"#46039f\"],[0.2222222222222222,\"#7201a8\"],[0.3333333333333333,\"#9c179e\"],[0.4444444444444444,\"#bd3786\"],[0.5555555555555556,\"#d8576b\"],[0.6666666666666666,\"#ed7953\"],[0.7777777777777778,\"#fb9f3a\"],[0.8888888888888888,\"#fdca26\"],[1.0,\"#f0f921\"]],\"type\":\"contour\"}],\"contourcarpet\":[{\"colorbar\":{\"outlinewidth\":0,\"ticks\":\"\"},\"type\":\"contourcarpet\"}],\"heatmap\":[{\"colorbar\":{\"outlinewidth\":0,\"ticks\":\"\"},\"colorscale\":[[0.0,\"#0d0887\"],[0.1111111111111111,\"#46039f\"],[0.2222222222222222,\"#7201a8\"],[0.3333333333333333,\"#9c179e\"],[0.4444444444444444,\"#bd3786\"],[0.5555555555555556,\"#d8576b\"],[0.6666666666666666,\"#ed7953\"],[0.7777777777777778,\"#fb9f3a\"],[0.8888888888888888,\"#fdca26\"],[1.0,\"#f0f921\"]],\"type\":\"heatmap\"}],\"heatmapgl\":[{\"colorbar\":{\"outlinewidth\":0,\"ticks\":\"\"},\"colorscale\":[[0.0,\"#0d0887\"],[0.1111111111111111,\"#46039f\"],[0.2222222222222222,\"#7201a8\"],[0.3333333333333333,\"#9c179e\"],[0.4444444444444444,\"#bd3786\"],[0.5555555555555556,\"#d8576b\"],[0.6666666666666666,\"#ed7953\"],[0.7777777777777778,\"#fb9f3a\"],[0.8888888888888888,\"#fdca26\"],[1.0,\"#f0f921\"]],\"type\":\"heatmapgl\"}],\"histogram\":[{\"marker\":{\"pattern\":{\"fillmode\":\"overlay\",\"size\":10,\"solidity\":0.2}},\"type\":\"histogram\"}],\"histogram2d\":[{\"colorbar\":{\"outlinewidth\":0,\"ticks\":\"\"},\"colorscale\":[[0.0,\"#0d0887\"],[0.1111111111111111,\"#46039f\"],[0.2222222222222222,\"#7201a8\"],[0.3333333333333333,\"#9c179e\"],[0.4444444444444444,\"#bd3786\"],[0.5555555555555556,\"#d8576b\"],[0.6666666666666666,\"#ed7953\"],[0.7777777777777778,\"#fb9f3a\"],[0.8888888888888888,\"#fdca26\"],[1.0,\"#f0f921\"]],\"type\":\"histogram2d\"}],\"histogram2dcontour\":[{\"colorbar\":{\"outlinewidth\":0,\"ticks\":\"\"},\"colorscale\":[[0.0,\"#0d0887\"],[0.1111111111111111,\"#46039f\"],[0.2222222222222222,\"#7201a8\"],[0.3333333333333333,\"#9c179e\"],[0.4444444444444444,\"#bd3786\"],[0.5555555555555556,\"#d8576b\"],[0.6666666666666666,\"#ed7953\"],[0.7777777777777778,\"#fb9f3a\"],[0.8888888888888888,\"#fdca26\"],[1.0,\"#f0f921\"]],\"type\":\"histogram2dcontour\"}],\"mesh3d\":[{\"colorbar\":{\"outlinewidth\":0,\"ticks\":\"\"},\"type\":\"mesh3d\"}],\"parcoords\":[{\"line\":{\"colorbar\":{\"outlinewidth\":0,\"ticks\":\"\"}},\"type\":\"parcoords\"}],\"pie\":[{\"automargin\":true,\"type\":\"pie\"}],\"scatter\":[{\"marker\":{\"colorbar\":{\"outlinewidth\":0,\"ticks\":\"\"}},\"type\":\"scatter\"}],\"scatter3d\":[{\"line\":{\"colorbar\":{\"outlinewidth\":0,\"ticks\":\"\"}},\"marker\":{\"colorbar\":{\"outlinewidth\":0,\"ticks\":\"\"}},\"type\":\"scatter3d\"}],\"scattercarpet\":[{\"marker\":{\"colorbar\":{\"outlinewidth\":0,\"ticks\":\"\"}},\"type\":\"scattercarpet\"}],\"scattergeo\":[{\"marker\":{\"colorbar\":{\"outlinewidth\":0,\"ticks\":\"\"}},\"type\":\"scattergeo\"}],\"scattergl\":[{\"marker\":{\"colorbar\":{\"outlinewidth\":0,\"ticks\":\"\"}},\"type\":\"scattergl\"}],\"scattermapbox\":[{\"marker\":{\"colorbar\":{\"outlinewidth\":0,\"ticks\":\"\"}},\"type\":\"scattermapbox\"}],\"scatterpolar\":[{\"marker\":{\"colorbar\":{\"outlinewidth\":0,\"ticks\":\"\"}},\"type\":\"scatterpolar\"}],\"scatterpolargl\":[{\"marker\":{\"colorbar\":{\"outlinewidth\":0,\"ticks\":\"\"}},\"type\":\"scatterpolargl\"}],\"scatterternary\":[{\"marker\":{\"colorbar\":{\"outlinewidth\":0,\"ticks\":\"\"}},\"type\":\"scatterternary\"}],\"surface\":[{\"colorbar\":{\"outlinewidth\":0,\"ticks\":\"\"},\"colorscale\":[[0.0,\"#0d0887\"],[0.1111111111111111,\"#46039f\"],[0.2222222222222222,\"#7201a8\"],[0.3333333333333333,\"#9c179e\"],[0.4444444444444444,\"#bd3786\"],[0.5555555555555556,\"#d8576b\"],[0.6666666666666666,\"#ed7953\"],[0.7777777777777778,\"#fb9f3a\"],[0.8888888888888888,\"#fdca26\"],[1.0,\"#f0f921\"]],\"type\":\"surface\"}],\"table\":[{\"cells\":{\"fill\":{\"color\":\"#EBF0F8\"},\"line\":{\"color\":\"white\"}},\"header\":{\"fill\":{\"color\":\"#C8D4E3\"},\"line\":{\"color\":\"white\"}},\"type\":\"table\"}]},\"layout\":{\"annotationdefaults\":{\"arrowcolor\":\"#2a3f5f\",\"arrowhead\":0,\"arrowwidth\":1},\"autotypenumbers\":\"strict\",\"coloraxis\":{\"colorbar\":{\"outlinewidth\":0,\"ticks\":\"\"}},\"colorscale\":{\"diverging\":[[0,\"#8e0152\"],[0.1,\"#c51b7d\"],[0.2,\"#de77ae\"],[0.3,\"#f1b6da\"],[0.4,\"#fde0ef\"],[0.5,\"#f7f7f7\"],[0.6,\"#e6f5d0\"],[0.7,\"#b8e186\"],[0.8,\"#7fbc41\"],[0.9,\"#4d9221\"],[1,\"#276419\"]],\"sequential\":[[0.0,\"#0d0887\"],[0.1111111111111111,\"#46039f\"],[0.2222222222222222,\"#7201a8\"],[0.3333333333333333,\"#9c179e\"],[0.4444444444444444,\"#bd3786\"],[0.5555555555555556,\"#d8576b\"],[0.6666666666666666,\"#ed7953\"],[0.7777777777777778,\"#fb9f3a\"],[0.8888888888888888,\"#fdca26\"],[1.0,\"#f0f921\"]],\"sequentialminus\":[[0.0,\"#0d0887\"],[0.1111111111111111,\"#46039f\"],[0.2222222222222222,\"#7201a8\"],[0.3333333333333333,\"#9c179e\"],[0.4444444444444444,\"#bd3786\"],[0.5555555555555556,\"#d8576b\"],[0.6666666666666666,\"#ed7953\"],[0.7777777777777778,\"#fb9f3a\"],[0.8888888888888888,\"#fdca26\"],[1.0,\"#f0f921\"]]},\"colorway\":[\"#636efa\",\"#EF553B\",\"#00cc96\",\"#ab63fa\",\"#FFA15A\",\"#19d3f3\",\"#FF6692\",\"#B6E880\",\"#FF97FF\",\"#FECB52\"],\"font\":{\"color\":\"#2a3f5f\"},\"geo\":{\"bgcolor\":\"white\",\"lakecolor\":\"white\",\"landcolor\":\"#E5ECF6\",\"showlakes\":true,\"showland\":true,\"subunitcolor\":\"white\"},\"hoverlabel\":{\"align\":\"left\"},\"hovermode\":\"closest\",\"mapbox\":{\"style\":\"light\"},\"paper_bgcolor\":\"white\",\"plot_bgcolor\":\"#E5ECF6\",\"polar\":{\"angularaxis\":{\"gridcolor\":\"white\",\"linecolor\":\"white\",\"ticks\":\"\"},\"bgcolor\":\"#E5ECF6\",\"radialaxis\":{\"gridcolor\":\"white\",\"linecolor\":\"white\",\"ticks\":\"\"}},\"scene\":{\"xaxis\":{\"backgroundcolor\":\"#E5ECF6\",\"gridcolor\":\"white\",\"gridwidth\":2,\"linecolor\":\"white\",\"showbackground\":true,\"ticks\":\"\",\"zerolinecolor\":\"white\"},\"yaxis\":{\"backgroundcolor\":\"#E5ECF6\",\"gridcolor\":\"white\",\"gridwidth\":2,\"linecolor\":\"white\",\"showbackground\":true,\"ticks\":\"\",\"zerolinecolor\":\"white\"},\"zaxis\":{\"backgroundcolor\":\"#E5ECF6\",\"gridcolor\":\"white\",\"gridwidth\":2,\"linecolor\":\"white\",\"showbackground\":true,\"ticks\":\"\",\"zerolinecolor\":\"white\"}},\"shapedefaults\":{\"line\":{\"color\":\"#2a3f5f\"}},\"ternary\":{\"aaxis\":{\"gridcolor\":\"white\",\"linecolor\":\"white\",\"ticks\":\"\"},\"baxis\":{\"gridcolor\":\"white\",\"linecolor\":\"white\",\"ticks\":\"\"},\"bgcolor\":\"#E5ECF6\",\"caxis\":{\"gridcolor\":\"white\",\"linecolor\":\"white\",\"ticks\":\"\"}},\"title\":{\"x\":0.05},\"xaxis\":{\"automargin\":true,\"gridcolor\":\"white\",\"linecolor\":\"white\",\"ticks\":\"\",\"title\":{\"standoff\":15},\"zerolinecolor\":\"white\",\"zerolinewidth\":2},\"yaxis\":{\"automargin\":true,\"gridcolor\":\"white\",\"linecolor\":\"white\",\"ticks\":\"\",\"title\":{\"standoff\":15},\"zerolinecolor\":\"white\",\"zerolinewidth\":2}}},\"xaxis\":{\"anchor\":\"y\",\"domain\":[0.0,1.0],\"title\":{\"text\":\"BUILDTYPE\"},\"categoryorder\":\"array\",\"categoryarray\":[\"House\",\"Others\",\"Commercial\"]},\"yaxis\":{\"anchor\":\"x\",\"domain\":[0.0,1.0],\"title\":{\"text\":\"AVERAGE_PRICE\"}},\"legend\":{\"title\":{\"text\":\"BUILDTYPE\"},\"tracegroupgap\":0},\"title\":{\"text\":\"BUILDTYPE VS AVERAGE_PRICE\"},\"barmode\":\"relative\"},                        {\"responsive\": true}                    ).then(function(){\n",
              "                            \n",
              "var gd = document.getElementById('96b79740-76de-45f1-9591-0f12822452dd');\n",
              "var x = new MutationObserver(function (mutations, observer) {{\n",
              "        var display = window.getComputedStyle(gd).display;\n",
              "        if (!display || display === 'none') {{\n",
              "            console.log([gd, 'removed!']);\n",
              "            Plotly.purge(gd);\n",
              "            observer.disconnect();\n",
              "        }}\n",
              "}});\n",
              "\n",
              "// Listen for the removal of the full notebook cells\n",
              "var notebookContainer = gd.closest('#notebook-container');\n",
              "if (notebookContainer) {{\n",
              "    x.observe(notebookContainer, {childList: true});\n",
              "}}\n",
              "\n",
              "// Listen for the clearing of the current output cell\n",
              "var outputEl = gd.closest('.output');\n",
              "if (outputEl) {{\n",
              "    x.observe(outputEl, {childList: true});\n",
              "}}\n",
              "\n",
              "                        })                };                            </script>        </div>\n",
              "</body>\n",
              "</html>"
            ]
          },
          "metadata": {}
        }
      ],
      "source": [
        "x = pd.DataFrame(data.groupby('BUILDTYPE')[\"TOTAL_SALES_PRICE\"].mean())\n",
        "y = data['BUILDTYPE'].unique()\n",
        "y = sorted(y)\n",
        "df2 = {'BUILDTYPE':y,\"AVERAGE_PRICE\":x['TOTAL_SALES_PRICE']}\n",
        "temp = pd.DataFrame(df2)\n",
        "temp.sort_values('AVERAGE_PRICE',inplace = True)\n",
        "\n",
        "fig1 = px.bar(temp,x = 'BUILDTYPE',y = 'AVERAGE_PRICE', color = 'BUILDTYPE', title = \"BUILDTYPE VS AVERAGE_PRICE\")\n",
        "fig1"
      ]
    },
    {
      "cell_type": "markdown",
      "source": [
        "From the Plot **BUILDTYPE VS AVERAGE_PRICE** Interpreted that the Commerical Houses has Much Higher Prices than the  Normal Houses and Non Commercial Purpose Houses. So Price for Commercial Buildings will have Much Higher Prices."
      ],
      "metadata": {
        "id": "cU79Z1RHjUEJ"
      }
    },
    {
      "cell_type": "code",
      "execution_count": 48,
      "metadata": {
        "id": "fXFWUpYfpQ9s",
        "colab": {
          "base_uri": "https://localhost:8080/",
          "height": 542
        },
        "outputId": "3cef5a02-8894-45ee-c814-35a3b4d0305a"
      },
      "outputs": [
        {
          "output_type": "display_data",
          "data": {
            "text/html": [
              "<html>\n",
              "<head><meta charset=\"utf-8\" /></head>\n",
              "<body>\n",
              "    <div>            <script src=\"https://cdnjs.cloudflare.com/ajax/libs/mathjax/2.7.5/MathJax.js?config=TeX-AMS-MML_SVG\"></script><script type=\"text/javascript\">if (window.MathJax) {MathJax.Hub.Config({SVG: {font: \"STIX-Web\"}});}</script>                <script type=\"text/javascript\">window.PlotlyConfig = {MathJaxConfig: 'local'};</script>\n",
              "        <script src=\"https://cdn.plot.ly/plotly-2.8.3.min.js\"></script>                <div id=\"f88c3484-3fc4-4bde-bcc9-9b78ae73b5c2\" class=\"plotly-graph-div\" style=\"height:525px; width:100%;\"></div>            <script type=\"text/javascript\">                                    window.PLOTLYENV=window.PLOTLYENV || {};                                    if (document.getElementById(\"f88c3484-3fc4-4bde-bcc9-9b78ae73b5c2\")) {                    Plotly.newPlot(                        \"f88c3484-3fc4-4bde-bcc9-9b78ae73b5c2\",                        [{\"alignmentgroup\":\"True\",\"hovertemplate\":\"UTILITY_AVAIL=%{x}<br>AVERAGE_PRICE=%{y}<extra></extra>\",\"legendgroup\":\"ELO\",\"marker\":{\"color\":\"#636efa\",\"pattern\":{\"shape\":\"\"}},\"name\":\"ELO\",\"offsetgroup\":\"ELO\",\"orientation\":\"v\",\"showlegend\":true,\"textposition\":\"auto\",\"x\":[\"ELO\"],\"xaxis\":\"x\",\"y\":[10948868.35282523],\"yaxis\":\"y\",\"type\":\"bar\"},{\"alignmentgroup\":\"True\",\"hovertemplate\":\"UTILITY_AVAIL=%{x}<br>AVERAGE_PRICE=%{y}<extra></extra>\",\"legendgroup\":\"NoSeWa\",\"marker\":{\"color\":\"#EF553B\",\"pattern\":{\"shape\":\"\"}},\"name\":\"NoSeWa\",\"offsetgroup\":\"NoSeWa\",\"orientation\":\"v\",\"showlegend\":true,\"textposition\":\"auto\",\"x\":[\"NoSeWa\"],\"xaxis\":\"x\",\"y\":[11433511.97972973],\"yaxis\":\"y\",\"type\":\"bar\"},{\"alignmentgroup\":\"True\",\"hovertemplate\":\"UTILITY_AVAIL=%{x}<br>AVERAGE_PRICE=%{y}<extra></extra>\",\"legendgroup\":\"AllPub\",\"marker\":{\"color\":\"#00cc96\",\"pattern\":{\"shape\":\"\"}},\"name\":\"AllPub\",\"offsetgroup\":\"AllPub\",\"orientation\":\"v\",\"showlegend\":true,\"textposition\":\"auto\",\"x\":[\"AllPub\"],\"xaxis\":\"x\",\"y\":[11746584.509803921],\"yaxis\":\"y\",\"type\":\"bar\"}],                        {\"template\":{\"data\":{\"bar\":[{\"error_x\":{\"color\":\"#2a3f5f\"},\"error_y\":{\"color\":\"#2a3f5f\"},\"marker\":{\"line\":{\"color\":\"#E5ECF6\",\"width\":0.5},\"pattern\":{\"fillmode\":\"overlay\",\"size\":10,\"solidity\":0.2}},\"type\":\"bar\"}],\"barpolar\":[{\"marker\":{\"line\":{\"color\":\"#E5ECF6\",\"width\":0.5},\"pattern\":{\"fillmode\":\"overlay\",\"size\":10,\"solidity\":0.2}},\"type\":\"barpolar\"}],\"carpet\":[{\"aaxis\":{\"endlinecolor\":\"#2a3f5f\",\"gridcolor\":\"white\",\"linecolor\":\"white\",\"minorgridcolor\":\"white\",\"startlinecolor\":\"#2a3f5f\"},\"baxis\":{\"endlinecolor\":\"#2a3f5f\",\"gridcolor\":\"white\",\"linecolor\":\"white\",\"minorgridcolor\":\"white\",\"startlinecolor\":\"#2a3f5f\"},\"type\":\"carpet\"}],\"choropleth\":[{\"colorbar\":{\"outlinewidth\":0,\"ticks\":\"\"},\"type\":\"choropleth\"}],\"contour\":[{\"colorbar\":{\"outlinewidth\":0,\"ticks\":\"\"},\"colorscale\":[[0.0,\"#0d0887\"],[0.1111111111111111,\"#46039f\"],[0.2222222222222222,\"#7201a8\"],[0.3333333333333333,\"#9c179e\"],[0.4444444444444444,\"#bd3786\"],[0.5555555555555556,\"#d8576b\"],[0.6666666666666666,\"#ed7953\"],[0.7777777777777778,\"#fb9f3a\"],[0.8888888888888888,\"#fdca26\"],[1.0,\"#f0f921\"]],\"type\":\"contour\"}],\"contourcarpet\":[{\"colorbar\":{\"outlinewidth\":0,\"ticks\":\"\"},\"type\":\"contourcarpet\"}],\"heatmap\":[{\"colorbar\":{\"outlinewidth\":0,\"ticks\":\"\"},\"colorscale\":[[0.0,\"#0d0887\"],[0.1111111111111111,\"#46039f\"],[0.2222222222222222,\"#7201a8\"],[0.3333333333333333,\"#9c179e\"],[0.4444444444444444,\"#bd3786\"],[0.5555555555555556,\"#d8576b\"],[0.6666666666666666,\"#ed7953\"],[0.7777777777777778,\"#fb9f3a\"],[0.8888888888888888,\"#fdca26\"],[1.0,\"#f0f921\"]],\"type\":\"heatmap\"}],\"heatmapgl\":[{\"colorbar\":{\"outlinewidth\":0,\"ticks\":\"\"},\"colorscale\":[[0.0,\"#0d0887\"],[0.1111111111111111,\"#46039f\"],[0.2222222222222222,\"#7201a8\"],[0.3333333333333333,\"#9c179e\"],[0.4444444444444444,\"#bd3786\"],[0.5555555555555556,\"#d8576b\"],[0.6666666666666666,\"#ed7953\"],[0.7777777777777778,\"#fb9f3a\"],[0.8888888888888888,\"#fdca26\"],[1.0,\"#f0f921\"]],\"type\":\"heatmapgl\"}],\"histogram\":[{\"marker\":{\"pattern\":{\"fillmode\":\"overlay\",\"size\":10,\"solidity\":0.2}},\"type\":\"histogram\"}],\"histogram2d\":[{\"colorbar\":{\"outlinewidth\":0,\"ticks\":\"\"},\"colorscale\":[[0.0,\"#0d0887\"],[0.1111111111111111,\"#46039f\"],[0.2222222222222222,\"#7201a8\"],[0.3333333333333333,\"#9c179e\"],[0.4444444444444444,\"#bd3786\"],[0.5555555555555556,\"#d8576b\"],[0.6666666666666666,\"#ed7953\"],[0.7777777777777778,\"#fb9f3a\"],[0.8888888888888888,\"#fdca26\"],[1.0,\"#f0f921\"]],\"type\":\"histogram2d\"}],\"histogram2dcontour\":[{\"colorbar\":{\"outlinewidth\":0,\"ticks\":\"\"},\"colorscale\":[[0.0,\"#0d0887\"],[0.1111111111111111,\"#46039f\"],[0.2222222222222222,\"#7201a8\"],[0.3333333333333333,\"#9c179e\"],[0.4444444444444444,\"#bd3786\"],[0.5555555555555556,\"#d8576b\"],[0.6666666666666666,\"#ed7953\"],[0.7777777777777778,\"#fb9f3a\"],[0.8888888888888888,\"#fdca26\"],[1.0,\"#f0f921\"]],\"type\":\"histogram2dcontour\"}],\"mesh3d\":[{\"colorbar\":{\"outlinewidth\":0,\"ticks\":\"\"},\"type\":\"mesh3d\"}],\"parcoords\":[{\"line\":{\"colorbar\":{\"outlinewidth\":0,\"ticks\":\"\"}},\"type\":\"parcoords\"}],\"pie\":[{\"automargin\":true,\"type\":\"pie\"}],\"scatter\":[{\"marker\":{\"colorbar\":{\"outlinewidth\":0,\"ticks\":\"\"}},\"type\":\"scatter\"}],\"scatter3d\":[{\"line\":{\"colorbar\":{\"outlinewidth\":0,\"ticks\":\"\"}},\"marker\":{\"colorbar\":{\"outlinewidth\":0,\"ticks\":\"\"}},\"type\":\"scatter3d\"}],\"scattercarpet\":[{\"marker\":{\"colorbar\":{\"outlinewidth\":0,\"ticks\":\"\"}},\"type\":\"scattercarpet\"}],\"scattergeo\":[{\"marker\":{\"colorbar\":{\"outlinewidth\":0,\"ticks\":\"\"}},\"type\":\"scattergeo\"}],\"scattergl\":[{\"marker\":{\"colorbar\":{\"outlinewidth\":0,\"ticks\":\"\"}},\"type\":\"scattergl\"}],\"scattermapbox\":[{\"marker\":{\"colorbar\":{\"outlinewidth\":0,\"ticks\":\"\"}},\"type\":\"scattermapbox\"}],\"scatterpolar\":[{\"marker\":{\"colorbar\":{\"outlinewidth\":0,\"ticks\":\"\"}},\"type\":\"scatterpolar\"}],\"scatterpolargl\":[{\"marker\":{\"colorbar\":{\"outlinewidth\":0,\"ticks\":\"\"}},\"type\":\"scatterpolargl\"}],\"scatterternary\":[{\"marker\":{\"colorbar\":{\"outlinewidth\":0,\"ticks\":\"\"}},\"type\":\"scatterternary\"}],\"surface\":[{\"colorbar\":{\"outlinewidth\":0,\"ticks\":\"\"},\"colorscale\":[[0.0,\"#0d0887\"],[0.1111111111111111,\"#46039f\"],[0.2222222222222222,\"#7201a8\"],[0.3333333333333333,\"#9c179e\"],[0.4444444444444444,\"#bd3786\"],[0.5555555555555556,\"#d8576b\"],[0.6666666666666666,\"#ed7953\"],[0.7777777777777778,\"#fb9f3a\"],[0.8888888888888888,\"#fdca26\"],[1.0,\"#f0f921\"]],\"type\":\"surface\"}],\"table\":[{\"cells\":{\"fill\":{\"color\":\"#EBF0F8\"},\"line\":{\"color\":\"white\"}},\"header\":{\"fill\":{\"color\":\"#C8D4E3\"},\"line\":{\"color\":\"white\"}},\"type\":\"table\"}]},\"layout\":{\"annotationdefaults\":{\"arrowcolor\":\"#2a3f5f\",\"arrowhead\":0,\"arrowwidth\":1},\"autotypenumbers\":\"strict\",\"coloraxis\":{\"colorbar\":{\"outlinewidth\":0,\"ticks\":\"\"}},\"colorscale\":{\"diverging\":[[0,\"#8e0152\"],[0.1,\"#c51b7d\"],[0.2,\"#de77ae\"],[0.3,\"#f1b6da\"],[0.4,\"#fde0ef\"],[0.5,\"#f7f7f7\"],[0.6,\"#e6f5d0\"],[0.7,\"#b8e186\"],[0.8,\"#7fbc41\"],[0.9,\"#4d9221\"],[1,\"#276419\"]],\"sequential\":[[0.0,\"#0d0887\"],[0.1111111111111111,\"#46039f\"],[0.2222222222222222,\"#7201a8\"],[0.3333333333333333,\"#9c179e\"],[0.4444444444444444,\"#bd3786\"],[0.5555555555555556,\"#d8576b\"],[0.6666666666666666,\"#ed7953\"],[0.7777777777777778,\"#fb9f3a\"],[0.8888888888888888,\"#fdca26\"],[1.0,\"#f0f921\"]],\"sequentialminus\":[[0.0,\"#0d0887\"],[0.1111111111111111,\"#46039f\"],[0.2222222222222222,\"#7201a8\"],[0.3333333333333333,\"#9c179e\"],[0.4444444444444444,\"#bd3786\"],[0.5555555555555556,\"#d8576b\"],[0.6666666666666666,\"#ed7953\"],[0.7777777777777778,\"#fb9f3a\"],[0.8888888888888888,\"#fdca26\"],[1.0,\"#f0f921\"]]},\"colorway\":[\"#636efa\",\"#EF553B\",\"#00cc96\",\"#ab63fa\",\"#FFA15A\",\"#19d3f3\",\"#FF6692\",\"#B6E880\",\"#FF97FF\",\"#FECB52\"],\"font\":{\"color\":\"#2a3f5f\"},\"geo\":{\"bgcolor\":\"white\",\"lakecolor\":\"white\",\"landcolor\":\"#E5ECF6\",\"showlakes\":true,\"showland\":true,\"subunitcolor\":\"white\"},\"hoverlabel\":{\"align\":\"left\"},\"hovermode\":\"closest\",\"mapbox\":{\"style\":\"light\"},\"paper_bgcolor\":\"white\",\"plot_bgcolor\":\"#E5ECF6\",\"polar\":{\"angularaxis\":{\"gridcolor\":\"white\",\"linecolor\":\"white\",\"ticks\":\"\"},\"bgcolor\":\"#E5ECF6\",\"radialaxis\":{\"gridcolor\":\"white\",\"linecolor\":\"white\",\"ticks\":\"\"}},\"scene\":{\"xaxis\":{\"backgroundcolor\":\"#E5ECF6\",\"gridcolor\":\"white\",\"gridwidth\":2,\"linecolor\":\"white\",\"showbackground\":true,\"ticks\":\"\",\"zerolinecolor\":\"white\"},\"yaxis\":{\"backgroundcolor\":\"#E5ECF6\",\"gridcolor\":\"white\",\"gridwidth\":2,\"linecolor\":\"white\",\"showbackground\":true,\"ticks\":\"\",\"zerolinecolor\":\"white\"},\"zaxis\":{\"backgroundcolor\":\"#E5ECF6\",\"gridcolor\":\"white\",\"gridwidth\":2,\"linecolor\":\"white\",\"showbackground\":true,\"ticks\":\"\",\"zerolinecolor\":\"white\"}},\"shapedefaults\":{\"line\":{\"color\":\"#2a3f5f\"}},\"ternary\":{\"aaxis\":{\"gridcolor\":\"white\",\"linecolor\":\"white\",\"ticks\":\"\"},\"baxis\":{\"gridcolor\":\"white\",\"linecolor\":\"white\",\"ticks\":\"\"},\"bgcolor\":\"#E5ECF6\",\"caxis\":{\"gridcolor\":\"white\",\"linecolor\":\"white\",\"ticks\":\"\"}},\"title\":{\"x\":0.05},\"xaxis\":{\"automargin\":true,\"gridcolor\":\"white\",\"linecolor\":\"white\",\"ticks\":\"\",\"title\":{\"standoff\":15},\"zerolinecolor\":\"white\",\"zerolinewidth\":2},\"yaxis\":{\"automargin\":true,\"gridcolor\":\"white\",\"linecolor\":\"white\",\"ticks\":\"\",\"title\":{\"standoff\":15},\"zerolinecolor\":\"white\",\"zerolinewidth\":2}}},\"xaxis\":{\"anchor\":\"y\",\"domain\":[0.0,1.0],\"title\":{\"text\":\"UTILITY_AVAIL\"},\"categoryorder\":\"array\",\"categoryarray\":[\"ELO\",\"NoSeWa\",\"AllPub\"]},\"yaxis\":{\"anchor\":\"x\",\"domain\":[0.0,1.0],\"title\":{\"text\":\"AVERAGE_PRICE\"}},\"legend\":{\"title\":{\"text\":\"UTILITY_AVAIL\"},\"tracegroupgap\":0},\"title\":{\"text\":\"UTILITY_AVAIL VS AVERAGE_PRICE\"},\"barmode\":\"relative\"},                        {\"responsive\": true}                    ).then(function(){\n",
              "                            \n",
              "var gd = document.getElementById('f88c3484-3fc4-4bde-bcc9-9b78ae73b5c2');\n",
              "var x = new MutationObserver(function (mutations, observer) {{\n",
              "        var display = window.getComputedStyle(gd).display;\n",
              "        if (!display || display === 'none') {{\n",
              "            console.log([gd, 'removed!']);\n",
              "            Plotly.purge(gd);\n",
              "            observer.disconnect();\n",
              "        }}\n",
              "}});\n",
              "\n",
              "// Listen for the removal of the full notebook cells\n",
              "var notebookContainer = gd.closest('#notebook-container');\n",
              "if (notebookContainer) {{\n",
              "    x.observe(notebookContainer, {childList: true});\n",
              "}}\n",
              "\n",
              "// Listen for the clearing of the current output cell\n",
              "var outputEl = gd.closest('.output');\n",
              "if (outputEl) {{\n",
              "    x.observe(outputEl, {childList: true});\n",
              "}}\n",
              "\n",
              "                        })                };                            </script>        </div>\n",
              "</body>\n",
              "</html>"
            ]
          },
          "metadata": {}
        }
      ],
      "source": [
        "x = pd.DataFrame(data.groupby('UTILITY_AVAIL')[\"TOTAL_SALES_PRICE\"].mean())\n",
        "y = data['UTILITY_AVAIL'].unique()\n",
        "y = sorted(y)\n",
        "df2 = {'UTILITY_AVAIL':y,\"AVERAGE_PRICE\":x['TOTAL_SALES_PRICE']}\n",
        "temp = pd.DataFrame(df2)\n",
        "temp.sort_values('AVERAGE_PRICE',inplace = True)\n",
        "\n",
        "fig1 = px.bar(temp,x = 'UTILITY_AVAIL',y = 'AVERAGE_PRICE', color = 'UTILITY_AVAIL', title = \"UTILITY_AVAIL VS AVERAGE_PRICE\")\n",
        "fig1"
      ]
    },
    {
      "cell_type": "markdown",
      "source": [
        "From The Plot **UTILITY_AVAIL VS AVERAGE_PRICE** Interpreted that Utility availabity is showing less impact on House Price we can see from the plot that there are not much Diffrence in the prices of Houses Based on Utility availabity but All Public Facility Feature has some higher Price"
      ],
      "metadata": {
        "id": "RgAxFUQrj8u8"
      }
    },
    {
      "cell_type": "code",
      "execution_count": 49,
      "metadata": {
        "id": "d7TPtG8i2orw",
        "colab": {
          "base_uri": "https://localhost:8080/",
          "height": 542
        },
        "outputId": "c4da78a5-b055-4420-fa87-b4cd5ff0c472"
      },
      "outputs": [
        {
          "output_type": "display_data",
          "data": {
            "text/html": [
              "<html>\n",
              "<head><meta charset=\"utf-8\" /></head>\n",
              "<body>\n",
              "    <div>            <script src=\"https://cdnjs.cloudflare.com/ajax/libs/mathjax/2.7.5/MathJax.js?config=TeX-AMS-MML_SVG\"></script><script type=\"text/javascript\">if (window.MathJax) {MathJax.Hub.Config({SVG: {font: \"STIX-Web\"}});}</script>                <script type=\"text/javascript\">window.PlotlyConfig = {MathJaxConfig: 'local'};</script>\n",
              "        <script src=\"https://cdn.plot.ly/plotly-2.8.3.min.js\"></script>                <div id=\"d2b5cd68-32ce-469b-bbce-fe3a4bfc1f71\" class=\"plotly-graph-div\" style=\"height:525px; width:100%;\"></div>            <script type=\"text/javascript\">                                    window.PLOTLYENV=window.PLOTLYENV || {};                                    if (document.getElementById(\"d2b5cd68-32ce-469b-bbce-fe3a4bfc1f71\")) {                    Plotly.newPlot(                        \"d2b5cd68-32ce-469b-bbce-fe3a4bfc1f71\",                        [{\"alignmentgroup\":\"True\",\"hovertemplate\":\"STREET=%{x}<br>AVERAGE_PRICE=%{y}<extra></extra>\",\"legendgroup\":\"No Access\",\"marker\":{\"color\":\"#636efa\",\"pattern\":{\"shape\":\"\"}},\"name\":\"No Access\",\"offsetgroup\":\"No Access\",\"orientation\":\"v\",\"showlegend\":true,\"textposition\":\"auto\",\"x\":[\"No Access\"],\"xaxis\":\"x\",\"y\":[10456568.719881011],\"yaxis\":\"y\",\"type\":\"bar\"},{\"alignmentgroup\":\"True\",\"hovertemplate\":\"STREET=%{x}<br>AVERAGE_PRICE=%{y}<extra></extra>\",\"legendgroup\":\"Paved\",\"marker\":{\"color\":\"#EF553B\",\"pattern\":{\"shape\":\"\"}},\"name\":\"Paved\",\"offsetgroup\":\"Paved\",\"orientation\":\"v\",\"showlegend\":true,\"textposition\":\"auto\",\"x\":[\"Paved\"],\"xaxis\":\"x\",\"y\":[11592467.66251944],\"yaxis\":\"y\",\"type\":\"bar\"},{\"alignmentgroup\":\"True\",\"hovertemplate\":\"STREET=%{x}<br>AVERAGE_PRICE=%{y}<extra></extra>\",\"legendgroup\":\"Gravel\",\"marker\":{\"color\":\"#00cc96\",\"pattern\":{\"shape\":\"\"}},\"name\":\"Gravel\",\"offsetgroup\":\"Gravel\",\"orientation\":\"v\",\"showlegend\":true,\"textposition\":\"auto\",\"x\":[\"Gravel\"],\"xaxis\":\"x\",\"y\":[11994940.86984127],\"yaxis\":\"y\",\"type\":\"bar\"}],                        {\"template\":{\"data\":{\"bar\":[{\"error_x\":{\"color\":\"#2a3f5f\"},\"error_y\":{\"color\":\"#2a3f5f\"},\"marker\":{\"line\":{\"color\":\"#E5ECF6\",\"width\":0.5},\"pattern\":{\"fillmode\":\"overlay\",\"size\":10,\"solidity\":0.2}},\"type\":\"bar\"}],\"barpolar\":[{\"marker\":{\"line\":{\"color\":\"#E5ECF6\",\"width\":0.5},\"pattern\":{\"fillmode\":\"overlay\",\"size\":10,\"solidity\":0.2}},\"type\":\"barpolar\"}],\"carpet\":[{\"aaxis\":{\"endlinecolor\":\"#2a3f5f\",\"gridcolor\":\"white\",\"linecolor\":\"white\",\"minorgridcolor\":\"white\",\"startlinecolor\":\"#2a3f5f\"},\"baxis\":{\"endlinecolor\":\"#2a3f5f\",\"gridcolor\":\"white\",\"linecolor\":\"white\",\"minorgridcolor\":\"white\",\"startlinecolor\":\"#2a3f5f\"},\"type\":\"carpet\"}],\"choropleth\":[{\"colorbar\":{\"outlinewidth\":0,\"ticks\":\"\"},\"type\":\"choropleth\"}],\"contour\":[{\"colorbar\":{\"outlinewidth\":0,\"ticks\":\"\"},\"colorscale\":[[0.0,\"#0d0887\"],[0.1111111111111111,\"#46039f\"],[0.2222222222222222,\"#7201a8\"],[0.3333333333333333,\"#9c179e\"],[0.4444444444444444,\"#bd3786\"],[0.5555555555555556,\"#d8576b\"],[0.6666666666666666,\"#ed7953\"],[0.7777777777777778,\"#fb9f3a\"],[0.8888888888888888,\"#fdca26\"],[1.0,\"#f0f921\"]],\"type\":\"contour\"}],\"contourcarpet\":[{\"colorbar\":{\"outlinewidth\":0,\"ticks\":\"\"},\"type\":\"contourcarpet\"}],\"heatmap\":[{\"colorbar\":{\"outlinewidth\":0,\"ticks\":\"\"},\"colorscale\":[[0.0,\"#0d0887\"],[0.1111111111111111,\"#46039f\"],[0.2222222222222222,\"#7201a8\"],[0.3333333333333333,\"#9c179e\"],[0.4444444444444444,\"#bd3786\"],[0.5555555555555556,\"#d8576b\"],[0.6666666666666666,\"#ed7953\"],[0.7777777777777778,\"#fb9f3a\"],[0.8888888888888888,\"#fdca26\"],[1.0,\"#f0f921\"]],\"type\":\"heatmap\"}],\"heatmapgl\":[{\"colorbar\":{\"outlinewidth\":0,\"ticks\":\"\"},\"colorscale\":[[0.0,\"#0d0887\"],[0.1111111111111111,\"#46039f\"],[0.2222222222222222,\"#7201a8\"],[0.3333333333333333,\"#9c179e\"],[0.4444444444444444,\"#bd3786\"],[0.5555555555555556,\"#d8576b\"],[0.6666666666666666,\"#ed7953\"],[0.7777777777777778,\"#fb9f3a\"],[0.8888888888888888,\"#fdca26\"],[1.0,\"#f0f921\"]],\"type\":\"heatmapgl\"}],\"histogram\":[{\"marker\":{\"pattern\":{\"fillmode\":\"overlay\",\"size\":10,\"solidity\":0.2}},\"type\":\"histogram\"}],\"histogram2d\":[{\"colorbar\":{\"outlinewidth\":0,\"ticks\":\"\"},\"colorscale\":[[0.0,\"#0d0887\"],[0.1111111111111111,\"#46039f\"],[0.2222222222222222,\"#7201a8\"],[0.3333333333333333,\"#9c179e\"],[0.4444444444444444,\"#bd3786\"],[0.5555555555555556,\"#d8576b\"],[0.6666666666666666,\"#ed7953\"],[0.7777777777777778,\"#fb9f3a\"],[0.8888888888888888,\"#fdca26\"],[1.0,\"#f0f921\"]],\"type\":\"histogram2d\"}],\"histogram2dcontour\":[{\"colorbar\":{\"outlinewidth\":0,\"ticks\":\"\"},\"colorscale\":[[0.0,\"#0d0887\"],[0.1111111111111111,\"#46039f\"],[0.2222222222222222,\"#7201a8\"],[0.3333333333333333,\"#9c179e\"],[0.4444444444444444,\"#bd3786\"],[0.5555555555555556,\"#d8576b\"],[0.6666666666666666,\"#ed7953\"],[0.7777777777777778,\"#fb9f3a\"],[0.8888888888888888,\"#fdca26\"],[1.0,\"#f0f921\"]],\"type\":\"histogram2dcontour\"}],\"mesh3d\":[{\"colorbar\":{\"outlinewidth\":0,\"ticks\":\"\"},\"type\":\"mesh3d\"}],\"parcoords\":[{\"line\":{\"colorbar\":{\"outlinewidth\":0,\"ticks\":\"\"}},\"type\":\"parcoords\"}],\"pie\":[{\"automargin\":true,\"type\":\"pie\"}],\"scatter\":[{\"marker\":{\"colorbar\":{\"outlinewidth\":0,\"ticks\":\"\"}},\"type\":\"scatter\"}],\"scatter3d\":[{\"line\":{\"colorbar\":{\"outlinewidth\":0,\"ticks\":\"\"}},\"marker\":{\"colorbar\":{\"outlinewidth\":0,\"ticks\":\"\"}},\"type\":\"scatter3d\"}],\"scattercarpet\":[{\"marker\":{\"colorbar\":{\"outlinewidth\":0,\"ticks\":\"\"}},\"type\":\"scattercarpet\"}],\"scattergeo\":[{\"marker\":{\"colorbar\":{\"outlinewidth\":0,\"ticks\":\"\"}},\"type\":\"scattergeo\"}],\"scattergl\":[{\"marker\":{\"colorbar\":{\"outlinewidth\":0,\"ticks\":\"\"}},\"type\":\"scattergl\"}],\"scattermapbox\":[{\"marker\":{\"colorbar\":{\"outlinewidth\":0,\"ticks\":\"\"}},\"type\":\"scattermapbox\"}],\"scatterpolar\":[{\"marker\":{\"colorbar\":{\"outlinewidth\":0,\"ticks\":\"\"}},\"type\":\"scatterpolar\"}],\"scatterpolargl\":[{\"marker\":{\"colorbar\":{\"outlinewidth\":0,\"ticks\":\"\"}},\"type\":\"scatterpolargl\"}],\"scatterternary\":[{\"marker\":{\"colorbar\":{\"outlinewidth\":0,\"ticks\":\"\"}},\"type\":\"scatterternary\"}],\"surface\":[{\"colorbar\":{\"outlinewidth\":0,\"ticks\":\"\"},\"colorscale\":[[0.0,\"#0d0887\"],[0.1111111111111111,\"#46039f\"],[0.2222222222222222,\"#7201a8\"],[0.3333333333333333,\"#9c179e\"],[0.4444444444444444,\"#bd3786\"],[0.5555555555555556,\"#d8576b\"],[0.6666666666666666,\"#ed7953\"],[0.7777777777777778,\"#fb9f3a\"],[0.8888888888888888,\"#fdca26\"],[1.0,\"#f0f921\"]],\"type\":\"surface\"}],\"table\":[{\"cells\":{\"fill\":{\"color\":\"#EBF0F8\"},\"line\":{\"color\":\"white\"}},\"header\":{\"fill\":{\"color\":\"#C8D4E3\"},\"line\":{\"color\":\"white\"}},\"type\":\"table\"}]},\"layout\":{\"annotationdefaults\":{\"arrowcolor\":\"#2a3f5f\",\"arrowhead\":0,\"arrowwidth\":1},\"autotypenumbers\":\"strict\",\"coloraxis\":{\"colorbar\":{\"outlinewidth\":0,\"ticks\":\"\"}},\"colorscale\":{\"diverging\":[[0,\"#8e0152\"],[0.1,\"#c51b7d\"],[0.2,\"#de77ae\"],[0.3,\"#f1b6da\"],[0.4,\"#fde0ef\"],[0.5,\"#f7f7f7\"],[0.6,\"#e6f5d0\"],[0.7,\"#b8e186\"],[0.8,\"#7fbc41\"],[0.9,\"#4d9221\"],[1,\"#276419\"]],\"sequential\":[[0.0,\"#0d0887\"],[0.1111111111111111,\"#46039f\"],[0.2222222222222222,\"#7201a8\"],[0.3333333333333333,\"#9c179e\"],[0.4444444444444444,\"#bd3786\"],[0.5555555555555556,\"#d8576b\"],[0.6666666666666666,\"#ed7953\"],[0.7777777777777778,\"#fb9f3a\"],[0.8888888888888888,\"#fdca26\"],[1.0,\"#f0f921\"]],\"sequentialminus\":[[0.0,\"#0d0887\"],[0.1111111111111111,\"#46039f\"],[0.2222222222222222,\"#7201a8\"],[0.3333333333333333,\"#9c179e\"],[0.4444444444444444,\"#bd3786\"],[0.5555555555555556,\"#d8576b\"],[0.6666666666666666,\"#ed7953\"],[0.7777777777777778,\"#fb9f3a\"],[0.8888888888888888,\"#fdca26\"],[1.0,\"#f0f921\"]]},\"colorway\":[\"#636efa\",\"#EF553B\",\"#00cc96\",\"#ab63fa\",\"#FFA15A\",\"#19d3f3\",\"#FF6692\",\"#B6E880\",\"#FF97FF\",\"#FECB52\"],\"font\":{\"color\":\"#2a3f5f\"},\"geo\":{\"bgcolor\":\"white\",\"lakecolor\":\"white\",\"landcolor\":\"#E5ECF6\",\"showlakes\":true,\"showland\":true,\"subunitcolor\":\"white\"},\"hoverlabel\":{\"align\":\"left\"},\"hovermode\":\"closest\",\"mapbox\":{\"style\":\"light\"},\"paper_bgcolor\":\"white\",\"plot_bgcolor\":\"#E5ECF6\",\"polar\":{\"angularaxis\":{\"gridcolor\":\"white\",\"linecolor\":\"white\",\"ticks\":\"\"},\"bgcolor\":\"#E5ECF6\",\"radialaxis\":{\"gridcolor\":\"white\",\"linecolor\":\"white\",\"ticks\":\"\"}},\"scene\":{\"xaxis\":{\"backgroundcolor\":\"#E5ECF6\",\"gridcolor\":\"white\",\"gridwidth\":2,\"linecolor\":\"white\",\"showbackground\":true,\"ticks\":\"\",\"zerolinecolor\":\"white\"},\"yaxis\":{\"backgroundcolor\":\"#E5ECF6\",\"gridcolor\":\"white\",\"gridwidth\":2,\"linecolor\":\"white\",\"showbackground\":true,\"ticks\":\"\",\"zerolinecolor\":\"white\"},\"zaxis\":{\"backgroundcolor\":\"#E5ECF6\",\"gridcolor\":\"white\",\"gridwidth\":2,\"linecolor\":\"white\",\"showbackground\":true,\"ticks\":\"\",\"zerolinecolor\":\"white\"}},\"shapedefaults\":{\"line\":{\"color\":\"#2a3f5f\"}},\"ternary\":{\"aaxis\":{\"gridcolor\":\"white\",\"linecolor\":\"white\",\"ticks\":\"\"},\"baxis\":{\"gridcolor\":\"white\",\"linecolor\":\"white\",\"ticks\":\"\"},\"bgcolor\":\"#E5ECF6\",\"caxis\":{\"gridcolor\":\"white\",\"linecolor\":\"white\",\"ticks\":\"\"}},\"title\":{\"x\":0.05},\"xaxis\":{\"automargin\":true,\"gridcolor\":\"white\",\"linecolor\":\"white\",\"ticks\":\"\",\"title\":{\"standoff\":15},\"zerolinecolor\":\"white\",\"zerolinewidth\":2},\"yaxis\":{\"automargin\":true,\"gridcolor\":\"white\",\"linecolor\":\"white\",\"ticks\":\"\",\"title\":{\"standoff\":15},\"zerolinecolor\":\"white\",\"zerolinewidth\":2}}},\"xaxis\":{\"anchor\":\"y\",\"domain\":[0.0,1.0],\"title\":{\"text\":\"STREET\"},\"categoryorder\":\"array\",\"categoryarray\":[\"No Access\",\"Paved\",\"Gravel\"]},\"yaxis\":{\"anchor\":\"x\",\"domain\":[0.0,1.0],\"title\":{\"text\":\"AVERAGE_PRICE\"}},\"legend\":{\"title\":{\"text\":\"STREET\"},\"tracegroupgap\":0},\"title\":{\"text\":\"STREET VS AVERAGE_PRICE\"},\"barmode\":\"relative\"},                        {\"responsive\": true}                    ).then(function(){\n",
              "                            \n",
              "var gd = document.getElementById('d2b5cd68-32ce-469b-bbce-fe3a4bfc1f71');\n",
              "var x = new MutationObserver(function (mutations, observer) {{\n",
              "        var display = window.getComputedStyle(gd).display;\n",
              "        if (!display || display === 'none') {{\n",
              "            console.log([gd, 'removed!']);\n",
              "            Plotly.purge(gd);\n",
              "            observer.disconnect();\n",
              "        }}\n",
              "}});\n",
              "\n",
              "// Listen for the removal of the full notebook cells\n",
              "var notebookContainer = gd.closest('#notebook-container');\n",
              "if (notebookContainer) {{\n",
              "    x.observe(notebookContainer, {childList: true});\n",
              "}}\n",
              "\n",
              "// Listen for the clearing of the current output cell\n",
              "var outputEl = gd.closest('.output');\n",
              "if (outputEl) {{\n",
              "    x.observe(outputEl, {childList: true});\n",
              "}}\n",
              "\n",
              "                        })                };                            </script>        </div>\n",
              "</body>\n",
              "</html>"
            ]
          },
          "metadata": {}
        }
      ],
      "source": [
        "x = pd.DataFrame(data.groupby('STREET')[\"TOTAL_SALES_PRICE\"].mean())\n",
        "y = data['STREET'].unique()\n",
        "y = sorted(y)\n",
        "df2 = {'STREET':y,\"AVERAGE_PRICE\":x['TOTAL_SALES_PRICE']}\n",
        "temp = pd.DataFrame(df2)\n",
        "temp.sort_values('AVERAGE_PRICE',inplace = True)\n",
        "\n",
        "fig1 = px.bar(temp,x = 'STREET',y = 'AVERAGE_PRICE', color = 'STREET', title = \"STREET VS AVERAGE_PRICE\")\n",
        "fig1"
      ]
    },
    {
      "cell_type": "markdown",
      "source": [
        "From The Plot **STREET VS AVERAGE_PRICE** Interpreted that Street with Gravel and Paved roads have some Higher Prices than the No Access. for Gravel road and Paved roads there is not much Difference in the Price"
      ],
      "metadata": {
        "id": "ibFKSmtLknYh"
      }
    },
    {
      "cell_type": "code",
      "execution_count": 50,
      "metadata": {
        "colab": {
          "base_uri": "https://localhost:8080/",
          "height": 542
        },
        "id": "CzjBAaSt_A_t",
        "outputId": "b4051bca-018b-4310-bad9-0afdecf9e466"
      },
      "outputs": [
        {
          "output_type": "display_data",
          "data": {
            "text/html": [
              "<html>\n",
              "<head><meta charset=\"utf-8\" /></head>\n",
              "<body>\n",
              "    <div>            <script src=\"https://cdnjs.cloudflare.com/ajax/libs/mathjax/2.7.5/MathJax.js?config=TeX-AMS-MML_SVG\"></script><script type=\"text/javascript\">if (window.MathJax) {MathJax.Hub.Config({SVG: {font: \"STIX-Web\"}});}</script>                <script type=\"text/javascript\">window.PlotlyConfig = {MathJaxConfig: 'local'};</script>\n",
              "        <script src=\"https://cdn.plot.ly/plotly-2.8.3.min.js\"></script>                <div id=\"8cd56b1c-6137-406f-9002-644440058a82\" class=\"plotly-graph-div\" style=\"height:525px; width:100%;\"></div>            <script type=\"text/javascript\">                                    window.PLOTLYENV=window.PLOTLYENV || {};                                    if (document.getElementById(\"8cd56b1c-6137-406f-9002-644440058a82\")) {                    Plotly.newPlot(                        \"8cd56b1c-6137-406f-9002-644440058a82\",                        [{\"alignmentgroup\":\"True\",\"hovertemplate\":\"MZZONE=%{x}<br>AVERAGE_PRICE=%{y}<extra></extra>\",\"legendgroup\":\"A\",\"marker\":{\"color\":\"#636efa\",\"pattern\":{\"shape\":\"\"}},\"name\":\"A\",\"offsetgroup\":\"A\",\"orientation\":\"v\",\"showlegend\":true,\"textposition\":\"auto\",\"x\":[\"A\"],\"xaxis\":\"x\",\"y\":[7660001.523277467],\"yaxis\":\"y\",\"type\":\"bar\"},{\"alignmentgroup\":\"True\",\"hovertemplate\":\"MZZONE=%{x}<br>AVERAGE_PRICE=%{y}<extra></extra>\",\"legendgroup\":\"C\",\"marker\":{\"color\":\"#EF553B\",\"pattern\":{\"shape\":\"\"}},\"name\":\"C\",\"offsetgroup\":\"C\",\"orientation\":\"v\",\"showlegend\":true,\"textposition\":\"auto\",\"x\":[\"C\"],\"xaxis\":\"x\",\"y\":[8457633.861818181],\"yaxis\":\"y\",\"type\":\"bar\"},{\"alignmentgroup\":\"True\",\"hovertemplate\":\"MZZONE=%{x}<br>AVERAGE_PRICE=%{y}<extra></extra>\",\"legendgroup\":\"I\",\"marker\":{\"color\":\"#00cc96\",\"pattern\":{\"shape\":\"\"}},\"name\":\"I\",\"offsetgroup\":\"I\",\"orientation\":\"v\",\"showlegend\":true,\"textposition\":\"auto\",\"x\":[\"I\"],\"xaxis\":\"x\",\"y\":[9170938.935238095],\"yaxis\":\"y\",\"type\":\"bar\"},{\"alignmentgroup\":\"True\",\"hovertemplate\":\"MZZONE=%{x}<br>AVERAGE_PRICE=%{y}<extra></extra>\",\"legendgroup\":\"RH\",\"marker\":{\"color\":\"#ab63fa\",\"pattern\":{\"shape\":\"\"}},\"name\":\"RH\",\"offsetgroup\":\"RH\",\"orientation\":\"v\",\"showlegend\":true,\"textposition\":\"auto\",\"x\":[\"RH\"],\"xaxis\":\"x\",\"y\":[11561450.618551042],\"yaxis\":\"y\",\"type\":\"bar\"},{\"alignmentgroup\":\"True\",\"hovertemplate\":\"MZZONE=%{x}<br>AVERAGE_PRICE=%{y}<extra></extra>\",\"legendgroup\":\"RL\",\"marker\":{\"color\":\"#FFA15A\",\"pattern\":{\"shape\":\"\"}},\"name\":\"RL\",\"offsetgroup\":\"RL\",\"orientation\":\"v\",\"showlegend\":true,\"textposition\":\"auto\",\"x\":[\"RL\"],\"xaxis\":\"x\",\"y\":[12318387.386975242],\"yaxis\":\"y\",\"type\":\"bar\"},{\"alignmentgroup\":\"True\",\"hovertemplate\":\"MZZONE=%{x}<br>AVERAGE_PRICE=%{y}<extra></extra>\",\"legendgroup\":\"RM\",\"marker\":{\"color\":\"#19d3f3\",\"pattern\":{\"shape\":\"\"}},\"name\":\"RM\",\"offsetgroup\":\"RM\",\"orientation\":\"v\",\"showlegend\":true,\"textposition\":\"auto\",\"x\":[\"RM\"],\"xaxis\":\"x\",\"y\":[12989316.319757843],\"yaxis\":\"y\",\"type\":\"bar\"}],                        {\"template\":{\"data\":{\"bar\":[{\"error_x\":{\"color\":\"#2a3f5f\"},\"error_y\":{\"color\":\"#2a3f5f\"},\"marker\":{\"line\":{\"color\":\"#E5ECF6\",\"width\":0.5},\"pattern\":{\"fillmode\":\"overlay\",\"size\":10,\"solidity\":0.2}},\"type\":\"bar\"}],\"barpolar\":[{\"marker\":{\"line\":{\"color\":\"#E5ECF6\",\"width\":0.5},\"pattern\":{\"fillmode\":\"overlay\",\"size\":10,\"solidity\":0.2}},\"type\":\"barpolar\"}],\"carpet\":[{\"aaxis\":{\"endlinecolor\":\"#2a3f5f\",\"gridcolor\":\"white\",\"linecolor\":\"white\",\"minorgridcolor\":\"white\",\"startlinecolor\":\"#2a3f5f\"},\"baxis\":{\"endlinecolor\":\"#2a3f5f\",\"gridcolor\":\"white\",\"linecolor\":\"white\",\"minorgridcolor\":\"white\",\"startlinecolor\":\"#2a3f5f\"},\"type\":\"carpet\"}],\"choropleth\":[{\"colorbar\":{\"outlinewidth\":0,\"ticks\":\"\"},\"type\":\"choropleth\"}],\"contour\":[{\"colorbar\":{\"outlinewidth\":0,\"ticks\":\"\"},\"colorscale\":[[0.0,\"#0d0887\"],[0.1111111111111111,\"#46039f\"],[0.2222222222222222,\"#7201a8\"],[0.3333333333333333,\"#9c179e\"],[0.4444444444444444,\"#bd3786\"],[0.5555555555555556,\"#d8576b\"],[0.6666666666666666,\"#ed7953\"],[0.7777777777777778,\"#fb9f3a\"],[0.8888888888888888,\"#fdca26\"],[1.0,\"#f0f921\"]],\"type\":\"contour\"}],\"contourcarpet\":[{\"colorbar\":{\"outlinewidth\":0,\"ticks\":\"\"},\"type\":\"contourcarpet\"}],\"heatmap\":[{\"colorbar\":{\"outlinewidth\":0,\"ticks\":\"\"},\"colorscale\":[[0.0,\"#0d0887\"],[0.1111111111111111,\"#46039f\"],[0.2222222222222222,\"#7201a8\"],[0.3333333333333333,\"#9c179e\"],[0.4444444444444444,\"#bd3786\"],[0.5555555555555556,\"#d8576b\"],[0.6666666666666666,\"#ed7953\"],[0.7777777777777778,\"#fb9f3a\"],[0.8888888888888888,\"#fdca26\"],[1.0,\"#f0f921\"]],\"type\":\"heatmap\"}],\"heatmapgl\":[{\"colorbar\":{\"outlinewidth\":0,\"ticks\":\"\"},\"colorscale\":[[0.0,\"#0d0887\"],[0.1111111111111111,\"#46039f\"],[0.2222222222222222,\"#7201a8\"],[0.3333333333333333,\"#9c179e\"],[0.4444444444444444,\"#bd3786\"],[0.5555555555555556,\"#d8576b\"],[0.6666666666666666,\"#ed7953\"],[0.7777777777777778,\"#fb9f3a\"],[0.8888888888888888,\"#fdca26\"],[1.0,\"#f0f921\"]],\"type\":\"heatmapgl\"}],\"histogram\":[{\"marker\":{\"pattern\":{\"fillmode\":\"overlay\",\"size\":10,\"solidity\":0.2}},\"type\":\"histogram\"}],\"histogram2d\":[{\"colorbar\":{\"outlinewidth\":0,\"ticks\":\"\"},\"colorscale\":[[0.0,\"#0d0887\"],[0.1111111111111111,\"#46039f\"],[0.2222222222222222,\"#7201a8\"],[0.3333333333333333,\"#9c179e\"],[0.4444444444444444,\"#bd3786\"],[0.5555555555555556,\"#d8576b\"],[0.6666666666666666,\"#ed7953\"],[0.7777777777777778,\"#fb9f3a\"],[0.8888888888888888,\"#fdca26\"],[1.0,\"#f0f921\"]],\"type\":\"histogram2d\"}],\"histogram2dcontour\":[{\"colorbar\":{\"outlinewidth\":0,\"ticks\":\"\"},\"colorscale\":[[0.0,\"#0d0887\"],[0.1111111111111111,\"#46039f\"],[0.2222222222222222,\"#7201a8\"],[0.3333333333333333,\"#9c179e\"],[0.4444444444444444,\"#bd3786\"],[0.5555555555555556,\"#d8576b\"],[0.6666666666666666,\"#ed7953\"],[0.7777777777777778,\"#fb9f3a\"],[0.8888888888888888,\"#fdca26\"],[1.0,\"#f0f921\"]],\"type\":\"histogram2dcontour\"}],\"mesh3d\":[{\"colorbar\":{\"outlinewidth\":0,\"ticks\":\"\"},\"type\":\"mesh3d\"}],\"parcoords\":[{\"line\":{\"colorbar\":{\"outlinewidth\":0,\"ticks\":\"\"}},\"type\":\"parcoords\"}],\"pie\":[{\"automargin\":true,\"type\":\"pie\"}],\"scatter\":[{\"marker\":{\"colorbar\":{\"outlinewidth\":0,\"ticks\":\"\"}},\"type\":\"scatter\"}],\"scatter3d\":[{\"line\":{\"colorbar\":{\"outlinewidth\":0,\"ticks\":\"\"}},\"marker\":{\"colorbar\":{\"outlinewidth\":0,\"ticks\":\"\"}},\"type\":\"scatter3d\"}],\"scattercarpet\":[{\"marker\":{\"colorbar\":{\"outlinewidth\":0,\"ticks\":\"\"}},\"type\":\"scattercarpet\"}],\"scattergeo\":[{\"marker\":{\"colorbar\":{\"outlinewidth\":0,\"ticks\":\"\"}},\"type\":\"scattergeo\"}],\"scattergl\":[{\"marker\":{\"colorbar\":{\"outlinewidth\":0,\"ticks\":\"\"}},\"type\":\"scattergl\"}],\"scattermapbox\":[{\"marker\":{\"colorbar\":{\"outlinewidth\":0,\"ticks\":\"\"}},\"type\":\"scattermapbox\"}],\"scatterpolar\":[{\"marker\":{\"colorbar\":{\"outlinewidth\":0,\"ticks\":\"\"}},\"type\":\"scatterpolar\"}],\"scatterpolargl\":[{\"marker\":{\"colorbar\":{\"outlinewidth\":0,\"ticks\":\"\"}},\"type\":\"scatterpolargl\"}],\"scatterternary\":[{\"marker\":{\"colorbar\":{\"outlinewidth\":0,\"ticks\":\"\"}},\"type\":\"scatterternary\"}],\"surface\":[{\"colorbar\":{\"outlinewidth\":0,\"ticks\":\"\"},\"colorscale\":[[0.0,\"#0d0887\"],[0.1111111111111111,\"#46039f\"],[0.2222222222222222,\"#7201a8\"],[0.3333333333333333,\"#9c179e\"],[0.4444444444444444,\"#bd3786\"],[0.5555555555555556,\"#d8576b\"],[0.6666666666666666,\"#ed7953\"],[0.7777777777777778,\"#fb9f3a\"],[0.8888888888888888,\"#fdca26\"],[1.0,\"#f0f921\"]],\"type\":\"surface\"}],\"table\":[{\"cells\":{\"fill\":{\"color\":\"#EBF0F8\"},\"line\":{\"color\":\"white\"}},\"header\":{\"fill\":{\"color\":\"#C8D4E3\"},\"line\":{\"color\":\"white\"}},\"type\":\"table\"}]},\"layout\":{\"annotationdefaults\":{\"arrowcolor\":\"#2a3f5f\",\"arrowhead\":0,\"arrowwidth\":1},\"autotypenumbers\":\"strict\",\"coloraxis\":{\"colorbar\":{\"outlinewidth\":0,\"ticks\":\"\"}},\"colorscale\":{\"diverging\":[[0,\"#8e0152\"],[0.1,\"#c51b7d\"],[0.2,\"#de77ae\"],[0.3,\"#f1b6da\"],[0.4,\"#fde0ef\"],[0.5,\"#f7f7f7\"],[0.6,\"#e6f5d0\"],[0.7,\"#b8e186\"],[0.8,\"#7fbc41\"],[0.9,\"#4d9221\"],[1,\"#276419\"]],\"sequential\":[[0.0,\"#0d0887\"],[0.1111111111111111,\"#46039f\"],[0.2222222222222222,\"#7201a8\"],[0.3333333333333333,\"#9c179e\"],[0.4444444444444444,\"#bd3786\"],[0.5555555555555556,\"#d8576b\"],[0.6666666666666666,\"#ed7953\"],[0.7777777777777778,\"#fb9f3a\"],[0.8888888888888888,\"#fdca26\"],[1.0,\"#f0f921\"]],\"sequentialminus\":[[0.0,\"#0d0887\"],[0.1111111111111111,\"#46039f\"],[0.2222222222222222,\"#7201a8\"],[0.3333333333333333,\"#9c179e\"],[0.4444444444444444,\"#bd3786\"],[0.5555555555555556,\"#d8576b\"],[0.6666666666666666,\"#ed7953\"],[0.7777777777777778,\"#fb9f3a\"],[0.8888888888888888,\"#fdca26\"],[1.0,\"#f0f921\"]]},\"colorway\":[\"#636efa\",\"#EF553B\",\"#00cc96\",\"#ab63fa\",\"#FFA15A\",\"#19d3f3\",\"#FF6692\",\"#B6E880\",\"#FF97FF\",\"#FECB52\"],\"font\":{\"color\":\"#2a3f5f\"},\"geo\":{\"bgcolor\":\"white\",\"lakecolor\":\"white\",\"landcolor\":\"#E5ECF6\",\"showlakes\":true,\"showland\":true,\"subunitcolor\":\"white\"},\"hoverlabel\":{\"align\":\"left\"},\"hovermode\":\"closest\",\"mapbox\":{\"style\":\"light\"},\"paper_bgcolor\":\"white\",\"plot_bgcolor\":\"#E5ECF6\",\"polar\":{\"angularaxis\":{\"gridcolor\":\"white\",\"linecolor\":\"white\",\"ticks\":\"\"},\"bgcolor\":\"#E5ECF6\",\"radialaxis\":{\"gridcolor\":\"white\",\"linecolor\":\"white\",\"ticks\":\"\"}},\"scene\":{\"xaxis\":{\"backgroundcolor\":\"#E5ECF6\",\"gridcolor\":\"white\",\"gridwidth\":2,\"linecolor\":\"white\",\"showbackground\":true,\"ticks\":\"\",\"zerolinecolor\":\"white\"},\"yaxis\":{\"backgroundcolor\":\"#E5ECF6\",\"gridcolor\":\"white\",\"gridwidth\":2,\"linecolor\":\"white\",\"showbackground\":true,\"ticks\":\"\",\"zerolinecolor\":\"white\"},\"zaxis\":{\"backgroundcolor\":\"#E5ECF6\",\"gridcolor\":\"white\",\"gridwidth\":2,\"linecolor\":\"white\",\"showbackground\":true,\"ticks\":\"\",\"zerolinecolor\":\"white\"}},\"shapedefaults\":{\"line\":{\"color\":\"#2a3f5f\"}},\"ternary\":{\"aaxis\":{\"gridcolor\":\"white\",\"linecolor\":\"white\",\"ticks\":\"\"},\"baxis\":{\"gridcolor\":\"white\",\"linecolor\":\"white\",\"ticks\":\"\"},\"bgcolor\":\"#E5ECF6\",\"caxis\":{\"gridcolor\":\"white\",\"linecolor\":\"white\",\"ticks\":\"\"}},\"title\":{\"x\":0.05},\"xaxis\":{\"automargin\":true,\"gridcolor\":\"white\",\"linecolor\":\"white\",\"ticks\":\"\",\"title\":{\"standoff\":15},\"zerolinecolor\":\"white\",\"zerolinewidth\":2},\"yaxis\":{\"automargin\":true,\"gridcolor\":\"white\",\"linecolor\":\"white\",\"ticks\":\"\",\"title\":{\"standoff\":15},\"zerolinecolor\":\"white\",\"zerolinewidth\":2}}},\"xaxis\":{\"anchor\":\"y\",\"domain\":[0.0,1.0],\"title\":{\"text\":\"MZZONE\"},\"categoryorder\":\"array\",\"categoryarray\":[\"A\",\"C\",\"I\",\"RH\",\"RL\",\"RM\"]},\"yaxis\":{\"anchor\":\"x\",\"domain\":[0.0,1.0],\"title\":{\"text\":\"AVERAGE_PRICE\"}},\"legend\":{\"title\":{\"text\":\"MZZONE\"},\"tracegroupgap\":0},\"title\":{\"text\":\"MZZONE VS AVERAGE_PRICE\"},\"barmode\":\"relative\"},                        {\"responsive\": true}                    ).then(function(){\n",
              "                            \n",
              "var gd = document.getElementById('8cd56b1c-6137-406f-9002-644440058a82');\n",
              "var x = new MutationObserver(function (mutations, observer) {{\n",
              "        var display = window.getComputedStyle(gd).display;\n",
              "        if (!display || display === 'none') {{\n",
              "            console.log([gd, 'removed!']);\n",
              "            Plotly.purge(gd);\n",
              "            observer.disconnect();\n",
              "        }}\n",
              "}});\n",
              "\n",
              "// Listen for the removal of the full notebook cells\n",
              "var notebookContainer = gd.closest('#notebook-container');\n",
              "if (notebookContainer) {{\n",
              "    x.observe(notebookContainer, {childList: true});\n",
              "}}\n",
              "\n",
              "// Listen for the clearing of the current output cell\n",
              "var outputEl = gd.closest('.output');\n",
              "if (outputEl) {{\n",
              "    x.observe(outputEl, {childList: true});\n",
              "}}\n",
              "\n",
              "                        })                };                            </script>        </div>\n",
              "</body>\n",
              "</html>"
            ]
          },
          "metadata": {}
        }
      ],
      "source": [
        "x = pd.DataFrame(data.groupby('MZZONE')[\"TOTAL_SALES_PRICE\"].mean())\n",
        "y = data['MZZONE'].unique()\n",
        "y = sorted(y)\n",
        "df2 = {'MZZONE':y,\"AVERAGE_PRICE\":x['TOTAL_SALES_PRICE']}\n",
        "temp = pd.DataFrame(df2)\n",
        "temp.sort_values('AVERAGE_PRICE',inplace = True)\n",
        "\n",
        "fig1 = px.bar(temp,x = 'MZZONE',y = 'AVERAGE_PRICE', color = 'MZZONE', title = \"MZZONE VS AVERAGE_PRICE\")\n",
        "fig1"
      ]
    },
    {
      "cell_type": "markdown",
      "source": [
        "From The Plot **MZZONE VS AVERAGE_PRICE** intrepreted the price of the Houses Zone Wise. we sorted the prices of the House According to Zone. Zone RM have Higher House Price and others zones are linearly decreasing in price. "
      ],
      "metadata": {
        "id": "zLsd4e_plF6m"
      }
    },
    {
      "cell_type": "code",
      "execution_count": 51,
      "metadata": {
        "colab": {
          "base_uri": "https://localhost:8080/",
          "height": 542
        },
        "id": "QaX2OBd7_RR2",
        "outputId": "9eff0ba6-e6fb-42d8-a04f-a8313646bcaf"
      },
      "outputs": [
        {
          "output_type": "display_data",
          "data": {
            "text/html": [
              "<html>\n",
              "<head><meta charset=\"utf-8\" /></head>\n",
              "<body>\n",
              "    <div>            <script src=\"https://cdnjs.cloudflare.com/ajax/libs/mathjax/2.7.5/MathJax.js?config=TeX-AMS-MML_SVG\"></script><script type=\"text/javascript\">if (window.MathJax) {MathJax.Hub.Config({SVG: {font: \"STIX-Web\"}});}</script>                <script type=\"text/javascript\">window.PlotlyConfig = {MathJaxConfig: 'local'};</script>\n",
              "        <script src=\"https://cdn.plot.ly/plotly-2.8.3.min.js\"></script>                <div id=\"c4de81ff-c60e-4edb-8ab2-c90106322e22\" class=\"plotly-graph-div\" style=\"height:525px; width:100%;\"></div>            <script type=\"text/javascript\">                                    window.PLOTLYENV=window.PLOTLYENV || {};                                    if (document.getElementById(\"c4de81ff-c60e-4edb-8ab2-c90106322e22\")) {                    Plotly.newPlot(                        \"c4de81ff-c60e-4edb-8ab2-c90106322e22\",                        [{\"alignmentgroup\":\"True\",\"hovertemplate\":\"AGE_OF_BUILDING=%{marker.color}<br>AVERAGE_PRICE=%{y}<extra></extra>\",\"legendgroup\":\"\",\"marker\":{\"color\":[47,50,49,48,52,3,46,51,34,38,45,37,55,32,53,39,54,41,35,44,20,36,33,31,40,30,23,27,4,28,26,17,25,21,13,12,29,7,9,24,15,18,8,19,5,42,22,10,14,11,16,6,43],\"coloraxis\":\"coloraxis\",\"pattern\":{\"shape\":\"\"}},\"name\":\"\",\"offsetgroup\":\"\",\"orientation\":\"v\",\"showlegend\":false,\"textposition\":\"auto\",\"x\":[47,50,49,48,52,3,46,51,34,38,45,37,55,32,53,39,54,41,35,44,20,36,33,31,40,30,23,27,4,28,26,17,25,21,13,12,29,7,9,24,15,18,8,19,5,42,22,10,14,11,16,6,43],\"xaxis\":\"x\",\"y\":[8133227.045454546,8343056.0,8513049.945454545,9286355.98275862,9390206.0,9485157.0,9805028.952380951,10568346.157894736,10647707.825503355,10678609.0,10751144.760563381,10789946.192857143,10827935.227272727,10928723.123076923,10961935.666666666,10965941.464968152,10979184.5,11003829.253012048,11018448.65408805,11025305.551020408,11092104.70673077,11110516.06321839,11115531.517441861,11127689.306569343,11172473.045801526,11268609.983870968,11287645.63276836,11302464.10909091,11306220.076923076,11307499.055,11375054.581920903,11396223.543478262,11511698.528089888,11585851.682080925,11648255.963855421,11681250.634920634,11683077.39673913,11686449.909574468,11758247.451977402,11773611.097826088,11775758.02366864,11784576.867816092,11811741.597883597,11849585.552380953,11918562.411764706,11922653.97826087,12033877.505,12034268.078212291,12159416.989189189,12195618.697674418,12196131.072916666,12226944.637931034,12341685.139534883],\"yaxis\":\"y\",\"type\":\"bar\"}],                        {\"template\":{\"data\":{\"bar\":[{\"error_x\":{\"color\":\"#2a3f5f\"},\"error_y\":{\"color\":\"#2a3f5f\"},\"marker\":{\"line\":{\"color\":\"#E5ECF6\",\"width\":0.5},\"pattern\":{\"fillmode\":\"overlay\",\"size\":10,\"solidity\":0.2}},\"type\":\"bar\"}],\"barpolar\":[{\"marker\":{\"line\":{\"color\":\"#E5ECF6\",\"width\":0.5},\"pattern\":{\"fillmode\":\"overlay\",\"size\":10,\"solidity\":0.2}},\"type\":\"barpolar\"}],\"carpet\":[{\"aaxis\":{\"endlinecolor\":\"#2a3f5f\",\"gridcolor\":\"white\",\"linecolor\":\"white\",\"minorgridcolor\":\"white\",\"startlinecolor\":\"#2a3f5f\"},\"baxis\":{\"endlinecolor\":\"#2a3f5f\",\"gridcolor\":\"white\",\"linecolor\":\"white\",\"minorgridcolor\":\"white\",\"startlinecolor\":\"#2a3f5f\"},\"type\":\"carpet\"}],\"choropleth\":[{\"colorbar\":{\"outlinewidth\":0,\"ticks\":\"\"},\"type\":\"choropleth\"}],\"contour\":[{\"colorbar\":{\"outlinewidth\":0,\"ticks\":\"\"},\"colorscale\":[[0.0,\"#0d0887\"],[0.1111111111111111,\"#46039f\"],[0.2222222222222222,\"#7201a8\"],[0.3333333333333333,\"#9c179e\"],[0.4444444444444444,\"#bd3786\"],[0.5555555555555556,\"#d8576b\"],[0.6666666666666666,\"#ed7953\"],[0.7777777777777778,\"#fb9f3a\"],[0.8888888888888888,\"#fdca26\"],[1.0,\"#f0f921\"]],\"type\":\"contour\"}],\"contourcarpet\":[{\"colorbar\":{\"outlinewidth\":0,\"ticks\":\"\"},\"type\":\"contourcarpet\"}],\"heatmap\":[{\"colorbar\":{\"outlinewidth\":0,\"ticks\":\"\"},\"colorscale\":[[0.0,\"#0d0887\"],[0.1111111111111111,\"#46039f\"],[0.2222222222222222,\"#7201a8\"],[0.3333333333333333,\"#9c179e\"],[0.4444444444444444,\"#bd3786\"],[0.5555555555555556,\"#d8576b\"],[0.6666666666666666,\"#ed7953\"],[0.7777777777777778,\"#fb9f3a\"],[0.8888888888888888,\"#fdca26\"],[1.0,\"#f0f921\"]],\"type\":\"heatmap\"}],\"heatmapgl\":[{\"colorbar\":{\"outlinewidth\":0,\"ticks\":\"\"},\"colorscale\":[[0.0,\"#0d0887\"],[0.1111111111111111,\"#46039f\"],[0.2222222222222222,\"#7201a8\"],[0.3333333333333333,\"#9c179e\"],[0.4444444444444444,\"#bd3786\"],[0.5555555555555556,\"#d8576b\"],[0.6666666666666666,\"#ed7953\"],[0.7777777777777778,\"#fb9f3a\"],[0.8888888888888888,\"#fdca26\"],[1.0,\"#f0f921\"]],\"type\":\"heatmapgl\"}],\"histogram\":[{\"marker\":{\"pattern\":{\"fillmode\":\"overlay\",\"size\":10,\"solidity\":0.2}},\"type\":\"histogram\"}],\"histogram2d\":[{\"colorbar\":{\"outlinewidth\":0,\"ticks\":\"\"},\"colorscale\":[[0.0,\"#0d0887\"],[0.1111111111111111,\"#46039f\"],[0.2222222222222222,\"#7201a8\"],[0.3333333333333333,\"#9c179e\"],[0.4444444444444444,\"#bd3786\"],[0.5555555555555556,\"#d8576b\"],[0.6666666666666666,\"#ed7953\"],[0.7777777777777778,\"#fb9f3a\"],[0.8888888888888888,\"#fdca26\"],[1.0,\"#f0f921\"]],\"type\":\"histogram2d\"}],\"histogram2dcontour\":[{\"colorbar\":{\"outlinewidth\":0,\"ticks\":\"\"},\"colorscale\":[[0.0,\"#0d0887\"],[0.1111111111111111,\"#46039f\"],[0.2222222222222222,\"#7201a8\"],[0.3333333333333333,\"#9c179e\"],[0.4444444444444444,\"#bd3786\"],[0.5555555555555556,\"#d8576b\"],[0.6666666666666666,\"#ed7953\"],[0.7777777777777778,\"#fb9f3a\"],[0.8888888888888888,\"#fdca26\"],[1.0,\"#f0f921\"]],\"type\":\"histogram2dcontour\"}],\"mesh3d\":[{\"colorbar\":{\"outlinewidth\":0,\"ticks\":\"\"},\"type\":\"mesh3d\"}],\"parcoords\":[{\"line\":{\"colorbar\":{\"outlinewidth\":0,\"ticks\":\"\"}},\"type\":\"parcoords\"}],\"pie\":[{\"automargin\":true,\"type\":\"pie\"}],\"scatter\":[{\"marker\":{\"colorbar\":{\"outlinewidth\":0,\"ticks\":\"\"}},\"type\":\"scatter\"}],\"scatter3d\":[{\"line\":{\"colorbar\":{\"outlinewidth\":0,\"ticks\":\"\"}},\"marker\":{\"colorbar\":{\"outlinewidth\":0,\"ticks\":\"\"}},\"type\":\"scatter3d\"}],\"scattercarpet\":[{\"marker\":{\"colorbar\":{\"outlinewidth\":0,\"ticks\":\"\"}},\"type\":\"scattercarpet\"}],\"scattergeo\":[{\"marker\":{\"colorbar\":{\"outlinewidth\":0,\"ticks\":\"\"}},\"type\":\"scattergeo\"}],\"scattergl\":[{\"marker\":{\"colorbar\":{\"outlinewidth\":0,\"ticks\":\"\"}},\"type\":\"scattergl\"}],\"scattermapbox\":[{\"marker\":{\"colorbar\":{\"outlinewidth\":0,\"ticks\":\"\"}},\"type\":\"scattermapbox\"}],\"scatterpolar\":[{\"marker\":{\"colorbar\":{\"outlinewidth\":0,\"ticks\":\"\"}},\"type\":\"scatterpolar\"}],\"scatterpolargl\":[{\"marker\":{\"colorbar\":{\"outlinewidth\":0,\"ticks\":\"\"}},\"type\":\"scatterpolargl\"}],\"scatterternary\":[{\"marker\":{\"colorbar\":{\"outlinewidth\":0,\"ticks\":\"\"}},\"type\":\"scatterternary\"}],\"surface\":[{\"colorbar\":{\"outlinewidth\":0,\"ticks\":\"\"},\"colorscale\":[[0.0,\"#0d0887\"],[0.1111111111111111,\"#46039f\"],[0.2222222222222222,\"#7201a8\"],[0.3333333333333333,\"#9c179e\"],[0.4444444444444444,\"#bd3786\"],[0.5555555555555556,\"#d8576b\"],[0.6666666666666666,\"#ed7953\"],[0.7777777777777778,\"#fb9f3a\"],[0.8888888888888888,\"#fdca26\"],[1.0,\"#f0f921\"]],\"type\":\"surface\"}],\"table\":[{\"cells\":{\"fill\":{\"color\":\"#EBF0F8\"},\"line\":{\"color\":\"white\"}},\"header\":{\"fill\":{\"color\":\"#C8D4E3\"},\"line\":{\"color\":\"white\"}},\"type\":\"table\"}]},\"layout\":{\"annotationdefaults\":{\"arrowcolor\":\"#2a3f5f\",\"arrowhead\":0,\"arrowwidth\":1},\"autotypenumbers\":\"strict\",\"coloraxis\":{\"colorbar\":{\"outlinewidth\":0,\"ticks\":\"\"}},\"colorscale\":{\"diverging\":[[0,\"#8e0152\"],[0.1,\"#c51b7d\"],[0.2,\"#de77ae\"],[0.3,\"#f1b6da\"],[0.4,\"#fde0ef\"],[0.5,\"#f7f7f7\"],[0.6,\"#e6f5d0\"],[0.7,\"#b8e186\"],[0.8,\"#7fbc41\"],[0.9,\"#4d9221\"],[1,\"#276419\"]],\"sequential\":[[0.0,\"#0d0887\"],[0.1111111111111111,\"#46039f\"],[0.2222222222222222,\"#7201a8\"],[0.3333333333333333,\"#9c179e\"],[0.4444444444444444,\"#bd3786\"],[0.5555555555555556,\"#d8576b\"],[0.6666666666666666,\"#ed7953\"],[0.7777777777777778,\"#fb9f3a\"],[0.8888888888888888,\"#fdca26\"],[1.0,\"#f0f921\"]],\"sequentialminus\":[[0.0,\"#0d0887\"],[0.1111111111111111,\"#46039f\"],[0.2222222222222222,\"#7201a8\"],[0.3333333333333333,\"#9c179e\"],[0.4444444444444444,\"#bd3786\"],[0.5555555555555556,\"#d8576b\"],[0.6666666666666666,\"#ed7953\"],[0.7777777777777778,\"#fb9f3a\"],[0.8888888888888888,\"#fdca26\"],[1.0,\"#f0f921\"]]},\"colorway\":[\"#636efa\",\"#EF553B\",\"#00cc96\",\"#ab63fa\",\"#FFA15A\",\"#19d3f3\",\"#FF6692\",\"#B6E880\",\"#FF97FF\",\"#FECB52\"],\"font\":{\"color\":\"#2a3f5f\"},\"geo\":{\"bgcolor\":\"white\",\"lakecolor\":\"white\",\"landcolor\":\"#E5ECF6\",\"showlakes\":true,\"showland\":true,\"subunitcolor\":\"white\"},\"hoverlabel\":{\"align\":\"left\"},\"hovermode\":\"closest\",\"mapbox\":{\"style\":\"light\"},\"paper_bgcolor\":\"white\",\"plot_bgcolor\":\"#E5ECF6\",\"polar\":{\"angularaxis\":{\"gridcolor\":\"white\",\"linecolor\":\"white\",\"ticks\":\"\"},\"bgcolor\":\"#E5ECF6\",\"radialaxis\":{\"gridcolor\":\"white\",\"linecolor\":\"white\",\"ticks\":\"\"}},\"scene\":{\"xaxis\":{\"backgroundcolor\":\"#E5ECF6\",\"gridcolor\":\"white\",\"gridwidth\":2,\"linecolor\":\"white\",\"showbackground\":true,\"ticks\":\"\",\"zerolinecolor\":\"white\"},\"yaxis\":{\"backgroundcolor\":\"#E5ECF6\",\"gridcolor\":\"white\",\"gridwidth\":2,\"linecolor\":\"white\",\"showbackground\":true,\"ticks\":\"\",\"zerolinecolor\":\"white\"},\"zaxis\":{\"backgroundcolor\":\"#E5ECF6\",\"gridcolor\":\"white\",\"gridwidth\":2,\"linecolor\":\"white\",\"showbackground\":true,\"ticks\":\"\",\"zerolinecolor\":\"white\"}},\"shapedefaults\":{\"line\":{\"color\":\"#2a3f5f\"}},\"ternary\":{\"aaxis\":{\"gridcolor\":\"white\",\"linecolor\":\"white\",\"ticks\":\"\"},\"baxis\":{\"gridcolor\":\"white\",\"linecolor\":\"white\",\"ticks\":\"\"},\"bgcolor\":\"#E5ECF6\",\"caxis\":{\"gridcolor\":\"white\",\"linecolor\":\"white\",\"ticks\":\"\"}},\"title\":{\"x\":0.05},\"xaxis\":{\"automargin\":true,\"gridcolor\":\"white\",\"linecolor\":\"white\",\"ticks\":\"\",\"title\":{\"standoff\":15},\"zerolinecolor\":\"white\",\"zerolinewidth\":2},\"yaxis\":{\"automargin\":true,\"gridcolor\":\"white\",\"linecolor\":\"white\",\"ticks\":\"\",\"title\":{\"standoff\":15},\"zerolinecolor\":\"white\",\"zerolinewidth\":2}}},\"xaxis\":{\"anchor\":\"y\",\"domain\":[0.0,1.0],\"title\":{\"text\":\"AGE_OF_BUILDING\"}},\"yaxis\":{\"anchor\":\"x\",\"domain\":[0.0,1.0],\"title\":{\"text\":\"AVERAGE_PRICE\"}},\"coloraxis\":{\"colorbar\":{\"title\":{\"text\":\"AGE_OF_BUILDING\"}},\"colorscale\":[[0.0,\"#0d0887\"],[0.1111111111111111,\"#46039f\"],[0.2222222222222222,\"#7201a8\"],[0.3333333333333333,\"#9c179e\"],[0.4444444444444444,\"#bd3786\"],[0.5555555555555556,\"#d8576b\"],[0.6666666666666666,\"#ed7953\"],[0.7777777777777778,\"#fb9f3a\"],[0.8888888888888888,\"#fdca26\"],[1.0,\"#f0f921\"]]},\"legend\":{\"tracegroupgap\":0},\"title\":{\"text\":\"AGE_OF_BUILDING VS AVERAGE_PRICE\"},\"barmode\":\"relative\"},                        {\"responsive\": true}                    ).then(function(){\n",
              "                            \n",
              "var gd = document.getElementById('c4de81ff-c60e-4edb-8ab2-c90106322e22');\n",
              "var x = new MutationObserver(function (mutations, observer) {{\n",
              "        var display = window.getComputedStyle(gd).display;\n",
              "        if (!display || display === 'none') {{\n",
              "            console.log([gd, 'removed!']);\n",
              "            Plotly.purge(gd);\n",
              "            observer.disconnect();\n",
              "        }}\n",
              "}});\n",
              "\n",
              "// Listen for the removal of the full notebook cells\n",
              "var notebookContainer = gd.closest('#notebook-container');\n",
              "if (notebookContainer) {{\n",
              "    x.observe(notebookContainer, {childList: true});\n",
              "}}\n",
              "\n",
              "// Listen for the clearing of the current output cell\n",
              "var outputEl = gd.closest('.output');\n",
              "if (outputEl) {{\n",
              "    x.observe(outputEl, {childList: true});\n",
              "}}\n",
              "\n",
              "                        })                };                            </script>        </div>\n",
              "</body>\n",
              "</html>"
            ]
          },
          "metadata": {}
        }
      ],
      "source": [
        "x = pd.DataFrame(data.groupby('AGE_OF_BUILDING')[\"TOTAL_SALES_PRICE\"].mean())\n",
        "y = data['AGE_OF_BUILDING'].unique()\n",
        "y = sorted(y)\n",
        "df2 = {'AGE_OF_BUILDING':y,\"AVERAGE_PRICE\":x['TOTAL_SALES_PRICE']}\n",
        "temp = pd.DataFrame(df2)\n",
        "temp.sort_values('AVERAGE_PRICE',inplace = True)\n",
        "\n",
        "fig1 = px.bar(temp,x = 'AGE_OF_BUILDING',y = 'AVERAGE_PRICE', color = 'AGE_OF_BUILDING', title = \"AGE_OF_BUILDING VS AVERAGE_PRICE\")\n",
        "fig1"
      ]
    },
    {
      "cell_type": "markdown",
      "source": [
        "From The Plot **AGE_OF_BUILDING VS AVERAGE_PRICE** Intrepreted that the age is not showing much impact on the price Because here some factors like Commerical Houses, Facilites, Street will have different Prices. so when comes to age of buliding normal house with 5years old will have lesser price than Commercial House with 15 years old."
      ],
      "metadata": {
        "id": "8stqFBxomKYU"
      }
    },
    {
      "cell_type": "code",
      "source": [
        "data.describe().T"
      ],
      "metadata": {
        "colab": {
          "base_uri": "https://localhost:8080/",
          "height": 520
        },
        "id": "GFpYXfGGnFjp",
        "outputId": "5233d798-ec00-472f-d9b8-bedd3e6c219f"
      },
      "execution_count": 52,
      "outputs": [
        {
          "output_type": "execute_result",
          "data": {
            "text/plain": [
              "                    count          mean           std        min         25%  \\\n",
              "INT_SQFT           7109.0  1.382073e+03  4.574109e+02      500.0      993.00   \n",
              "DIST_MAINROAD      7109.0  9.960318e+01  5.740311e+01        0.0       50.00   \n",
              "N_BEDROOM          7109.0  1.636939e+00  8.028806e-01        1.0        1.00   \n",
              "N_BATHROOM         7109.0  1.213110e+00  4.095336e-01        1.0        1.00   \n",
              "N_ROOM             7109.0  3.688704e+00  1.019099e+00        2.0        3.00   \n",
              "PARK_FACIL         7109.0  5.045717e-01  5.000143e-01        0.0        0.00   \n",
              "QS_ROOMS           7109.0  3.517471e+00  8.919724e-01        2.0        2.70   \n",
              "QS_BATHROOM        7109.0  3.507244e+00  8.978337e-01        2.0        2.70   \n",
              "QS_BEDROOM         7109.0  3.485300e+00  8.872664e-01        2.0        2.70   \n",
              "QS_OVERALL         7109.0  3.503254e+00  5.254397e-01        2.0        3.13   \n",
              "REG_FEE            7109.0  3.769383e+05  1.430707e+05    71177.0   272406.00   \n",
              "COMMIS             7109.0  1.410057e+05  7.876809e+04     5055.0    84219.00   \n",
              "SALES_PRICE        7109.0  1.089491e+07  3.768603e+06  2156875.0  8272100.00   \n",
              "AGE_OF_BUILDING    7109.0  2.427627e+01  1.233416e+01        3.0       14.00   \n",
              "TOTAL_SALES_PRICE  7109.0  1.141285e+07  3.944957e+06  2253935.0  8645792.00   \n",
              "\n",
              "                            50%          75%          max  \n",
              "INT_SQFT           1.373000e+03      1744.00      2500.00  \n",
              "DIST_MAINROAD      9.900000e+01       148.00       200.00  \n",
              "N_BEDROOM          1.000000e+00         2.00         4.00  \n",
              "N_BATHROOM         1.000000e+00         1.00         2.00  \n",
              "N_ROOM             4.000000e+00         4.00         6.00  \n",
              "PARK_FACIL         1.000000e+00         1.00         1.00  \n",
              "QS_ROOMS           3.500000e+00         4.30         5.00  \n",
              "QS_BATHROOM        3.500000e+00         4.30         5.00  \n",
              "QS_BEDROOM         3.500000e+00         4.30         5.00  \n",
              "QS_OVERALL         3.503254e+00         3.88         4.97  \n",
              "REG_FEE            3.494860e+05    451562.00    983922.00  \n",
              "COMMIS             1.276280e+05    184506.00    495405.00  \n",
              "SALES_PRICE        1.033505e+07  12993900.00  23667340.00  \n",
              "AGE_OF_BUILDING    2.300000e+01        34.00        55.00  \n",
              "TOTAL_SALES_PRICE  1.081953e+07  13613927.00  24969043.00  "
            ],
            "text/html": [
              "\n",
              "  <div id=\"df-f8018a08-7a39-4ef8-b8d5-d20023c732a3\">\n",
              "    <div class=\"colab-df-container\">\n",
              "      <div>\n",
              "<style scoped>\n",
              "    .dataframe tbody tr th:only-of-type {\n",
              "        vertical-align: middle;\n",
              "    }\n",
              "\n",
              "    .dataframe tbody tr th {\n",
              "        vertical-align: top;\n",
              "    }\n",
              "\n",
              "    .dataframe thead th {\n",
              "        text-align: right;\n",
              "    }\n",
              "</style>\n",
              "<table border=\"1\" class=\"dataframe\">\n",
              "  <thead>\n",
              "    <tr style=\"text-align: right;\">\n",
              "      <th></th>\n",
              "      <th>count</th>\n",
              "      <th>mean</th>\n",
              "      <th>std</th>\n",
              "      <th>min</th>\n",
              "      <th>25%</th>\n",
              "      <th>50%</th>\n",
              "      <th>75%</th>\n",
              "      <th>max</th>\n",
              "    </tr>\n",
              "  </thead>\n",
              "  <tbody>\n",
              "    <tr>\n",
              "      <th>INT_SQFT</th>\n",
              "      <td>7109.0</td>\n",
              "      <td>1.382073e+03</td>\n",
              "      <td>4.574109e+02</td>\n",
              "      <td>500.0</td>\n",
              "      <td>993.00</td>\n",
              "      <td>1.373000e+03</td>\n",
              "      <td>1744.00</td>\n",
              "      <td>2500.00</td>\n",
              "    </tr>\n",
              "    <tr>\n",
              "      <th>DIST_MAINROAD</th>\n",
              "      <td>7109.0</td>\n",
              "      <td>9.960318e+01</td>\n",
              "      <td>5.740311e+01</td>\n",
              "      <td>0.0</td>\n",
              "      <td>50.00</td>\n",
              "      <td>9.900000e+01</td>\n",
              "      <td>148.00</td>\n",
              "      <td>200.00</td>\n",
              "    </tr>\n",
              "    <tr>\n",
              "      <th>N_BEDROOM</th>\n",
              "      <td>7109.0</td>\n",
              "      <td>1.636939e+00</td>\n",
              "      <td>8.028806e-01</td>\n",
              "      <td>1.0</td>\n",
              "      <td>1.00</td>\n",
              "      <td>1.000000e+00</td>\n",
              "      <td>2.00</td>\n",
              "      <td>4.00</td>\n",
              "    </tr>\n",
              "    <tr>\n",
              "      <th>N_BATHROOM</th>\n",
              "      <td>7109.0</td>\n",
              "      <td>1.213110e+00</td>\n",
              "      <td>4.095336e-01</td>\n",
              "      <td>1.0</td>\n",
              "      <td>1.00</td>\n",
              "      <td>1.000000e+00</td>\n",
              "      <td>1.00</td>\n",
              "      <td>2.00</td>\n",
              "    </tr>\n",
              "    <tr>\n",
              "      <th>N_ROOM</th>\n",
              "      <td>7109.0</td>\n",
              "      <td>3.688704e+00</td>\n",
              "      <td>1.019099e+00</td>\n",
              "      <td>2.0</td>\n",
              "      <td>3.00</td>\n",
              "      <td>4.000000e+00</td>\n",
              "      <td>4.00</td>\n",
              "      <td>6.00</td>\n",
              "    </tr>\n",
              "    <tr>\n",
              "      <th>PARK_FACIL</th>\n",
              "      <td>7109.0</td>\n",
              "      <td>5.045717e-01</td>\n",
              "      <td>5.000143e-01</td>\n",
              "      <td>0.0</td>\n",
              "      <td>0.00</td>\n",
              "      <td>1.000000e+00</td>\n",
              "      <td>1.00</td>\n",
              "      <td>1.00</td>\n",
              "    </tr>\n",
              "    <tr>\n",
              "      <th>QS_ROOMS</th>\n",
              "      <td>7109.0</td>\n",
              "      <td>3.517471e+00</td>\n",
              "      <td>8.919724e-01</td>\n",
              "      <td>2.0</td>\n",
              "      <td>2.70</td>\n",
              "      <td>3.500000e+00</td>\n",
              "      <td>4.30</td>\n",
              "      <td>5.00</td>\n",
              "    </tr>\n",
              "    <tr>\n",
              "      <th>QS_BATHROOM</th>\n",
              "      <td>7109.0</td>\n",
              "      <td>3.507244e+00</td>\n",
              "      <td>8.978337e-01</td>\n",
              "      <td>2.0</td>\n",
              "      <td>2.70</td>\n",
              "      <td>3.500000e+00</td>\n",
              "      <td>4.30</td>\n",
              "      <td>5.00</td>\n",
              "    </tr>\n",
              "    <tr>\n",
              "      <th>QS_BEDROOM</th>\n",
              "      <td>7109.0</td>\n",
              "      <td>3.485300e+00</td>\n",
              "      <td>8.872664e-01</td>\n",
              "      <td>2.0</td>\n",
              "      <td>2.70</td>\n",
              "      <td>3.500000e+00</td>\n",
              "      <td>4.30</td>\n",
              "      <td>5.00</td>\n",
              "    </tr>\n",
              "    <tr>\n",
              "      <th>QS_OVERALL</th>\n",
              "      <td>7109.0</td>\n",
              "      <td>3.503254e+00</td>\n",
              "      <td>5.254397e-01</td>\n",
              "      <td>2.0</td>\n",
              "      <td>3.13</td>\n",
              "      <td>3.503254e+00</td>\n",
              "      <td>3.88</td>\n",
              "      <td>4.97</td>\n",
              "    </tr>\n",
              "    <tr>\n",
              "      <th>REG_FEE</th>\n",
              "      <td>7109.0</td>\n",
              "      <td>3.769383e+05</td>\n",
              "      <td>1.430707e+05</td>\n",
              "      <td>71177.0</td>\n",
              "      <td>272406.00</td>\n",
              "      <td>3.494860e+05</td>\n",
              "      <td>451562.00</td>\n",
              "      <td>983922.00</td>\n",
              "    </tr>\n",
              "    <tr>\n",
              "      <th>COMMIS</th>\n",
              "      <td>7109.0</td>\n",
              "      <td>1.410057e+05</td>\n",
              "      <td>7.876809e+04</td>\n",
              "      <td>5055.0</td>\n",
              "      <td>84219.00</td>\n",
              "      <td>1.276280e+05</td>\n",
              "      <td>184506.00</td>\n",
              "      <td>495405.00</td>\n",
              "    </tr>\n",
              "    <tr>\n",
              "      <th>SALES_PRICE</th>\n",
              "      <td>7109.0</td>\n",
              "      <td>1.089491e+07</td>\n",
              "      <td>3.768603e+06</td>\n",
              "      <td>2156875.0</td>\n",
              "      <td>8272100.00</td>\n",
              "      <td>1.033505e+07</td>\n",
              "      <td>12993900.00</td>\n",
              "      <td>23667340.00</td>\n",
              "    </tr>\n",
              "    <tr>\n",
              "      <th>AGE_OF_BUILDING</th>\n",
              "      <td>7109.0</td>\n",
              "      <td>2.427627e+01</td>\n",
              "      <td>1.233416e+01</td>\n",
              "      <td>3.0</td>\n",
              "      <td>14.00</td>\n",
              "      <td>2.300000e+01</td>\n",
              "      <td>34.00</td>\n",
              "      <td>55.00</td>\n",
              "    </tr>\n",
              "    <tr>\n",
              "      <th>TOTAL_SALES_PRICE</th>\n",
              "      <td>7109.0</td>\n",
              "      <td>1.141285e+07</td>\n",
              "      <td>3.944957e+06</td>\n",
              "      <td>2253935.0</td>\n",
              "      <td>8645792.00</td>\n",
              "      <td>1.081953e+07</td>\n",
              "      <td>13613927.00</td>\n",
              "      <td>24969043.00</td>\n",
              "    </tr>\n",
              "  </tbody>\n",
              "</table>\n",
              "</div>\n",
              "      <button class=\"colab-df-convert\" onclick=\"convertToInteractive('df-f8018a08-7a39-4ef8-b8d5-d20023c732a3')\"\n",
              "              title=\"Convert this dataframe to an interactive table.\"\n",
              "              style=\"display:none;\">\n",
              "        \n",
              "  <svg xmlns=\"http://www.w3.org/2000/svg\" height=\"24px\"viewBox=\"0 0 24 24\"\n",
              "       width=\"24px\">\n",
              "    <path d=\"M0 0h24v24H0V0z\" fill=\"none\"/>\n",
              "    <path d=\"M18.56 5.44l.94 2.06.94-2.06 2.06-.94-2.06-.94-.94-2.06-.94 2.06-2.06.94zm-11 1L8.5 8.5l.94-2.06 2.06-.94-2.06-.94L8.5 2.5l-.94 2.06-2.06.94zm10 10l.94 2.06.94-2.06 2.06-.94-2.06-.94-.94-2.06-.94 2.06-2.06.94z\"/><path d=\"M17.41 7.96l-1.37-1.37c-.4-.4-.92-.59-1.43-.59-.52 0-1.04.2-1.43.59L10.3 9.45l-7.72 7.72c-.78.78-.78 2.05 0 2.83L4 21.41c.39.39.9.59 1.41.59.51 0 1.02-.2 1.41-.59l7.78-7.78 2.81-2.81c.8-.78.8-2.07 0-2.86zM5.41 20L4 18.59l7.72-7.72 1.47 1.35L5.41 20z\"/>\n",
              "  </svg>\n",
              "      </button>\n",
              "      \n",
              "  <style>\n",
              "    .colab-df-container {\n",
              "      display:flex;\n",
              "      flex-wrap:wrap;\n",
              "      gap: 12px;\n",
              "    }\n",
              "\n",
              "    .colab-df-convert {\n",
              "      background-color: #E8F0FE;\n",
              "      border: none;\n",
              "      border-radius: 50%;\n",
              "      cursor: pointer;\n",
              "      display: none;\n",
              "      fill: #1967D2;\n",
              "      height: 32px;\n",
              "      padding: 0 0 0 0;\n",
              "      width: 32px;\n",
              "    }\n",
              "\n",
              "    .colab-df-convert:hover {\n",
              "      background-color: #E2EBFA;\n",
              "      box-shadow: 0px 1px 2px rgba(60, 64, 67, 0.3), 0px 1px 3px 1px rgba(60, 64, 67, 0.15);\n",
              "      fill: #174EA6;\n",
              "    }\n",
              "\n",
              "    [theme=dark] .colab-df-convert {\n",
              "      background-color: #3B4455;\n",
              "      fill: #D2E3FC;\n",
              "    }\n",
              "\n",
              "    [theme=dark] .colab-df-convert:hover {\n",
              "      background-color: #434B5C;\n",
              "      box-shadow: 0px 1px 3px 1px rgba(0, 0, 0, 0.15);\n",
              "      filter: drop-shadow(0px 1px 2px rgba(0, 0, 0, 0.3));\n",
              "      fill: #FFFFFF;\n",
              "    }\n",
              "  </style>\n",
              "\n",
              "      <script>\n",
              "        const buttonEl =\n",
              "          document.querySelector('#df-f8018a08-7a39-4ef8-b8d5-d20023c732a3 button.colab-df-convert');\n",
              "        buttonEl.style.display =\n",
              "          google.colab.kernel.accessAllowed ? 'block' : 'none';\n",
              "\n",
              "        async function convertToInteractive(key) {\n",
              "          const element = document.querySelector('#df-f8018a08-7a39-4ef8-b8d5-d20023c732a3');\n",
              "          const dataTable =\n",
              "            await google.colab.kernel.invokeFunction('convertToInteractive',\n",
              "                                                     [key], {});\n",
              "          if (!dataTable) return;\n",
              "\n",
              "          const docLinkHtml = 'Like what you see? Visit the ' +\n",
              "            '<a target=\"_blank\" href=https://colab.research.google.com/notebooks/data_table.ipynb>data table notebook</a>'\n",
              "            + ' to learn more about interactive tables.';\n",
              "          element.innerHTML = '';\n",
              "          dataTable['output_type'] = 'display_data';\n",
              "          await google.colab.output.renderOutput(dataTable, element);\n",
              "          const docLink = document.createElement('div');\n",
              "          docLink.innerHTML = docLinkHtml;\n",
              "          element.appendChild(docLink);\n",
              "        }\n",
              "      </script>\n",
              "    </div>\n",
              "  </div>\n",
              "  "
            ]
          },
          "metadata": {},
          "execution_count": 52
        }
      ]
    },
    {
      "cell_type": "markdown",
      "source": [
        "data.describe() is showing all the stastical infromation like count, mean value,max and min values. "
      ],
      "metadata": {
        "id": "s46C-oa1nIPu"
      }
    },
    {
      "cell_type": "markdown",
      "source": [
        "# **ENCODING**"
      ],
      "metadata": {
        "id": "we9CbIe0Rvf6"
      }
    },
    {
      "cell_type": "code",
      "execution_count": 53,
      "metadata": {
        "id": "om5UGrc3zJaJ"
      },
      "outputs": [],
      "source": [
        "area = {'Karapakkam':0, 'Adyar':1, 'Chrompet':2, 'Velachery':3, 'KK Nagar':4,'Anna Nagar':5, 'T Nagar':6}\n",
        "data['AREA'] = data.AREA.map(area)"
      ]
    },
    {
      "cell_type": "code",
      "execution_count": 54,
      "metadata": {
        "id": "5HvBBLmA5j0w"
      },
      "outputs": [],
      "source": [
        "sale_cond = {'Partial':0, 'Family':1, 'AbNormal':2,'Normal Sale':3, 'AdjLand':4}\n",
        "data['SALE_COND'] = data.SALE_COND.map(sale_cond)"
      ]
    },
    {
      "cell_type": "code",
      "source": [
        "buildtype = {'House':0, 'Others':1, 'Commercial':2}\n",
        "data['BUILDTYPE'] = data.BUILDTYPE.map(buildtype)             "
      ],
      "metadata": {
        "id": "qUQriaLiMWXl"
      },
      "execution_count": 55,
      "outputs": []
    },
    {
      "cell_type": "code",
      "execution_count": 56,
      "metadata": {
        "id": "_Mg6o-UhXWDC"
      },
      "outputs": [],
      "source": [
        "utility_avail = {'ELO':0, 'NoSeWa':1, 'AllPub':2}\n",
        "data['UTILITY_AVAIL'] = data.UTILITY_AVAIL.map(utility_avail)"
      ]
    },
    {
      "cell_type": "code",
      "execution_count": 57,
      "metadata": {
        "id": "QPuHJmyGX2RM"
      },
      "outputs": [],
      "source": [
        "street = {'No Access':0, 'Paved':1, 'Gravel':2}\n",
        "data['STREET'] = data.STREET.map(street)"
      ]
    },
    {
      "cell_type": "code",
      "execution_count": 58,
      "metadata": {
        "id": "0jTLs9ksYLwR"
      },
      "outputs": [],
      "source": [
        "mzzone = {'A':0,'C':1,'I':2,'RH':3,'RL':4, 'RM':5}\n",
        "data['MZZONE'] = data.MZZONE.map(mzzone)"
      ]
    },
    {
      "cell_type": "code",
      "execution_count": 59,
      "metadata": {
        "id": "d8ocBcy_JgaX"
      },
      "outputs": [],
      "source": [
        "# ONE_HOT_ENCODING\n",
        "#data = pd.get_dummies(data, columns = ['BUILDTYPE'])"
      ]
    },
    {
      "cell_type": "markdown",
      "source": [
        "### **Droping Some Feature**"
      ],
      "metadata": {
        "id": "2MJFlAmjnm8Z"
      }
    },
    {
      "cell_type": "code",
      "execution_count": 60,
      "metadata": {
        "colab": {
          "base_uri": "https://localhost:8080/",
          "height": 206
        },
        "id": "WpF1UCrjIYzb",
        "outputId": "8eb7e46d-b794-4f8c-c542-27388c15812a"
      },
      "outputs": [
        {
          "output_type": "execute_result",
          "data": {
            "text/plain": [
              "   AREA  INT_SQFT  N_BEDROOM  N_BATHROOM  N_ROOM  SALE_COND  PARK_FACIL  \\\n",
              "0     0      1004          1           1       3          2           1   \n",
              "1     5      1986          2           1       5          2           0   \n",
              "2     1       909          1           1       3          2           1   \n",
              "3     3      1855          3           2       5          1           0   \n",
              "4     0      1226          1           1       3          2           1   \n",
              "\n",
              "   BUILDTYPE  UTILITY_AVAIL  STREET  MZZONE  AGE_OF_BUILDING  \\\n",
              "0          2              2       1       0               44   \n",
              "1          2              2       2       3               11   \n",
              "2          2              0       2       4               20   \n",
              "3          1              1       1       2               22   \n",
              "4          1              2       2       1               30   \n",
              "\n",
              "   TOTAL_SALES_PRICE  \n",
              "0            8124400  \n",
              "1           22781941  \n",
              "2           13672408  \n",
              "3           10063653  \n",
              "4            7717313  "
            ],
            "text/html": [
              "\n",
              "  <div id=\"df-69991c75-5331-4ebd-a48b-6db652739537\">\n",
              "    <div class=\"colab-df-container\">\n",
              "      <div>\n",
              "<style scoped>\n",
              "    .dataframe tbody tr th:only-of-type {\n",
              "        vertical-align: middle;\n",
              "    }\n",
              "\n",
              "    .dataframe tbody tr th {\n",
              "        vertical-align: top;\n",
              "    }\n",
              "\n",
              "    .dataframe thead th {\n",
              "        text-align: right;\n",
              "    }\n",
              "</style>\n",
              "<table border=\"1\" class=\"dataframe\">\n",
              "  <thead>\n",
              "    <tr style=\"text-align: right;\">\n",
              "      <th></th>\n",
              "      <th>AREA</th>\n",
              "      <th>INT_SQFT</th>\n",
              "      <th>N_BEDROOM</th>\n",
              "      <th>N_BATHROOM</th>\n",
              "      <th>N_ROOM</th>\n",
              "      <th>SALE_COND</th>\n",
              "      <th>PARK_FACIL</th>\n",
              "      <th>BUILDTYPE</th>\n",
              "      <th>UTILITY_AVAIL</th>\n",
              "      <th>STREET</th>\n",
              "      <th>MZZONE</th>\n",
              "      <th>AGE_OF_BUILDING</th>\n",
              "      <th>TOTAL_SALES_PRICE</th>\n",
              "    </tr>\n",
              "  </thead>\n",
              "  <tbody>\n",
              "    <tr>\n",
              "      <th>0</th>\n",
              "      <td>0</td>\n",
              "      <td>1004</td>\n",
              "      <td>1</td>\n",
              "      <td>1</td>\n",
              "      <td>3</td>\n",
              "      <td>2</td>\n",
              "      <td>1</td>\n",
              "      <td>2</td>\n",
              "      <td>2</td>\n",
              "      <td>1</td>\n",
              "      <td>0</td>\n",
              "      <td>44</td>\n",
              "      <td>8124400</td>\n",
              "    </tr>\n",
              "    <tr>\n",
              "      <th>1</th>\n",
              "      <td>5</td>\n",
              "      <td>1986</td>\n",
              "      <td>2</td>\n",
              "      <td>1</td>\n",
              "      <td>5</td>\n",
              "      <td>2</td>\n",
              "      <td>0</td>\n",
              "      <td>2</td>\n",
              "      <td>2</td>\n",
              "      <td>2</td>\n",
              "      <td>3</td>\n",
              "      <td>11</td>\n",
              "      <td>22781941</td>\n",
              "    </tr>\n",
              "    <tr>\n",
              "      <th>2</th>\n",
              "      <td>1</td>\n",
              "      <td>909</td>\n",
              "      <td>1</td>\n",
              "      <td>1</td>\n",
              "      <td>3</td>\n",
              "      <td>2</td>\n",
              "      <td>1</td>\n",
              "      <td>2</td>\n",
              "      <td>0</td>\n",
              "      <td>2</td>\n",
              "      <td>4</td>\n",
              "      <td>20</td>\n",
              "      <td>13672408</td>\n",
              "    </tr>\n",
              "    <tr>\n",
              "      <th>3</th>\n",
              "      <td>3</td>\n",
              "      <td>1855</td>\n",
              "      <td>3</td>\n",
              "      <td>2</td>\n",
              "      <td>5</td>\n",
              "      <td>1</td>\n",
              "      <td>0</td>\n",
              "      <td>1</td>\n",
              "      <td>1</td>\n",
              "      <td>1</td>\n",
              "      <td>2</td>\n",
              "      <td>22</td>\n",
              "      <td>10063653</td>\n",
              "    </tr>\n",
              "    <tr>\n",
              "      <th>4</th>\n",
              "      <td>0</td>\n",
              "      <td>1226</td>\n",
              "      <td>1</td>\n",
              "      <td>1</td>\n",
              "      <td>3</td>\n",
              "      <td>2</td>\n",
              "      <td>1</td>\n",
              "      <td>1</td>\n",
              "      <td>2</td>\n",
              "      <td>2</td>\n",
              "      <td>1</td>\n",
              "      <td>30</td>\n",
              "      <td>7717313</td>\n",
              "    </tr>\n",
              "  </tbody>\n",
              "</table>\n",
              "</div>\n",
              "      <button class=\"colab-df-convert\" onclick=\"convertToInteractive('df-69991c75-5331-4ebd-a48b-6db652739537')\"\n",
              "              title=\"Convert this dataframe to an interactive table.\"\n",
              "              style=\"display:none;\">\n",
              "        \n",
              "  <svg xmlns=\"http://www.w3.org/2000/svg\" height=\"24px\"viewBox=\"0 0 24 24\"\n",
              "       width=\"24px\">\n",
              "    <path d=\"M0 0h24v24H0V0z\" fill=\"none\"/>\n",
              "    <path d=\"M18.56 5.44l.94 2.06.94-2.06 2.06-.94-2.06-.94-.94-2.06-.94 2.06-2.06.94zm-11 1L8.5 8.5l.94-2.06 2.06-.94-2.06-.94L8.5 2.5l-.94 2.06-2.06.94zm10 10l.94 2.06.94-2.06 2.06-.94-2.06-.94-.94-2.06-.94 2.06-2.06.94z\"/><path d=\"M17.41 7.96l-1.37-1.37c-.4-.4-.92-.59-1.43-.59-.52 0-1.04.2-1.43.59L10.3 9.45l-7.72 7.72c-.78.78-.78 2.05 0 2.83L4 21.41c.39.39.9.59 1.41.59.51 0 1.02-.2 1.41-.59l7.78-7.78 2.81-2.81c.8-.78.8-2.07 0-2.86zM5.41 20L4 18.59l7.72-7.72 1.47 1.35L5.41 20z\"/>\n",
              "  </svg>\n",
              "      </button>\n",
              "      \n",
              "  <style>\n",
              "    .colab-df-container {\n",
              "      display:flex;\n",
              "      flex-wrap:wrap;\n",
              "      gap: 12px;\n",
              "    }\n",
              "\n",
              "    .colab-df-convert {\n",
              "      background-color: #E8F0FE;\n",
              "      border: none;\n",
              "      border-radius: 50%;\n",
              "      cursor: pointer;\n",
              "      display: none;\n",
              "      fill: #1967D2;\n",
              "      height: 32px;\n",
              "      padding: 0 0 0 0;\n",
              "      width: 32px;\n",
              "    }\n",
              "\n",
              "    .colab-df-convert:hover {\n",
              "      background-color: #E2EBFA;\n",
              "      box-shadow: 0px 1px 2px rgba(60, 64, 67, 0.3), 0px 1px 3px 1px rgba(60, 64, 67, 0.15);\n",
              "      fill: #174EA6;\n",
              "    }\n",
              "\n",
              "    [theme=dark] .colab-df-convert {\n",
              "      background-color: #3B4455;\n",
              "      fill: #D2E3FC;\n",
              "    }\n",
              "\n",
              "    [theme=dark] .colab-df-convert:hover {\n",
              "      background-color: #434B5C;\n",
              "      box-shadow: 0px 1px 3px 1px rgba(0, 0, 0, 0.15);\n",
              "      filter: drop-shadow(0px 1px 2px rgba(0, 0, 0, 0.3));\n",
              "      fill: #FFFFFF;\n",
              "    }\n",
              "  </style>\n",
              "\n",
              "      <script>\n",
              "        const buttonEl =\n",
              "          document.querySelector('#df-69991c75-5331-4ebd-a48b-6db652739537 button.colab-df-convert');\n",
              "        buttonEl.style.display =\n",
              "          google.colab.kernel.accessAllowed ? 'block' : 'none';\n",
              "\n",
              "        async function convertToInteractive(key) {\n",
              "          const element = document.querySelector('#df-69991c75-5331-4ebd-a48b-6db652739537');\n",
              "          const dataTable =\n",
              "            await google.colab.kernel.invokeFunction('convertToInteractive',\n",
              "                                                     [key], {});\n",
              "          if (!dataTable) return;\n",
              "\n",
              "          const docLinkHtml = 'Like what you see? Visit the ' +\n",
              "            '<a target=\"_blank\" href=https://colab.research.google.com/notebooks/data_table.ipynb>data table notebook</a>'\n",
              "            + ' to learn more about interactive tables.';\n",
              "          element.innerHTML = '';\n",
              "          dataTable['output_type'] = 'display_data';\n",
              "          await google.colab.output.renderOutput(dataTable, element);\n",
              "          const docLink = document.createElement('div');\n",
              "          docLink.innerHTML = docLinkHtml;\n",
              "          element.appendChild(docLink);\n",
              "        }\n",
              "      </script>\n",
              "    </div>\n",
              "  </div>\n",
              "  "
            ]
          },
          "metadata": {},
          "execution_count": 60
        }
      ],
      "source": [
        "data = data.drop(columns = ['PRT_ID','DATE_SALE','DIST_MAINROAD','DATE_BUILD','QS_ROOMS','QS_BEDROOM','QS_BATHROOM','QS_OVERALL','REG_FEE','COMMIS','SALES_PRICE'])\n",
        "data.head()"
      ]
    },
    {
      "cell_type": "markdown",
      "source": [
        "From the Dataset We Dropped some Features DATE_SALE and DATE_BUILD from this two feature we extracted information age of the building and created new column.\n",
        "from features Regrestration Fee, Commision and Sale Price we added this 3 features and created total sales price of the House.\n",
        "here we dropped all the QS features as it is Masked data the features are not giving some exact information.\n",
        "Dropped DIST_MAINROAD has there is No Relationship in the feature we dropped the DIST_MAINROAD"
      ],
      "metadata": {
        "id": "Uhjz4uDEnxQI"
      }
    },
    {
      "cell_type": "code",
      "execution_count": 61,
      "metadata": {
        "id": "j3DqZrRrKDWn"
      },
      "outputs": [],
      "source": [
        "data.reset_index(drop=True, inplace=True)"
      ]
    },
    {
      "cell_type": "code",
      "execution_count": 62,
      "metadata": {
        "colab": {
          "base_uri": "https://localhost:8080/"
        },
        "id": "qTLw-WlxOi2n",
        "outputId": "a0ec1ba3-29d9-4178-902a-474f04665c26"
      },
      "outputs": [
        {
          "output_type": "stream",
          "name": "stdout",
          "text": [
            "<class 'pandas.core.frame.DataFrame'>\n",
            "RangeIndex: 7109 entries, 0 to 7108\n",
            "Data columns (total 13 columns):\n",
            " #   Column             Non-Null Count  Dtype\n",
            "---  ------             --------------  -----\n",
            " 0   AREA               7109 non-null   int64\n",
            " 1   INT_SQFT           7109 non-null   int64\n",
            " 2   N_BEDROOM          7109 non-null   int64\n",
            " 3   N_BATHROOM         7109 non-null   int64\n",
            " 4   N_ROOM             7109 non-null   int64\n",
            " 5   SALE_COND          7109 non-null   int64\n",
            " 6   PARK_FACIL         7109 non-null   int64\n",
            " 7   BUILDTYPE          7109 non-null   int64\n",
            " 8   UTILITY_AVAIL      7109 non-null   int64\n",
            " 9   STREET             7109 non-null   int64\n",
            " 10  MZZONE             7109 non-null   int64\n",
            " 11  AGE_OF_BUILDING    7109 non-null   int64\n",
            " 12  TOTAL_SALES_PRICE  7109 non-null   int64\n",
            "dtypes: int64(13)\n",
            "memory usage: 722.1 KB\n"
          ]
        }
      ],
      "source": [
        "data.info()"
      ]
    },
    {
      "cell_type": "markdown",
      "source": [
        "# **Co-Relation**"
      ],
      "metadata": {
        "id": "fny1pjYtfy7-"
      }
    },
    {
      "cell_type": "markdown",
      "source": [
        "### **Checking Co-Relation of Feature vs Target**"
      ],
      "metadata": {
        "id": "5iIY7BK0kvfP"
      }
    },
    {
      "cell_type": "code",
      "execution_count": 63,
      "metadata": {
        "colab": {
          "base_uri": "https://localhost:8080/",
          "height": 112
        },
        "id": "eLAjuHaLOcji",
        "outputId": "47cd8a37-7690-447b-aea8-634af5393137"
      },
      "outputs": [
        {
          "output_type": "execute_result",
          "data": {
            "text/plain": [
              "                       AREA  TOTAL_SALES_PRICE\n",
              "AREA               1.000000           0.693195\n",
              "TOTAL_SALES_PRICE  0.693195           1.000000"
            ],
            "text/html": [
              "\n",
              "  <div id=\"df-48881cb4-223e-48d2-8f0c-f20a3ad285d5\">\n",
              "    <div class=\"colab-df-container\">\n",
              "      <div>\n",
              "<style scoped>\n",
              "    .dataframe tbody tr th:only-of-type {\n",
              "        vertical-align: middle;\n",
              "    }\n",
              "\n",
              "    .dataframe tbody tr th {\n",
              "        vertical-align: top;\n",
              "    }\n",
              "\n",
              "    .dataframe thead th {\n",
              "        text-align: right;\n",
              "    }\n",
              "</style>\n",
              "<table border=\"1\" class=\"dataframe\">\n",
              "  <thead>\n",
              "    <tr style=\"text-align: right;\">\n",
              "      <th></th>\n",
              "      <th>AREA</th>\n",
              "      <th>TOTAL_SALES_PRICE</th>\n",
              "    </tr>\n",
              "  </thead>\n",
              "  <tbody>\n",
              "    <tr>\n",
              "      <th>AREA</th>\n",
              "      <td>1.000000</td>\n",
              "      <td>0.693195</td>\n",
              "    </tr>\n",
              "    <tr>\n",
              "      <th>TOTAL_SALES_PRICE</th>\n",
              "      <td>0.693195</td>\n",
              "      <td>1.000000</td>\n",
              "    </tr>\n",
              "  </tbody>\n",
              "</table>\n",
              "</div>\n",
              "      <button class=\"colab-df-convert\" onclick=\"convertToInteractive('df-48881cb4-223e-48d2-8f0c-f20a3ad285d5')\"\n",
              "              title=\"Convert this dataframe to an interactive table.\"\n",
              "              style=\"display:none;\">\n",
              "        \n",
              "  <svg xmlns=\"http://www.w3.org/2000/svg\" height=\"24px\"viewBox=\"0 0 24 24\"\n",
              "       width=\"24px\">\n",
              "    <path d=\"M0 0h24v24H0V0z\" fill=\"none\"/>\n",
              "    <path d=\"M18.56 5.44l.94 2.06.94-2.06 2.06-.94-2.06-.94-.94-2.06-.94 2.06-2.06.94zm-11 1L8.5 8.5l.94-2.06 2.06-.94-2.06-.94L8.5 2.5l-.94 2.06-2.06.94zm10 10l.94 2.06.94-2.06 2.06-.94-2.06-.94-.94-2.06-.94 2.06-2.06.94z\"/><path d=\"M17.41 7.96l-1.37-1.37c-.4-.4-.92-.59-1.43-.59-.52 0-1.04.2-1.43.59L10.3 9.45l-7.72 7.72c-.78.78-.78 2.05 0 2.83L4 21.41c.39.39.9.59 1.41.59.51 0 1.02-.2 1.41-.59l7.78-7.78 2.81-2.81c.8-.78.8-2.07 0-2.86zM5.41 20L4 18.59l7.72-7.72 1.47 1.35L5.41 20z\"/>\n",
              "  </svg>\n",
              "      </button>\n",
              "      \n",
              "  <style>\n",
              "    .colab-df-container {\n",
              "      display:flex;\n",
              "      flex-wrap:wrap;\n",
              "      gap: 12px;\n",
              "    }\n",
              "\n",
              "    .colab-df-convert {\n",
              "      background-color: #E8F0FE;\n",
              "      border: none;\n",
              "      border-radius: 50%;\n",
              "      cursor: pointer;\n",
              "      display: none;\n",
              "      fill: #1967D2;\n",
              "      height: 32px;\n",
              "      padding: 0 0 0 0;\n",
              "      width: 32px;\n",
              "    }\n",
              "\n",
              "    .colab-df-convert:hover {\n",
              "      background-color: #E2EBFA;\n",
              "      box-shadow: 0px 1px 2px rgba(60, 64, 67, 0.3), 0px 1px 3px 1px rgba(60, 64, 67, 0.15);\n",
              "      fill: #174EA6;\n",
              "    }\n",
              "\n",
              "    [theme=dark] .colab-df-convert {\n",
              "      background-color: #3B4455;\n",
              "      fill: #D2E3FC;\n",
              "    }\n",
              "\n",
              "    [theme=dark] .colab-df-convert:hover {\n",
              "      background-color: #434B5C;\n",
              "      box-shadow: 0px 1px 3px 1px rgba(0, 0, 0, 0.15);\n",
              "      filter: drop-shadow(0px 1px 2px rgba(0, 0, 0, 0.3));\n",
              "      fill: #FFFFFF;\n",
              "    }\n",
              "  </style>\n",
              "\n",
              "      <script>\n",
              "        const buttonEl =\n",
              "          document.querySelector('#df-48881cb4-223e-48d2-8f0c-f20a3ad285d5 button.colab-df-convert');\n",
              "        buttonEl.style.display =\n",
              "          google.colab.kernel.accessAllowed ? 'block' : 'none';\n",
              "\n",
              "        async function convertToInteractive(key) {\n",
              "          const element = document.querySelector('#df-48881cb4-223e-48d2-8f0c-f20a3ad285d5');\n",
              "          const dataTable =\n",
              "            await google.colab.kernel.invokeFunction('convertToInteractive',\n",
              "                                                     [key], {});\n",
              "          if (!dataTable) return;\n",
              "\n",
              "          const docLinkHtml = 'Like what you see? Visit the ' +\n",
              "            '<a target=\"_blank\" href=https://colab.research.google.com/notebooks/data_table.ipynb>data table notebook</a>'\n",
              "            + ' to learn more about interactive tables.';\n",
              "          element.innerHTML = '';\n",
              "          dataTable['output_type'] = 'display_data';\n",
              "          await google.colab.output.renderOutput(dataTable, element);\n",
              "          const docLink = document.createElement('div');\n",
              "          docLink.innerHTML = docLinkHtml;\n",
              "          element.appendChild(docLink);\n",
              "        }\n",
              "      </script>\n",
              "    </div>\n",
              "  </div>\n",
              "  "
            ]
          },
          "metadata": {},
          "execution_count": 63
        }
      ],
      "source": [
        "data[['AREA','TOTAL_SALES_PRICE']].corr()"
      ]
    },
    {
      "cell_type": "code",
      "execution_count": 64,
      "metadata": {
        "colab": {
          "base_uri": "https://localhost:8080/",
          "height": 112
        },
        "id": "YQDmSk0cOH36",
        "outputId": "51373b9b-f080-4012-c0ea-701d3b9196be"
      },
      "outputs": [
        {
          "output_type": "execute_result",
          "data": {
            "text/plain": [
              "                   INT_SQFT  TOTAL_SALES_PRICE\n",
              "INT_SQFT            1.00000            0.62001\n",
              "TOTAL_SALES_PRICE   0.62001            1.00000"
            ],
            "text/html": [
              "\n",
              "  <div id=\"df-396f02f0-5a98-420b-9969-afddb8aff534\">\n",
              "    <div class=\"colab-df-container\">\n",
              "      <div>\n",
              "<style scoped>\n",
              "    .dataframe tbody tr th:only-of-type {\n",
              "        vertical-align: middle;\n",
              "    }\n",
              "\n",
              "    .dataframe tbody tr th {\n",
              "        vertical-align: top;\n",
              "    }\n",
              "\n",
              "    .dataframe thead th {\n",
              "        text-align: right;\n",
              "    }\n",
              "</style>\n",
              "<table border=\"1\" class=\"dataframe\">\n",
              "  <thead>\n",
              "    <tr style=\"text-align: right;\">\n",
              "      <th></th>\n",
              "      <th>INT_SQFT</th>\n",
              "      <th>TOTAL_SALES_PRICE</th>\n",
              "    </tr>\n",
              "  </thead>\n",
              "  <tbody>\n",
              "    <tr>\n",
              "      <th>INT_SQFT</th>\n",
              "      <td>1.00000</td>\n",
              "      <td>0.62001</td>\n",
              "    </tr>\n",
              "    <tr>\n",
              "      <th>TOTAL_SALES_PRICE</th>\n",
              "      <td>0.62001</td>\n",
              "      <td>1.00000</td>\n",
              "    </tr>\n",
              "  </tbody>\n",
              "</table>\n",
              "</div>\n",
              "      <button class=\"colab-df-convert\" onclick=\"convertToInteractive('df-396f02f0-5a98-420b-9969-afddb8aff534')\"\n",
              "              title=\"Convert this dataframe to an interactive table.\"\n",
              "              style=\"display:none;\">\n",
              "        \n",
              "  <svg xmlns=\"http://www.w3.org/2000/svg\" height=\"24px\"viewBox=\"0 0 24 24\"\n",
              "       width=\"24px\">\n",
              "    <path d=\"M0 0h24v24H0V0z\" fill=\"none\"/>\n",
              "    <path d=\"M18.56 5.44l.94 2.06.94-2.06 2.06-.94-2.06-.94-.94-2.06-.94 2.06-2.06.94zm-11 1L8.5 8.5l.94-2.06 2.06-.94-2.06-.94L8.5 2.5l-.94 2.06-2.06.94zm10 10l.94 2.06.94-2.06 2.06-.94-2.06-.94-.94-2.06-.94 2.06-2.06.94z\"/><path d=\"M17.41 7.96l-1.37-1.37c-.4-.4-.92-.59-1.43-.59-.52 0-1.04.2-1.43.59L10.3 9.45l-7.72 7.72c-.78.78-.78 2.05 0 2.83L4 21.41c.39.39.9.59 1.41.59.51 0 1.02-.2 1.41-.59l7.78-7.78 2.81-2.81c.8-.78.8-2.07 0-2.86zM5.41 20L4 18.59l7.72-7.72 1.47 1.35L5.41 20z\"/>\n",
              "  </svg>\n",
              "      </button>\n",
              "      \n",
              "  <style>\n",
              "    .colab-df-container {\n",
              "      display:flex;\n",
              "      flex-wrap:wrap;\n",
              "      gap: 12px;\n",
              "    }\n",
              "\n",
              "    .colab-df-convert {\n",
              "      background-color: #E8F0FE;\n",
              "      border: none;\n",
              "      border-radius: 50%;\n",
              "      cursor: pointer;\n",
              "      display: none;\n",
              "      fill: #1967D2;\n",
              "      height: 32px;\n",
              "      padding: 0 0 0 0;\n",
              "      width: 32px;\n",
              "    }\n",
              "\n",
              "    .colab-df-convert:hover {\n",
              "      background-color: #E2EBFA;\n",
              "      box-shadow: 0px 1px 2px rgba(60, 64, 67, 0.3), 0px 1px 3px 1px rgba(60, 64, 67, 0.15);\n",
              "      fill: #174EA6;\n",
              "    }\n",
              "\n",
              "    [theme=dark] .colab-df-convert {\n",
              "      background-color: #3B4455;\n",
              "      fill: #D2E3FC;\n",
              "    }\n",
              "\n",
              "    [theme=dark] .colab-df-convert:hover {\n",
              "      background-color: #434B5C;\n",
              "      box-shadow: 0px 1px 3px 1px rgba(0, 0, 0, 0.15);\n",
              "      filter: drop-shadow(0px 1px 2px rgba(0, 0, 0, 0.3));\n",
              "      fill: #FFFFFF;\n",
              "    }\n",
              "  </style>\n",
              "\n",
              "      <script>\n",
              "        const buttonEl =\n",
              "          document.querySelector('#df-396f02f0-5a98-420b-9969-afddb8aff534 button.colab-df-convert');\n",
              "        buttonEl.style.display =\n",
              "          google.colab.kernel.accessAllowed ? 'block' : 'none';\n",
              "\n",
              "        async function convertToInteractive(key) {\n",
              "          const element = document.querySelector('#df-396f02f0-5a98-420b-9969-afddb8aff534');\n",
              "          const dataTable =\n",
              "            await google.colab.kernel.invokeFunction('convertToInteractive',\n",
              "                                                     [key], {});\n",
              "          if (!dataTable) return;\n",
              "\n",
              "          const docLinkHtml = 'Like what you see? Visit the ' +\n",
              "            '<a target=\"_blank\" href=https://colab.research.google.com/notebooks/data_table.ipynb>data table notebook</a>'\n",
              "            + ' to learn more about interactive tables.';\n",
              "          element.innerHTML = '';\n",
              "          dataTable['output_type'] = 'display_data';\n",
              "          await google.colab.output.renderOutput(dataTable, element);\n",
              "          const docLink = document.createElement('div');\n",
              "          docLink.innerHTML = docLinkHtml;\n",
              "          element.appendChild(docLink);\n",
              "        }\n",
              "      </script>\n",
              "    </div>\n",
              "  </div>\n",
              "  "
            ]
          },
          "metadata": {},
          "execution_count": 64
        }
      ],
      "source": [
        "data[['INT_SQFT','TOTAL_SALES_PRICE']].corr()"
      ]
    },
    {
      "cell_type": "code",
      "execution_count": 65,
      "metadata": {
        "colab": {
          "base_uri": "https://localhost:8080/",
          "height": 112
        },
        "id": "iDlVICMoOng0",
        "outputId": "b5a01d33-0adc-469c-b57c-50450b117759"
      },
      "outputs": [
        {
          "output_type": "execute_result",
          "data": {
            "text/plain": [
              "                   N_BEDROOM  TOTAL_SALES_PRICE\n",
              "N_BEDROOM             1.0000             0.3413\n",
              "TOTAL_SALES_PRICE     0.3413             1.0000"
            ],
            "text/html": [
              "\n",
              "  <div id=\"df-e766f41e-b693-44c8-ac0a-5ce20a9e5c20\">\n",
              "    <div class=\"colab-df-container\">\n",
              "      <div>\n",
              "<style scoped>\n",
              "    .dataframe tbody tr th:only-of-type {\n",
              "        vertical-align: middle;\n",
              "    }\n",
              "\n",
              "    .dataframe tbody tr th {\n",
              "        vertical-align: top;\n",
              "    }\n",
              "\n",
              "    .dataframe thead th {\n",
              "        text-align: right;\n",
              "    }\n",
              "</style>\n",
              "<table border=\"1\" class=\"dataframe\">\n",
              "  <thead>\n",
              "    <tr style=\"text-align: right;\">\n",
              "      <th></th>\n",
              "      <th>N_BEDROOM</th>\n",
              "      <th>TOTAL_SALES_PRICE</th>\n",
              "    </tr>\n",
              "  </thead>\n",
              "  <tbody>\n",
              "    <tr>\n",
              "      <th>N_BEDROOM</th>\n",
              "      <td>1.0000</td>\n",
              "      <td>0.3413</td>\n",
              "    </tr>\n",
              "    <tr>\n",
              "      <th>TOTAL_SALES_PRICE</th>\n",
              "      <td>0.3413</td>\n",
              "      <td>1.0000</td>\n",
              "    </tr>\n",
              "  </tbody>\n",
              "</table>\n",
              "</div>\n",
              "      <button class=\"colab-df-convert\" onclick=\"convertToInteractive('df-e766f41e-b693-44c8-ac0a-5ce20a9e5c20')\"\n",
              "              title=\"Convert this dataframe to an interactive table.\"\n",
              "              style=\"display:none;\">\n",
              "        \n",
              "  <svg xmlns=\"http://www.w3.org/2000/svg\" height=\"24px\"viewBox=\"0 0 24 24\"\n",
              "       width=\"24px\">\n",
              "    <path d=\"M0 0h24v24H0V0z\" fill=\"none\"/>\n",
              "    <path d=\"M18.56 5.44l.94 2.06.94-2.06 2.06-.94-2.06-.94-.94-2.06-.94 2.06-2.06.94zm-11 1L8.5 8.5l.94-2.06 2.06-.94-2.06-.94L8.5 2.5l-.94 2.06-2.06.94zm10 10l.94 2.06.94-2.06 2.06-.94-2.06-.94-.94-2.06-.94 2.06-2.06.94z\"/><path d=\"M17.41 7.96l-1.37-1.37c-.4-.4-.92-.59-1.43-.59-.52 0-1.04.2-1.43.59L10.3 9.45l-7.72 7.72c-.78.78-.78 2.05 0 2.83L4 21.41c.39.39.9.59 1.41.59.51 0 1.02-.2 1.41-.59l7.78-7.78 2.81-2.81c.8-.78.8-2.07 0-2.86zM5.41 20L4 18.59l7.72-7.72 1.47 1.35L5.41 20z\"/>\n",
              "  </svg>\n",
              "      </button>\n",
              "      \n",
              "  <style>\n",
              "    .colab-df-container {\n",
              "      display:flex;\n",
              "      flex-wrap:wrap;\n",
              "      gap: 12px;\n",
              "    }\n",
              "\n",
              "    .colab-df-convert {\n",
              "      background-color: #E8F0FE;\n",
              "      border: none;\n",
              "      border-radius: 50%;\n",
              "      cursor: pointer;\n",
              "      display: none;\n",
              "      fill: #1967D2;\n",
              "      height: 32px;\n",
              "      padding: 0 0 0 0;\n",
              "      width: 32px;\n",
              "    }\n",
              "\n",
              "    .colab-df-convert:hover {\n",
              "      background-color: #E2EBFA;\n",
              "      box-shadow: 0px 1px 2px rgba(60, 64, 67, 0.3), 0px 1px 3px 1px rgba(60, 64, 67, 0.15);\n",
              "      fill: #174EA6;\n",
              "    }\n",
              "\n",
              "    [theme=dark] .colab-df-convert {\n",
              "      background-color: #3B4455;\n",
              "      fill: #D2E3FC;\n",
              "    }\n",
              "\n",
              "    [theme=dark] .colab-df-convert:hover {\n",
              "      background-color: #434B5C;\n",
              "      box-shadow: 0px 1px 3px 1px rgba(0, 0, 0, 0.15);\n",
              "      filter: drop-shadow(0px 1px 2px rgba(0, 0, 0, 0.3));\n",
              "      fill: #FFFFFF;\n",
              "    }\n",
              "  </style>\n",
              "\n",
              "      <script>\n",
              "        const buttonEl =\n",
              "          document.querySelector('#df-e766f41e-b693-44c8-ac0a-5ce20a9e5c20 button.colab-df-convert');\n",
              "        buttonEl.style.display =\n",
              "          google.colab.kernel.accessAllowed ? 'block' : 'none';\n",
              "\n",
              "        async function convertToInteractive(key) {\n",
              "          const element = document.querySelector('#df-e766f41e-b693-44c8-ac0a-5ce20a9e5c20');\n",
              "          const dataTable =\n",
              "            await google.colab.kernel.invokeFunction('convertToInteractive',\n",
              "                                                     [key], {});\n",
              "          if (!dataTable) return;\n",
              "\n",
              "          const docLinkHtml = 'Like what you see? Visit the ' +\n",
              "            '<a target=\"_blank\" href=https://colab.research.google.com/notebooks/data_table.ipynb>data table notebook</a>'\n",
              "            + ' to learn more about interactive tables.';\n",
              "          element.innerHTML = '';\n",
              "          dataTable['output_type'] = 'display_data';\n",
              "          await google.colab.output.renderOutput(dataTable, element);\n",
              "          const docLink = document.createElement('div');\n",
              "          docLink.innerHTML = docLinkHtml;\n",
              "          element.appendChild(docLink);\n",
              "        }\n",
              "      </script>\n",
              "    </div>\n",
              "  </div>\n",
              "  "
            ]
          },
          "metadata": {},
          "execution_count": 65
        }
      ],
      "source": [
        "data[['N_BEDROOM','TOTAL_SALES_PRICE']].corr()"
      ]
    },
    {
      "cell_type": "code",
      "execution_count": 66,
      "metadata": {
        "colab": {
          "base_uri": "https://localhost:8080/",
          "height": 112
        },
        "id": "xVkmpGpxOo-D",
        "outputId": "9f518699-5a1b-4b47-cc10-4d7b017831ae"
      },
      "outputs": [
        {
          "output_type": "execute_result",
          "data": {
            "text/plain": [
              "                   N_BATHROOM  TOTAL_SALES_PRICE\n",
              "N_BATHROOM           1.000000           0.118533\n",
              "TOTAL_SALES_PRICE    0.118533           1.000000"
            ],
            "text/html": [
              "\n",
              "  <div id=\"df-01855e70-4182-4147-83f9-17cbac02a78b\">\n",
              "    <div class=\"colab-df-container\">\n",
              "      <div>\n",
              "<style scoped>\n",
              "    .dataframe tbody tr th:only-of-type {\n",
              "        vertical-align: middle;\n",
              "    }\n",
              "\n",
              "    .dataframe tbody tr th {\n",
              "        vertical-align: top;\n",
              "    }\n",
              "\n",
              "    .dataframe thead th {\n",
              "        text-align: right;\n",
              "    }\n",
              "</style>\n",
              "<table border=\"1\" class=\"dataframe\">\n",
              "  <thead>\n",
              "    <tr style=\"text-align: right;\">\n",
              "      <th></th>\n",
              "      <th>N_BATHROOM</th>\n",
              "      <th>TOTAL_SALES_PRICE</th>\n",
              "    </tr>\n",
              "  </thead>\n",
              "  <tbody>\n",
              "    <tr>\n",
              "      <th>N_BATHROOM</th>\n",
              "      <td>1.000000</td>\n",
              "      <td>0.118533</td>\n",
              "    </tr>\n",
              "    <tr>\n",
              "      <th>TOTAL_SALES_PRICE</th>\n",
              "      <td>0.118533</td>\n",
              "      <td>1.000000</td>\n",
              "    </tr>\n",
              "  </tbody>\n",
              "</table>\n",
              "</div>\n",
              "      <button class=\"colab-df-convert\" onclick=\"convertToInteractive('df-01855e70-4182-4147-83f9-17cbac02a78b')\"\n",
              "              title=\"Convert this dataframe to an interactive table.\"\n",
              "              style=\"display:none;\">\n",
              "        \n",
              "  <svg xmlns=\"http://www.w3.org/2000/svg\" height=\"24px\"viewBox=\"0 0 24 24\"\n",
              "       width=\"24px\">\n",
              "    <path d=\"M0 0h24v24H0V0z\" fill=\"none\"/>\n",
              "    <path d=\"M18.56 5.44l.94 2.06.94-2.06 2.06-.94-2.06-.94-.94-2.06-.94 2.06-2.06.94zm-11 1L8.5 8.5l.94-2.06 2.06-.94-2.06-.94L8.5 2.5l-.94 2.06-2.06.94zm10 10l.94 2.06.94-2.06 2.06-.94-2.06-.94-.94-2.06-.94 2.06-2.06.94z\"/><path d=\"M17.41 7.96l-1.37-1.37c-.4-.4-.92-.59-1.43-.59-.52 0-1.04.2-1.43.59L10.3 9.45l-7.72 7.72c-.78.78-.78 2.05 0 2.83L4 21.41c.39.39.9.59 1.41.59.51 0 1.02-.2 1.41-.59l7.78-7.78 2.81-2.81c.8-.78.8-2.07 0-2.86zM5.41 20L4 18.59l7.72-7.72 1.47 1.35L5.41 20z\"/>\n",
              "  </svg>\n",
              "      </button>\n",
              "      \n",
              "  <style>\n",
              "    .colab-df-container {\n",
              "      display:flex;\n",
              "      flex-wrap:wrap;\n",
              "      gap: 12px;\n",
              "    }\n",
              "\n",
              "    .colab-df-convert {\n",
              "      background-color: #E8F0FE;\n",
              "      border: none;\n",
              "      border-radius: 50%;\n",
              "      cursor: pointer;\n",
              "      display: none;\n",
              "      fill: #1967D2;\n",
              "      height: 32px;\n",
              "      padding: 0 0 0 0;\n",
              "      width: 32px;\n",
              "    }\n",
              "\n",
              "    .colab-df-convert:hover {\n",
              "      background-color: #E2EBFA;\n",
              "      box-shadow: 0px 1px 2px rgba(60, 64, 67, 0.3), 0px 1px 3px 1px rgba(60, 64, 67, 0.15);\n",
              "      fill: #174EA6;\n",
              "    }\n",
              "\n",
              "    [theme=dark] .colab-df-convert {\n",
              "      background-color: #3B4455;\n",
              "      fill: #D2E3FC;\n",
              "    }\n",
              "\n",
              "    [theme=dark] .colab-df-convert:hover {\n",
              "      background-color: #434B5C;\n",
              "      box-shadow: 0px 1px 3px 1px rgba(0, 0, 0, 0.15);\n",
              "      filter: drop-shadow(0px 1px 2px rgba(0, 0, 0, 0.3));\n",
              "      fill: #FFFFFF;\n",
              "    }\n",
              "  </style>\n",
              "\n",
              "      <script>\n",
              "        const buttonEl =\n",
              "          document.querySelector('#df-01855e70-4182-4147-83f9-17cbac02a78b button.colab-df-convert');\n",
              "        buttonEl.style.display =\n",
              "          google.colab.kernel.accessAllowed ? 'block' : 'none';\n",
              "\n",
              "        async function convertToInteractive(key) {\n",
              "          const element = document.querySelector('#df-01855e70-4182-4147-83f9-17cbac02a78b');\n",
              "          const dataTable =\n",
              "            await google.colab.kernel.invokeFunction('convertToInteractive',\n",
              "                                                     [key], {});\n",
              "          if (!dataTable) return;\n",
              "\n",
              "          const docLinkHtml = 'Like what you see? Visit the ' +\n",
              "            '<a target=\"_blank\" href=https://colab.research.google.com/notebooks/data_table.ipynb>data table notebook</a>'\n",
              "            + ' to learn more about interactive tables.';\n",
              "          element.innerHTML = '';\n",
              "          dataTable['output_type'] = 'display_data';\n",
              "          await google.colab.output.renderOutput(dataTable, element);\n",
              "          const docLink = document.createElement('div');\n",
              "          docLink.innerHTML = docLinkHtml;\n",
              "          element.appendChild(docLink);\n",
              "        }\n",
              "      </script>\n",
              "    </div>\n",
              "  </div>\n",
              "  "
            ]
          },
          "metadata": {},
          "execution_count": 66
        }
      ],
      "source": [
        "data[['N_BATHROOM','TOTAL_SALES_PRICE']].corr()"
      ]
    },
    {
      "cell_type": "code",
      "execution_count": 67,
      "metadata": {
        "id": "aqhOCw4PkEs4"
      },
      "outputs": [],
      "source": [
        "#data['transformed'] = np.power(data['N_BATHROOM'],3)\n",
        "\n",
        "#data[['transformed','TOTAL_SALES_PRICE']].corr()"
      ]
    },
    {
      "cell_type": "code",
      "execution_count": 68,
      "metadata": {
        "colab": {
          "base_uri": "https://localhost:8080/",
          "height": 112
        },
        "id": "uKBh69lnOprn",
        "outputId": "4847c677-2929-4a1f-e049-8ba7d1b98dc5"
      },
      "outputs": [
        {
          "output_type": "execute_result",
          "data": {
            "text/plain": [
              "                     N_ROOM  TOTAL_SALES_PRICE\n",
              "N_ROOM             1.000000           0.609345\n",
              "TOTAL_SALES_PRICE  0.609345           1.000000"
            ],
            "text/html": [
              "\n",
              "  <div id=\"df-d193997b-2367-4150-8e8a-068feba7ebd5\">\n",
              "    <div class=\"colab-df-container\">\n",
              "      <div>\n",
              "<style scoped>\n",
              "    .dataframe tbody tr th:only-of-type {\n",
              "        vertical-align: middle;\n",
              "    }\n",
              "\n",
              "    .dataframe tbody tr th {\n",
              "        vertical-align: top;\n",
              "    }\n",
              "\n",
              "    .dataframe thead th {\n",
              "        text-align: right;\n",
              "    }\n",
              "</style>\n",
              "<table border=\"1\" class=\"dataframe\">\n",
              "  <thead>\n",
              "    <tr style=\"text-align: right;\">\n",
              "      <th></th>\n",
              "      <th>N_ROOM</th>\n",
              "      <th>TOTAL_SALES_PRICE</th>\n",
              "    </tr>\n",
              "  </thead>\n",
              "  <tbody>\n",
              "    <tr>\n",
              "      <th>N_ROOM</th>\n",
              "      <td>1.000000</td>\n",
              "      <td>0.609345</td>\n",
              "    </tr>\n",
              "    <tr>\n",
              "      <th>TOTAL_SALES_PRICE</th>\n",
              "      <td>0.609345</td>\n",
              "      <td>1.000000</td>\n",
              "    </tr>\n",
              "  </tbody>\n",
              "</table>\n",
              "</div>\n",
              "      <button class=\"colab-df-convert\" onclick=\"convertToInteractive('df-d193997b-2367-4150-8e8a-068feba7ebd5')\"\n",
              "              title=\"Convert this dataframe to an interactive table.\"\n",
              "              style=\"display:none;\">\n",
              "        \n",
              "  <svg xmlns=\"http://www.w3.org/2000/svg\" height=\"24px\"viewBox=\"0 0 24 24\"\n",
              "       width=\"24px\">\n",
              "    <path d=\"M0 0h24v24H0V0z\" fill=\"none\"/>\n",
              "    <path d=\"M18.56 5.44l.94 2.06.94-2.06 2.06-.94-2.06-.94-.94-2.06-.94 2.06-2.06.94zm-11 1L8.5 8.5l.94-2.06 2.06-.94-2.06-.94L8.5 2.5l-.94 2.06-2.06.94zm10 10l.94 2.06.94-2.06 2.06-.94-2.06-.94-.94-2.06-.94 2.06-2.06.94z\"/><path d=\"M17.41 7.96l-1.37-1.37c-.4-.4-.92-.59-1.43-.59-.52 0-1.04.2-1.43.59L10.3 9.45l-7.72 7.72c-.78.78-.78 2.05 0 2.83L4 21.41c.39.39.9.59 1.41.59.51 0 1.02-.2 1.41-.59l7.78-7.78 2.81-2.81c.8-.78.8-2.07 0-2.86zM5.41 20L4 18.59l7.72-7.72 1.47 1.35L5.41 20z\"/>\n",
              "  </svg>\n",
              "      </button>\n",
              "      \n",
              "  <style>\n",
              "    .colab-df-container {\n",
              "      display:flex;\n",
              "      flex-wrap:wrap;\n",
              "      gap: 12px;\n",
              "    }\n",
              "\n",
              "    .colab-df-convert {\n",
              "      background-color: #E8F0FE;\n",
              "      border: none;\n",
              "      border-radius: 50%;\n",
              "      cursor: pointer;\n",
              "      display: none;\n",
              "      fill: #1967D2;\n",
              "      height: 32px;\n",
              "      padding: 0 0 0 0;\n",
              "      width: 32px;\n",
              "    }\n",
              "\n",
              "    .colab-df-convert:hover {\n",
              "      background-color: #E2EBFA;\n",
              "      box-shadow: 0px 1px 2px rgba(60, 64, 67, 0.3), 0px 1px 3px 1px rgba(60, 64, 67, 0.15);\n",
              "      fill: #174EA6;\n",
              "    }\n",
              "\n",
              "    [theme=dark] .colab-df-convert {\n",
              "      background-color: #3B4455;\n",
              "      fill: #D2E3FC;\n",
              "    }\n",
              "\n",
              "    [theme=dark] .colab-df-convert:hover {\n",
              "      background-color: #434B5C;\n",
              "      box-shadow: 0px 1px 3px 1px rgba(0, 0, 0, 0.15);\n",
              "      filter: drop-shadow(0px 1px 2px rgba(0, 0, 0, 0.3));\n",
              "      fill: #FFFFFF;\n",
              "    }\n",
              "  </style>\n",
              "\n",
              "      <script>\n",
              "        const buttonEl =\n",
              "          document.querySelector('#df-d193997b-2367-4150-8e8a-068feba7ebd5 button.colab-df-convert');\n",
              "        buttonEl.style.display =\n",
              "          google.colab.kernel.accessAllowed ? 'block' : 'none';\n",
              "\n",
              "        async function convertToInteractive(key) {\n",
              "          const element = document.querySelector('#df-d193997b-2367-4150-8e8a-068feba7ebd5');\n",
              "          const dataTable =\n",
              "            await google.colab.kernel.invokeFunction('convertToInteractive',\n",
              "                                                     [key], {});\n",
              "          if (!dataTable) return;\n",
              "\n",
              "          const docLinkHtml = 'Like what you see? Visit the ' +\n",
              "            '<a target=\"_blank\" href=https://colab.research.google.com/notebooks/data_table.ipynb>data table notebook</a>'\n",
              "            + ' to learn more about interactive tables.';\n",
              "          element.innerHTML = '';\n",
              "          dataTable['output_type'] = 'display_data';\n",
              "          await google.colab.output.renderOutput(dataTable, element);\n",
              "          const docLink = document.createElement('div');\n",
              "          docLink.innerHTML = docLinkHtml;\n",
              "          element.appendChild(docLink);\n",
              "        }\n",
              "      </script>\n",
              "    </div>\n",
              "  </div>\n",
              "  "
            ]
          },
          "metadata": {},
          "execution_count": 68
        }
      ],
      "source": [
        "data[['N_ROOM','TOTAL_SALES_PRICE']].corr()"
      ]
    },
    {
      "cell_type": "code",
      "execution_count": 69,
      "metadata": {
        "colab": {
          "base_uri": "https://localhost:8080/",
          "height": 112
        },
        "id": "CjS3hf7mPBqH",
        "outputId": "fe944f89-ec46-4385-ebba-3791b75ca3cb"
      },
      "outputs": [
        {
          "output_type": "execute_result",
          "data": {
            "text/plain": [
              "                   SALE_COND  TOTAL_SALES_PRICE\n",
              "SALE_COND           1.000000           0.054484\n",
              "TOTAL_SALES_PRICE   0.054484           1.000000"
            ],
            "text/html": [
              "\n",
              "  <div id=\"df-83b65944-143d-4846-b2c5-856d3eca0e87\">\n",
              "    <div class=\"colab-df-container\">\n",
              "      <div>\n",
              "<style scoped>\n",
              "    .dataframe tbody tr th:only-of-type {\n",
              "        vertical-align: middle;\n",
              "    }\n",
              "\n",
              "    .dataframe tbody tr th {\n",
              "        vertical-align: top;\n",
              "    }\n",
              "\n",
              "    .dataframe thead th {\n",
              "        text-align: right;\n",
              "    }\n",
              "</style>\n",
              "<table border=\"1\" class=\"dataframe\">\n",
              "  <thead>\n",
              "    <tr style=\"text-align: right;\">\n",
              "      <th></th>\n",
              "      <th>SALE_COND</th>\n",
              "      <th>TOTAL_SALES_PRICE</th>\n",
              "    </tr>\n",
              "  </thead>\n",
              "  <tbody>\n",
              "    <tr>\n",
              "      <th>SALE_COND</th>\n",
              "      <td>1.000000</td>\n",
              "      <td>0.054484</td>\n",
              "    </tr>\n",
              "    <tr>\n",
              "      <th>TOTAL_SALES_PRICE</th>\n",
              "      <td>0.054484</td>\n",
              "      <td>1.000000</td>\n",
              "    </tr>\n",
              "  </tbody>\n",
              "</table>\n",
              "</div>\n",
              "      <button class=\"colab-df-convert\" onclick=\"convertToInteractive('df-83b65944-143d-4846-b2c5-856d3eca0e87')\"\n",
              "              title=\"Convert this dataframe to an interactive table.\"\n",
              "              style=\"display:none;\">\n",
              "        \n",
              "  <svg xmlns=\"http://www.w3.org/2000/svg\" height=\"24px\"viewBox=\"0 0 24 24\"\n",
              "       width=\"24px\">\n",
              "    <path d=\"M0 0h24v24H0V0z\" fill=\"none\"/>\n",
              "    <path d=\"M18.56 5.44l.94 2.06.94-2.06 2.06-.94-2.06-.94-.94-2.06-.94 2.06-2.06.94zm-11 1L8.5 8.5l.94-2.06 2.06-.94-2.06-.94L8.5 2.5l-.94 2.06-2.06.94zm10 10l.94 2.06.94-2.06 2.06-.94-2.06-.94-.94-2.06-.94 2.06-2.06.94z\"/><path d=\"M17.41 7.96l-1.37-1.37c-.4-.4-.92-.59-1.43-.59-.52 0-1.04.2-1.43.59L10.3 9.45l-7.72 7.72c-.78.78-.78 2.05 0 2.83L4 21.41c.39.39.9.59 1.41.59.51 0 1.02-.2 1.41-.59l7.78-7.78 2.81-2.81c.8-.78.8-2.07 0-2.86zM5.41 20L4 18.59l7.72-7.72 1.47 1.35L5.41 20z\"/>\n",
              "  </svg>\n",
              "      </button>\n",
              "      \n",
              "  <style>\n",
              "    .colab-df-container {\n",
              "      display:flex;\n",
              "      flex-wrap:wrap;\n",
              "      gap: 12px;\n",
              "    }\n",
              "\n",
              "    .colab-df-convert {\n",
              "      background-color: #E8F0FE;\n",
              "      border: none;\n",
              "      border-radius: 50%;\n",
              "      cursor: pointer;\n",
              "      display: none;\n",
              "      fill: #1967D2;\n",
              "      height: 32px;\n",
              "      padding: 0 0 0 0;\n",
              "      width: 32px;\n",
              "    }\n",
              "\n",
              "    .colab-df-convert:hover {\n",
              "      background-color: #E2EBFA;\n",
              "      box-shadow: 0px 1px 2px rgba(60, 64, 67, 0.3), 0px 1px 3px 1px rgba(60, 64, 67, 0.15);\n",
              "      fill: #174EA6;\n",
              "    }\n",
              "\n",
              "    [theme=dark] .colab-df-convert {\n",
              "      background-color: #3B4455;\n",
              "      fill: #D2E3FC;\n",
              "    }\n",
              "\n",
              "    [theme=dark] .colab-df-convert:hover {\n",
              "      background-color: #434B5C;\n",
              "      box-shadow: 0px 1px 3px 1px rgba(0, 0, 0, 0.15);\n",
              "      filter: drop-shadow(0px 1px 2px rgba(0, 0, 0, 0.3));\n",
              "      fill: #FFFFFF;\n",
              "    }\n",
              "  </style>\n",
              "\n",
              "      <script>\n",
              "        const buttonEl =\n",
              "          document.querySelector('#df-83b65944-143d-4846-b2c5-856d3eca0e87 button.colab-df-convert');\n",
              "        buttonEl.style.display =\n",
              "          google.colab.kernel.accessAllowed ? 'block' : 'none';\n",
              "\n",
              "        async function convertToInteractive(key) {\n",
              "          const element = document.querySelector('#df-83b65944-143d-4846-b2c5-856d3eca0e87');\n",
              "          const dataTable =\n",
              "            await google.colab.kernel.invokeFunction('convertToInteractive',\n",
              "                                                     [key], {});\n",
              "          if (!dataTable) return;\n",
              "\n",
              "          const docLinkHtml = 'Like what you see? Visit the ' +\n",
              "            '<a target=\"_blank\" href=https://colab.research.google.com/notebooks/data_table.ipynb>data table notebook</a>'\n",
              "            + ' to learn more about interactive tables.';\n",
              "          element.innerHTML = '';\n",
              "          dataTable['output_type'] = 'display_data';\n",
              "          await google.colab.output.renderOutput(dataTable, element);\n",
              "          const docLink = document.createElement('div');\n",
              "          docLink.innerHTML = docLinkHtml;\n",
              "          element.appendChild(docLink);\n",
              "        }\n",
              "      </script>\n",
              "    </div>\n",
              "  </div>\n",
              "  "
            ]
          },
          "metadata": {},
          "execution_count": 69
        }
      ],
      "source": [
        "data[['SALE_COND','TOTAL_SALES_PRICE']].corr()"
      ]
    },
    {
      "cell_type": "code",
      "execution_count": 70,
      "metadata": {
        "colab": {
          "base_uri": "https://localhost:8080/",
          "height": 112
        },
        "id": "_QVF2rLgPKUB",
        "outputId": "24292809-9033-4e1e-fc6e-452a673a8c55"
      },
      "outputs": [
        {
          "output_type": "execute_result",
          "data": {
            "text/plain": [
              "                   PARK_FACIL  TOTAL_SALES_PRICE\n",
              "PARK_FACIL           1.000000           0.146908\n",
              "TOTAL_SALES_PRICE    0.146908           1.000000"
            ],
            "text/html": [
              "\n",
              "  <div id=\"df-2b7e8cc0-2c81-485c-b7f9-f3bc9332aaaf\">\n",
              "    <div class=\"colab-df-container\">\n",
              "      <div>\n",
              "<style scoped>\n",
              "    .dataframe tbody tr th:only-of-type {\n",
              "        vertical-align: middle;\n",
              "    }\n",
              "\n",
              "    .dataframe tbody tr th {\n",
              "        vertical-align: top;\n",
              "    }\n",
              "\n",
              "    .dataframe thead th {\n",
              "        text-align: right;\n",
              "    }\n",
              "</style>\n",
              "<table border=\"1\" class=\"dataframe\">\n",
              "  <thead>\n",
              "    <tr style=\"text-align: right;\">\n",
              "      <th></th>\n",
              "      <th>PARK_FACIL</th>\n",
              "      <th>TOTAL_SALES_PRICE</th>\n",
              "    </tr>\n",
              "  </thead>\n",
              "  <tbody>\n",
              "    <tr>\n",
              "      <th>PARK_FACIL</th>\n",
              "      <td>1.000000</td>\n",
              "      <td>0.146908</td>\n",
              "    </tr>\n",
              "    <tr>\n",
              "      <th>TOTAL_SALES_PRICE</th>\n",
              "      <td>0.146908</td>\n",
              "      <td>1.000000</td>\n",
              "    </tr>\n",
              "  </tbody>\n",
              "</table>\n",
              "</div>\n",
              "      <button class=\"colab-df-convert\" onclick=\"convertToInteractive('df-2b7e8cc0-2c81-485c-b7f9-f3bc9332aaaf')\"\n",
              "              title=\"Convert this dataframe to an interactive table.\"\n",
              "              style=\"display:none;\">\n",
              "        \n",
              "  <svg xmlns=\"http://www.w3.org/2000/svg\" height=\"24px\"viewBox=\"0 0 24 24\"\n",
              "       width=\"24px\">\n",
              "    <path d=\"M0 0h24v24H0V0z\" fill=\"none\"/>\n",
              "    <path d=\"M18.56 5.44l.94 2.06.94-2.06 2.06-.94-2.06-.94-.94-2.06-.94 2.06-2.06.94zm-11 1L8.5 8.5l.94-2.06 2.06-.94-2.06-.94L8.5 2.5l-.94 2.06-2.06.94zm10 10l.94 2.06.94-2.06 2.06-.94-2.06-.94-.94-2.06-.94 2.06-2.06.94z\"/><path d=\"M17.41 7.96l-1.37-1.37c-.4-.4-.92-.59-1.43-.59-.52 0-1.04.2-1.43.59L10.3 9.45l-7.72 7.72c-.78.78-.78 2.05 0 2.83L4 21.41c.39.39.9.59 1.41.59.51 0 1.02-.2 1.41-.59l7.78-7.78 2.81-2.81c.8-.78.8-2.07 0-2.86zM5.41 20L4 18.59l7.72-7.72 1.47 1.35L5.41 20z\"/>\n",
              "  </svg>\n",
              "      </button>\n",
              "      \n",
              "  <style>\n",
              "    .colab-df-container {\n",
              "      display:flex;\n",
              "      flex-wrap:wrap;\n",
              "      gap: 12px;\n",
              "    }\n",
              "\n",
              "    .colab-df-convert {\n",
              "      background-color: #E8F0FE;\n",
              "      border: none;\n",
              "      border-radius: 50%;\n",
              "      cursor: pointer;\n",
              "      display: none;\n",
              "      fill: #1967D2;\n",
              "      height: 32px;\n",
              "      padding: 0 0 0 0;\n",
              "      width: 32px;\n",
              "    }\n",
              "\n",
              "    .colab-df-convert:hover {\n",
              "      background-color: #E2EBFA;\n",
              "      box-shadow: 0px 1px 2px rgba(60, 64, 67, 0.3), 0px 1px 3px 1px rgba(60, 64, 67, 0.15);\n",
              "      fill: #174EA6;\n",
              "    }\n",
              "\n",
              "    [theme=dark] .colab-df-convert {\n",
              "      background-color: #3B4455;\n",
              "      fill: #D2E3FC;\n",
              "    }\n",
              "\n",
              "    [theme=dark] .colab-df-convert:hover {\n",
              "      background-color: #434B5C;\n",
              "      box-shadow: 0px 1px 3px 1px rgba(0, 0, 0, 0.15);\n",
              "      filter: drop-shadow(0px 1px 2px rgba(0, 0, 0, 0.3));\n",
              "      fill: #FFFFFF;\n",
              "    }\n",
              "  </style>\n",
              "\n",
              "      <script>\n",
              "        const buttonEl =\n",
              "          document.querySelector('#df-2b7e8cc0-2c81-485c-b7f9-f3bc9332aaaf button.colab-df-convert');\n",
              "        buttonEl.style.display =\n",
              "          google.colab.kernel.accessAllowed ? 'block' : 'none';\n",
              "\n",
              "        async function convertToInteractive(key) {\n",
              "          const element = document.querySelector('#df-2b7e8cc0-2c81-485c-b7f9-f3bc9332aaaf');\n",
              "          const dataTable =\n",
              "            await google.colab.kernel.invokeFunction('convertToInteractive',\n",
              "                                                     [key], {});\n",
              "          if (!dataTable) return;\n",
              "\n",
              "          const docLinkHtml = 'Like what you see? Visit the ' +\n",
              "            '<a target=\"_blank\" href=https://colab.research.google.com/notebooks/data_table.ipynb>data table notebook</a>'\n",
              "            + ' to learn more about interactive tables.';\n",
              "          element.innerHTML = '';\n",
              "          dataTable['output_type'] = 'display_data';\n",
              "          await google.colab.output.renderOutput(dataTable, element);\n",
              "          const docLink = document.createElement('div');\n",
              "          docLink.innerHTML = docLinkHtml;\n",
              "          element.appendChild(docLink);\n",
              "        }\n",
              "      </script>\n",
              "    </div>\n",
              "  </div>\n",
              "  "
            ]
          },
          "metadata": {},
          "execution_count": 70
        }
      ],
      "source": [
        "data[['PARK_FACIL','TOTAL_SALES_PRICE']].corr()"
      ]
    },
    {
      "cell_type": "code",
      "execution_count": 71,
      "metadata": {
        "id": "bgR6jh0QiiSQ"
      },
      "outputs": [],
      "source": [
        "#data['transformed'] = np.sqrt(data['PARK_FACIL'])\n",
        "\n",
        "#data[['transformed','TOTAL_SALES_PRICE']].corr()"
      ]
    },
    {
      "cell_type": "code",
      "execution_count": 72,
      "metadata": {
        "colab": {
          "base_uri": "https://localhost:8080/",
          "height": 112
        },
        "id": "V0dhjokOO-CK",
        "outputId": "9626336c-6a2c-4df3-b11c-bc28da360c22"
      },
      "outputs": [
        {
          "output_type": "execute_result",
          "data": {
            "text/plain": [
              "                   UTILITY_AVAIL  TOTAL_SALES_PRICE\n",
              "UTILITY_AVAIL           1.000000           0.068985\n",
              "TOTAL_SALES_PRICE       0.068985           1.000000"
            ],
            "text/html": [
              "\n",
              "  <div id=\"df-360949c9-2fc4-4d66-af30-a4f84669e3e8\">\n",
              "    <div class=\"colab-df-container\">\n",
              "      <div>\n",
              "<style scoped>\n",
              "    .dataframe tbody tr th:only-of-type {\n",
              "        vertical-align: middle;\n",
              "    }\n",
              "\n",
              "    .dataframe tbody tr th {\n",
              "        vertical-align: top;\n",
              "    }\n",
              "\n",
              "    .dataframe thead th {\n",
              "        text-align: right;\n",
              "    }\n",
              "</style>\n",
              "<table border=\"1\" class=\"dataframe\">\n",
              "  <thead>\n",
              "    <tr style=\"text-align: right;\">\n",
              "      <th></th>\n",
              "      <th>UTILITY_AVAIL</th>\n",
              "      <th>TOTAL_SALES_PRICE</th>\n",
              "    </tr>\n",
              "  </thead>\n",
              "  <tbody>\n",
              "    <tr>\n",
              "      <th>UTILITY_AVAIL</th>\n",
              "      <td>1.000000</td>\n",
              "      <td>0.068985</td>\n",
              "    </tr>\n",
              "    <tr>\n",
              "      <th>TOTAL_SALES_PRICE</th>\n",
              "      <td>0.068985</td>\n",
              "      <td>1.000000</td>\n",
              "    </tr>\n",
              "  </tbody>\n",
              "</table>\n",
              "</div>\n",
              "      <button class=\"colab-df-convert\" onclick=\"convertToInteractive('df-360949c9-2fc4-4d66-af30-a4f84669e3e8')\"\n",
              "              title=\"Convert this dataframe to an interactive table.\"\n",
              "              style=\"display:none;\">\n",
              "        \n",
              "  <svg xmlns=\"http://www.w3.org/2000/svg\" height=\"24px\"viewBox=\"0 0 24 24\"\n",
              "       width=\"24px\">\n",
              "    <path d=\"M0 0h24v24H0V0z\" fill=\"none\"/>\n",
              "    <path d=\"M18.56 5.44l.94 2.06.94-2.06 2.06-.94-2.06-.94-.94-2.06-.94 2.06-2.06.94zm-11 1L8.5 8.5l.94-2.06 2.06-.94-2.06-.94L8.5 2.5l-.94 2.06-2.06.94zm10 10l.94 2.06.94-2.06 2.06-.94-2.06-.94-.94-2.06-.94 2.06-2.06.94z\"/><path d=\"M17.41 7.96l-1.37-1.37c-.4-.4-.92-.59-1.43-.59-.52 0-1.04.2-1.43.59L10.3 9.45l-7.72 7.72c-.78.78-.78 2.05 0 2.83L4 21.41c.39.39.9.59 1.41.59.51 0 1.02-.2 1.41-.59l7.78-7.78 2.81-2.81c.8-.78.8-2.07 0-2.86zM5.41 20L4 18.59l7.72-7.72 1.47 1.35L5.41 20z\"/>\n",
              "  </svg>\n",
              "      </button>\n",
              "      \n",
              "  <style>\n",
              "    .colab-df-container {\n",
              "      display:flex;\n",
              "      flex-wrap:wrap;\n",
              "      gap: 12px;\n",
              "    }\n",
              "\n",
              "    .colab-df-convert {\n",
              "      background-color: #E8F0FE;\n",
              "      border: none;\n",
              "      border-radius: 50%;\n",
              "      cursor: pointer;\n",
              "      display: none;\n",
              "      fill: #1967D2;\n",
              "      height: 32px;\n",
              "      padding: 0 0 0 0;\n",
              "      width: 32px;\n",
              "    }\n",
              "\n",
              "    .colab-df-convert:hover {\n",
              "      background-color: #E2EBFA;\n",
              "      box-shadow: 0px 1px 2px rgba(60, 64, 67, 0.3), 0px 1px 3px 1px rgba(60, 64, 67, 0.15);\n",
              "      fill: #174EA6;\n",
              "    }\n",
              "\n",
              "    [theme=dark] .colab-df-convert {\n",
              "      background-color: #3B4455;\n",
              "      fill: #D2E3FC;\n",
              "    }\n",
              "\n",
              "    [theme=dark] .colab-df-convert:hover {\n",
              "      background-color: #434B5C;\n",
              "      box-shadow: 0px 1px 3px 1px rgba(0, 0, 0, 0.15);\n",
              "      filter: drop-shadow(0px 1px 2px rgba(0, 0, 0, 0.3));\n",
              "      fill: #FFFFFF;\n",
              "    }\n",
              "  </style>\n",
              "\n",
              "      <script>\n",
              "        const buttonEl =\n",
              "          document.querySelector('#df-360949c9-2fc4-4d66-af30-a4f84669e3e8 button.colab-df-convert');\n",
              "        buttonEl.style.display =\n",
              "          google.colab.kernel.accessAllowed ? 'block' : 'none';\n",
              "\n",
              "        async function convertToInteractive(key) {\n",
              "          const element = document.querySelector('#df-360949c9-2fc4-4d66-af30-a4f84669e3e8');\n",
              "          const dataTable =\n",
              "            await google.colab.kernel.invokeFunction('convertToInteractive',\n",
              "                                                     [key], {});\n",
              "          if (!dataTable) return;\n",
              "\n",
              "          const docLinkHtml = 'Like what you see? Visit the ' +\n",
              "            '<a target=\"_blank\" href=https://colab.research.google.com/notebooks/data_table.ipynb>data table notebook</a>'\n",
              "            + ' to learn more about interactive tables.';\n",
              "          element.innerHTML = '';\n",
              "          dataTable['output_type'] = 'display_data';\n",
              "          await google.colab.output.renderOutput(dataTable, element);\n",
              "          const docLink = document.createElement('div');\n",
              "          docLink.innerHTML = docLinkHtml;\n",
              "          element.appendChild(docLink);\n",
              "        }\n",
              "      </script>\n",
              "    </div>\n",
              "  </div>\n",
              "  "
            ]
          },
          "metadata": {},
          "execution_count": 72
        }
      ],
      "source": [
        "data[['UTILITY_AVAIL','TOTAL_SALES_PRICE']].corr()"
      ]
    },
    {
      "cell_type": "code",
      "execution_count": 73,
      "metadata": {
        "id": "wVZltogEqK3q"
      },
      "outputs": [],
      "source": [
        "#data['transformed'] = np.sqrt(data['UTILITY_AVAIL'])\n",
        "#data[['transformed','TOTAL_SALES_PRICE']].corr()"
      ]
    },
    {
      "cell_type": "code",
      "execution_count": 74,
      "metadata": {
        "colab": {
          "base_uri": "https://localhost:8080/",
          "height": 112
        },
        "id": "uRR-l6rMO5Av",
        "outputId": "a9d5a769-8ce0-4335-8dd1-1fd282082083"
      },
      "outputs": [
        {
          "output_type": "execute_result",
          "data": {
            "text/plain": [
              "                     STREET  TOTAL_SALES_PRICE\n",
              "STREET             1.000000           0.152173\n",
              "TOTAL_SALES_PRICE  0.152173           1.000000"
            ],
            "text/html": [
              "\n",
              "  <div id=\"df-961a5639-889b-4ca3-a0e6-5e301d15b4e0\">\n",
              "    <div class=\"colab-df-container\">\n",
              "      <div>\n",
              "<style scoped>\n",
              "    .dataframe tbody tr th:only-of-type {\n",
              "        vertical-align: middle;\n",
              "    }\n",
              "\n",
              "    .dataframe tbody tr th {\n",
              "        vertical-align: top;\n",
              "    }\n",
              "\n",
              "    .dataframe thead th {\n",
              "        text-align: right;\n",
              "    }\n",
              "</style>\n",
              "<table border=\"1\" class=\"dataframe\">\n",
              "  <thead>\n",
              "    <tr style=\"text-align: right;\">\n",
              "      <th></th>\n",
              "      <th>STREET</th>\n",
              "      <th>TOTAL_SALES_PRICE</th>\n",
              "    </tr>\n",
              "  </thead>\n",
              "  <tbody>\n",
              "    <tr>\n",
              "      <th>STREET</th>\n",
              "      <td>1.000000</td>\n",
              "      <td>0.152173</td>\n",
              "    </tr>\n",
              "    <tr>\n",
              "      <th>TOTAL_SALES_PRICE</th>\n",
              "      <td>0.152173</td>\n",
              "      <td>1.000000</td>\n",
              "    </tr>\n",
              "  </tbody>\n",
              "</table>\n",
              "</div>\n",
              "      <button class=\"colab-df-convert\" onclick=\"convertToInteractive('df-961a5639-889b-4ca3-a0e6-5e301d15b4e0')\"\n",
              "              title=\"Convert this dataframe to an interactive table.\"\n",
              "              style=\"display:none;\">\n",
              "        \n",
              "  <svg xmlns=\"http://www.w3.org/2000/svg\" height=\"24px\"viewBox=\"0 0 24 24\"\n",
              "       width=\"24px\">\n",
              "    <path d=\"M0 0h24v24H0V0z\" fill=\"none\"/>\n",
              "    <path d=\"M18.56 5.44l.94 2.06.94-2.06 2.06-.94-2.06-.94-.94-2.06-.94 2.06-2.06.94zm-11 1L8.5 8.5l.94-2.06 2.06-.94-2.06-.94L8.5 2.5l-.94 2.06-2.06.94zm10 10l.94 2.06.94-2.06 2.06-.94-2.06-.94-.94-2.06-.94 2.06-2.06.94z\"/><path d=\"M17.41 7.96l-1.37-1.37c-.4-.4-.92-.59-1.43-.59-.52 0-1.04.2-1.43.59L10.3 9.45l-7.72 7.72c-.78.78-.78 2.05 0 2.83L4 21.41c.39.39.9.59 1.41.59.51 0 1.02-.2 1.41-.59l7.78-7.78 2.81-2.81c.8-.78.8-2.07 0-2.86zM5.41 20L4 18.59l7.72-7.72 1.47 1.35L5.41 20z\"/>\n",
              "  </svg>\n",
              "      </button>\n",
              "      \n",
              "  <style>\n",
              "    .colab-df-container {\n",
              "      display:flex;\n",
              "      flex-wrap:wrap;\n",
              "      gap: 12px;\n",
              "    }\n",
              "\n",
              "    .colab-df-convert {\n",
              "      background-color: #E8F0FE;\n",
              "      border: none;\n",
              "      border-radius: 50%;\n",
              "      cursor: pointer;\n",
              "      display: none;\n",
              "      fill: #1967D2;\n",
              "      height: 32px;\n",
              "      padding: 0 0 0 0;\n",
              "      width: 32px;\n",
              "    }\n",
              "\n",
              "    .colab-df-convert:hover {\n",
              "      background-color: #E2EBFA;\n",
              "      box-shadow: 0px 1px 2px rgba(60, 64, 67, 0.3), 0px 1px 3px 1px rgba(60, 64, 67, 0.15);\n",
              "      fill: #174EA6;\n",
              "    }\n",
              "\n",
              "    [theme=dark] .colab-df-convert {\n",
              "      background-color: #3B4455;\n",
              "      fill: #D2E3FC;\n",
              "    }\n",
              "\n",
              "    [theme=dark] .colab-df-convert:hover {\n",
              "      background-color: #434B5C;\n",
              "      box-shadow: 0px 1px 3px 1px rgba(0, 0, 0, 0.15);\n",
              "      filter: drop-shadow(0px 1px 2px rgba(0, 0, 0, 0.3));\n",
              "      fill: #FFFFFF;\n",
              "    }\n",
              "  </style>\n",
              "\n",
              "      <script>\n",
              "        const buttonEl =\n",
              "          document.querySelector('#df-961a5639-889b-4ca3-a0e6-5e301d15b4e0 button.colab-df-convert');\n",
              "        buttonEl.style.display =\n",
              "          google.colab.kernel.accessAllowed ? 'block' : 'none';\n",
              "\n",
              "        async function convertToInteractive(key) {\n",
              "          const element = document.querySelector('#df-961a5639-889b-4ca3-a0e6-5e301d15b4e0');\n",
              "          const dataTable =\n",
              "            await google.colab.kernel.invokeFunction('convertToInteractive',\n",
              "                                                     [key], {});\n",
              "          if (!dataTable) return;\n",
              "\n",
              "          const docLinkHtml = 'Like what you see? Visit the ' +\n",
              "            '<a target=\"_blank\" href=https://colab.research.google.com/notebooks/data_table.ipynb>data table notebook</a>'\n",
              "            + ' to learn more about interactive tables.';\n",
              "          element.innerHTML = '';\n",
              "          dataTable['output_type'] = 'display_data';\n",
              "          await google.colab.output.renderOutput(dataTable, element);\n",
              "          const docLink = document.createElement('div');\n",
              "          docLink.innerHTML = docLinkHtml;\n",
              "          element.appendChild(docLink);\n",
              "        }\n",
              "      </script>\n",
              "    </div>\n",
              "  </div>\n",
              "  "
            ]
          },
          "metadata": {},
          "execution_count": 74
        }
      ],
      "source": [
        "data[['STREET','TOTAL_SALES_PRICE']].corr()"
      ]
    },
    {
      "cell_type": "code",
      "execution_count": 75,
      "metadata": {
        "id": "HZ9IR75ijblR"
      },
      "outputs": [],
      "source": [
        "#data['transformed'] = np.exp(data['STREET'])\n",
        "#data[['transformed','TOTAL_SALES_PRICE']].corr()"
      ]
    },
    {
      "cell_type": "code",
      "source": [
        "data[['BUILDTYPE','TOTAL_SALES_PRICE']].corr()"
      ],
      "metadata": {
        "colab": {
          "base_uri": "https://localhost:8080/",
          "height": 112
        },
        "id": "4JuvgVEnPR_W",
        "outputId": "06e80b9e-2b4a-4666-abf4-afeea234b937"
      },
      "execution_count": 76,
      "outputs": [
        {
          "output_type": "execute_result",
          "data": {
            "text/plain": [
              "                   BUILDTYPE  TOTAL_SALES_PRICE\n",
              "BUILDTYPE           1.000000           0.516209\n",
              "TOTAL_SALES_PRICE   0.516209           1.000000"
            ],
            "text/html": [
              "\n",
              "  <div id=\"df-40cc7b8b-95f6-42ab-96a2-cc031f3d7720\">\n",
              "    <div class=\"colab-df-container\">\n",
              "      <div>\n",
              "<style scoped>\n",
              "    .dataframe tbody tr th:only-of-type {\n",
              "        vertical-align: middle;\n",
              "    }\n",
              "\n",
              "    .dataframe tbody tr th {\n",
              "        vertical-align: top;\n",
              "    }\n",
              "\n",
              "    .dataframe thead th {\n",
              "        text-align: right;\n",
              "    }\n",
              "</style>\n",
              "<table border=\"1\" class=\"dataframe\">\n",
              "  <thead>\n",
              "    <tr style=\"text-align: right;\">\n",
              "      <th></th>\n",
              "      <th>BUILDTYPE</th>\n",
              "      <th>TOTAL_SALES_PRICE</th>\n",
              "    </tr>\n",
              "  </thead>\n",
              "  <tbody>\n",
              "    <tr>\n",
              "      <th>BUILDTYPE</th>\n",
              "      <td>1.000000</td>\n",
              "      <td>0.516209</td>\n",
              "    </tr>\n",
              "    <tr>\n",
              "      <th>TOTAL_SALES_PRICE</th>\n",
              "      <td>0.516209</td>\n",
              "      <td>1.000000</td>\n",
              "    </tr>\n",
              "  </tbody>\n",
              "</table>\n",
              "</div>\n",
              "      <button class=\"colab-df-convert\" onclick=\"convertToInteractive('df-40cc7b8b-95f6-42ab-96a2-cc031f3d7720')\"\n",
              "              title=\"Convert this dataframe to an interactive table.\"\n",
              "              style=\"display:none;\">\n",
              "        \n",
              "  <svg xmlns=\"http://www.w3.org/2000/svg\" height=\"24px\"viewBox=\"0 0 24 24\"\n",
              "       width=\"24px\">\n",
              "    <path d=\"M0 0h24v24H0V0z\" fill=\"none\"/>\n",
              "    <path d=\"M18.56 5.44l.94 2.06.94-2.06 2.06-.94-2.06-.94-.94-2.06-.94 2.06-2.06.94zm-11 1L8.5 8.5l.94-2.06 2.06-.94-2.06-.94L8.5 2.5l-.94 2.06-2.06.94zm10 10l.94 2.06.94-2.06 2.06-.94-2.06-.94-.94-2.06-.94 2.06-2.06.94z\"/><path d=\"M17.41 7.96l-1.37-1.37c-.4-.4-.92-.59-1.43-.59-.52 0-1.04.2-1.43.59L10.3 9.45l-7.72 7.72c-.78.78-.78 2.05 0 2.83L4 21.41c.39.39.9.59 1.41.59.51 0 1.02-.2 1.41-.59l7.78-7.78 2.81-2.81c.8-.78.8-2.07 0-2.86zM5.41 20L4 18.59l7.72-7.72 1.47 1.35L5.41 20z\"/>\n",
              "  </svg>\n",
              "      </button>\n",
              "      \n",
              "  <style>\n",
              "    .colab-df-container {\n",
              "      display:flex;\n",
              "      flex-wrap:wrap;\n",
              "      gap: 12px;\n",
              "    }\n",
              "\n",
              "    .colab-df-convert {\n",
              "      background-color: #E8F0FE;\n",
              "      border: none;\n",
              "      border-radius: 50%;\n",
              "      cursor: pointer;\n",
              "      display: none;\n",
              "      fill: #1967D2;\n",
              "      height: 32px;\n",
              "      padding: 0 0 0 0;\n",
              "      width: 32px;\n",
              "    }\n",
              "\n",
              "    .colab-df-convert:hover {\n",
              "      background-color: #E2EBFA;\n",
              "      box-shadow: 0px 1px 2px rgba(60, 64, 67, 0.3), 0px 1px 3px 1px rgba(60, 64, 67, 0.15);\n",
              "      fill: #174EA6;\n",
              "    }\n",
              "\n",
              "    [theme=dark] .colab-df-convert {\n",
              "      background-color: #3B4455;\n",
              "      fill: #D2E3FC;\n",
              "    }\n",
              "\n",
              "    [theme=dark] .colab-df-convert:hover {\n",
              "      background-color: #434B5C;\n",
              "      box-shadow: 0px 1px 3px 1px rgba(0, 0, 0, 0.15);\n",
              "      filter: drop-shadow(0px 1px 2px rgba(0, 0, 0, 0.3));\n",
              "      fill: #FFFFFF;\n",
              "    }\n",
              "  </style>\n",
              "\n",
              "      <script>\n",
              "        const buttonEl =\n",
              "          document.querySelector('#df-40cc7b8b-95f6-42ab-96a2-cc031f3d7720 button.colab-df-convert');\n",
              "        buttonEl.style.display =\n",
              "          google.colab.kernel.accessAllowed ? 'block' : 'none';\n",
              "\n",
              "        async function convertToInteractive(key) {\n",
              "          const element = document.querySelector('#df-40cc7b8b-95f6-42ab-96a2-cc031f3d7720');\n",
              "          const dataTable =\n",
              "            await google.colab.kernel.invokeFunction('convertToInteractive',\n",
              "                                                     [key], {});\n",
              "          if (!dataTable) return;\n",
              "\n",
              "          const docLinkHtml = 'Like what you see? Visit the ' +\n",
              "            '<a target=\"_blank\" href=https://colab.research.google.com/notebooks/data_table.ipynb>data table notebook</a>'\n",
              "            + ' to learn more about interactive tables.';\n",
              "          element.innerHTML = '';\n",
              "          dataTable['output_type'] = 'display_data';\n",
              "          await google.colab.output.renderOutput(dataTable, element);\n",
              "          const docLink = document.createElement('div');\n",
              "          docLink.innerHTML = docLinkHtml;\n",
              "          element.appendChild(docLink);\n",
              "        }\n",
              "      </script>\n",
              "    </div>\n",
              "  </div>\n",
              "  "
            ]
          },
          "metadata": {},
          "execution_count": 76
        }
      ]
    },
    {
      "cell_type": "code",
      "execution_count": 77,
      "metadata": {
        "id": "LSk6YhP0PVsa",
        "colab": {
          "base_uri": "https://localhost:8080/",
          "height": 112
        },
        "outputId": "8edc8b73-4642-4ceb-9a9b-9e6be3c13627"
      },
      "outputs": [
        {
          "output_type": "execute_result",
          "data": {
            "text/plain": [
              "                   AGE_OF_BUILDING  TOTAL_SALES_PRICE\n",
              "AGE_OF_BUILDING           1.000000          -0.119536\n",
              "TOTAL_SALES_PRICE        -0.119536           1.000000"
            ],
            "text/html": [
              "\n",
              "  <div id=\"df-47b0abc4-2754-420b-979d-e2d5d2cfd02a\">\n",
              "    <div class=\"colab-df-container\">\n",
              "      <div>\n",
              "<style scoped>\n",
              "    .dataframe tbody tr th:only-of-type {\n",
              "        vertical-align: middle;\n",
              "    }\n",
              "\n",
              "    .dataframe tbody tr th {\n",
              "        vertical-align: top;\n",
              "    }\n",
              "\n",
              "    .dataframe thead th {\n",
              "        text-align: right;\n",
              "    }\n",
              "</style>\n",
              "<table border=\"1\" class=\"dataframe\">\n",
              "  <thead>\n",
              "    <tr style=\"text-align: right;\">\n",
              "      <th></th>\n",
              "      <th>AGE_OF_BUILDING</th>\n",
              "      <th>TOTAL_SALES_PRICE</th>\n",
              "    </tr>\n",
              "  </thead>\n",
              "  <tbody>\n",
              "    <tr>\n",
              "      <th>AGE_OF_BUILDING</th>\n",
              "      <td>1.000000</td>\n",
              "      <td>-0.119536</td>\n",
              "    </tr>\n",
              "    <tr>\n",
              "      <th>TOTAL_SALES_PRICE</th>\n",
              "      <td>-0.119536</td>\n",
              "      <td>1.000000</td>\n",
              "    </tr>\n",
              "  </tbody>\n",
              "</table>\n",
              "</div>\n",
              "      <button class=\"colab-df-convert\" onclick=\"convertToInteractive('df-47b0abc4-2754-420b-979d-e2d5d2cfd02a')\"\n",
              "              title=\"Convert this dataframe to an interactive table.\"\n",
              "              style=\"display:none;\">\n",
              "        \n",
              "  <svg xmlns=\"http://www.w3.org/2000/svg\" height=\"24px\"viewBox=\"0 0 24 24\"\n",
              "       width=\"24px\">\n",
              "    <path d=\"M0 0h24v24H0V0z\" fill=\"none\"/>\n",
              "    <path d=\"M18.56 5.44l.94 2.06.94-2.06 2.06-.94-2.06-.94-.94-2.06-.94 2.06-2.06.94zm-11 1L8.5 8.5l.94-2.06 2.06-.94-2.06-.94L8.5 2.5l-.94 2.06-2.06.94zm10 10l.94 2.06.94-2.06 2.06-.94-2.06-.94-.94-2.06-.94 2.06-2.06.94z\"/><path d=\"M17.41 7.96l-1.37-1.37c-.4-.4-.92-.59-1.43-.59-.52 0-1.04.2-1.43.59L10.3 9.45l-7.72 7.72c-.78.78-.78 2.05 0 2.83L4 21.41c.39.39.9.59 1.41.59.51 0 1.02-.2 1.41-.59l7.78-7.78 2.81-2.81c.8-.78.8-2.07 0-2.86zM5.41 20L4 18.59l7.72-7.72 1.47 1.35L5.41 20z\"/>\n",
              "  </svg>\n",
              "      </button>\n",
              "      \n",
              "  <style>\n",
              "    .colab-df-container {\n",
              "      display:flex;\n",
              "      flex-wrap:wrap;\n",
              "      gap: 12px;\n",
              "    }\n",
              "\n",
              "    .colab-df-convert {\n",
              "      background-color: #E8F0FE;\n",
              "      border: none;\n",
              "      border-radius: 50%;\n",
              "      cursor: pointer;\n",
              "      display: none;\n",
              "      fill: #1967D2;\n",
              "      height: 32px;\n",
              "      padding: 0 0 0 0;\n",
              "      width: 32px;\n",
              "    }\n",
              "\n",
              "    .colab-df-convert:hover {\n",
              "      background-color: #E2EBFA;\n",
              "      box-shadow: 0px 1px 2px rgba(60, 64, 67, 0.3), 0px 1px 3px 1px rgba(60, 64, 67, 0.15);\n",
              "      fill: #174EA6;\n",
              "    }\n",
              "\n",
              "    [theme=dark] .colab-df-convert {\n",
              "      background-color: #3B4455;\n",
              "      fill: #D2E3FC;\n",
              "    }\n",
              "\n",
              "    [theme=dark] .colab-df-convert:hover {\n",
              "      background-color: #434B5C;\n",
              "      box-shadow: 0px 1px 3px 1px rgba(0, 0, 0, 0.15);\n",
              "      filter: drop-shadow(0px 1px 2px rgba(0, 0, 0, 0.3));\n",
              "      fill: #FFFFFF;\n",
              "    }\n",
              "  </style>\n",
              "\n",
              "      <script>\n",
              "        const buttonEl =\n",
              "          document.querySelector('#df-47b0abc4-2754-420b-979d-e2d5d2cfd02a button.colab-df-convert');\n",
              "        buttonEl.style.display =\n",
              "          google.colab.kernel.accessAllowed ? 'block' : 'none';\n",
              "\n",
              "        async function convertToInteractive(key) {\n",
              "          const element = document.querySelector('#df-47b0abc4-2754-420b-979d-e2d5d2cfd02a');\n",
              "          const dataTable =\n",
              "            await google.colab.kernel.invokeFunction('convertToInteractive',\n",
              "                                                     [key], {});\n",
              "          if (!dataTable) return;\n",
              "\n",
              "          const docLinkHtml = 'Like what you see? Visit the ' +\n",
              "            '<a target=\"_blank\" href=https://colab.research.google.com/notebooks/data_table.ipynb>data table notebook</a>'\n",
              "            + ' to learn more about interactive tables.';\n",
              "          element.innerHTML = '';\n",
              "          dataTable['output_type'] = 'display_data';\n",
              "          await google.colab.output.renderOutput(dataTable, element);\n",
              "          const docLink = document.createElement('div');\n",
              "          docLink.innerHTML = docLinkHtml;\n",
              "          element.appendChild(docLink);\n",
              "        }\n",
              "      </script>\n",
              "    </div>\n",
              "  </div>\n",
              "  "
            ]
          },
          "metadata": {},
          "execution_count": 77
        }
      ],
      "source": [
        "data[['AGE_OF_BUILDING','TOTAL_SALES_PRICE']].corr()"
      ]
    },
    {
      "cell_type": "code",
      "execution_count": 78,
      "metadata": {
        "id": "3OAVprXClAYG"
      },
      "outputs": [],
      "source": [
        "#data['transformed'] = np.square(data['AGE_OF_BUILDING'])\n",
        "\n",
        "#data[['transformed','TOTAL_SALES_PRICE']].corr()"
      ]
    },
    {
      "cell_type": "markdown",
      "source": [
        "Some Feature's Didn't Have Co-realtion with Target. Even after trying some Transformations there is no improvemet in the Co-relation. so taken that features for Model Building without Transformation."
      ],
      "metadata": {
        "id": "WLcesxKZr1N3"
      }
    },
    {
      "cell_type": "code",
      "source": [
        "plt.figure(figsize=(12,6))\n",
        "sns.heatmap(data.corr(),annot=True)"
      ],
      "metadata": {
        "colab": {
          "base_uri": "https://localhost:8080/",
          "height": 488
        },
        "id": "1N_gtaIXAVyR",
        "outputId": "6ff5505f-ec10-48e5-cb5c-318f38333056"
      },
      "execution_count": 79,
      "outputs": [
        {
          "output_type": "execute_result",
          "data": {
            "text/plain": [
              "<matplotlib.axes._subplots.AxesSubplot at 0x7f3b4c220290>"
            ]
          },
          "metadata": {},
          "execution_count": 79
        },
        {
          "output_type": "display_data",
          "data": {
            "text/plain": [
              "<Figure size 864x432 with 2 Axes>"
            ],
            "image/png": "[encoded data removed]"
          },
          "metadata": {
            "needs_background": "light"
          }
        }
      ]
    },
    {
      "cell_type": "code",
      "source": [
        "data.head(2)"
      ],
      "metadata": {
        "colab": {
          "base_uri": "https://localhost:8080/",
          "height": 112
        },
        "id": "hn5XB1qfpIIG",
        "outputId": "d7f58672-63f3-4539-fcd7-5fb58ed64890"
      },
      "execution_count": 80,
      "outputs": [
        {
          "output_type": "execute_result",
          "data": {
            "text/plain": [
              "   AREA  INT_SQFT  N_BEDROOM  N_BATHROOM  N_ROOM  SALE_COND  PARK_FACIL  \\\n",
              "0     0      1004          1           1       3          2           1   \n",
              "1     5      1986          2           1       5          2           0   \n",
              "\n",
              "   BUILDTYPE  UTILITY_AVAIL  STREET  MZZONE  AGE_OF_BUILDING  \\\n",
              "0          2              2       1       0               44   \n",
              "1          2              2       2       3               11   \n",
              "\n",
              "   TOTAL_SALES_PRICE  \n",
              "0            8124400  \n",
              "1           22781941  "
            ],
            "text/html": [
              "\n",
              "  <div id=\"df-4712c822-9a3d-4459-83fa-73d820114e1f\">\n",
              "    <div class=\"colab-df-container\">\n",
              "      <div>\n",
              "<style scoped>\n",
              "    .dataframe tbody tr th:only-of-type {\n",
              "        vertical-align: middle;\n",
              "    }\n",
              "\n",
              "    .dataframe tbody tr th {\n",
              "        vertical-align: top;\n",
              "    }\n",
              "\n",
              "    .dataframe thead th {\n",
              "        text-align: right;\n",
              "    }\n",
              "</style>\n",
              "<table border=\"1\" class=\"dataframe\">\n",
              "  <thead>\n",
              "    <tr style=\"text-align: right;\">\n",
              "      <th></th>\n",
              "      <th>AREA</th>\n",
              "      <th>INT_SQFT</th>\n",
              "      <th>N_BEDROOM</th>\n",
              "      <th>N_BATHROOM</th>\n",
              "      <th>N_ROOM</th>\n",
              "      <th>SALE_COND</th>\n",
              "      <th>PARK_FACIL</th>\n",
              "      <th>BUILDTYPE</th>\n",
              "      <th>UTILITY_AVAIL</th>\n",
              "      <th>STREET</th>\n",
              "      <th>MZZONE</th>\n",
              "      <th>AGE_OF_BUILDING</th>\n",
              "      <th>TOTAL_SALES_PRICE</th>\n",
              "    </tr>\n",
              "  </thead>\n",
              "  <tbody>\n",
              "    <tr>\n",
              "      <th>0</th>\n",
              "      <td>0</td>\n",
              "      <td>1004</td>\n",
              "      <td>1</td>\n",
              "      <td>1</td>\n",
              "      <td>3</td>\n",
              "      <td>2</td>\n",
              "      <td>1</td>\n",
              "      <td>2</td>\n",
              "      <td>2</td>\n",
              "      <td>1</td>\n",
              "      <td>0</td>\n",
              "      <td>44</td>\n",
              "      <td>8124400</td>\n",
              "    </tr>\n",
              "    <tr>\n",
              "      <th>1</th>\n",
              "      <td>5</td>\n",
              "      <td>1986</td>\n",
              "      <td>2</td>\n",
              "      <td>1</td>\n",
              "      <td>5</td>\n",
              "      <td>2</td>\n",
              "      <td>0</td>\n",
              "      <td>2</td>\n",
              "      <td>2</td>\n",
              "      <td>2</td>\n",
              "      <td>3</td>\n",
              "      <td>11</td>\n",
              "      <td>22781941</td>\n",
              "    </tr>\n",
              "  </tbody>\n",
              "</table>\n",
              "</div>\n",
              "      <button class=\"colab-df-convert\" onclick=\"convertToInteractive('df-4712c822-9a3d-4459-83fa-73d820114e1f')\"\n",
              "              title=\"Convert this dataframe to an interactive table.\"\n",
              "              style=\"display:none;\">\n",
              "        \n",
              "  <svg xmlns=\"http://www.w3.org/2000/svg\" height=\"24px\"viewBox=\"0 0 24 24\"\n",
              "       width=\"24px\">\n",
              "    <path d=\"M0 0h24v24H0V0z\" fill=\"none\"/>\n",
              "    <path d=\"M18.56 5.44l.94 2.06.94-2.06 2.06-.94-2.06-.94-.94-2.06-.94 2.06-2.06.94zm-11 1L8.5 8.5l.94-2.06 2.06-.94-2.06-.94L8.5 2.5l-.94 2.06-2.06.94zm10 10l.94 2.06.94-2.06 2.06-.94-2.06-.94-.94-2.06-.94 2.06-2.06.94z\"/><path d=\"M17.41 7.96l-1.37-1.37c-.4-.4-.92-.59-1.43-.59-.52 0-1.04.2-1.43.59L10.3 9.45l-7.72 7.72c-.78.78-.78 2.05 0 2.83L4 21.41c.39.39.9.59 1.41.59.51 0 1.02-.2 1.41-.59l7.78-7.78 2.81-2.81c.8-.78.8-2.07 0-2.86zM5.41 20L4 18.59l7.72-7.72 1.47 1.35L5.41 20z\"/>\n",
              "  </svg>\n",
              "      </button>\n",
              "      \n",
              "  <style>\n",
              "    .colab-df-container {\n",
              "      display:flex;\n",
              "      flex-wrap:wrap;\n",
              "      gap: 12px;\n",
              "    }\n",
              "\n",
              "    .colab-df-convert {\n",
              "      background-color: #E8F0FE;\n",
              "      border: none;\n",
              "      border-radius: 50%;\n",
              "      cursor: pointer;\n",
              "      display: none;\n",
              "      fill: #1967D2;\n",
              "      height: 32px;\n",
              "      padding: 0 0 0 0;\n",
              "      width: 32px;\n",
              "    }\n",
              "\n",
              "    .colab-df-convert:hover {\n",
              "      background-color: #E2EBFA;\n",
              "      box-shadow: 0px 1px 2px rgba(60, 64, 67, 0.3), 0px 1px 3px 1px rgba(60, 64, 67, 0.15);\n",
              "      fill: #174EA6;\n",
              "    }\n",
              "\n",
              "    [theme=dark] .colab-df-convert {\n",
              "      background-color: #3B4455;\n",
              "      fill: #D2E3FC;\n",
              "    }\n",
              "\n",
              "    [theme=dark] .colab-df-convert:hover {\n",
              "      background-color: #434B5C;\n",
              "      box-shadow: 0px 1px 3px 1px rgba(0, 0, 0, 0.15);\n",
              "      filter: drop-shadow(0px 1px 2px rgba(0, 0, 0, 0.3));\n",
              "      fill: #FFFFFF;\n",
              "    }\n",
              "  </style>\n",
              "\n",
              "      <script>\n",
              "        const buttonEl =\n",
              "          document.querySelector('#df-4712c822-9a3d-4459-83fa-73d820114e1f button.colab-df-convert');\n",
              "        buttonEl.style.display =\n",
              "          google.colab.kernel.accessAllowed ? 'block' : 'none';\n",
              "\n",
              "        async function convertToInteractive(key) {\n",
              "          const element = document.querySelector('#df-4712c822-9a3d-4459-83fa-73d820114e1f');\n",
              "          const dataTable =\n",
              "            await google.colab.kernel.invokeFunction('convertToInteractive',\n",
              "                                                     [key], {});\n",
              "          if (!dataTable) return;\n",
              "\n",
              "          const docLinkHtml = 'Like what you see? Visit the ' +\n",
              "            '<a target=\"_blank\" href=https://colab.research.google.com/notebooks/data_table.ipynb>data table notebook</a>'\n",
              "            + ' to learn more about interactive tables.';\n",
              "          element.innerHTML = '';\n",
              "          dataTable['output_type'] = 'display_data';\n",
              "          await google.colab.output.renderOutput(dataTable, element);\n",
              "          const docLink = document.createElement('div');\n",
              "          docLink.innerHTML = docLinkHtml;\n",
              "          element.appendChild(docLink);\n",
              "        }\n",
              "      </script>\n",
              "    </div>\n",
              "  </div>\n",
              "  "
            ]
          },
          "metadata": {},
          "execution_count": 80
        }
      ]
    },
    {
      "cell_type": "markdown",
      "source": [
        "Chennai House Price Prediction data after Cleaning,encoding and after droping soem features"
      ],
      "metadata": {
        "id": "Q2FNc8x1sdkc"
      }
    },
    {
      "cell_type": "markdown",
      "source": [
        "# **DATA SPLITTING**"
      ],
      "metadata": {
        "id": "PigTzE1epWA6"
      }
    },
    {
      "cell_type": "code",
      "execution_count": 81,
      "metadata": {
        "id": "f79wYbFFmZ4d"
      },
      "outputs": [],
      "source": [
        "X = data[['AREA', 'INT_SQFT', 'N_BEDROOM', 'N_BATHROOM', 'N_ROOM', 'SALE_COND',\n",
        "       'PARK_FACIL', 'BUILDTYPE', 'UTILITY_AVAIL', 'STREET', 'MZZONE',\n",
        "       'AGE_OF_BUILDING']].values #values will convert to array of features\n",
        "y = data['TOTAL_SALES_PRICE'].values #array of targets\n"
      ]
    },
    {
      "cell_type": "code",
      "execution_count": 82,
      "metadata": {
        "id": "bo9NzOEnNxfD"
      },
      "outputs": [],
      "source": [
        "from sklearn.model_selection import train_test_split  #spliting the dataset into train and test dataset. 80% for train and 20% for test\n",
        "X_train, X_test, y_train, y_test = train_test_split(X, y, test_size=0.2, random_state=45) "
      ]
    },
    {
      "cell_type": "markdown",
      "source": [
        "# **DATA SCALING**"
      ],
      "metadata": {
        "id": "d6kRNCV_lNoH"
      }
    },
    {
      "cell_type": "code",
      "execution_count": 83,
      "metadata": {
        "id": "4A-DfVx4N2Df"
      },
      "outputs": [],
      "source": [
        "from sklearn.preprocessing import StandardScaler # Scaling for linear Regression is not strictly required for better practice we are doing standardscaling\n",
        "scaler = StandardScaler() #initialise to a variable for standard scaler\n",
        "scaler.fit(X_train,y_train) #fitting the train datset.we dont fit test dataset as we are going to use the test dataset directly for evalution\n",
        "X_train_scaled = scaler.transform(X_train) #transform of train data\n",
        "X_test_scaled = scaler.transform(X_test) #transform of test data\n"
      ]
    },
    {
      "cell_type": "code",
      "source": [
        "r2_value = []\n",
        "cross_vali = []"
      ],
      "metadata": {
        "id": "MZyLhG9yfvIb"
      },
      "execution_count": 84,
      "outputs": []
    },
    {
      "cell_type": "markdown",
      "source": [
        "# **Model Fitting For Different Regression Models**"
      ],
      "metadata": {
        "id": "PFRG0VVylYvf"
      }
    },
    {
      "cell_type": "markdown",
      "source": [
        "### **Linear Regression Model**"
      ],
      "metadata": {
        "id": "BRgD3K-Uleta"
      }
    },
    {
      "cell_type": "code",
      "execution_count": 85,
      "metadata": {
        "id": "CUvPcTi4N4qT",
        "colab": {
          "base_uri": "https://localhost:8080/"
        },
        "outputId": "8fe17fa5-5ae6-45b1-e31a-c03aacc1da10"
      },
      "outputs": [
        {
          "output_type": "execute_result",
          "data": {
            "text/plain": [
              "LinearRegression()"
            ]
          },
          "metadata": {},
          "execution_count": 85
        }
      ],
      "source": [
        "from sklearn.linear_model import LinearRegression\n",
        "regressor = LinearRegression()\n",
        "regressor.fit(X_train_scaled, y_train)"
      ]
    },
    {
      "cell_type": "code",
      "source": [
        "y_pred = regressor.predict(X_test_scaled)"
      ],
      "metadata": {
        "id": "D0X1Dauzsot2"
      },
      "execution_count": 86,
      "outputs": []
    },
    {
      "cell_type": "code",
      "source": [
        "print( 'intercept:', regressor.intercept_)"
      ],
      "metadata": {
        "colab": {
          "base_uri": "https://localhost:8080/"
        },
        "id": "wlvsGPgtErEy",
        "outputId": "ad1d4d1b-32f2-4493-d9e9-7eb71a74e0dc"
      },
      "execution_count": 87,
      "outputs": [
        {
          "output_type": "stream",
          "name": "stdout",
          "text": [
            "intercept: 11386025.090909092\n"
          ]
        }
      ]
    },
    {
      "cell_type": "code",
      "source": [
        "print( 'Coefficient:', regressor.coef_)"
      ],
      "metadata": {
        "colab": {
          "base_uri": "https://localhost:8080/"
        },
        "id": "6VYXC4uFsPxd",
        "outputId": "e080a711-5512-42a1-8760-c6c88578b4f4"
      },
      "execution_count": 88,
      "outputs": [
        {
          "output_type": "stream",
          "name": "stdout",
          "text": [
            "Coefficient: [ 1060013.22784153   814036.17242742 -1285476.57934533   112486.98885183\n",
            "  1751243.23220305   222545.19397411   543746.22157836  1978867.61142482\n",
            "    67554.95127978   424129.82364134   912893.53837473  -233795.05207548]\n"
          ]
        }
      ]
    },
    {
      "cell_type": "markdown",
      "source": [
        "### **Linear Regression Model Loss Function and Evalution Metrics for Test Dataset**"
      ],
      "metadata": {
        "id": "16gINIQKCfKn"
      }
    },
    {
      "cell_type": "code",
      "source": [
        "#Loss Function and Evalution Metrics for Test Dataset\n",
        "from sklearn import metrics\n",
        "print('Mean Absolute Error:', metrics.mean_absolute_error(y_test, y_pred))\n",
        "print('Mean Squared Error:', metrics.mean_squared_error(y_test, y_pred))\n",
        "print('R2- SCORE:', metrics.r2_score(y_test,y_pred))\n",
        "r2_value.append(metrics.r2_score(y_test,y_pred))"
      ],
      "metadata": {
        "colab": {
          "base_uri": "https://localhost:8080/"
        },
        "id": "pNxYxIiGS4Wr",
        "outputId": "90ec2ed4-ea02-48f0-933c-f16c291ad26d"
      },
      "execution_count": 89,
      "outputs": [
        {
          "output_type": "stream",
          "name": "stdout",
          "text": [
            "Mean Absolute Error: 1052790.8613044247\n",
            "Mean Squared Error: 1761845290453.552\n",
            "R2- SCORE: 0.8885853095955235\n"
          ]
        }
      ]
    },
    {
      "cell_type": "code",
      "execution_count": 90,
      "metadata": {
        "id": "s-cWxU_6PT9R",
        "colab": {
          "base_uri": "https://localhost:8080/",
          "height": 423
        },
        "outputId": "1cf9ace1-4e48-432a-ed3f-b2b51f5d5a44"
      },
      "outputs": [
        {
          "output_type": "execute_result",
          "data": {
            "text/plain": [
              "        Actual     Predicted\n",
              "0     10144514  1.127372e+07\n",
              "1      8923229  8.536741e+06\n",
              "2      7440277  5.547333e+06\n",
              "3      6353206  5.714051e+06\n",
              "4     14536578  1.609261e+07\n",
              "...        ...           ...\n",
              "1417   3768608  4.456390e+06\n",
              "1418  11392695  1.158206e+07\n",
              "1419  22326003  1.904674e+07\n",
              "1420   9974473  1.038022e+07\n",
              "1421  13070743  1.402581e+07\n",
              "\n",
              "[1422 rows x 2 columns]"
            ],
            "text/html": [
              "\n",
              "  <div id=\"df-a550bbee-89b3-4b9f-88f1-4c4b10868c25\">\n",
              "    <div class=\"colab-df-container\">\n",
              "      <div>\n",
              "<style scoped>\n",
              "    .dataframe tbody tr th:only-of-type {\n",
              "        vertical-align: middle;\n",
              "    }\n",
              "\n",
              "    .dataframe tbody tr th {\n",
              "        vertical-align: top;\n",
              "    }\n",
              "\n",
              "    .dataframe thead th {\n",
              "        text-align: right;\n",
              "    }\n",
              "</style>\n",
              "<table border=\"1\" class=\"dataframe\">\n",
              "  <thead>\n",
              "    <tr style=\"text-align: right;\">\n",
              "      <th></th>\n",
              "      <th>Actual</th>\n",
              "      <th>Predicted</th>\n",
              "    </tr>\n",
              "  </thead>\n",
              "  <tbody>\n",
              "    <tr>\n",
              "      <th>0</th>\n",
              "      <td>10144514</td>\n",
              "      <td>1.127372e+07</td>\n",
              "    </tr>\n",
              "    <tr>\n",
              "      <th>1</th>\n",
              "      <td>8923229</td>\n",
              "      <td>8.536741e+06</td>\n",
              "    </tr>\n",
              "    <tr>\n",
              "      <th>2</th>\n",
              "      <td>7440277</td>\n",
              "      <td>5.547333e+06</td>\n",
              "    </tr>\n",
              "    <tr>\n",
              "      <th>3</th>\n",
              "      <td>6353206</td>\n",
              "      <td>5.714051e+06</td>\n",
              "    </tr>\n",
              "    <tr>\n",
              "      <th>4</th>\n",
              "      <td>14536578</td>\n",
              "      <td>1.609261e+07</td>\n",
              "    </tr>\n",
              "    <tr>\n",
              "      <th>...</th>\n",
              "      <td>...</td>\n",
              "      <td>...</td>\n",
              "    </tr>\n",
              "    <tr>\n",
              "      <th>1417</th>\n",
              "      <td>3768608</td>\n",
              "      <td>4.456390e+06</td>\n",
              "    </tr>\n",
              "    <tr>\n",
              "      <th>1418</th>\n",
              "      <td>11392695</td>\n",
              "      <td>1.158206e+07</td>\n",
              "    </tr>\n",
              "    <tr>\n",
              "      <th>1419</th>\n",
              "      <td>22326003</td>\n",
              "      <td>1.904674e+07</td>\n",
              "    </tr>\n",
              "    <tr>\n",
              "      <th>1420</th>\n",
              "      <td>9974473</td>\n",
              "      <td>1.038022e+07</td>\n",
              "    </tr>\n",
              "    <tr>\n",
              "      <th>1421</th>\n",
              "      <td>13070743</td>\n",
              "      <td>1.402581e+07</td>\n",
              "    </tr>\n",
              "  </tbody>\n",
              "</table>\n",
              "<p>1422 rows × 2 columns</p>\n",
              "</div>\n",
              "      <button class=\"colab-df-convert\" onclick=\"convertToInteractive('df-a550bbee-89b3-4b9f-88f1-4c4b10868c25')\"\n",
              "              title=\"Convert this dataframe to an interactive table.\"\n",
              "              style=\"display:none;\">\n",
              "        \n",
              "  <svg xmlns=\"http://www.w3.org/2000/svg\" height=\"24px\"viewBox=\"0 0 24 24\"\n",
              "       width=\"24px\">\n",
              "    <path d=\"M0 0h24v24H0V0z\" fill=\"none\"/>\n",
              "    <path d=\"M18.56 5.44l.94 2.06.94-2.06 2.06-.94-2.06-.94-.94-2.06-.94 2.06-2.06.94zm-11 1L8.5 8.5l.94-2.06 2.06-.94-2.06-.94L8.5 2.5l-.94 2.06-2.06.94zm10 10l.94 2.06.94-2.06 2.06-.94-2.06-.94-.94-2.06-.94 2.06-2.06.94z\"/><path d=\"M17.41 7.96l-1.37-1.37c-.4-.4-.92-.59-1.43-.59-.52 0-1.04.2-1.43.59L10.3 9.45l-7.72 7.72c-.78.78-.78 2.05 0 2.83L4 21.41c.39.39.9.59 1.41.59.51 0 1.02-.2 1.41-.59l7.78-7.78 2.81-2.81c.8-.78.8-2.07 0-2.86zM5.41 20L4 18.59l7.72-7.72 1.47 1.35L5.41 20z\"/>\n",
              "  </svg>\n",
              "      </button>\n",
              "      \n",
              "  <style>\n",
              "    .colab-df-container {\n",
              "      display:flex;\n",
              "      flex-wrap:wrap;\n",
              "      gap: 12px;\n",
              "    }\n",
              "\n",
              "    .colab-df-convert {\n",
              "      background-color: #E8F0FE;\n",
              "      border: none;\n",
              "      border-radius: 50%;\n",
              "      cursor: pointer;\n",
              "      display: none;\n",
              "      fill: #1967D2;\n",
              "      height: 32px;\n",
              "      padding: 0 0 0 0;\n",
              "      width: 32px;\n",
              "    }\n",
              "\n",
              "    .colab-df-convert:hover {\n",
              "      background-color: #E2EBFA;\n",
              "      box-shadow: 0px 1px 2px rgba(60, 64, 67, 0.3), 0px 1px 3px 1px rgba(60, 64, 67, 0.15);\n",
              "      fill: #174EA6;\n",
              "    }\n",
              "\n",
              "    [theme=dark] .colab-df-convert {\n",
              "      background-color: #3B4455;\n",
              "      fill: #D2E3FC;\n",
              "    }\n",
              "\n",
              "    [theme=dark] .colab-df-convert:hover {\n",
              "      background-color: #434B5C;\n",
              "      box-shadow: 0px 1px 3px 1px rgba(0, 0, 0, 0.15);\n",
              "      filter: drop-shadow(0px 1px 2px rgba(0, 0, 0, 0.3));\n",
              "      fill: #FFFFFF;\n",
              "    }\n",
              "  </style>\n",
              "\n",
              "      <script>\n",
              "        const buttonEl =\n",
              "          document.querySelector('#df-a550bbee-89b3-4b9f-88f1-4c4b10868c25 button.colab-df-convert');\n",
              "        buttonEl.style.display =\n",
              "          google.colab.kernel.accessAllowed ? 'block' : 'none';\n",
              "\n",
              "        async function convertToInteractive(key) {\n",
              "          const element = document.querySelector('#df-a550bbee-89b3-4b9f-88f1-4c4b10868c25');\n",
              "          const dataTable =\n",
              "            await google.colab.kernel.invokeFunction('convertToInteractive',\n",
              "                                                     [key], {});\n",
              "          if (!dataTable) return;\n",
              "\n",
              "          const docLinkHtml = 'Like what you see? Visit the ' +\n",
              "            '<a target=\"_blank\" href=https://colab.research.google.com/notebooks/data_table.ipynb>data table notebook</a>'\n",
              "            + ' to learn more about interactive tables.';\n",
              "          element.innerHTML = '';\n",
              "          dataTable['output_type'] = 'display_data';\n",
              "          await google.colab.output.renderOutput(dataTable, element);\n",
              "          const docLink = document.createElement('div');\n",
              "          docLink.innerHTML = docLinkHtml;\n",
              "          element.appendChild(docLink);\n",
              "        }\n",
              "      </script>\n",
              "    </div>\n",
              "  </div>\n",
              "  "
            ]
          },
          "metadata": {},
          "execution_count": 90
        }
      ],
      "source": [
        "df = pd.DataFrame({'Actual': y_test, 'Predicted': y_pred})\n",
        "df"
      ]
    },
    {
      "cell_type": "code",
      "source": [
        "plt.scatter(y_test, y_pred)\n",
        "plt.xlabel(\"TOTAL_SALES_PRICE\")\n",
        "plt.ylabel(\"PREDICTED_TOTAL_SALES_PRICE\")\n",
        "plt.title(\"TOTAL_SALES_PRICE VS PREDICTED_TOTAL_SALES_PRICE \")\n",
        "plt.show()"
      ],
      "metadata": {
        "id": "Zk30mDT6K2OW",
        "colab": {
          "base_uri": "https://localhost:8080/",
          "height": 296
        },
        "outputId": "4ac4d739-e96f-49f9-dab2-8dfc64160a02"
      },
      "execution_count": 91,
      "outputs": [
        {
          "output_type": "display_data",
          "data": {
            "text/plain": [
              "<Figure size 432x288 with 1 Axes>"
            ],
            "image/png": "[encoded data removed]"
          },
          "metadata": {
            "needs_background": "light"
          }
        }
      ]
    },
    {
      "cell_type": "markdown",
      "source": [
        "### **Cross Validation Score of Linear Regression Model**"
      ],
      "metadata": {
        "id": "hy_iVwW2l9fo"
      }
    },
    {
      "cell_type": "code",
      "source": [
        "from sklearn.model_selection import cross_validate\n",
        "regressor = LinearRegression(normalize = True) #untrained model"
      ],
      "metadata": {
        "id": "P38SpLr1syLw"
      },
      "execution_count": 92,
      "outputs": []
    },
    {
      "cell_type": "code",
      "source": [
        "cv_results = cross_validate(regressor, X, y, cv=10, scoring = \"r2\")\n",
        "cross_vali.append(cv_results['test_score'].mean())\n",
        "cv_results['test_score'].mean()"
      ],
      "metadata": {
        "colab": {
          "base_uri": "https://localhost:8080/"
        },
        "id": "mFv0eMFjQc83",
        "outputId": "5a6a7ae1-85d1-47d1-ebc3-f6e3b4c52b54"
      },
      "execution_count": 93,
      "outputs": [
        {
          "output_type": "stream",
          "name": "stderr",
          "text": [
            "/usr/local/lib/python3.7/dist-packages/sklearn/linear_model/_base.py:145: FutureWarning:\n",
            "\n",
            "'normalize' was deprecated in version 1.0 and will be removed in 1.2.\n",
            "If you wish to scale the data, use Pipeline with a StandardScaler in a preprocessing stage. To reproduce the previous behavior:\n",
            "\n",
            "from sklearn.pipeline import make_pipeline\n",
            "\n",
            "model = make_pipeline(StandardScaler(with_mean=False), LinearRegression())\n",
            "\n",
            "If you wish to pass a sample_weight parameter, you need to pass it as a fit parameter to each step of the pipeline as follows:\n",
            "\n",
            "kwargs = {s[0] + '__sample_weight': sample_weight for s in model.steps}\n",
            "model.fit(X, y, **kwargs)\n",
            "\n",
            "\n",
            "\n",
            "/usr/local/lib/python3.7/dist-packages/sklearn/linear_model/_base.py:145: FutureWarning:\n",
            "\n",
            "'normalize' was deprecated in version 1.0 and will be removed in 1.2.\n",
            "If you wish to scale the data, use Pipeline with a StandardScaler in a preprocessing stage. To reproduce the previous behavior:\n",
            "\n",
            "from sklearn.pipeline import make_pipeline\n",
            "\n",
            "model = make_pipeline(StandardScaler(with_mean=False), LinearRegression())\n",
            "\n",
            "If you wish to pass a sample_weight parameter, you need to pass it as a fit parameter to each step of the pipeline as follows:\n",
            "\n",
            "kwargs = {s[0] + '__sample_weight': sample_weight for s in model.steps}\n",
            "model.fit(X, y, **kwargs)\n",
            "\n",
            "\n",
            "\n",
            "/usr/local/lib/python3.7/dist-packages/sklearn/linear_model/_base.py:145: FutureWarning:\n",
            "\n",
            "'normalize' was deprecated in version 1.0 and will be removed in 1.2.\n",
            "If you wish to scale the data, use Pipeline with a StandardScaler in a preprocessing stage. To reproduce the previous behavior:\n",
            "\n",
            "from sklearn.pipeline import make_pipeline\n",
            "\n",
            "model = make_pipeline(StandardScaler(with_mean=False), LinearRegression())\n",
            "\n",
            "If you wish to pass a sample_weight parameter, you need to pass it as a fit parameter to each step of the pipeline as follows:\n",
            "\n",
            "kwargs = {s[0] + '__sample_weight': sample_weight for s in model.steps}\n",
            "model.fit(X, y, **kwargs)\n",
            "\n",
            "\n",
            "\n",
            "/usr/local/lib/python3.7/dist-packages/sklearn/linear_model/_base.py:145: FutureWarning:\n",
            "\n",
            "'normalize' was deprecated in version 1.0 and will be removed in 1.2.\n",
            "If you wish to scale the data, use Pipeline with a StandardScaler in a preprocessing stage. To reproduce the previous behavior:\n",
            "\n",
            "from sklearn.pipeline import make_pipeline\n",
            "\n",
            "model = make_pipeline(StandardScaler(with_mean=False), LinearRegression())\n",
            "\n",
            "If you wish to pass a sample_weight parameter, you need to pass it as a fit parameter to each step of the pipeline as follows:\n",
            "\n",
            "kwargs = {s[0] + '__sample_weight': sample_weight for s in model.steps}\n",
            "model.fit(X, y, **kwargs)\n",
            "\n",
            "\n",
            "\n",
            "/usr/local/lib/python3.7/dist-packages/sklearn/linear_model/_base.py:145: FutureWarning:\n",
            "\n",
            "'normalize' was deprecated in version 1.0 and will be removed in 1.2.\n",
            "If you wish to scale the data, use Pipeline with a StandardScaler in a preprocessing stage. To reproduce the previous behavior:\n",
            "\n",
            "from sklearn.pipeline import make_pipeline\n",
            "\n",
            "model = make_pipeline(StandardScaler(with_mean=False), LinearRegression())\n",
            "\n",
            "If you wish to pass a sample_weight parameter, you need to pass it as a fit parameter to each step of the pipeline as follows:\n",
            "\n",
            "kwargs = {s[0] + '__sample_weight': sample_weight for s in model.steps}\n",
            "model.fit(X, y, **kwargs)\n",
            "\n",
            "\n",
            "\n",
            "/usr/local/lib/python3.7/dist-packages/sklearn/linear_model/_base.py:145: FutureWarning:\n",
            "\n",
            "'normalize' was deprecated in version 1.0 and will be removed in 1.2.\n",
            "If you wish to scale the data, use Pipeline with a StandardScaler in a preprocessing stage. To reproduce the previous behavior:\n",
            "\n",
            "from sklearn.pipeline import make_pipeline\n",
            "\n",
            "model = make_pipeline(StandardScaler(with_mean=False), LinearRegression())\n",
            "\n",
            "If you wish to pass a sample_weight parameter, you need to pass it as a fit parameter to each step of the pipeline as follows:\n",
            "\n",
            "kwargs = {s[0] + '__sample_weight': sample_weight for s in model.steps}\n",
            "model.fit(X, y, **kwargs)\n",
            "\n",
            "\n",
            "\n",
            "/usr/local/lib/python3.7/dist-packages/sklearn/linear_model/_base.py:145: FutureWarning:\n",
            "\n",
            "'normalize' was deprecated in version 1.0 and will be removed in 1.2.\n",
            "If you wish to scale the data, use Pipeline with a StandardScaler in a preprocessing stage. To reproduce the previous behavior:\n",
            "\n",
            "from sklearn.pipeline import make_pipeline\n",
            "\n",
            "model = make_pipeline(StandardScaler(with_mean=False), LinearRegression())\n",
            "\n",
            "If you wish to pass a sample_weight parameter, you need to pass it as a fit parameter to each step of the pipeline as follows:\n",
            "\n",
            "kwargs = {s[0] + '__sample_weight': sample_weight for s in model.steps}\n",
            "model.fit(X, y, **kwargs)\n",
            "\n",
            "\n",
            "\n",
            "/usr/local/lib/python3.7/dist-packages/sklearn/linear_model/_base.py:145: FutureWarning:\n",
            "\n",
            "'normalize' was deprecated in version 1.0 and will be removed in 1.2.\n",
            "If you wish to scale the data, use Pipeline with a StandardScaler in a preprocessing stage. To reproduce the previous behavior:\n",
            "\n",
            "from sklearn.pipeline import make_pipeline\n",
            "\n",
            "model = make_pipeline(StandardScaler(with_mean=False), LinearRegression())\n",
            "\n",
            "If you wish to pass a sample_weight parameter, you need to pass it as a fit parameter to each step of the pipeline as follows:\n",
            "\n",
            "kwargs = {s[0] + '__sample_weight': sample_weight for s in model.steps}\n",
            "model.fit(X, y, **kwargs)\n",
            "\n",
            "\n",
            "\n",
            "/usr/local/lib/python3.7/dist-packages/sklearn/linear_model/_base.py:145: FutureWarning:\n",
            "\n",
            "'normalize' was deprecated in version 1.0 and will be removed in 1.2.\n",
            "If you wish to scale the data, use Pipeline with a StandardScaler in a preprocessing stage. To reproduce the previous behavior:\n",
            "\n",
            "from sklearn.pipeline import make_pipeline\n",
            "\n",
            "model = make_pipeline(StandardScaler(with_mean=False), LinearRegression())\n",
            "\n",
            "If you wish to pass a sample_weight parameter, you need to pass it as a fit parameter to each step of the pipeline as follows:\n",
            "\n",
            "kwargs = {s[0] + '__sample_weight': sample_weight for s in model.steps}\n",
            "model.fit(X, y, **kwargs)\n",
            "\n",
            "\n",
            "\n",
            "/usr/local/lib/python3.7/dist-packages/sklearn/linear_model/_base.py:145: FutureWarning:\n",
            "\n",
            "'normalize' was deprecated in version 1.0 and will be removed in 1.2.\n",
            "If you wish to scale the data, use Pipeline with a StandardScaler in a preprocessing stage. To reproduce the previous behavior:\n",
            "\n",
            "from sklearn.pipeline import make_pipeline\n",
            "\n",
            "model = make_pipeline(StandardScaler(with_mean=False), LinearRegression())\n",
            "\n",
            "If you wish to pass a sample_weight parameter, you need to pass it as a fit parameter to each step of the pipeline as follows:\n",
            "\n",
            "kwargs = {s[0] + '__sample_weight': sample_weight for s in model.steps}\n",
            "model.fit(X, y, **kwargs)\n",
            "\n",
            "\n",
            "\n"
          ]
        },
        {
          "output_type": "execute_result",
          "data": {
            "text/plain": [
              "0.8832373583019896"
            ]
          },
          "metadata": {},
          "execution_count": 93
        }
      ]
    },
    {
      "cell_type": "markdown",
      "source": [
        "### **Feature selection of Linear Regression Model using RFE and SFS**"
      ],
      "metadata": {
        "id": "lF0Q_O1hmGqR"
      }
    },
    {
      "cell_type": "code",
      "source": [
        "from sklearn.feature_selection import RFE\n",
        "estimator = LinearRegression()\n",
        "selector = RFE(estimator, n_features_to_select=3, step=1)\n",
        "selector = selector.fit(X_train, y_train)\n",
        "list(zip(['AREA', 'INT_SQFT', 'N_BEDROOM', 'N_BATHROOM', 'N_ROOM', 'SALE_COND',\n",
        "       'PARK_FACIL', 'BUILDTYPE', 'UTILITY_AVAIL', 'STREET', 'MZZONE',\n",
        "       'AGE_OF_BUILDING'],selector.support_))"
      ],
      "metadata": {
        "colab": {
          "base_uri": "https://localhost:8080/"
        },
        "id": "b-48qkjMPt-L",
        "outputId": "9c96126f-ac0d-495a-823e-c4782c351628"
      },
      "execution_count": 94,
      "outputs": [
        {
          "output_type": "execute_result",
          "data": {
            "text/plain": [
              "[('AREA', False),\n",
              " ('INT_SQFT', False),\n",
              " ('N_BEDROOM', True),\n",
              " ('N_BATHROOM', False),\n",
              " ('N_ROOM', True),\n",
              " ('SALE_COND', False),\n",
              " ('PARK_FACIL', False),\n",
              " ('BUILDTYPE', True),\n",
              " ('UTILITY_AVAIL', False),\n",
              " ('STREET', False),\n",
              " ('MZZONE', False),\n",
              " ('AGE_OF_BUILDING', False)]"
            ]
          },
          "metadata": {},
          "execution_count": 94
        }
      ]
    },
    {
      "cell_type": "code",
      "source": [
        "from sklearn.feature_selection import SequentialFeatureSelector\n",
        "estimator = LinearRegression()\n",
        "sfs = SequentialFeatureSelector(estimator, n_features_to_select=2)\n",
        "sfs.fit(X_train, y_train)\n",
        "print(list(zip(['AREA', 'INT_SQFT', 'N_BEDROOM', 'N_BATHROOM', 'N_ROOM', 'SALE_COND',\n",
        "       'PARK_FACIL', 'BUILDTYPE', 'UTILITY_AVAIL', 'STREET', 'MZZONE',\n",
        "       'AGE_OF_BUILDING'],sfs.get_support())))"
      ],
      "metadata": {
        "colab": {
          "base_uri": "https://localhost:8080/"
        },
        "id": "ddFT3egDP8Kz",
        "outputId": "15753cd6-db81-46be-fe9e-cdb5356ec507"
      },
      "execution_count": 95,
      "outputs": [
        {
          "output_type": "stream",
          "name": "stdout",
          "text": [
            "[('AREA', True), ('INT_SQFT', False), ('N_BEDROOM', False), ('N_BATHROOM', False), ('N_ROOM', False), ('SALE_COND', False), ('PARK_FACIL', False), ('BUILDTYPE', True), ('UTILITY_AVAIL', False), ('STREET', False), ('MZZONE', False), ('AGE_OF_BUILDING', False)]\n"
          ]
        }
      ]
    },
    {
      "cell_type": "markdown",
      "source": [
        "### **Random Forest Regressor Model**"
      ],
      "metadata": {
        "id": "bWASpV_4F-Za"
      }
    },
    {
      "cell_type": "code",
      "source": [
        "from sklearn.ensemble import RandomForestRegressor\n",
        "reg = RandomForestRegressor()\n",
        "reg.fit(X_train_scaled, y_train)\n"
      ],
      "metadata": {
        "colab": {
          "base_uri": "https://localhost:8080/"
        },
        "id": "AITqtAi-HJbK",
        "outputId": "a34f6fca-c7d2-4f01-c40e-773abed7aa8b"
      },
      "execution_count": 96,
      "outputs": [
        {
          "output_type": "execute_result",
          "data": {
            "text/plain": [
              "RandomForestRegressor()"
            ]
          },
          "metadata": {},
          "execution_count": 96
        }
      ]
    },
    {
      "cell_type": "code",
      "source": [
        "# Model prediction on test data\n",
        "y_pred = reg.predict(X_test_scaled)"
      ],
      "metadata": {
        "id": "x7-z9FRhHJW3"
      },
      "execution_count": 97,
      "outputs": []
    },
    {
      "cell_type": "markdown",
      "source": [
        "### **Loss Function and Evalution Metrics of Random Forest Regressor Model**"
      ],
      "metadata": {
        "id": "MRtDiqDMmhBE"
      }
    },
    {
      "cell_type": "code",
      "source": [
        "print('R^2:',metrics.r2_score(y_test,y_pred))\n",
        "r2_value.append(metrics.r2_score(y_test,y_pred))\n",
        "print('MAE:',metrics.mean_absolute_error(y_test, y_pred))\n",
        "print('MSE:',metrics.mean_squared_error(y_test, y_pred))"
      ],
      "metadata": {
        "colab": {
          "base_uri": "https://localhost:8080/"
        },
        "id": "Fj4CVEHruKNB",
        "outputId": "472337a3-b1d6-4572-c0a1-e46c8b99d1e9"
      },
      "execution_count": 98,
      "outputs": [
        {
          "output_type": "stream",
          "name": "stdout",
          "text": [
            "R^2: 0.9898980649463053\n",
            "MAE: 313109.6976722926\n",
            "MSE: 159745960197.94348\n"
          ]
        }
      ]
    },
    {
      "cell_type": "code",
      "source": [
        "plt.scatter(y_test, y_pred)\n",
        "plt.xlabel(\"Prices\")\n",
        "plt.ylabel(\"Predicted prices\")\n",
        "plt.title(\"Prices vs Predicted prices\")\n",
        "plt.show()"
      ],
      "metadata": {
        "colab": {
          "base_uri": "https://localhost:8080/",
          "height": 295
        },
        "id": "NmfHXF44uzVC",
        "outputId": "5618ce99-982f-4b7c-a273-1a2a6a3ae710"
      },
      "execution_count": 99,
      "outputs": [
        {
          "output_type": "display_data",
          "data": {
            "text/plain": [
              "<Figure size 432x288 with 1 Axes>"
            ],
            "image/png": "[encoded data removed]"
          },
          "metadata": {
            "needs_background": "light"
          }
        }
      ]
    },
    {
      "cell_type": "markdown",
      "source": [
        "### **Cross Validation Score of Random Forest Regressor Model**"
      ],
      "metadata": {
        "id": "K7zaMusUmzAl"
      }
    },
    {
      "cell_type": "code",
      "source": [
        "from sklearn.model_selection import cross_validate\n",
        "regressor = RandomForestRegressor() #untrained model"
      ],
      "metadata": {
        "id": "5GwuQ0cKRoHA"
      },
      "execution_count": 100,
      "outputs": []
    },
    {
      "cell_type": "code",
      "source": [
        "cv_results = cross_validate(regressor, X, y, cv=10, scoring = \"r2\")\n",
        "cross_vali.append(cv_results['test_score'].mean())\n",
        "cv_results['test_score'].mean()"
      ],
      "metadata": {
        "colab": {
          "base_uri": "https://localhost:8080/"
        },
        "id": "cyDDeAlNRwAX",
        "outputId": "89ca8ff5-8725-4b79-e13a-0f54273b3696"
      },
      "execution_count": 101,
      "outputs": [
        {
          "output_type": "execute_result",
          "data": {
            "text/plain": [
              "0.9899898192027375"
            ]
          },
          "metadata": {},
          "execution_count": 101
        }
      ]
    },
    {
      "cell_type": "markdown",
      "source": [
        "### **Feature Selection of Random Forest Regressor Model using RFE and SFS**"
      ],
      "metadata": {
        "id": "KNDs54XltrS6"
      }
    },
    {
      "cell_type": "code",
      "source": [
        "from sklearn.feature_selection import RFE\n",
        "estimator = RandomForestRegressor()\n",
        "selector = RFE(estimator, n_features_to_select=3, step=1)\n",
        "selector = selector.fit(X_train, y_train)\n",
        "list(zip(['AREA', 'INT_SQFT', 'N_BEDROOM', 'N_BATHROOM', 'N_ROOM', 'SALE_COND',\n",
        "       'PARK_FACIL', 'BUILDTYPE', 'UTILITY_AVAIL', 'STREET', 'MZZONE',\n",
        "       'AGE_OF_BUILDING'],selector.support_))"
      ],
      "metadata": {
        "colab": {
          "base_uri": "https://localhost:8080/"
        },
        "id": "llEKcrkCt5ii",
        "outputId": "7f458feb-bfda-4d6d-fd73-4c1a799a112f"
      },
      "execution_count": 102,
      "outputs": [
        {
          "output_type": "execute_result",
          "data": {
            "text/plain": [
              "[('AREA', True),\n",
              " ('INT_SQFT', True),\n",
              " ('N_BEDROOM', False),\n",
              " ('N_BATHROOM', False),\n",
              " ('N_ROOM', False),\n",
              " ('SALE_COND', False),\n",
              " ('PARK_FACIL', False),\n",
              " ('BUILDTYPE', True),\n",
              " ('UTILITY_AVAIL', False),\n",
              " ('STREET', False),\n",
              " ('MZZONE', False),\n",
              " ('AGE_OF_BUILDING', False)]"
            ]
          },
          "metadata": {},
          "execution_count": 102
        }
      ]
    },
    {
      "cell_type": "code",
      "source": [
        "estimator = RandomForestRegressor()\n",
        "sfs = SequentialFeatureSelector(estimator, n_features_to_select=2)\n",
        "sfs.fit(X_train, y_train)\n",
        "print(list(zip(['AREA', 'INT_SQFT', 'N_BEDROOM', 'N_BATHROOM', 'N_ROOM', 'SALE_COND',\n",
        "       'PARK_FACIL', 'BUILDTYPE', 'UTILITY_AVAIL', 'STREET', 'MZZONE',\n",
        "       'AGE_OF_BUILDING'],sfs.get_support())))"
      ],
      "metadata": {
        "colab": {
          "base_uri": "https://localhost:8080/"
        },
        "id": "qHMoo5qUugMl",
        "outputId": "7d324aec-5a1e-448c-c437-7227bd9deeb6"
      },
      "execution_count": 103,
      "outputs": [
        {
          "output_type": "stream",
          "name": "stdout",
          "text": [
            "[('AREA', True), ('INT_SQFT', False), ('N_BEDROOM', False), ('N_BATHROOM', False), ('N_ROOM', False), ('SALE_COND', False), ('PARK_FACIL', False), ('BUILDTYPE', True), ('UTILITY_AVAIL', False), ('STREET', False), ('MZZONE', False), ('AGE_OF_BUILDING', False)]\n"
          ]
        }
      ]
    },
    {
      "cell_type": "markdown",
      "source": [
        "### **KNN Regressor Model**"
      ],
      "metadata": {
        "id": "3XC4uOX9nQO-"
      }
    },
    {
      "cell_type": "code",
      "source": [
        "from sklearn.neighbors import KNeighborsRegressor\n",
        "neigh = KNeighborsRegressor(n_neighbors=2)\n",
        "neigh.fit(X_train, y_train)"
      ],
      "metadata": {
        "colab": {
          "base_uri": "https://localhost:8080/"
        },
        "id": "vUfGXV-PTiQh",
        "outputId": "5dcfe9cb-c329-4de4-a68f-40bd3dd8c351"
      },
      "execution_count": 104,
      "outputs": [
        {
          "output_type": "execute_result",
          "data": {
            "text/plain": [
              "KNeighborsRegressor(n_neighbors=2)"
            ]
          },
          "metadata": {},
          "execution_count": 104
        }
      ]
    },
    {
      "cell_type": "code",
      "source": [
        "y_pred = neigh.predict(X_test)"
      ],
      "metadata": {
        "id": "2YNW4pM-TiOG"
      },
      "execution_count": 105,
      "outputs": []
    },
    {
      "cell_type": "code",
      "source": [
        "df3 = pd.DataFrame({'Actual': y_test, 'Predicted': y_pred})\n",
        "df3"
      ],
      "metadata": {
        "colab": {
          "base_uri": "https://localhost:8080/",
          "height": 423
        },
        "id": "5OFJp1mnTiLY",
        "outputId": "61ae813c-a21a-43f4-9e04-eb99264b1be3"
      },
      "execution_count": 106,
      "outputs": [
        {
          "output_type": "execute_result",
          "data": {
            "text/plain": [
              "        Actual   Predicted\n",
              "0     10144514  12243397.0\n",
              "1      8923229   8449712.0\n",
              "2      7440277   8782344.0\n",
              "3      6353206   8174790.0\n",
              "4     14536578  13780323.0\n",
              "...        ...         ...\n",
              "1417   3768608   5083405.5\n",
              "1418  11392695  11622226.5\n",
              "1419  22326003  16896421.0\n",
              "1420   9974473  13677391.5\n",
              "1421  13070743   8969245.5\n",
              "\n",
              "[1422 rows x 2 columns]"
            ],
            "text/html": [
              "\n",
              "  <div id=\"df-4c2c84da-bcfd-4fbf-83ca-c738f55c23c6\">\n",
              "    <div class=\"colab-df-container\">\n",
              "      <div>\n",
              "<style scoped>\n",
              "    .dataframe tbody tr th:only-of-type {\n",
              "        vertical-align: middle;\n",
              "    }\n",
              "\n",
              "    .dataframe tbody tr th {\n",
              "        vertical-align: top;\n",
              "    }\n",
              "\n",
              "    .dataframe thead th {\n",
              "        text-align: right;\n",
              "    }\n",
              "</style>\n",
              "<table border=\"1\" class=\"dataframe\">\n",
              "  <thead>\n",
              "    <tr style=\"text-align: right;\">\n",
              "      <th></th>\n",
              "      <th>Actual</th>\n",
              "      <th>Predicted</th>\n",
              "    </tr>\n",
              "  </thead>\n",
              "  <tbody>\n",
              "    <tr>\n",
              "      <th>0</th>\n",
              "      <td>10144514</td>\n",
              "      <td>12243397.0</td>\n",
              "    </tr>\n",
              "    <tr>\n",
              "      <th>1</th>\n",
              "      <td>8923229</td>\n",
              "      <td>8449712.0</td>\n",
              "    </tr>\n",
              "    <tr>\n",
              "      <th>2</th>\n",
              "      <td>7440277</td>\n",
              "      <td>8782344.0</td>\n",
              "    </tr>\n",
              "    <tr>\n",
              "      <th>3</th>\n",
              "      <td>6353206</td>\n",
              "      <td>8174790.0</td>\n",
              "    </tr>\n",
              "    <tr>\n",
              "      <th>4</th>\n",
              "      <td>14536578</td>\n",
              "      <td>13780323.0</td>\n",
              "    </tr>\n",
              "    <tr>\n",
              "      <th>...</th>\n",
              "      <td>...</td>\n",
              "      <td>...</td>\n",
              "    </tr>\n",
              "    <tr>\n",
              "      <th>1417</th>\n",
              "      <td>3768608</td>\n",
              "      <td>5083405.5</td>\n",
              "    </tr>\n",
              "    <tr>\n",
              "      <th>1418</th>\n",
              "      <td>11392695</td>\n",
              "      <td>11622226.5</td>\n",
              "    </tr>\n",
              "    <tr>\n",
              "      <th>1419</th>\n",
              "      <td>22326003</td>\n",
              "      <td>16896421.0</td>\n",
              "    </tr>\n",
              "    <tr>\n",
              "      <th>1420</th>\n",
              "      <td>9974473</td>\n",
              "      <td>13677391.5</td>\n",
              "    </tr>\n",
              "    <tr>\n",
              "      <th>1421</th>\n",
              "      <td>13070743</td>\n",
              "      <td>8969245.5</td>\n",
              "    </tr>\n",
              "  </tbody>\n",
              "</table>\n",
              "<p>1422 rows × 2 columns</p>\n",
              "</div>\n",
              "      <button class=\"colab-df-convert\" onclick=\"convertToInteractive('df-4c2c84da-bcfd-4fbf-83ca-c738f55c23c6')\"\n",
              "              title=\"Convert this dataframe to an interactive table.\"\n",
              "              style=\"display:none;\">\n",
              "        \n",
              "  <svg xmlns=\"http://www.w3.org/2000/svg\" height=\"24px\"viewBox=\"0 0 24 24\"\n",
              "       width=\"24px\">\n",
              "    <path d=\"M0 0h24v24H0V0z\" fill=\"none\"/>\n",
              "    <path d=\"M18.56 5.44l.94 2.06.94-2.06 2.06-.94-2.06-.94-.94-2.06-.94 2.06-2.06.94zm-11 1L8.5 8.5l.94-2.06 2.06-.94-2.06-.94L8.5 2.5l-.94 2.06-2.06.94zm10 10l.94 2.06.94-2.06 2.06-.94-2.06-.94-.94-2.06-.94 2.06-2.06.94z\"/><path d=\"M17.41 7.96l-1.37-1.37c-.4-.4-.92-.59-1.43-.59-.52 0-1.04.2-1.43.59L10.3 9.45l-7.72 7.72c-.78.78-.78 2.05 0 2.83L4 21.41c.39.39.9.59 1.41.59.51 0 1.02-.2 1.41-.59l7.78-7.78 2.81-2.81c.8-.78.8-2.07 0-2.86zM5.41 20L4 18.59l7.72-7.72 1.47 1.35L5.41 20z\"/>\n",
              "  </svg>\n",
              "      </button>\n",
              "      \n",
              "  <style>\n",
              "    .colab-df-container {\n",
              "      display:flex;\n",
              "      flex-wrap:wrap;\n",
              "      gap: 12px;\n",
              "    }\n",
              "\n",
              "    .colab-df-convert {\n",
              "      background-color: #E8F0FE;\n",
              "      border: none;\n",
              "      border-radius: 50%;\n",
              "      cursor: pointer;\n",
              "      display: none;\n",
              "      fill: #1967D2;\n",
              "      height: 32px;\n",
              "      padding: 0 0 0 0;\n",
              "      width: 32px;\n",
              "    }\n",
              "\n",
              "    .colab-df-convert:hover {\n",
              "      background-color: #E2EBFA;\n",
              "      box-shadow: 0px 1px 2px rgba(60, 64, 67, 0.3), 0px 1px 3px 1px rgba(60, 64, 67, 0.15);\n",
              "      fill: #174EA6;\n",
              "    }\n",
              "\n",
              "    [theme=dark] .colab-df-convert {\n",
              "      background-color: #3B4455;\n",
              "      fill: #D2E3FC;\n",
              "    }\n",
              "\n",
              "    [theme=dark] .colab-df-convert:hover {\n",
              "      background-color: #434B5C;\n",
              "      box-shadow: 0px 1px 3px 1px rgba(0, 0, 0, 0.15);\n",
              "      filter: drop-shadow(0px 1px 2px rgba(0, 0, 0, 0.3));\n",
              "      fill: #FFFFFF;\n",
              "    }\n",
              "  </style>\n",
              "\n",
              "      <script>\n",
              "        const buttonEl =\n",
              "          document.querySelector('#df-4c2c84da-bcfd-4fbf-83ca-c738f55c23c6 button.colab-df-convert');\n",
              "        buttonEl.style.display =\n",
              "          google.colab.kernel.accessAllowed ? 'block' : 'none';\n",
              "\n",
              "        async function convertToInteractive(key) {\n",
              "          const element = document.querySelector('#df-4c2c84da-bcfd-4fbf-83ca-c738f55c23c6');\n",
              "          const dataTable =\n",
              "            await google.colab.kernel.invokeFunction('convertToInteractive',\n",
              "                                                     [key], {});\n",
              "          if (!dataTable) return;\n",
              "\n",
              "          const docLinkHtml = 'Like what you see? Visit the ' +\n",
              "            '<a target=\"_blank\" href=https://colab.research.google.com/notebooks/data_table.ipynb>data table notebook</a>'\n",
              "            + ' to learn more about interactive tables.';\n",
              "          element.innerHTML = '';\n",
              "          dataTable['output_type'] = 'display_data';\n",
              "          await google.colab.output.renderOutput(dataTable, element);\n",
              "          const docLink = document.createElement('div');\n",
              "          docLink.innerHTML = docLinkHtml;\n",
              "          element.appendChild(docLink);\n",
              "        }\n",
              "      </script>\n",
              "    </div>\n",
              "  </div>\n",
              "  "
            ]
          },
          "metadata": {},
          "execution_count": 106
        }
      ]
    },
    {
      "cell_type": "markdown",
      "source": [
        "### **Loss Function and Evalution Metrics of KNN Regressor**"
      ],
      "metadata": {
        "id": "LtNsAlsUnVoC"
      }
    },
    {
      "cell_type": "code",
      "source": [
        "print('Mean Absolute Error:', metrics.mean_absolute_error(y_test, y_pred))\n",
        "print('Mean Squared Error:', metrics.mean_squared_error(y_test, y_pred))\n",
        "print('R2- SCORE:', metrics.r2_score(y_test,y_pred)) # 0 - 1\n",
        "r2_value.append(metrics.r2_score(y_test,y_pred))"
      ],
      "metadata": {
        "colab": {
          "base_uri": "https://localhost:8080/"
        },
        "id": "5-jWJfZRTiIu",
        "outputId": "3d6d20a3-2673-464b-eccf-5302954989d6"
      },
      "execution_count": 107,
      "outputs": [
        {
          "output_type": "stream",
          "name": "stdout",
          "text": [
            "Mean Absolute Error: 2372122.976793249\n",
            "Mean Squared Error: 9625866703441.955\n",
            "R2- SCORE: 0.3912842606272995\n"
          ]
        }
      ]
    },
    {
      "cell_type": "markdown",
      "source": [
        "### **Cross Validation Score of KNN Regressor**"
      ],
      "metadata": {
        "id": "a2mr8Wr7nom_"
      }
    },
    {
      "cell_type": "code",
      "source": [
        "KNReg = KNeighborsRegressor(n_neighbors=2) #untrained model"
      ],
      "metadata": {
        "id": "1QICnpf8nhnV"
      },
      "execution_count": 108,
      "outputs": []
    },
    {
      "cell_type": "code",
      "source": [
        "cv_results = cross_validate(KNReg, X, y, cv=10, scoring = \"r2\")\n",
        "cross_vali.append(cv_results['test_score'].mean())\n",
        "cv_results['test_score'].mean()"
      ],
      "metadata": {
        "colab": {
          "base_uri": "https://localhost:8080/"
        },
        "id": "FKDE9YCAnmKs",
        "outputId": "65564646-1282-464b-f17f-ac236c0d87b1"
      },
      "execution_count": 109,
      "outputs": [
        {
          "output_type": "execute_result",
          "data": {
            "text/plain": [
              "0.37854510890461457"
            ]
          },
          "metadata": {},
          "execution_count": 109
        }
      ]
    },
    {
      "cell_type": "markdown",
      "source": [
        "## **Feature Selection of KNN Regressor Model using RFE and SFS**"
      ],
      "metadata": {
        "id": "4ddbzh0ZnvRi"
      }
    },
    {
      "cell_type": "code",
      "source": [
        "estimator = KNeighborsRegressor(n_neighbors=2)\n",
        "sfs = SequentialFeatureSelector(estimator, n_features_to_select=2)\n",
        "sfs.fit(X_train, y_train)\n",
        "print(list(zip(['AREA', 'INT_SQFT', 'N_BEDROOM', 'N_BATHROOM', 'N_ROOM', 'SALE_COND',\n",
        "       'PARK_FACIL', 'BUILDTYPE', 'UTILITY_AVAIL', 'STREET', 'MZZONE',\n",
        "       'AGE_OF_BUILDING'],sfs.get_support())))"
      ],
      "metadata": {
        "colab": {
          "base_uri": "https://localhost:8080/"
        },
        "id": "zbG5TYyUTiFk",
        "outputId": "f2b5cfab-f900-45a7-e1c8-d624167768ba"
      },
      "execution_count": 110,
      "outputs": [
        {
          "output_type": "stream",
          "name": "stdout",
          "text": [
            "[('AREA', True), ('INT_SQFT', False), ('N_BEDROOM', False), ('N_BATHROOM', False), ('N_ROOM', False), ('SALE_COND', False), ('PARK_FACIL', False), ('BUILDTYPE', True), ('UTILITY_AVAIL', False), ('STREET', False), ('MZZONE', False), ('AGE_OF_BUILDING', False)]\n"
          ]
        }
      ]
    },
    {
      "cell_type": "markdown",
      "source": [
        "### **Decision Tree Regressor Model**\n",
        "---\n",
        "\n"
      ],
      "metadata": {
        "id": "q0TIPiIWc6Tw"
      }
    },
    {
      "cell_type": "code",
      "source": [
        "from sklearn.tree import DecisionTreeRegressor \n",
        "deci_regressor = DecisionTreeRegressor(random_state = 0) \n",
        "deci_regressor.fit(X_train, y_train)"
      ],
      "metadata": {
        "colab": {
          "base_uri": "https://localhost:8080/"
        },
        "id": "9TAFG9XkTh7Q",
        "outputId": "70388e18-de34-4c21-f531-1eb13c871d91"
      },
      "execution_count": 111,
      "outputs": [
        {
          "output_type": "execute_result",
          "data": {
            "text/plain": [
              "DecisionTreeRegressor(random_state=0)"
            ]
          },
          "metadata": {},
          "execution_count": 111
        }
      ]
    },
    {
      "cell_type": "code",
      "source": [
        "y_pred = deci_regressor.predict(X_test)"
      ],
      "metadata": {
        "id": "g5JL3Cy8Th44"
      },
      "execution_count": 112,
      "outputs": []
    },
    {
      "cell_type": "code",
      "source": [
        "df3 = pd.DataFrame({'Actual': y_test, 'Predicted': y_pred})\n",
        "df3"
      ],
      "metadata": {
        "colab": {
          "base_uri": "https://localhost:8080/",
          "height": 423
        },
        "id": "u5Ye2HtYTh2B",
        "outputId": "1a95515c-8672-487b-9758-bebd8326fea2"
      },
      "execution_count": 113,
      "outputs": [
        {
          "output_type": "execute_result",
          "data": {
            "text/plain": [
              "        Actual   Predicted\n",
              "0     10144514   8823087.0\n",
              "1      8923229   8881284.0\n",
              "2      7440277   7652323.0\n",
              "3      6353206   5075637.0\n",
              "4     14536578  14285052.0\n",
              "...        ...         ...\n",
              "1417   3768608   4639231.0\n",
              "1418  11392695  11116094.0\n",
              "1419  22326003  22181428.0\n",
              "1420   9974473   9545616.0\n",
              "1421  13070743  12792083.0\n",
              "\n",
              "[1422 rows x 2 columns]"
            ],
            "text/html": [
              "\n",
              "  <div id=\"df-c030da3b-6d74-44b8-bb54-3d61215ba8d5\">\n",
              "    <div class=\"colab-df-container\">\n",
              "      <div>\n",
              "<style scoped>\n",
              "    .dataframe tbody tr th:only-of-type {\n",
              "        vertical-align: middle;\n",
              "    }\n",
              "\n",
              "    .dataframe tbody tr th {\n",
              "        vertical-align: top;\n",
              "    }\n",
              "\n",
              "    .dataframe thead th {\n",
              "        text-align: right;\n",
              "    }\n",
              "</style>\n",
              "<table border=\"1\" class=\"dataframe\">\n",
              "  <thead>\n",
              "    <tr style=\"text-align: right;\">\n",
              "      <th></th>\n",
              "      <th>Actual</th>\n",
              "      <th>Predicted</th>\n",
              "    </tr>\n",
              "  </thead>\n",
              "  <tbody>\n",
              "    <tr>\n",
              "      <th>0</th>\n",
              "      <td>10144514</td>\n",
              "      <td>8823087.0</td>\n",
              "    </tr>\n",
              "    <tr>\n",
              "      <th>1</th>\n",
              "      <td>8923229</td>\n",
              "      <td>8881284.0</td>\n",
              "    </tr>\n",
              "    <tr>\n",
              "      <th>2</th>\n",
              "      <td>7440277</td>\n",
              "      <td>7652323.0</td>\n",
              "    </tr>\n",
              "    <tr>\n",
              "      <th>3</th>\n",
              "      <td>6353206</td>\n",
              "      <td>5075637.0</td>\n",
              "    </tr>\n",
              "    <tr>\n",
              "      <th>4</th>\n",
              "      <td>14536578</td>\n",
              "      <td>14285052.0</td>\n",
              "    </tr>\n",
              "    <tr>\n",
              "      <th>...</th>\n",
              "      <td>...</td>\n",
              "      <td>...</td>\n",
              "    </tr>\n",
              "    <tr>\n",
              "      <th>1417</th>\n",
              "      <td>3768608</td>\n",
              "      <td>4639231.0</td>\n",
              "    </tr>\n",
              "    <tr>\n",
              "      <th>1418</th>\n",
              "      <td>11392695</td>\n",
              "      <td>11116094.0</td>\n",
              "    </tr>\n",
              "    <tr>\n",
              "      <th>1419</th>\n",
              "      <td>22326003</td>\n",
              "      <td>22181428.0</td>\n",
              "    </tr>\n",
              "    <tr>\n",
              "      <th>1420</th>\n",
              "      <td>9974473</td>\n",
              "      <td>9545616.0</td>\n",
              "    </tr>\n",
              "    <tr>\n",
              "      <th>1421</th>\n",
              "      <td>13070743</td>\n",
              "      <td>12792083.0</td>\n",
              "    </tr>\n",
              "  </tbody>\n",
              "</table>\n",
              "<p>1422 rows × 2 columns</p>\n",
              "</div>\n",
              "      <button class=\"colab-df-convert\" onclick=\"convertToInteractive('df-c030da3b-6d74-44b8-bb54-3d61215ba8d5')\"\n",
              "              title=\"Convert this dataframe to an interactive table.\"\n",
              "              style=\"display:none;\">\n",
              "        \n",
              "  <svg xmlns=\"http://www.w3.org/2000/svg\" height=\"24px\"viewBox=\"0 0 24 24\"\n",
              "       width=\"24px\">\n",
              "    <path d=\"M0 0h24v24H0V0z\" fill=\"none\"/>\n",
              "    <path d=\"M18.56 5.44l.94 2.06.94-2.06 2.06-.94-2.06-.94-.94-2.06-.94 2.06-2.06.94zm-11 1L8.5 8.5l.94-2.06 2.06-.94-2.06-.94L8.5 2.5l-.94 2.06-2.06.94zm10 10l.94 2.06.94-2.06 2.06-.94-2.06-.94-.94-2.06-.94 2.06-2.06.94z\"/><path d=\"M17.41 7.96l-1.37-1.37c-.4-.4-.92-.59-1.43-.59-.52 0-1.04.2-1.43.59L10.3 9.45l-7.72 7.72c-.78.78-.78 2.05 0 2.83L4 21.41c.39.39.9.59 1.41.59.51 0 1.02-.2 1.41-.59l7.78-7.78 2.81-2.81c.8-.78.8-2.07 0-2.86zM5.41 20L4 18.59l7.72-7.72 1.47 1.35L5.41 20z\"/>\n",
              "  </svg>\n",
              "      </button>\n",
              "      \n",
              "  <style>\n",
              "    .colab-df-container {\n",
              "      display:flex;\n",
              "      flex-wrap:wrap;\n",
              "      gap: 12px;\n",
              "    }\n",
              "\n",
              "    .colab-df-convert {\n",
              "      background-color: #E8F0FE;\n",
              "      border: none;\n",
              "      border-radius: 50%;\n",
              "      cursor: pointer;\n",
              "      display: none;\n",
              "      fill: #1967D2;\n",
              "      height: 32px;\n",
              "      padding: 0 0 0 0;\n",
              "      width: 32px;\n",
              "    }\n",
              "\n",
              "    .colab-df-convert:hover {\n",
              "      background-color: #E2EBFA;\n",
              "      box-shadow: 0px 1px 2px rgba(60, 64, 67, 0.3), 0px 1px 3px 1px rgba(60, 64, 67, 0.15);\n",
              "      fill: #174EA6;\n",
              "    }\n",
              "\n",
              "    [theme=dark] .colab-df-convert {\n",
              "      background-color: #3B4455;\n",
              "      fill: #D2E3FC;\n",
              "    }\n",
              "\n",
              "    [theme=dark] .colab-df-convert:hover {\n",
              "      background-color: #434B5C;\n",
              "      box-shadow: 0px 1px 3px 1px rgba(0, 0, 0, 0.15);\n",
              "      filter: drop-shadow(0px 1px 2px rgba(0, 0, 0, 0.3));\n",
              "      fill: #FFFFFF;\n",
              "    }\n",
              "  </style>\n",
              "\n",
              "      <script>\n",
              "        const buttonEl =\n",
              "          document.querySelector('#df-c030da3b-6d74-44b8-bb54-3d61215ba8d5 button.colab-df-convert');\n",
              "        buttonEl.style.display =\n",
              "          google.colab.kernel.accessAllowed ? 'block' : 'none';\n",
              "\n",
              "        async function convertToInteractive(key) {\n",
              "          const element = document.querySelector('#df-c030da3b-6d74-44b8-bb54-3d61215ba8d5');\n",
              "          const dataTable =\n",
              "            await google.colab.kernel.invokeFunction('convertToInteractive',\n",
              "                                                     [key], {});\n",
              "          if (!dataTable) return;\n",
              "\n",
              "          const docLinkHtml = 'Like what you see? Visit the ' +\n",
              "            '<a target=\"_blank\" href=https://colab.research.google.com/notebooks/data_table.ipynb>data table notebook</a>'\n",
              "            + ' to learn more about interactive tables.';\n",
              "          element.innerHTML = '';\n",
              "          dataTable['output_type'] = 'display_data';\n",
              "          await google.colab.output.renderOutput(dataTable, element);\n",
              "          const docLink = document.createElement('div');\n",
              "          docLink.innerHTML = docLinkHtml;\n",
              "          element.appendChild(docLink);\n",
              "        }\n",
              "      </script>\n",
              "    </div>\n",
              "  </div>\n",
              "  "
            ]
          },
          "metadata": {},
          "execution_count": 113
        }
      ]
    },
    {
      "cell_type": "markdown",
      "source": [
        "### **Loss Function and Evalution Metrics of Desicion Tree**"
      ],
      "metadata": {
        "id": "Kdt1saF1puZ2"
      }
    },
    {
      "cell_type": "code",
      "source": [
        "print('Mean Absolute Error:', metrics.mean_absolute_error(y_test, y_pred))\n",
        "r2_value.append(metrics.r2_score(y_test,y_pred))\n",
        "print('Mean Squared Error:', metrics.mean_squared_error(y_test, y_pred))\n",
        "print('R2- SCORE:', metrics.r2_score(y_test,y_pred)) # 0 - 1\n"
      ],
      "metadata": {
        "colab": {
          "base_uri": "https://localhost:8080/"
        },
        "id": "6xkJd3v6Thzf",
        "outputId": "c449c941-0d87-4af0-e45d-2ae3be833db0"
      },
      "execution_count": 114,
      "outputs": [
        {
          "output_type": "stream",
          "name": "stdout",
          "text": [
            "Mean Absolute Error: 495067.6504922644\n",
            "Mean Squared Error: 408535216705.0232\n",
            "R2- SCORE: 0.9741652545004116\n"
          ]
        }
      ]
    },
    {
      "cell_type": "markdown",
      "source": [
        "### **Cross Validation Score Desicion Tree**"
      ],
      "metadata": {
        "id": "y2gXbdK_pqMG"
      }
    },
    {
      "cell_type": "code",
      "source": [
        "detree = DecisionTreeRegressor(random_state = 0) #untrained model"
      ],
      "metadata": {
        "id": "Z6l_Ocltd0Ri"
      },
      "execution_count": 115,
      "outputs": []
    },
    {
      "cell_type": "code",
      "source": [
        "cv_results = cross_validate(detree, X, y, cv=10, scoring = \"r2\")\n",
        "cross_vali.append(cv_results['test_score'].mean())\n",
        "cv_results['test_score'].mean()"
      ],
      "metadata": {
        "colab": {
          "base_uri": "https://localhost:8080/"
        },
        "id": "bzMO_Nmid15e",
        "outputId": "12adeba7-e545-4348-a118-878de3f3b6c7"
      },
      "execution_count": 116,
      "outputs": [
        {
          "output_type": "execute_result",
          "data": {
            "text/plain": [
              "0.9760253478197332"
            ]
          },
          "metadata": {},
          "execution_count": 116
        }
      ]
    },
    {
      "cell_type": "markdown",
      "source": [
        "### **Feature Selection of Desicion Tree Model Using RFE and SFS**"
      ],
      "metadata": {
        "id": "JRWOEzx0p-6I"
      }
    },
    {
      "cell_type": "code",
      "source": [
        "estimator = DecisionTreeRegressor(random_state = 0) \n",
        "selector = RFE(estimator, n_features_to_select=3, step=1)\n",
        "selector = selector.fit(X_train, y_train)\n",
        "list(zip(['AREA', 'INT_SQFT', 'N_BEDROOM', 'N_BATHROOM', 'N_ROOM', 'SALE_COND',\n",
        "       'PARK_FACIL', 'BUILDTYPE', 'UTILITY_AVAIL', 'STREET', 'MZZONE',\n",
        "       'AGE_OF_BUILDING'],selector.support_))"
      ],
      "metadata": {
        "colab": {
          "base_uri": "https://localhost:8080/"
        },
        "id": "jlle4QZZdTXs",
        "outputId": "60ff618e-30ce-4e1b-bca9-bb2d6e1c2086"
      },
      "execution_count": 117,
      "outputs": [
        {
          "output_type": "execute_result",
          "data": {
            "text/plain": [
              "[('AREA', True),\n",
              " ('INT_SQFT', True),\n",
              " ('N_BEDROOM', False),\n",
              " ('N_BATHROOM', False),\n",
              " ('N_ROOM', False),\n",
              " ('SALE_COND', False),\n",
              " ('PARK_FACIL', False),\n",
              " ('BUILDTYPE', True),\n",
              " ('UTILITY_AVAIL', False),\n",
              " ('STREET', False),\n",
              " ('MZZONE', False),\n",
              " ('AGE_OF_BUILDING', False)]"
            ]
          },
          "metadata": {},
          "execution_count": 117
        }
      ]
    },
    {
      "cell_type": "code",
      "source": [
        "estimator = DecisionTreeRegressor(random_state = 0) \n",
        "sfs = SequentialFeatureSelector(estimator, n_features_to_select=3)\n",
        "sfs.fit(X_train, y_train)\n",
        "print(list(zip(['AREA', 'INT_SQFT', 'N_BEDROOM', 'N_BATHROOM', 'N_ROOM', 'SALE_COND',\n",
        "       'PARK_FACIL', 'BUILDTYPE', 'UTILITY_AVAIL', 'STREET', 'MZZONE',\n",
        "       'AGE_OF_BUILDING'],sfs.get_support())))"
      ],
      "metadata": {
        "colab": {
          "base_uri": "https://localhost:8080/"
        },
        "id": "psRE3HS2dTU2",
        "outputId": "1c3f24fa-27f9-459e-aab1-9f718b4c086a"
      },
      "execution_count": 118,
      "outputs": [
        {
          "output_type": "stream",
          "name": "stdout",
          "text": [
            "[('AREA', True), ('INT_SQFT', False), ('N_BEDROOM', False), ('N_BATHROOM', False), ('N_ROOM', True), ('SALE_COND', False), ('PARK_FACIL', False), ('BUILDTYPE', True), ('UTILITY_AVAIL', False), ('STREET', False), ('MZZONE', False), ('AGE_OF_BUILDING', False)]\n"
          ]
        }
      ]
    },
    {
      "cell_type": "markdown",
      "source": [
        "# **Conclusion**"
      ],
      "metadata": {
        "id": "nAGwP2hdqTVO"
      }
    },
    {
      "cell_type": "code",
      "source": [
        "r2_value"
      ],
      "metadata": {
        "colab": {
          "base_uri": "https://localhost:8080/"
        },
        "id": "CJqizOk3yCio",
        "outputId": "855bae8a-a544-4e52-a04a-c39241a01fe7"
      },
      "execution_count": 119,
      "outputs": [
        {
          "output_type": "execute_result",
          "data": {
            "text/plain": [
              "[0.8885853095955235,\n",
              " 0.9898980649463053,\n",
              " 0.3912842606272995,\n",
              " 0.9741652545004116]"
            ]
          },
          "metadata": {},
          "execution_count": 119
        }
      ]
    },
    {
      "cell_type": "code",
      "source": [
        "cross_vali"
      ],
      "metadata": {
        "colab": {
          "base_uri": "https://localhost:8080/"
        },
        "id": "ejrn4w10yFqf",
        "outputId": "660b0a0b-baba-48d7-f784-5b77c337989d"
      },
      "execution_count": 120,
      "outputs": [
        {
          "output_type": "execute_result",
          "data": {
            "text/plain": [
              "[0.8832373583019896,\n",
              " 0.9899898192027375,\n",
              " 0.37854510890461457,\n",
              " 0.9760253478197332]"
            ]
          },
          "metadata": {},
          "execution_count": 120
        }
      ]
    },
    {
      "cell_type": "markdown",
      "source": [
        "## **Comparing R^2 Value and Crossing Validation Score**"
      ],
      "metadata": {
        "id": "qg12qJSnykSM"
      }
    },
    {
      "cell_type": "code",
      "source": [
        "result = {'R2 Score' : r2_value,'Cross Validation Mean Score':cross_vali}\n",
        "ind = ['Linear Regression','Random Forest','KNN','Decision Tree']\n",
        "df_result = pd.DataFrame(result, index=ind)\n",
        "df_result"
      ],
      "metadata": {
        "id": "kz5UyYXqgwZh",
        "colab": {
          "base_uri": "https://localhost:8080/",
          "height": 175
        },
        "outputId": "e4d0c691-8287-4b08-c8b9-76ca1d680235"
      },
      "execution_count": 121,
      "outputs": [
        {
          "output_type": "execute_result",
          "data": {
            "text/plain": [
              "                   R2 Score  Cross Validation Mean Score\n",
              "Linear Regression  0.888585                     0.883237\n",
              "Random Forest      0.989898                     0.989990\n",
              "KNN                0.391284                     0.378545\n",
              "Decision Tree      0.974165                     0.976025"
            ],
            "text/html": [
              "\n",
              "  <div id=\"df-035b141f-3f80-4bea-a62b-3b3175299be2\">\n",
              "    <div class=\"colab-df-container\">\n",
              "      <div>\n",
              "<style scoped>\n",
              "    .dataframe tbody tr th:only-of-type {\n",
              "        vertical-align: middle;\n",
              "    }\n",
              "\n",
              "    .dataframe tbody tr th {\n",
              "        vertical-align: top;\n",
              "    }\n",
              "\n",
              "    .dataframe thead th {\n",
              "        text-align: right;\n",
              "    }\n",
              "</style>\n",
              "<table border=\"1\" class=\"dataframe\">\n",
              "  <thead>\n",
              "    <tr style=\"text-align: right;\">\n",
              "      <th></th>\n",
              "      <th>R2 Score</th>\n",
              "      <th>Cross Validation Mean Score</th>\n",
              "    </tr>\n",
              "  </thead>\n",
              "  <tbody>\n",
              "    <tr>\n",
              "      <th>Linear Regression</th>\n",
              "      <td>0.888585</td>\n",
              "      <td>0.883237</td>\n",
              "    </tr>\n",
              "    <tr>\n",
              "      <th>Random Forest</th>\n",
              "      <td>0.989898</td>\n",
              "      <td>0.989990</td>\n",
              "    </tr>\n",
              "    <tr>\n",
              "      <th>KNN</th>\n",
              "      <td>0.391284</td>\n",
              "      <td>0.378545</td>\n",
              "    </tr>\n",
              "    <tr>\n",
              "      <th>Decision Tree</th>\n",
              "      <td>0.974165</td>\n",
              "      <td>0.976025</td>\n",
              "    </tr>\n",
              "  </tbody>\n",
              "</table>\n",
              "</div>\n",
              "      <button class=\"colab-df-convert\" onclick=\"convertToInteractive('df-035b141f-3f80-4bea-a62b-3b3175299be2')\"\n",
              "              title=\"Convert this dataframe to an interactive table.\"\n",
              "              style=\"display:none;\">\n",
              "        \n",
              "  <svg xmlns=\"http://www.w3.org/2000/svg\" height=\"24px\"viewBox=\"0 0 24 24\"\n",
              "       width=\"24px\">\n",
              "    <path d=\"M0 0h24v24H0V0z\" fill=\"none\"/>\n",
              "    <path d=\"M18.56 5.44l.94 2.06.94-2.06 2.06-.94-2.06-.94-.94-2.06-.94 2.06-2.06.94zm-11 1L8.5 8.5l.94-2.06 2.06-.94-2.06-.94L8.5 2.5l-.94 2.06-2.06.94zm10 10l.94 2.06.94-2.06 2.06-.94-2.06-.94-.94-2.06-.94 2.06-2.06.94z\"/><path d=\"M17.41 7.96l-1.37-1.37c-.4-.4-.92-.59-1.43-.59-.52 0-1.04.2-1.43.59L10.3 9.45l-7.72 7.72c-.78.78-.78 2.05 0 2.83L4 21.41c.39.39.9.59 1.41.59.51 0 1.02-.2 1.41-.59l7.78-7.78 2.81-2.81c.8-.78.8-2.07 0-2.86zM5.41 20L4 18.59l7.72-7.72 1.47 1.35L5.41 20z\"/>\n",
              "  </svg>\n",
              "      </button>\n",
              "      \n",
              "  <style>\n",
              "    .colab-df-container {\n",
              "      display:flex;\n",
              "      flex-wrap:wrap;\n",
              "      gap: 12px;\n",
              "    }\n",
              "\n",
              "    .colab-df-convert {\n",
              "      background-color: #E8F0FE;\n",
              "      border: none;\n",
              "      border-radius: 50%;\n",
              "      cursor: pointer;\n",
              "      display: none;\n",
              "      fill: #1967D2;\n",
              "      height: 32px;\n",
              "      padding: 0 0 0 0;\n",
              "      width: 32px;\n",
              "    }\n",
              "\n",
              "    .colab-df-convert:hover {\n",
              "      background-color: #E2EBFA;\n",
              "      box-shadow: 0px 1px 2px rgba(60, 64, 67, 0.3), 0px 1px 3px 1px rgba(60, 64, 67, 0.15);\n",
              "      fill: #174EA6;\n",
              "    }\n",
              "\n",
              "    [theme=dark] .colab-df-convert {\n",
              "      background-color: #3B4455;\n",
              "      fill: #D2E3FC;\n",
              "    }\n",
              "\n",
              "    [theme=dark] .colab-df-convert:hover {\n",
              "      background-color: #434B5C;\n",
              "      box-shadow: 0px 1px 3px 1px rgba(0, 0, 0, 0.15);\n",
              "      filter: drop-shadow(0px 1px 2px rgba(0, 0, 0, 0.3));\n",
              "      fill: #FFFFFF;\n",
              "    }\n",
              "  </style>\n",
              "\n",
              "      <script>\n",
              "        const buttonEl =\n",
              "          document.querySelector('#df-035b141f-3f80-4bea-a62b-3b3175299be2 button.colab-df-convert');\n",
              "        buttonEl.style.display =\n",
              "          google.colab.kernel.accessAllowed ? 'block' : 'none';\n",
              "\n",
              "        async function convertToInteractive(key) {\n",
              "          const element = document.querySelector('#df-035b141f-3f80-4bea-a62b-3b3175299be2');\n",
              "          const dataTable =\n",
              "            await google.colab.kernel.invokeFunction('convertToInteractive',\n",
              "                                                     [key], {});\n",
              "          if (!dataTable) return;\n",
              "\n",
              "          const docLinkHtml = 'Like what you see? Visit the ' +\n",
              "            '<a target=\"_blank\" href=https://colab.research.google.com/notebooks/data_table.ipynb>data table notebook</a>'\n",
              "            + ' to learn more about interactive tables.';\n",
              "          element.innerHTML = '';\n",
              "          dataTable['output_type'] = 'display_data';\n",
              "          await google.colab.output.renderOutput(dataTable, element);\n",
              "          const docLink = document.createElement('div');\n",
              "          docLink.innerHTML = docLinkHtml;\n",
              "          element.appendChild(docLink);\n",
              "        }\n",
              "      </script>\n",
              "    </div>\n",
              "  </div>\n",
              "  "
            ]
          },
          "metadata": {},
          "execution_count": 121
        }
      ]
    }
  ],
  "metadata": {
    "colab": {
      "collapsed_sections": [],
      "name": "Chennai_House_Price_Prediction.ipynb",
      "provenance": [],
      "include_colab_link": true
    },
    "kernelspec": {
      "display_name": "Python 3",
      "name": "python3"
    },
    "language_info": {
      "name": "python"
    }
  },
  "nbformat": 4,
  "nbformat_minor": 0
}